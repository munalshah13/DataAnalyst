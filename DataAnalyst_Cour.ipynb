{
 "cells":[
  {
   "cell_type":"markdown",
   "source":[
    "import pandas as pd\n",
    "import numpy as np\n",
    "import seaborn as sns\n",
    "%matplotlib inline\n",
    "#import matplotlib.pyplot as plt"
   ],
   "attachments":{
    
   },
   "metadata":{
    "datalore":{
     "node_id":"XIAEnlL0QHuwCONgUv0wsc",
     "type":"MD",
     "hide_input_from_viewers":false,
     "hide_output_from_viewers":false
    }
   }
  },
  {
   "cell_type":"code",
   "source":[
    "\n",
    "\n",
    "# Read the online file by the URL provides above, and assign it to variable \"df\"\n",
    "df = pd.read_csv(\"auto.csv\", header=None)\n",
    "#dset = sns.load_dataset(\"df\")\n",
    "df.head(100)\n",
    "df.tail(10)\n"
   ],
   "execution_count":214,
   "outputs":[
    {
     "data":{
      "text\/html":[
       "<div>\n",
       "<style scoped>\n",
       "    .dataframe tbody tr th:only-of-type {\n",
       "        vertical-align: middle;\n",
       "    }\n",
       "\n",
       "    .dataframe tbody tr th {\n",
       "        vertical-align: top;\n",
       "    }\n",
       "\n",
       "    .dataframe thead th {\n",
       "        text-align: right;\n",
       "    }\n",
       "<\/style>\n",
       "<table border=\"1\" class=\"dataframe\">\n",
       "  <thead>\n",
       "    <tr style=\"text-align: right;\">\n",
       "      <th><\/th>\n",
       "      <th>0<\/th>\n",
       "      <th>1<\/th>\n",
       "      <th>2<\/th>\n",
       "      <th>3<\/th>\n",
       "      <th>4<\/th>\n",
       "      <th>5<\/th>\n",
       "      <th>6<\/th>\n",
       "      <th>7<\/th>\n",
       "      <th>8<\/th>\n",
       "      <th>9<\/th>\n",
       "      <th>...<\/th>\n",
       "      <th>16<\/th>\n",
       "      <th>17<\/th>\n",
       "      <th>18<\/th>\n",
       "      <th>19<\/th>\n",
       "      <th>20<\/th>\n",
       "      <th>21<\/th>\n",
       "      <th>22<\/th>\n",
       "      <th>23<\/th>\n",
       "      <th>24<\/th>\n",
       "      <th>25<\/th>\n",
       "    <\/tr>\n",
       "  <\/thead>\n",
       "  <tbody>\n",
       "    <tr>\n",
       "      <th>195<\/th>\n",
       "      <td>-1<\/td>\n",
       "      <td>74<\/td>\n",
       "      <td>volvo<\/td>\n",
       "      <td>gas<\/td>\n",
       "      <td>std<\/td>\n",
       "      <td>four<\/td>\n",
       "      <td>wagon<\/td>\n",
       "      <td>rwd<\/td>\n",
       "      <td>front<\/td>\n",
       "      <td>104.3<\/td>\n",
       "      <td>...<\/td>\n",
       "      <td>141<\/td>\n",
       "      <td>mpfi<\/td>\n",
       "      <td>3.78<\/td>\n",
       "      <td>3.15<\/td>\n",
       "      <td>9.5<\/td>\n",
       "      <td>114<\/td>\n",
       "      <td>5400<\/td>\n",
       "      <td>23<\/td>\n",
       "      <td>28<\/td>\n",
       "      <td>13415<\/td>\n",
       "    <\/tr>\n",
       "    <tr>\n",
       "      <th>196<\/th>\n",
       "      <td>-2<\/td>\n",
       "      <td>103<\/td>\n",
       "      <td>volvo<\/td>\n",
       "      <td>gas<\/td>\n",
       "      <td>std<\/td>\n",
       "      <td>four<\/td>\n",
       "      <td>sedan<\/td>\n",
       "      <td>rwd<\/td>\n",
       "      <td>front<\/td>\n",
       "      <td>104.3<\/td>\n",
       "      <td>...<\/td>\n",
       "      <td>141<\/td>\n",
       "      <td>mpfi<\/td>\n",
       "      <td>3.78<\/td>\n",
       "      <td>3.15<\/td>\n",
       "      <td>9.5<\/td>\n",
       "      <td>114<\/td>\n",
       "      <td>5400<\/td>\n",
       "      <td>24<\/td>\n",
       "      <td>28<\/td>\n",
       "      <td>15985<\/td>\n",
       "    <\/tr>\n",
       "    <tr>\n",
       "      <th>197<\/th>\n",
       "      <td>-1<\/td>\n",
       "      <td>74<\/td>\n",
       "      <td>volvo<\/td>\n",
       "      <td>gas<\/td>\n",
       "      <td>std<\/td>\n",
       "      <td>four<\/td>\n",
       "      <td>wagon<\/td>\n",
       "      <td>rwd<\/td>\n",
       "      <td>front<\/td>\n",
       "      <td>104.3<\/td>\n",
       "      <td>...<\/td>\n",
       "      <td>141<\/td>\n",
       "      <td>mpfi<\/td>\n",
       "      <td>3.78<\/td>\n",
       "      <td>3.15<\/td>\n",
       "      <td>9.5<\/td>\n",
       "      <td>114<\/td>\n",
       "      <td>5400<\/td>\n",
       "      <td>24<\/td>\n",
       "      <td>28<\/td>\n",
       "      <td>16515<\/td>\n",
       "    <\/tr>\n",
       "    <tr>\n",
       "      <th>198<\/th>\n",
       "      <td>-2<\/td>\n",
       "      <td>103<\/td>\n",
       "      <td>volvo<\/td>\n",
       "      <td>gas<\/td>\n",
       "      <td>turbo<\/td>\n",
       "      <td>four<\/td>\n",
       "      <td>sedan<\/td>\n",
       "      <td>rwd<\/td>\n",
       "      <td>front<\/td>\n",
       "      <td>104.3<\/td>\n",
       "      <td>...<\/td>\n",
       "      <td>130<\/td>\n",
       "      <td>mpfi<\/td>\n",
       "      <td>3.62<\/td>\n",
       "      <td>3.15<\/td>\n",
       "      <td>7.5<\/td>\n",
       "      <td>162<\/td>\n",
       "      <td>5100<\/td>\n",
       "      <td>17<\/td>\n",
       "      <td>22<\/td>\n",
       "      <td>18420<\/td>\n",
       "    <\/tr>\n",
       "    <tr>\n",
       "      <th>199<\/th>\n",
       "      <td>-1<\/td>\n",
       "      <td>74<\/td>\n",
       "      <td>volvo<\/td>\n",
       "      <td>gas<\/td>\n",
       "      <td>turbo<\/td>\n",
       "      <td>four<\/td>\n",
       "      <td>wagon<\/td>\n",
       "      <td>rwd<\/td>\n",
       "      <td>front<\/td>\n",
       "      <td>104.3<\/td>\n",
       "      <td>...<\/td>\n",
       "      <td>130<\/td>\n",
       "      <td>mpfi<\/td>\n",
       "      <td>3.62<\/td>\n",
       "      <td>3.15<\/td>\n",
       "      <td>7.5<\/td>\n",
       "      <td>162<\/td>\n",
       "      <td>5100<\/td>\n",
       "      <td>17<\/td>\n",
       "      <td>22<\/td>\n",
       "      <td>18950<\/td>\n",
       "    <\/tr>\n",
       "    <tr>\n",
       "      <th>200<\/th>\n",
       "      <td>-1<\/td>\n",
       "      <td>95<\/td>\n",
       "      <td>volvo<\/td>\n",
       "      <td>gas<\/td>\n",
       "      <td>std<\/td>\n",
       "      <td>four<\/td>\n",
       "      <td>sedan<\/td>\n",
       "      <td>rwd<\/td>\n",
       "      <td>front<\/td>\n",
       "      <td>109.1<\/td>\n",
       "      <td>...<\/td>\n",
       "      <td>141<\/td>\n",
       "      <td>mpfi<\/td>\n",
       "      <td>3.78<\/td>\n",
       "      <td>3.15<\/td>\n",
       "      <td>9.5<\/td>\n",
       "      <td>114<\/td>\n",
       "      <td>5400<\/td>\n",
       "      <td>23<\/td>\n",
       "      <td>28<\/td>\n",
       "      <td>16845<\/td>\n",
       "    <\/tr>\n",
       "    <tr>\n",
       "      <th>201<\/th>\n",
       "      <td>-1<\/td>\n",
       "      <td>95<\/td>\n",
       "      <td>volvo<\/td>\n",
       "      <td>gas<\/td>\n",
       "      <td>turbo<\/td>\n",
       "      <td>four<\/td>\n",
       "      <td>sedan<\/td>\n",
       "      <td>rwd<\/td>\n",
       "      <td>front<\/td>\n",
       "      <td>109.1<\/td>\n",
       "      <td>...<\/td>\n",
       "      <td>141<\/td>\n",
       "      <td>mpfi<\/td>\n",
       "      <td>3.78<\/td>\n",
       "      <td>3.15<\/td>\n",
       "      <td>8.7<\/td>\n",
       "      <td>160<\/td>\n",
       "      <td>5300<\/td>\n",
       "      <td>19<\/td>\n",
       "      <td>25<\/td>\n",
       "      <td>19045<\/td>\n",
       "    <\/tr>\n",
       "    <tr>\n",
       "      <th>202<\/th>\n",
       "      <td>-1<\/td>\n",
       "      <td>95<\/td>\n",
       "      <td>volvo<\/td>\n",
       "      <td>gas<\/td>\n",
       "      <td>std<\/td>\n",
       "      <td>four<\/td>\n",
       "      <td>sedan<\/td>\n",
       "      <td>rwd<\/td>\n",
       "      <td>front<\/td>\n",
       "      <td>109.1<\/td>\n",
       "      <td>...<\/td>\n",
       "      <td>173<\/td>\n",
       "      <td>mpfi<\/td>\n",
       "      <td>3.58<\/td>\n",
       "      <td>2.87<\/td>\n",
       "      <td>8.8<\/td>\n",
       "      <td>134<\/td>\n",
       "      <td>5500<\/td>\n",
       "      <td>18<\/td>\n",
       "      <td>23<\/td>\n",
       "      <td>21485<\/td>\n",
       "    <\/tr>\n",
       "    <tr>\n",
       "      <th>203<\/th>\n",
       "      <td>-1<\/td>\n",
       "      <td>95<\/td>\n",
       "      <td>volvo<\/td>\n",
       "      <td>diesel<\/td>\n",
       "      <td>turbo<\/td>\n",
       "      <td>four<\/td>\n",
       "      <td>sedan<\/td>\n",
       "      <td>rwd<\/td>\n",
       "      <td>front<\/td>\n",
       "      <td>109.1<\/td>\n",
       "      <td>...<\/td>\n",
       "      <td>145<\/td>\n",
       "      <td>idi<\/td>\n",
       "      <td>3.01<\/td>\n",
       "      <td>3.40<\/td>\n",
       "      <td>23.0<\/td>\n",
       "      <td>106<\/td>\n",
       "      <td>4800<\/td>\n",
       "      <td>26<\/td>\n",
       "      <td>27<\/td>\n",
       "      <td>22470<\/td>\n",
       "    <\/tr>\n",
       "    <tr>\n",
       "      <th>204<\/th>\n",
       "      <td>-1<\/td>\n",
       "      <td>95<\/td>\n",
       "      <td>volvo<\/td>\n",
       "      <td>gas<\/td>\n",
       "      <td>turbo<\/td>\n",
       "      <td>four<\/td>\n",
       "      <td>sedan<\/td>\n",
       "      <td>rwd<\/td>\n",
       "      <td>front<\/td>\n",
       "      <td>109.1<\/td>\n",
       "      <td>...<\/td>\n",
       "      <td>141<\/td>\n",
       "      <td>mpfi<\/td>\n",
       "      <td>3.78<\/td>\n",
       "      <td>3.15<\/td>\n",
       "      <td>9.5<\/td>\n",
       "      <td>114<\/td>\n",
       "      <td>5400<\/td>\n",
       "      <td>19<\/td>\n",
       "      <td>25<\/td>\n",
       "      <td>22625<\/td>\n",
       "    <\/tr>\n",
       "  <\/tbody>\n",
       "<\/table>\n",
       "<p>10 rows × 26 columns<\/p>\n",
       "<\/div>"
      ]
     },
     "metadata":{
      
     },
     "output_type":"display_data"
    }
   ],
   "metadata":{
    "datalore":{
     "node_id":"sokgxfIvWj8z4f0IEJUdq9",
     "type":"CODE",
     "hide_input_from_viewers":false,
     "hide_output_from_viewers":false
    }
   }
  },
  {
   "cell_type":"code",
   "source":[
    "#create headr list for columns\n",
    "headers = [\"symboling\",\"normalized-losses\",\"make\",\"fuel-type\",\"aspiration\", \"num-of-doors\",\"body-style\",\n",
    "         \"drive-wheels\",\"engine-location\",\"wheel-base\", \"length\",\"width\",\"height\",\"curb-weight\",\"engine-type\",\n",
    "         \"num-of-cylinders\", \"engine-size\",\"fuel-system\",\"bore\",\"stroke\",\"compression-ratio\",\"horsepower\",\n",
    "         \"peak-rpm\",\"city-mpg\",\"highway-mpg\",\"price\"]\n",
    "\n",
    "print(\"headers\\n\", headers)\n",
    "\n",
    "# we replace header and recheck dataframe\n",
    "df.columns = headers\n",
    "df.head()\n",
    "\n",
    "\n",
    "#we need to repalce  the \"?\" symbol with NaN so the dropna() can remove the missing value\n",
    "df1 = df.replace('NaN', '?', inplace = True)\n",
    "df.head(200)"
   ],
   "execution_count":215,
   "outputs":[
    {
     "name":"stdout",
     "text":[
      "headers\n",
      " ['symboling', 'normalized-losses', 'make', 'fuel-type', 'aspiration', 'num-of-doors', 'body-style', 'drive-wheels', 'engine-location', 'wheel-base', 'length', 'width', 'height', 'curb-weight', 'engine-type', 'num-of-cylinders', 'engine-size', 'fuel-system', 'bore', 'stroke', 'compression-ratio', 'horsepower', 'peak-rpm', 'city-mpg', 'highway-mpg', 'price']\n"
     ],
     "output_type":"stream"
    },
    {
     "data":{
      "text\/html":[
       "<div>\n",
       "<style scoped>\n",
       "    .dataframe tbody tr th:only-of-type {\n",
       "        vertical-align: middle;\n",
       "    }\n",
       "\n",
       "    .dataframe tbody tr th {\n",
       "        vertical-align: top;\n",
       "    }\n",
       "\n",
       "    .dataframe thead th {\n",
       "        text-align: right;\n",
       "    }\n",
       "<\/style>\n",
       "<table border=\"1\" class=\"dataframe\">\n",
       "  <thead>\n",
       "    <tr style=\"text-align: right;\">\n",
       "      <th><\/th>\n",
       "      <th>symboling<\/th>\n",
       "      <th>normalized-losses<\/th>\n",
       "      <th>make<\/th>\n",
       "      <th>fuel-type<\/th>\n",
       "      <th>aspiration<\/th>\n",
       "      <th>num-of-doors<\/th>\n",
       "      <th>body-style<\/th>\n",
       "      <th>drive-wheels<\/th>\n",
       "      <th>engine-location<\/th>\n",
       "      <th>wheel-base<\/th>\n",
       "      <th>...<\/th>\n",
       "      <th>engine-size<\/th>\n",
       "      <th>fuel-system<\/th>\n",
       "      <th>bore<\/th>\n",
       "      <th>stroke<\/th>\n",
       "      <th>compression-ratio<\/th>\n",
       "      <th>horsepower<\/th>\n",
       "      <th>peak-rpm<\/th>\n",
       "      <th>city-mpg<\/th>\n",
       "      <th>highway-mpg<\/th>\n",
       "      <th>price<\/th>\n",
       "    <\/tr>\n",
       "  <\/thead>\n",
       "  <tbody>\n",
       "    <tr>\n",
       "      <th>0<\/th>\n",
       "      <td>3<\/td>\n",
       "      <td>?<\/td>\n",
       "      <td>alfa-romero<\/td>\n",
       "      <td>gas<\/td>\n",
       "      <td>std<\/td>\n",
       "      <td>two<\/td>\n",
       "      <td>convertible<\/td>\n",
       "      <td>rwd<\/td>\n",
       "      <td>front<\/td>\n",
       "      <td>88.6<\/td>\n",
       "      <td>...<\/td>\n",
       "      <td>130<\/td>\n",
       "      <td>mpfi<\/td>\n",
       "      <td>3.47<\/td>\n",
       "      <td>2.68<\/td>\n",
       "      <td>9.0<\/td>\n",
       "      <td>111<\/td>\n",
       "      <td>5000<\/td>\n",
       "      <td>21<\/td>\n",
       "      <td>27<\/td>\n",
       "      <td>13495<\/td>\n",
       "    <\/tr>\n",
       "    <tr>\n",
       "      <th>1<\/th>\n",
       "      <td>3<\/td>\n",
       "      <td>?<\/td>\n",
       "      <td>alfa-romero<\/td>\n",
       "      <td>gas<\/td>\n",
       "      <td>std<\/td>\n",
       "      <td>two<\/td>\n",
       "      <td>convertible<\/td>\n",
       "      <td>rwd<\/td>\n",
       "      <td>front<\/td>\n",
       "      <td>88.6<\/td>\n",
       "      <td>...<\/td>\n",
       "      <td>130<\/td>\n",
       "      <td>mpfi<\/td>\n",
       "      <td>3.47<\/td>\n",
       "      <td>2.68<\/td>\n",
       "      <td>9.0<\/td>\n",
       "      <td>111<\/td>\n",
       "      <td>5000<\/td>\n",
       "      <td>21<\/td>\n",
       "      <td>27<\/td>\n",
       "      <td>16500<\/td>\n",
       "    <\/tr>\n",
       "    <tr>\n",
       "      <th>2<\/th>\n",
       "      <td>1<\/td>\n",
       "      <td>?<\/td>\n",
       "      <td>alfa-romero<\/td>\n",
       "      <td>gas<\/td>\n",
       "      <td>std<\/td>\n",
       "      <td>two<\/td>\n",
       "      <td>hatchback<\/td>\n",
       "      <td>rwd<\/td>\n",
       "      <td>front<\/td>\n",
       "      <td>94.5<\/td>\n",
       "      <td>...<\/td>\n",
       "      <td>152<\/td>\n",
       "      <td>mpfi<\/td>\n",
       "      <td>2.68<\/td>\n",
       "      <td>3.47<\/td>\n",
       "      <td>9.0<\/td>\n",
       "      <td>154<\/td>\n",
       "      <td>5000<\/td>\n",
       "      <td>19<\/td>\n",
       "      <td>26<\/td>\n",
       "      <td>16500<\/td>\n",
       "    <\/tr>\n",
       "    <tr>\n",
       "      <th>3<\/th>\n",
       "      <td>2<\/td>\n",
       "      <td>164<\/td>\n",
       "      <td>audi<\/td>\n",
       "      <td>gas<\/td>\n",
       "      <td>std<\/td>\n",
       "      <td>four<\/td>\n",
       "      <td>sedan<\/td>\n",
       "      <td>fwd<\/td>\n",
       "      <td>front<\/td>\n",
       "      <td>99.8<\/td>\n",
       "      <td>...<\/td>\n",
       "      <td>109<\/td>\n",
       "      <td>mpfi<\/td>\n",
       "      <td>3.19<\/td>\n",
       "      <td>3.40<\/td>\n",
       "      <td>10.0<\/td>\n",
       "      <td>102<\/td>\n",
       "      <td>5500<\/td>\n",
       "      <td>24<\/td>\n",
       "      <td>30<\/td>\n",
       "      <td>13950<\/td>\n",
       "    <\/tr>\n",
       "    <tr>\n",
       "      <th>4<\/th>\n",
       "      <td>2<\/td>\n",
       "      <td>164<\/td>\n",
       "      <td>audi<\/td>\n",
       "      <td>gas<\/td>\n",
       "      <td>std<\/td>\n",
       "      <td>four<\/td>\n",
       "      <td>sedan<\/td>\n",
       "      <td>4wd<\/td>\n",
       "      <td>front<\/td>\n",
       "      <td>99.4<\/td>\n",
       "      <td>...<\/td>\n",
       "      <td>136<\/td>\n",
       "      <td>mpfi<\/td>\n",
       "      <td>3.19<\/td>\n",
       "      <td>3.40<\/td>\n",
       "      <td>8.0<\/td>\n",
       "      <td>115<\/td>\n",
       "      <td>5500<\/td>\n",
       "      <td>18<\/td>\n",
       "      <td>22<\/td>\n",
       "      <td>17450<\/td>\n",
       "    <\/tr>\n",
       "    <tr>\n",
       "      <th>...<\/th>\n",
       "      <td>...<\/td>\n",
       "      <td>...<\/td>\n",
       "      <td>...<\/td>\n",
       "      <td>...<\/td>\n",
       "      <td>...<\/td>\n",
       "      <td>...<\/td>\n",
       "      <td>...<\/td>\n",
       "      <td>...<\/td>\n",
       "      <td>...<\/td>\n",
       "      <td>...<\/td>\n",
       "      <td>...<\/td>\n",
       "      <td>...<\/td>\n",
       "      <td>...<\/td>\n",
       "      <td>...<\/td>\n",
       "      <td>...<\/td>\n",
       "      <td>...<\/td>\n",
       "      <td>...<\/td>\n",
       "      <td>...<\/td>\n",
       "      <td>...<\/td>\n",
       "      <td>...<\/td>\n",
       "      <td>...<\/td>\n",
       "    <\/tr>\n",
       "    <tr>\n",
       "      <th>195<\/th>\n",
       "      <td>-1<\/td>\n",
       "      <td>74<\/td>\n",
       "      <td>volvo<\/td>\n",
       "      <td>gas<\/td>\n",
       "      <td>std<\/td>\n",
       "      <td>four<\/td>\n",
       "      <td>wagon<\/td>\n",
       "      <td>rwd<\/td>\n",
       "      <td>front<\/td>\n",
       "      <td>104.3<\/td>\n",
       "      <td>...<\/td>\n",
       "      <td>141<\/td>\n",
       "      <td>mpfi<\/td>\n",
       "      <td>3.78<\/td>\n",
       "      <td>3.15<\/td>\n",
       "      <td>9.5<\/td>\n",
       "      <td>114<\/td>\n",
       "      <td>5400<\/td>\n",
       "      <td>23<\/td>\n",
       "      <td>28<\/td>\n",
       "      <td>13415<\/td>\n",
       "    <\/tr>\n",
       "    <tr>\n",
       "      <th>196<\/th>\n",
       "      <td>-2<\/td>\n",
       "      <td>103<\/td>\n",
       "      <td>volvo<\/td>\n",
       "      <td>gas<\/td>\n",
       "      <td>std<\/td>\n",
       "      <td>four<\/td>\n",
       "      <td>sedan<\/td>\n",
       "      <td>rwd<\/td>\n",
       "      <td>front<\/td>\n",
       "      <td>104.3<\/td>\n",
       "      <td>...<\/td>\n",
       "      <td>141<\/td>\n",
       "      <td>mpfi<\/td>\n",
       "      <td>3.78<\/td>\n",
       "      <td>3.15<\/td>\n",
       "      <td>9.5<\/td>\n",
       "      <td>114<\/td>\n",
       "      <td>5400<\/td>\n",
       "      <td>24<\/td>\n",
       "      <td>28<\/td>\n",
       "      <td>15985<\/td>\n",
       "    <\/tr>\n",
       "    <tr>\n",
       "      <th>197<\/th>\n",
       "      <td>-1<\/td>\n",
       "      <td>74<\/td>\n",
       "      <td>volvo<\/td>\n",
       "      <td>gas<\/td>\n",
       "      <td>std<\/td>\n",
       "      <td>four<\/td>\n",
       "      <td>wagon<\/td>\n",
       "      <td>rwd<\/td>\n",
       "      <td>front<\/td>\n",
       "      <td>104.3<\/td>\n",
       "      <td>...<\/td>\n",
       "      <td>141<\/td>\n",
       "      <td>mpfi<\/td>\n",
       "      <td>3.78<\/td>\n",
       "      <td>3.15<\/td>\n",
       "      <td>9.5<\/td>\n",
       "      <td>114<\/td>\n",
       "      <td>5400<\/td>\n",
       "      <td>24<\/td>\n",
       "      <td>28<\/td>\n",
       "      <td>16515<\/td>\n",
       "    <\/tr>\n",
       "    <tr>\n",
       "      <th>198<\/th>\n",
       "      <td>-2<\/td>\n",
       "      <td>103<\/td>\n",
       "      <td>volvo<\/td>\n",
       "      <td>gas<\/td>\n",
       "      <td>turbo<\/td>\n",
       "      <td>four<\/td>\n",
       "      <td>sedan<\/td>\n",
       "      <td>rwd<\/td>\n",
       "      <td>front<\/td>\n",
       "      <td>104.3<\/td>\n",
       "      <td>...<\/td>\n",
       "      <td>130<\/td>\n",
       "      <td>mpfi<\/td>\n",
       "      <td>3.62<\/td>\n",
       "      <td>3.15<\/td>\n",
       "      <td>7.5<\/td>\n",
       "      <td>162<\/td>\n",
       "      <td>5100<\/td>\n",
       "      <td>17<\/td>\n",
       "      <td>22<\/td>\n",
       "      <td>18420<\/td>\n",
       "    <\/tr>\n",
       "    <tr>\n",
       "      <th>199<\/th>\n",
       "      <td>-1<\/td>\n",
       "      <td>74<\/td>\n",
       "      <td>volvo<\/td>\n",
       "      <td>gas<\/td>\n",
       "      <td>turbo<\/td>\n",
       "      <td>four<\/td>\n",
       "      <td>wagon<\/td>\n",
       "      <td>rwd<\/td>\n",
       "      <td>front<\/td>\n",
       "      <td>104.3<\/td>\n",
       "      <td>...<\/td>\n",
       "      <td>130<\/td>\n",
       "      <td>mpfi<\/td>\n",
       "      <td>3.62<\/td>\n",
       "      <td>3.15<\/td>\n",
       "      <td>7.5<\/td>\n",
       "      <td>162<\/td>\n",
       "      <td>5100<\/td>\n",
       "      <td>17<\/td>\n",
       "      <td>22<\/td>\n",
       "      <td>18950<\/td>\n",
       "    <\/tr>\n",
       "  <\/tbody>\n",
       "<\/table>\n",
       "<p>200 rows × 26 columns<\/p>\n",
       "<\/div>"
      ]
     },
     "metadata":{
      
     },
     "output_type":"display_data"
    }
   ],
   "metadata":{
    "datalore":{
     "node_id":"gqiALkVbVXF7YdwzA7A4kW",
     "type":"CODE",
     "hide_input_from_viewers":false,
     "hide_output_from_viewers":false
    }
   }
  },
  {
   "cell_type":"code",
   "source":[
    "print(df.columns)\n",
    "#print(df.dtypes)"
   ],
   "execution_count":216,
   "outputs":[
    {
     "name":"stdout",
     "text":[
      "Index(['symboling', 'normalized-losses', 'make', 'fuel-type', 'aspiration',\n",
      "       'num-of-doors', 'body-style', 'drive-wheels', 'engine-location',\n",
      "       'wheel-base', 'length', 'width', 'height', 'curb-weight', 'engine-type',\n",
      "       'num-of-cylinders', 'engine-size', 'fuel-system', 'bore', 'stroke',\n",
      "       'compression-ratio', 'horsepower', 'peak-rpm', 'city-mpg',\n",
      "       'highway-mpg', 'price'],\n",
      "      dtype='object')\n"
     ],
     "output_type":"stream"
    }
   ],
   "metadata":{
    "datalore":{
     "node_id":"DuKUGRnyWa8X0U3nphnyCU",
     "type":"CODE",
     "hide_input_from_viewers":false,
     "hide_output_from_viewers":false
    }
   }
  },
  {
   "cell_type":"code",
   "source":[
    "\n",
    "## Describe ##################\n",
    "# If we would like to get a statistical summary of each column e.g. count, column mean value, column standard deviation, etc., we use the describe method:\n",
    "\n",
    "# this methods provides various summary statiscs excluding NaN values\n",
    "df.describe()\n",
    "#df[['length', 'compression-ratio']].describe()\n",
    "df.describe(include = \"all\")"
   ],
   "execution_count":217,
   "outputs":[
    {
     "data":{
      "text\/html":[
       "<div>\n",
       "<style scoped>\n",
       "    .dataframe tbody tr th:only-of-type {\n",
       "        vertical-align: middle;\n",
       "    }\n",
       "\n",
       "    .dataframe tbody tr th {\n",
       "        vertical-align: top;\n",
       "    }\n",
       "\n",
       "    .dataframe thead th {\n",
       "        text-align: right;\n",
       "    }\n",
       "<\/style>\n",
       "<table border=\"1\" class=\"dataframe\">\n",
       "  <thead>\n",
       "    <tr style=\"text-align: right;\">\n",
       "      <th><\/th>\n",
       "      <th>symboling<\/th>\n",
       "      <th>normalized-losses<\/th>\n",
       "      <th>make<\/th>\n",
       "      <th>fuel-type<\/th>\n",
       "      <th>aspiration<\/th>\n",
       "      <th>num-of-doors<\/th>\n",
       "      <th>body-style<\/th>\n",
       "      <th>drive-wheels<\/th>\n",
       "      <th>engine-location<\/th>\n",
       "      <th>wheel-base<\/th>\n",
       "      <th>...<\/th>\n",
       "      <th>engine-size<\/th>\n",
       "      <th>fuel-system<\/th>\n",
       "      <th>bore<\/th>\n",
       "      <th>stroke<\/th>\n",
       "      <th>compression-ratio<\/th>\n",
       "      <th>horsepower<\/th>\n",
       "      <th>peak-rpm<\/th>\n",
       "      <th>city-mpg<\/th>\n",
       "      <th>highway-mpg<\/th>\n",
       "      <th>price<\/th>\n",
       "    <\/tr>\n",
       "  <\/thead>\n",
       "  <tbody>\n",
       "    <tr>\n",
       "      <th>count<\/th>\n",
       "      <td>205.000000<\/td>\n",
       "      <td>205<\/td>\n",
       "      <td>205<\/td>\n",
       "      <td>205<\/td>\n",
       "      <td>205<\/td>\n",
       "      <td>205<\/td>\n",
       "      <td>205<\/td>\n",
       "      <td>205<\/td>\n",
       "      <td>205<\/td>\n",
       "      <td>205.000000<\/td>\n",
       "      <td>...<\/td>\n",
       "      <td>205.000000<\/td>\n",
       "      <td>205<\/td>\n",
       "      <td>205<\/td>\n",
       "      <td>205<\/td>\n",
       "      <td>205.000000<\/td>\n",
       "      <td>205<\/td>\n",
       "      <td>205<\/td>\n",
       "      <td>205.000000<\/td>\n",
       "      <td>205.000000<\/td>\n",
       "      <td>205<\/td>\n",
       "    <\/tr>\n",
       "    <tr>\n",
       "      <th>unique<\/th>\n",
       "      <td>NaN<\/td>\n",
       "      <td>52<\/td>\n",
       "      <td>22<\/td>\n",
       "      <td>2<\/td>\n",
       "      <td>2<\/td>\n",
       "      <td>3<\/td>\n",
       "      <td>5<\/td>\n",
       "      <td>3<\/td>\n",
       "      <td>2<\/td>\n",
       "      <td>NaN<\/td>\n",
       "      <td>...<\/td>\n",
       "      <td>NaN<\/td>\n",
       "      <td>8<\/td>\n",
       "      <td>39<\/td>\n",
       "      <td>37<\/td>\n",
       "      <td>NaN<\/td>\n",
       "      <td>60<\/td>\n",
       "      <td>24<\/td>\n",
       "      <td>NaN<\/td>\n",
       "      <td>NaN<\/td>\n",
       "      <td>187<\/td>\n",
       "    <\/tr>\n",
       "    <tr>\n",
       "      <th>top<\/th>\n",
       "      <td>NaN<\/td>\n",
       "      <td>?<\/td>\n",
       "      <td>toyota<\/td>\n",
       "      <td>gas<\/td>\n",
       "      <td>std<\/td>\n",
       "      <td>four<\/td>\n",
       "      <td>sedan<\/td>\n",
       "      <td>fwd<\/td>\n",
       "      <td>front<\/td>\n",
       "      <td>NaN<\/td>\n",
       "      <td>...<\/td>\n",
       "      <td>NaN<\/td>\n",
       "      <td>mpfi<\/td>\n",
       "      <td>3.62<\/td>\n",
       "      <td>3.40<\/td>\n",
       "      <td>NaN<\/td>\n",
       "      <td>68<\/td>\n",
       "      <td>5500<\/td>\n",
       "      <td>NaN<\/td>\n",
       "      <td>NaN<\/td>\n",
       "      <td>?<\/td>\n",
       "    <\/tr>\n",
       "    <tr>\n",
       "      <th>freq<\/th>\n",
       "      <td>NaN<\/td>\n",
       "      <td>41<\/td>\n",
       "      <td>32<\/td>\n",
       "      <td>185<\/td>\n",
       "      <td>168<\/td>\n",
       "      <td>114<\/td>\n",
       "      <td>96<\/td>\n",
       "      <td>120<\/td>\n",
       "      <td>202<\/td>\n",
       "      <td>NaN<\/td>\n",
       "      <td>...<\/td>\n",
       "      <td>NaN<\/td>\n",
       "      <td>94<\/td>\n",
       "      <td>23<\/td>\n",
       "      <td>20<\/td>\n",
       "      <td>NaN<\/td>\n",
       "      <td>19<\/td>\n",
       "      <td>37<\/td>\n",
       "      <td>NaN<\/td>\n",
       "      <td>NaN<\/td>\n",
       "      <td>4<\/td>\n",
       "    <\/tr>\n",
       "    <tr>\n",
       "      <th>mean<\/th>\n",
       "      <td>0.834146<\/td>\n",
       "      <td>NaN<\/td>\n",
       "      <td>NaN<\/td>\n",
       "      <td>NaN<\/td>\n",
       "      <td>NaN<\/td>\n",
       "      <td>NaN<\/td>\n",
       "      <td>NaN<\/td>\n",
       "      <td>NaN<\/td>\n",
       "      <td>NaN<\/td>\n",
       "      <td>98.756585<\/td>\n",
       "      <td>...<\/td>\n",
       "      <td>126.907317<\/td>\n",
       "      <td>NaN<\/td>\n",
       "      <td>NaN<\/td>\n",
       "      <td>NaN<\/td>\n",
       "      <td>10.142537<\/td>\n",
       "      <td>NaN<\/td>\n",
       "      <td>NaN<\/td>\n",
       "      <td>25.219512<\/td>\n",
       "      <td>30.751220<\/td>\n",
       "      <td>NaN<\/td>\n",
       "    <\/tr>\n",
       "    <tr>\n",
       "      <th>std<\/th>\n",
       "      <td>1.245307<\/td>\n",
       "      <td>NaN<\/td>\n",
       "      <td>NaN<\/td>\n",
       "      <td>NaN<\/td>\n",
       "      <td>NaN<\/td>\n",
       "      <td>NaN<\/td>\n",
       "      <td>NaN<\/td>\n",
       "      <td>NaN<\/td>\n",
       "      <td>NaN<\/td>\n",
       "      <td>6.021776<\/td>\n",
       "      <td>...<\/td>\n",
       "      <td>41.642693<\/td>\n",
       "      <td>NaN<\/td>\n",
       "      <td>NaN<\/td>\n",
       "      <td>NaN<\/td>\n",
       "      <td>3.972040<\/td>\n",
       "      <td>NaN<\/td>\n",
       "      <td>NaN<\/td>\n",
       "      <td>6.542142<\/td>\n",
       "      <td>6.886443<\/td>\n",
       "      <td>NaN<\/td>\n",
       "    <\/tr>\n",
       "    <tr>\n",
       "      <th>min<\/th>\n",
       "      <td>-2.000000<\/td>\n",
       "      <td>NaN<\/td>\n",
       "      <td>NaN<\/td>\n",
       "      <td>NaN<\/td>\n",
       "      <td>NaN<\/td>\n",
       "      <td>NaN<\/td>\n",
       "      <td>NaN<\/td>\n",
       "      <td>NaN<\/td>\n",
       "      <td>NaN<\/td>\n",
       "      <td>86.600000<\/td>\n",
       "      <td>...<\/td>\n",
       "      <td>61.000000<\/td>\n",
       "      <td>NaN<\/td>\n",
       "      <td>NaN<\/td>\n",
       "      <td>NaN<\/td>\n",
       "      <td>7.000000<\/td>\n",
       "      <td>NaN<\/td>\n",
       "      <td>NaN<\/td>\n",
       "      <td>13.000000<\/td>\n",
       "      <td>16.000000<\/td>\n",
       "      <td>NaN<\/td>\n",
       "    <\/tr>\n",
       "    <tr>\n",
       "      <th>25%<\/th>\n",
       "      <td>0.000000<\/td>\n",
       "      <td>NaN<\/td>\n",
       "      <td>NaN<\/td>\n",
       "      <td>NaN<\/td>\n",
       "      <td>NaN<\/td>\n",
       "      <td>NaN<\/td>\n",
       "      <td>NaN<\/td>\n",
       "      <td>NaN<\/td>\n",
       "      <td>NaN<\/td>\n",
       "      <td>94.500000<\/td>\n",
       "      <td>...<\/td>\n",
       "      <td>97.000000<\/td>\n",
       "      <td>NaN<\/td>\n",
       "      <td>NaN<\/td>\n",
       "      <td>NaN<\/td>\n",
       "      <td>8.600000<\/td>\n",
       "      <td>NaN<\/td>\n",
       "      <td>NaN<\/td>\n",
       "      <td>19.000000<\/td>\n",
       "      <td>25.000000<\/td>\n",
       "      <td>NaN<\/td>\n",
       "    <\/tr>\n",
       "    <tr>\n",
       "      <th>50%<\/th>\n",
       "      <td>1.000000<\/td>\n",
       "      <td>NaN<\/td>\n",
       "      <td>NaN<\/td>\n",
       "      <td>NaN<\/td>\n",
       "      <td>NaN<\/td>\n",
       "      <td>NaN<\/td>\n",
       "      <td>NaN<\/td>\n",
       "      <td>NaN<\/td>\n",
       "      <td>NaN<\/td>\n",
       "      <td>97.000000<\/td>\n",
       "      <td>...<\/td>\n",
       "      <td>120.000000<\/td>\n",
       "      <td>NaN<\/td>\n",
       "      <td>NaN<\/td>\n",
       "      <td>NaN<\/td>\n",
       "      <td>9.000000<\/td>\n",
       "      <td>NaN<\/td>\n",
       "      <td>NaN<\/td>\n",
       "      <td>24.000000<\/td>\n",
       "      <td>30.000000<\/td>\n",
       "      <td>NaN<\/td>\n",
       "    <\/tr>\n",
       "    <tr>\n",
       "      <th>75%<\/th>\n",
       "      <td>2.000000<\/td>\n",
       "      <td>NaN<\/td>\n",
       "      <td>NaN<\/td>\n",
       "      <td>NaN<\/td>\n",
       "      <td>NaN<\/td>\n",
       "      <td>NaN<\/td>\n",
       "      <td>NaN<\/td>\n",
       "      <td>NaN<\/td>\n",
       "      <td>NaN<\/td>\n",
       "      <td>102.400000<\/td>\n",
       "      <td>...<\/td>\n",
       "      <td>141.000000<\/td>\n",
       "      <td>NaN<\/td>\n",
       "      <td>NaN<\/td>\n",
       "      <td>NaN<\/td>\n",
       "      <td>9.400000<\/td>\n",
       "      <td>NaN<\/td>\n",
       "      <td>NaN<\/td>\n",
       "      <td>30.000000<\/td>\n",
       "      <td>34.000000<\/td>\n",
       "      <td>NaN<\/td>\n",
       "    <\/tr>\n",
       "    <tr>\n",
       "      <th>max<\/th>\n",
       "      <td>3.000000<\/td>\n",
       "      <td>NaN<\/td>\n",
       "      <td>NaN<\/td>\n",
       "      <td>NaN<\/td>\n",
       "      <td>NaN<\/td>\n",
       "      <td>NaN<\/td>\n",
       "      <td>NaN<\/td>\n",
       "      <td>NaN<\/td>\n",
       "      <td>NaN<\/td>\n",
       "      <td>120.900000<\/td>\n",
       "      <td>...<\/td>\n",
       "      <td>326.000000<\/td>\n",
       "      <td>NaN<\/td>\n",
       "      <td>NaN<\/td>\n",
       "      <td>NaN<\/td>\n",
       "      <td>23.000000<\/td>\n",
       "      <td>NaN<\/td>\n",
       "      <td>NaN<\/td>\n",
       "      <td>49.000000<\/td>\n",
       "      <td>54.000000<\/td>\n",
       "      <td>NaN<\/td>\n",
       "    <\/tr>\n",
       "  <\/tbody>\n",
       "<\/table>\n",
       "<p>11 rows × 26 columns<\/p>\n",
       "<\/div>"
      ]
     },
     "metadata":{
      
     },
     "output_type":"display_data"
    }
   ],
   "metadata":{
    "datalore":{
     "node_id":"34Z1raU24w4Rd7p21MVpyq",
     "type":"CODE",
     "hide_input_from_viewers":false,
     "hide_output_from_viewers":false
    }
   }
  },
  {
   "cell_type":"code",
   "source":[
    "#You can select the columns of a dataframe by indicating the name of each column. For example, you can select the three columns as follows:\n",
    "df[['length','engine-size']].describe()"
   ],
   "execution_count":218,
   "outputs":[
    {
     "data":{
      "text\/html":[
       "<div>\n",
       "<style scoped>\n",
       "    .dataframe tbody tr th:only-of-type {\n",
       "        vertical-align: middle;\n",
       "    }\n",
       "\n",
       "    .dataframe tbody tr th {\n",
       "        vertical-align: top;\n",
       "    }\n",
       "\n",
       "    .dataframe thead th {\n",
       "        text-align: right;\n",
       "    }\n",
       "<\/style>\n",
       "<table border=\"1\" class=\"dataframe\">\n",
       "  <thead>\n",
       "    <tr style=\"text-align: right;\">\n",
       "      <th><\/th>\n",
       "      <th>length<\/th>\n",
       "      <th>engine-size<\/th>\n",
       "    <\/tr>\n",
       "  <\/thead>\n",
       "  <tbody>\n",
       "    <tr>\n",
       "      <th>count<\/th>\n",
       "      <td>205.000000<\/td>\n",
       "      <td>205.000000<\/td>\n",
       "    <\/tr>\n",
       "    <tr>\n",
       "      <th>mean<\/th>\n",
       "      <td>174.049268<\/td>\n",
       "      <td>126.907317<\/td>\n",
       "    <\/tr>\n",
       "    <tr>\n",
       "      <th>std<\/th>\n",
       "      <td>12.337289<\/td>\n",
       "      <td>41.642693<\/td>\n",
       "    <\/tr>\n",
       "    <tr>\n",
       "      <th>min<\/th>\n",
       "      <td>141.100000<\/td>\n",
       "      <td>61.000000<\/td>\n",
       "    <\/tr>\n",
       "    <tr>\n",
       "      <th>25%<\/th>\n",
       "      <td>166.300000<\/td>\n",
       "      <td>97.000000<\/td>\n",
       "    <\/tr>\n",
       "    <tr>\n",
       "      <th>50%<\/th>\n",
       "      <td>173.200000<\/td>\n",
       "      <td>120.000000<\/td>\n",
       "    <\/tr>\n",
       "    <tr>\n",
       "      <th>75%<\/th>\n",
       "      <td>183.100000<\/td>\n",
       "      <td>141.000000<\/td>\n",
       "    <\/tr>\n",
       "    <tr>\n",
       "      <th>max<\/th>\n",
       "      <td>208.100000<\/td>\n",
       "      <td>326.000000<\/td>\n",
       "    <\/tr>\n",
       "  <\/tbody>\n",
       "<\/table>\n",
       "<\/div>"
      ]
     },
     "metadata":{
      
     },
     "output_type":"display_data"
    }
   ],
   "metadata":{
    "datalore":{
     "node_id":"rYwdFW4R7mR46Bi2RMWuia",
     "type":"CODE",
     "hide_input_from_viewers":false,
     "hide_output_from_viewers":false
    }
   }
  },
  {
   "cell_type":"code",
   "source":[
    "df.to_csv('automobile.csv', index=False)"
   ],
   "execution_count":219,
   "outputs":[
    
   ],
   "metadata":{
    "datalore":{
     "node_id":"mpgA3eYp7dDS1VqkhQ6Z4d",
     "type":"CODE",
     "hide_input_from_viewers":false,
     "hide_output_from_viewers":false
    }
   }
  },
  {
   "cell_type":"code",
   "source":[
    "# Basic Insight of data types #######\n",
    "########################################\n",
    "#There are several ways to obtain essential insights of the data to help us better understand our dataset.\n",
    "# Data has variety of type\n",
    "# The main types stored in Pandas dataframes are object, float, int, bool and datetime64. In order to better learn about each attribute, it is always good for us to know the data type of each column. In Pandas:\n",
    "\n",
    "#df.dtypes\n",
    "# check the data type of data frame \"df\" by .dtypes\n",
    "print(df.dtypes)\n",
    "\n",
    "#  As shown above, it is clear to see that the data type of \"symboling\" and \"curb-weight\" are int64, \"normalized-losses\" is object, and \"wheel-base\" is float64, etc.\n",
    "#These data types can be changed;"
   ],
   "execution_count":220,
   "outputs":[
    {
     "name":"stdout",
     "text":[
      "symboling              int64\n",
      "normalized-losses     object\n",
      "make                  object\n",
      "fuel-type             object\n",
      "aspiration            object\n",
      "num-of-doors          object\n",
      "body-style            object\n",
      "drive-wheels          object\n",
      "engine-location       object\n",
      "wheel-base           float64\n",
      "length               float64\n",
      "width                float64\n",
      "height               float64\n",
      "curb-weight            int64\n",
      "engine-type           object\n",
      "num-of-cylinders      object\n",
      "engine-size            int64\n",
      "fuel-system           object\n",
      "bore                  object\n",
      "stroke                object\n",
      "compression-ratio    float64\n",
      "horsepower            object\n",
      "peak-rpm              object\n",
      "city-mpg               int64\n",
      "highway-mpg            int64\n",
      "price                 object\n",
      "dtype: object\n"
     ],
     "output_type":"stream"
    }
   ],
   "metadata":{
    "datalore":{
     "node_id":"V1nLf5OdygHOMJa9oLnu8H",
     "type":"CODE",
     "hide_input_from_viewers":false,
     "hide_output_from_viewers":false
    }
   }
  },
  {
   "cell_type":"code",
   "source":[
    "## Info ##########\n",
    "# Another method you can use to check your dataset is. df.info()\n",
    "# It provides a concise summary of your DataFrame.\n",
    "#This method prints information about a DataFrame including the index dtype and columns, non-null values and memory usage\n",
    "\n",
    "df.info()"
   ],
   "execution_count":221,
   "outputs":[
    {
     "name":"stdout",
     "text":[
      "<class 'pandas.core.frame.DataFrame'>\n",
      "RangeIndex: 205 entries, 0 to 204\n",
      "Data columns (total 26 columns):\n",
      " #   Column             Non-Null Count  Dtype  \n",
      "---  ------             --------------  -----  \n",
      " 0   symboling          205 non-null    int64  \n",
      " 1   normalized-losses  205 non-null    object \n",
      " 2   make               205 non-null    object \n",
      " 3   fuel-type          205 non-null    object \n",
      " 4   aspiration         205 non-null    object \n",
      " 5   num-of-doors       205 non-null    object \n",
      " 6   body-style         205 non-null    object \n",
      " 7   drive-wheels       205 non-null    object \n",
      " 8   engine-location    205 non-null    object \n",
      " 9   wheel-base         205 non-null    float64\n",
      " 10  length             205 non-null    float64\n",
      " 11  width              205 non-null    float64\n",
      " 12  height             205 non-null    float64\n",
      " 13  curb-weight        205 non-null    int64  \n",
      " 14  engine-type        205 non-null    object \n",
      " 15  num-of-cylinders   205 non-null    object \n",
      " 16  engine-size        205 non-null    int64  \n",
      " 17  fuel-system        205 non-null    object \n",
      " 18  bore               205 non-null    object \n",
      " 19  stroke             205 non-null    object \n",
      " 20  compression-ratio  205 non-null    float64\n",
      " 21  horsepower         205 non-null    object \n",
      " 22  peak-rpm           205 non-null    object \n",
      " 23  city-mpg           205 non-null    int64  \n",
      " 24  highway-mpg        205 non-null    int64  \n",
      " 25  price              205 non-null    object \n",
      "dtypes: float64(5), int64(5), object(16)\n",
      "memory usage: 41.8+ KB\n"
     ],
     "output_type":"stream"
    }
   ],
   "metadata":{
    "datalore":{
     "node_id":"1XvVUiwURMolyTzdummlFr",
     "type":"CODE",
     "hide_input_from_viewers":false,
     "hide_output_from_viewers":false
    }
   }
  },
  {
   "cell_type":"code",
   "source":[
    "## Data Wraglling ####################\n",
    "## Handle missing values, correct data formate, standardize and normalize data\n",
    "\n",
    "#What is the purpose of data wrangling?\n",
    "    #Data wrangling is the process of converting data from the initial format to a format that may be better for analysis."
   ],
   "execution_count":222,
   "outputs":[
    
   ],
   "metadata":{
    "datalore":{
     "node_id":"b1Arq9Ww8FY40N1GgFfFbs",
     "type":"CODE",
     "hide_input_from_viewers":false,
     "hide_output_from_viewers":false
    }
   }
  },
  {
   "cell_type":"code",
   "source":[
    "# Identify and handle missing values\n",
    "# In the car dataset, missing data comes with the question mark \"?\". We replace \"?\" with NaN (Not a Number), Python's default missing value marker for reasons of computational speed and convenience. \n",
    "# Here we use the function:  df.replace(A, B, inplace =true)\n",
    "#we need to repalce  the \"?\" symbol with NaN so the dropna() can remove the missing value\n",
    "df1 = df.replace('?', np.NaN, inplace = True)\n",
    "df.head(200)\n",
    "\n",
    "   "
   ],
   "execution_count":223,
   "outputs":[
    {
     "data":{
      "text\/html":[
       "<div>\n",
       "<style scoped>\n",
       "    .dataframe tbody tr th:only-of-type {\n",
       "        vertical-align: middle;\n",
       "    }\n",
       "\n",
       "    .dataframe tbody tr th {\n",
       "        vertical-align: top;\n",
       "    }\n",
       "\n",
       "    .dataframe thead th {\n",
       "        text-align: right;\n",
       "    }\n",
       "<\/style>\n",
       "<table border=\"1\" class=\"dataframe\">\n",
       "  <thead>\n",
       "    <tr style=\"text-align: right;\">\n",
       "      <th><\/th>\n",
       "      <th>symboling<\/th>\n",
       "      <th>normalized-losses<\/th>\n",
       "      <th>make<\/th>\n",
       "      <th>fuel-type<\/th>\n",
       "      <th>aspiration<\/th>\n",
       "      <th>num-of-doors<\/th>\n",
       "      <th>body-style<\/th>\n",
       "      <th>drive-wheels<\/th>\n",
       "      <th>engine-location<\/th>\n",
       "      <th>wheel-base<\/th>\n",
       "      <th>...<\/th>\n",
       "      <th>engine-size<\/th>\n",
       "      <th>fuel-system<\/th>\n",
       "      <th>bore<\/th>\n",
       "      <th>stroke<\/th>\n",
       "      <th>compression-ratio<\/th>\n",
       "      <th>horsepower<\/th>\n",
       "      <th>peak-rpm<\/th>\n",
       "      <th>city-mpg<\/th>\n",
       "      <th>highway-mpg<\/th>\n",
       "      <th>price<\/th>\n",
       "    <\/tr>\n",
       "  <\/thead>\n",
       "  <tbody>\n",
       "    <tr>\n",
       "      <th>0<\/th>\n",
       "      <td>3<\/td>\n",
       "      <td>NaN<\/td>\n",
       "      <td>alfa-romero<\/td>\n",
       "      <td>gas<\/td>\n",
       "      <td>std<\/td>\n",
       "      <td>two<\/td>\n",
       "      <td>convertible<\/td>\n",
       "      <td>rwd<\/td>\n",
       "      <td>front<\/td>\n",
       "      <td>88.6<\/td>\n",
       "      <td>...<\/td>\n",
       "      <td>130<\/td>\n",
       "      <td>mpfi<\/td>\n",
       "      <td>3.47<\/td>\n",
       "      <td>2.68<\/td>\n",
       "      <td>9.0<\/td>\n",
       "      <td>111<\/td>\n",
       "      <td>5000<\/td>\n",
       "      <td>21<\/td>\n",
       "      <td>27<\/td>\n",
       "      <td>13495<\/td>\n",
       "    <\/tr>\n",
       "    <tr>\n",
       "      <th>1<\/th>\n",
       "      <td>3<\/td>\n",
       "      <td>NaN<\/td>\n",
       "      <td>alfa-romero<\/td>\n",
       "      <td>gas<\/td>\n",
       "      <td>std<\/td>\n",
       "      <td>two<\/td>\n",
       "      <td>convertible<\/td>\n",
       "      <td>rwd<\/td>\n",
       "      <td>front<\/td>\n",
       "      <td>88.6<\/td>\n",
       "      <td>...<\/td>\n",
       "      <td>130<\/td>\n",
       "      <td>mpfi<\/td>\n",
       "      <td>3.47<\/td>\n",
       "      <td>2.68<\/td>\n",
       "      <td>9.0<\/td>\n",
       "      <td>111<\/td>\n",
       "      <td>5000<\/td>\n",
       "      <td>21<\/td>\n",
       "      <td>27<\/td>\n",
       "      <td>16500<\/td>\n",
       "    <\/tr>\n",
       "    <tr>\n",
       "      <th>2<\/th>\n",
       "      <td>1<\/td>\n",
       "      <td>NaN<\/td>\n",
       "      <td>alfa-romero<\/td>\n",
       "      <td>gas<\/td>\n",
       "      <td>std<\/td>\n",
       "      <td>two<\/td>\n",
       "      <td>hatchback<\/td>\n",
       "      <td>rwd<\/td>\n",
       "      <td>front<\/td>\n",
       "      <td>94.5<\/td>\n",
       "      <td>...<\/td>\n",
       "      <td>152<\/td>\n",
       "      <td>mpfi<\/td>\n",
       "      <td>2.68<\/td>\n",
       "      <td>3.47<\/td>\n",
       "      <td>9.0<\/td>\n",
       "      <td>154<\/td>\n",
       "      <td>5000<\/td>\n",
       "      <td>19<\/td>\n",
       "      <td>26<\/td>\n",
       "      <td>16500<\/td>\n",
       "    <\/tr>\n",
       "    <tr>\n",
       "      <th>3<\/th>\n",
       "      <td>2<\/td>\n",
       "      <td>164<\/td>\n",
       "      <td>audi<\/td>\n",
       "      <td>gas<\/td>\n",
       "      <td>std<\/td>\n",
       "      <td>four<\/td>\n",
       "      <td>sedan<\/td>\n",
       "      <td>fwd<\/td>\n",
       "      <td>front<\/td>\n",
       "      <td>99.8<\/td>\n",
       "      <td>...<\/td>\n",
       "      <td>109<\/td>\n",
       "      <td>mpfi<\/td>\n",
       "      <td>3.19<\/td>\n",
       "      <td>3.40<\/td>\n",
       "      <td>10.0<\/td>\n",
       "      <td>102<\/td>\n",
       "      <td>5500<\/td>\n",
       "      <td>24<\/td>\n",
       "      <td>30<\/td>\n",
       "      <td>13950<\/td>\n",
       "    <\/tr>\n",
       "    <tr>\n",
       "      <th>4<\/th>\n",
       "      <td>2<\/td>\n",
       "      <td>164<\/td>\n",
       "      <td>audi<\/td>\n",
       "      <td>gas<\/td>\n",
       "      <td>std<\/td>\n",
       "      <td>four<\/td>\n",
       "      <td>sedan<\/td>\n",
       "      <td>4wd<\/td>\n",
       "      <td>front<\/td>\n",
       "      <td>99.4<\/td>\n",
       "      <td>...<\/td>\n",
       "      <td>136<\/td>\n",
       "      <td>mpfi<\/td>\n",
       "      <td>3.19<\/td>\n",
       "      <td>3.40<\/td>\n",
       "      <td>8.0<\/td>\n",
       "      <td>115<\/td>\n",
       "      <td>5500<\/td>\n",
       "      <td>18<\/td>\n",
       "      <td>22<\/td>\n",
       "      <td>17450<\/td>\n",
       "    <\/tr>\n",
       "    <tr>\n",
       "      <th>...<\/th>\n",
       "      <td>...<\/td>\n",
       "      <td>...<\/td>\n",
       "      <td>...<\/td>\n",
       "      <td>...<\/td>\n",
       "      <td>...<\/td>\n",
       "      <td>...<\/td>\n",
       "      <td>...<\/td>\n",
       "      <td>...<\/td>\n",
       "      <td>...<\/td>\n",
       "      <td>...<\/td>\n",
       "      <td>...<\/td>\n",
       "      <td>...<\/td>\n",
       "      <td>...<\/td>\n",
       "      <td>...<\/td>\n",
       "      <td>...<\/td>\n",
       "      <td>...<\/td>\n",
       "      <td>...<\/td>\n",
       "      <td>...<\/td>\n",
       "      <td>...<\/td>\n",
       "      <td>...<\/td>\n",
       "      <td>...<\/td>\n",
       "    <\/tr>\n",
       "    <tr>\n",
       "      <th>195<\/th>\n",
       "      <td>-1<\/td>\n",
       "      <td>74<\/td>\n",
       "      <td>volvo<\/td>\n",
       "      <td>gas<\/td>\n",
       "      <td>std<\/td>\n",
       "      <td>four<\/td>\n",
       "      <td>wagon<\/td>\n",
       "      <td>rwd<\/td>\n",
       "      <td>front<\/td>\n",
       "      <td>104.3<\/td>\n",
       "      <td>...<\/td>\n",
       "      <td>141<\/td>\n",
       "      <td>mpfi<\/td>\n",
       "      <td>3.78<\/td>\n",
       "      <td>3.15<\/td>\n",
       "      <td>9.5<\/td>\n",
       "      <td>114<\/td>\n",
       "      <td>5400<\/td>\n",
       "      <td>23<\/td>\n",
       "      <td>28<\/td>\n",
       "      <td>13415<\/td>\n",
       "    <\/tr>\n",
       "    <tr>\n",
       "      <th>196<\/th>\n",
       "      <td>-2<\/td>\n",
       "      <td>103<\/td>\n",
       "      <td>volvo<\/td>\n",
       "      <td>gas<\/td>\n",
       "      <td>std<\/td>\n",
       "      <td>four<\/td>\n",
       "      <td>sedan<\/td>\n",
       "      <td>rwd<\/td>\n",
       "      <td>front<\/td>\n",
       "      <td>104.3<\/td>\n",
       "      <td>...<\/td>\n",
       "      <td>141<\/td>\n",
       "      <td>mpfi<\/td>\n",
       "      <td>3.78<\/td>\n",
       "      <td>3.15<\/td>\n",
       "      <td>9.5<\/td>\n",
       "      <td>114<\/td>\n",
       "      <td>5400<\/td>\n",
       "      <td>24<\/td>\n",
       "      <td>28<\/td>\n",
       "      <td>15985<\/td>\n",
       "    <\/tr>\n",
       "    <tr>\n",
       "      <th>197<\/th>\n",
       "      <td>-1<\/td>\n",
       "      <td>74<\/td>\n",
       "      <td>volvo<\/td>\n",
       "      <td>gas<\/td>\n",
       "      <td>std<\/td>\n",
       "      <td>four<\/td>\n",
       "      <td>wagon<\/td>\n",
       "      <td>rwd<\/td>\n",
       "      <td>front<\/td>\n",
       "      <td>104.3<\/td>\n",
       "      <td>...<\/td>\n",
       "      <td>141<\/td>\n",
       "      <td>mpfi<\/td>\n",
       "      <td>3.78<\/td>\n",
       "      <td>3.15<\/td>\n",
       "      <td>9.5<\/td>\n",
       "      <td>114<\/td>\n",
       "      <td>5400<\/td>\n",
       "      <td>24<\/td>\n",
       "      <td>28<\/td>\n",
       "      <td>16515<\/td>\n",
       "    <\/tr>\n",
       "    <tr>\n",
       "      <th>198<\/th>\n",
       "      <td>-2<\/td>\n",
       "      <td>103<\/td>\n",
       "      <td>volvo<\/td>\n",
       "      <td>gas<\/td>\n",
       "      <td>turbo<\/td>\n",
       "      <td>four<\/td>\n",
       "      <td>sedan<\/td>\n",
       "      <td>rwd<\/td>\n",
       "      <td>front<\/td>\n",
       "      <td>104.3<\/td>\n",
       "      <td>...<\/td>\n",
       "      <td>130<\/td>\n",
       "      <td>mpfi<\/td>\n",
       "      <td>3.62<\/td>\n",
       "      <td>3.15<\/td>\n",
       "      <td>7.5<\/td>\n",
       "      <td>162<\/td>\n",
       "      <td>5100<\/td>\n",
       "      <td>17<\/td>\n",
       "      <td>22<\/td>\n",
       "      <td>18420<\/td>\n",
       "    <\/tr>\n",
       "    <tr>\n",
       "      <th>199<\/th>\n",
       "      <td>-1<\/td>\n",
       "      <td>74<\/td>\n",
       "      <td>volvo<\/td>\n",
       "      <td>gas<\/td>\n",
       "      <td>turbo<\/td>\n",
       "      <td>four<\/td>\n",
       "      <td>wagon<\/td>\n",
       "      <td>rwd<\/td>\n",
       "      <td>front<\/td>\n",
       "      <td>104.3<\/td>\n",
       "      <td>...<\/td>\n",
       "      <td>130<\/td>\n",
       "      <td>mpfi<\/td>\n",
       "      <td>3.62<\/td>\n",
       "      <td>3.15<\/td>\n",
       "      <td>7.5<\/td>\n",
       "      <td>162<\/td>\n",
       "      <td>5100<\/td>\n",
       "      <td>17<\/td>\n",
       "      <td>22<\/td>\n",
       "      <td>18950<\/td>\n",
       "    <\/tr>\n",
       "  <\/tbody>\n",
       "<\/table>\n",
       "<p>200 rows × 26 columns<\/p>\n",
       "<\/div>"
      ]
     },
     "metadata":{
      
     },
     "output_type":"display_data"
    }
   ],
   "metadata":{
    "datalore":{
     "node_id":"kYxUUXqDHGGWPL6rL7m2TU",
     "type":"CODE",
     "hide_input_from_viewers":false,
     "hide_output_from_viewers":false
    }
   }
  },
  {
   "cell_type":"code",
   "source":[
    "#Evaluating for missing value by using two methods isnull and not null\n",
    "#True is missng values while false means isn't missing value\n",
    "\n",
    "missing_data = df.notnull()\n",
    "missing_data.head(5)"
   ],
   "execution_count":224,
   "outputs":[
    {
     "data":{
      "text\/html":[
       "<div>\n",
       "<style scoped>\n",
       "    .dataframe tbody tr th:only-of-type {\n",
       "        vertical-align: middle;\n",
       "    }\n",
       "\n",
       "    .dataframe tbody tr th {\n",
       "        vertical-align: top;\n",
       "    }\n",
       "\n",
       "    .dataframe thead th {\n",
       "        text-align: right;\n",
       "    }\n",
       "<\/style>\n",
       "<table border=\"1\" class=\"dataframe\">\n",
       "  <thead>\n",
       "    <tr style=\"text-align: right;\">\n",
       "      <th><\/th>\n",
       "      <th>symboling<\/th>\n",
       "      <th>normalized-losses<\/th>\n",
       "      <th>make<\/th>\n",
       "      <th>fuel-type<\/th>\n",
       "      <th>aspiration<\/th>\n",
       "      <th>num-of-doors<\/th>\n",
       "      <th>body-style<\/th>\n",
       "      <th>drive-wheels<\/th>\n",
       "      <th>engine-location<\/th>\n",
       "      <th>wheel-base<\/th>\n",
       "      <th>...<\/th>\n",
       "      <th>engine-size<\/th>\n",
       "      <th>fuel-system<\/th>\n",
       "      <th>bore<\/th>\n",
       "      <th>stroke<\/th>\n",
       "      <th>compression-ratio<\/th>\n",
       "      <th>horsepower<\/th>\n",
       "      <th>peak-rpm<\/th>\n",
       "      <th>city-mpg<\/th>\n",
       "      <th>highway-mpg<\/th>\n",
       "      <th>price<\/th>\n",
       "    <\/tr>\n",
       "  <\/thead>\n",
       "  <tbody>\n",
       "    <tr>\n",
       "      <th>0<\/th>\n",
       "      <td>True<\/td>\n",
       "      <td>False<\/td>\n",
       "      <td>True<\/td>\n",
       "      <td>True<\/td>\n",
       "      <td>True<\/td>\n",
       "      <td>True<\/td>\n",
       "      <td>True<\/td>\n",
       "      <td>True<\/td>\n",
       "      <td>True<\/td>\n",
       "      <td>True<\/td>\n",
       "      <td>...<\/td>\n",
       "      <td>True<\/td>\n",
       "      <td>True<\/td>\n",
       "      <td>True<\/td>\n",
       "      <td>True<\/td>\n",
       "      <td>True<\/td>\n",
       "      <td>True<\/td>\n",
       "      <td>True<\/td>\n",
       "      <td>True<\/td>\n",
       "      <td>True<\/td>\n",
       "      <td>True<\/td>\n",
       "    <\/tr>\n",
       "    <tr>\n",
       "      <th>1<\/th>\n",
       "      <td>True<\/td>\n",
       "      <td>False<\/td>\n",
       "      <td>True<\/td>\n",
       "      <td>True<\/td>\n",
       "      <td>True<\/td>\n",
       "      <td>True<\/td>\n",
       "      <td>True<\/td>\n",
       "      <td>True<\/td>\n",
       "      <td>True<\/td>\n",
       "      <td>True<\/td>\n",
       "      <td>...<\/td>\n",
       "      <td>True<\/td>\n",
       "      <td>True<\/td>\n",
       "      <td>True<\/td>\n",
       "      <td>True<\/td>\n",
       "      <td>True<\/td>\n",
       "      <td>True<\/td>\n",
       "      <td>True<\/td>\n",
       "      <td>True<\/td>\n",
       "      <td>True<\/td>\n",
       "      <td>True<\/td>\n",
       "    <\/tr>\n",
       "    <tr>\n",
       "      <th>2<\/th>\n",
       "      <td>True<\/td>\n",
       "      <td>False<\/td>\n",
       "      <td>True<\/td>\n",
       "      <td>True<\/td>\n",
       "      <td>True<\/td>\n",
       "      <td>True<\/td>\n",
       "      <td>True<\/td>\n",
       "      <td>True<\/td>\n",
       "      <td>True<\/td>\n",
       "      <td>True<\/td>\n",
       "      <td>...<\/td>\n",
       "      <td>True<\/td>\n",
       "      <td>True<\/td>\n",
       "      <td>True<\/td>\n",
       "      <td>True<\/td>\n",
       "      <td>True<\/td>\n",
       "      <td>True<\/td>\n",
       "      <td>True<\/td>\n",
       "      <td>True<\/td>\n",
       "      <td>True<\/td>\n",
       "      <td>True<\/td>\n",
       "    <\/tr>\n",
       "    <tr>\n",
       "      <th>3<\/th>\n",
       "      <td>True<\/td>\n",
       "      <td>True<\/td>\n",
       "      <td>True<\/td>\n",
       "      <td>True<\/td>\n",
       "      <td>True<\/td>\n",
       "      <td>True<\/td>\n",
       "      <td>True<\/td>\n",
       "      <td>True<\/td>\n",
       "      <td>True<\/td>\n",
       "      <td>True<\/td>\n",
       "      <td>...<\/td>\n",
       "      <td>True<\/td>\n",
       "      <td>True<\/td>\n",
       "      <td>True<\/td>\n",
       "      <td>True<\/td>\n",
       "      <td>True<\/td>\n",
       "      <td>True<\/td>\n",
       "      <td>True<\/td>\n",
       "      <td>True<\/td>\n",
       "      <td>True<\/td>\n",
       "      <td>True<\/td>\n",
       "    <\/tr>\n",
       "    <tr>\n",
       "      <th>4<\/th>\n",
       "      <td>True<\/td>\n",
       "      <td>True<\/td>\n",
       "      <td>True<\/td>\n",
       "      <td>True<\/td>\n",
       "      <td>True<\/td>\n",
       "      <td>True<\/td>\n",
       "      <td>True<\/td>\n",
       "      <td>True<\/td>\n",
       "      <td>True<\/td>\n",
       "      <td>True<\/td>\n",
       "      <td>...<\/td>\n",
       "      <td>True<\/td>\n",
       "      <td>True<\/td>\n",
       "      <td>True<\/td>\n",
       "      <td>True<\/td>\n",
       "      <td>True<\/td>\n",
       "      <td>True<\/td>\n",
       "      <td>True<\/td>\n",
       "      <td>True<\/td>\n",
       "      <td>True<\/td>\n",
       "      <td>True<\/td>\n",
       "    <\/tr>\n",
       "  <\/tbody>\n",
       "<\/table>\n",
       "<p>5 rows × 26 columns<\/p>\n",
       "<\/div>"
      ]
     },
     "metadata":{
      
     },
     "output_type":"display_data"
    }
   ],
   "metadata":{
    "datalore":{
     "node_id":"oEJ4ET0iRzI42utssT1PKA",
     "type":"CODE",
     "hide_input_from_viewers":false,
     "hide_output_from_viewers":false
    }
   }
  },
  {
   "cell_type":"code",
   "source":[
    "\n",
    "\n",
    "# count missing value in each column\n",
    "\n",
    "for column in missing_data.columns.values.tolist():\n",
    "    print(column)\n",
    "    print(missing_data[column].value_counts())\n",
    "    print(\"\")"
   ],
   "execution_count":225,
   "outputs":[
    {
     "name":"stdout",
     "text":[
      "symboling\n",
      "True    205\n",
      "Name: symboling, dtype: int64\n",
      "\n",
      "normalized-losses\n",
      "True     164\n",
      "False     41\n",
      "Name: normalized-losses, dtype: int64\n",
      "\n",
      "make\n",
      "True    205\n",
      "Name: make, dtype: int64\n",
      "\n",
      "fuel-type\n",
      "True    205\n",
      "Name: fuel-type, dtype: int64\n",
      "\n",
      "aspiration\n",
      "True    205\n",
      "Name: aspiration, dtype: int64\n",
      "\n",
      "num-of-doors\n",
      "True     203\n",
      "False      2\n",
      "Name: num-of-doors, dtype: int64\n",
      "\n",
      "body-style\n",
      "True    205\n",
      "Name: body-style, dtype: int64\n",
      "\n",
      "drive-wheels\n",
      "True    205\n",
      "Name: drive-wheels, dtype: int64\n",
      "\n",
      "engine-location\n",
      "True    205\n",
      "Name: engine-location, dtype: int64\n",
      "\n",
      "wheel-base\n",
      "True    205\n",
      "Name: wheel-base, dtype: int64\n",
      "\n",
      "length\n",
      "True    205\n",
      "Name: length, dtype: int64\n",
      "\n",
      "width\n",
      "True    205\n",
      "Name: width, dtype: int64\n",
      "\n",
      "height\n",
      "True    205\n",
      "Name: height, dtype: int64\n",
      "\n",
      "curb-weight\n",
      "True    205\n",
      "Name: curb-weight, dtype: int64\n",
      "\n",
      "engine-type\n",
      "True    205\n",
      "Name: engine-type, dtype: int64\n",
      "\n",
      "num-of-cylinders\n",
      "True    205\n",
      "Name: num-of-cylinders, dtype: int64\n",
      "\n",
      "engine-size\n",
      "True    205\n",
      "Name: engine-size, dtype: int64\n",
      "\n",
      "fuel-system\n",
      "True    205\n",
      "Name: fuel-system, dtype: int64\n",
      "\n",
      "bore\n",
      "True     201\n",
      "False      4\n",
      "Name: bore, dtype: int64\n",
      "\n",
      "stroke\n",
      "True     201\n",
      "False      4\n",
      "Name: stroke, dtype: int64\n",
      "\n",
      "compression-ratio\n",
      "True    205\n",
      "Name: compression-ratio, dtype: int64\n",
      "\n",
      "horsepower\n",
      "True     203\n",
      "False      2\n",
      "Name: horsepower, dtype: int64\n",
      "\n",
      "peak-rpm\n",
      "True     203\n",
      "False      2\n",
      "Name: peak-rpm, dtype: int64\n",
      "\n",
      "city-mpg\n",
      "True    205\n",
      "Name: city-mpg, dtype: int64\n",
      "\n",
      "highway-mpg\n",
      "True    205\n",
      "Name: highway-mpg, dtype: int64\n",
      "\n",
      "price\n",
      "True     201\n",
      "False      4\n",
      "Name: price, dtype: int64\n",
      "\n"
     ],
     "output_type":"stream"
    }
   ],
   "metadata":{
    "datalore":{
     "node_id":"1GMKxLg81YShq2DXt83Bc3",
     "type":"CODE",
     "hide_input_from_viewers":false,
     "hide_output_from_viewers":false
    }
   }
  },
  {
   "cell_type":"code",
   "source":[
    "##############   Data Wrangling ########################\n",
    "\n",
    "# Deal with missing data\n",
    "# How to deal with missing data\n",
    "    # Drop Data -> drop whole column and Raw\n",
    "    # Replace Data -> Replce it by mean , frequency, and other funcation\n",
    "# Calculate the mean value for the normalization-lossess column\n",
    "\n",
    "avg_norm_loss = df[\"normalized-losses\"].astype(\"float\").mean(axis=0)\n",
    "print(\"Average of normalized-losses:\", avg_norm_loss)\n",
    "\n",
    "# Replace \"NaN\" with mean value in \"normalized-losses\" column\n",
    "\n",
    "df[\"normalized-losses\"].replace(np.nan, avg_norm_loss, inplace=True)\n",
    "\n",
    "# Calculate the mean value for the \"bore\" column\n",
    "avg_bore = df['bore'].astype(\"float\").mean(axis=0)\n",
    "print(\"Avergae of bore:\", avg_bore)\n",
    "\n",
    "# Replace \"NaN\" with mean value in bore\n",
    "df[\"bore\"].replace(np.nan, avg_bore, inplace=True)\n",
    "\n",
    "\n",
    "## Calculating mean value for stroke column ##\n",
    "avg_stroke = df['stroke'].astype(\"float\").mean(axis=0)\n",
    "print(\"Average of stroke:\", avg_stroke)\n",
    "\n",
    "# replace \"NaN\" with mean value in stroke\n",
    "df[\"stroke\"].replace(np.nan, avg_stroke, inplace=True)\n",
    "\n",
    "## Calcualting mean value for price column ##\n",
    "avg_price = df['price'].astype(\"float\").mean(axis=0)\n",
    "print(\"Average of price:\", avg_price)\n",
    "\n",
    "## replace \"Nan\" with mean value in price\n",
    "df[\"price\"].replace(np.nan, avg_price, inplace=True)\n",
    "\n",
    "df.head(50)"
   ],
   "execution_count":226,
   "outputs":[
    {
     "name":"stdout",
     "text":[
      "Average of normalized-losses: 122.0\n",
      "Avergae of bore: 3.3297512437810943\n",
      "Average of stroke: 3.255422885572139\n",
      "Average of price: 13207.129353233831\n"
     ],
     "output_type":"stream"
    },
    {
     "data":{
      "text\/html":[
       "<div>\n",
       "<style scoped>\n",
       "    .dataframe tbody tr th:only-of-type {\n",
       "        vertical-align: middle;\n",
       "    }\n",
       "\n",
       "    .dataframe tbody tr th {\n",
       "        vertical-align: top;\n",
       "    }\n",
       "\n",
       "    .dataframe thead th {\n",
       "        text-align: right;\n",
       "    }\n",
       "<\/style>\n",
       "<table border=\"1\" class=\"dataframe\">\n",
       "  <thead>\n",
       "    <tr style=\"text-align: right;\">\n",
       "      <th><\/th>\n",
       "      <th>symboling<\/th>\n",
       "      <th>normalized-losses<\/th>\n",
       "      <th>make<\/th>\n",
       "      <th>fuel-type<\/th>\n",
       "      <th>aspiration<\/th>\n",
       "      <th>num-of-doors<\/th>\n",
       "      <th>body-style<\/th>\n",
       "      <th>drive-wheels<\/th>\n",
       "      <th>engine-location<\/th>\n",
       "      <th>wheel-base<\/th>\n",
       "      <th>...<\/th>\n",
       "      <th>engine-size<\/th>\n",
       "      <th>fuel-system<\/th>\n",
       "      <th>bore<\/th>\n",
       "      <th>stroke<\/th>\n",
       "      <th>compression-ratio<\/th>\n",
       "      <th>horsepower<\/th>\n",
       "      <th>peak-rpm<\/th>\n",
       "      <th>city-mpg<\/th>\n",
       "      <th>highway-mpg<\/th>\n",
       "      <th>price<\/th>\n",
       "    <\/tr>\n",
       "  <\/thead>\n",
       "  <tbody>\n",
       "    <tr>\n",
       "      <th>0<\/th>\n",
       "      <td>3<\/td>\n",
       "      <td>122.0<\/td>\n",
       "      <td>alfa-romero<\/td>\n",
       "      <td>gas<\/td>\n",
       "      <td>std<\/td>\n",
       "      <td>two<\/td>\n",
       "      <td>convertible<\/td>\n",
       "      <td>rwd<\/td>\n",
       "      <td>front<\/td>\n",
       "      <td>88.6<\/td>\n",
       "      <td>...<\/td>\n",
       "      <td>130<\/td>\n",
       "      <td>mpfi<\/td>\n",
       "      <td>3.47<\/td>\n",
       "      <td>2.68<\/td>\n",
       "      <td>9.00<\/td>\n",
       "      <td>111<\/td>\n",
       "      <td>5000<\/td>\n",
       "      <td>21<\/td>\n",
       "      <td>27<\/td>\n",
       "      <td>13495<\/td>\n",
       "    <\/tr>\n",
       "    <tr>\n",
       "      <th>1<\/th>\n",
       "      <td>3<\/td>\n",
       "      <td>122.0<\/td>\n",
       "      <td>alfa-romero<\/td>\n",
       "      <td>gas<\/td>\n",
       "      <td>std<\/td>\n",
       "      <td>two<\/td>\n",
       "      <td>convertible<\/td>\n",
       "      <td>rwd<\/td>\n",
       "      <td>front<\/td>\n",
       "      <td>88.6<\/td>\n",
       "      <td>...<\/td>\n",
       "      <td>130<\/td>\n",
       "      <td>mpfi<\/td>\n",
       "      <td>3.47<\/td>\n",
       "      <td>2.68<\/td>\n",
       "      <td>9.00<\/td>\n",
       "      <td>111<\/td>\n",
       "      <td>5000<\/td>\n",
       "      <td>21<\/td>\n",
       "      <td>27<\/td>\n",
       "      <td>16500<\/td>\n",
       "    <\/tr>\n",
       "    <tr>\n",
       "      <th>2<\/th>\n",
       "      <td>1<\/td>\n",
       "      <td>122.0<\/td>\n",
       "      <td>alfa-romero<\/td>\n",
       "      <td>gas<\/td>\n",
       "      <td>std<\/td>\n",
       "      <td>two<\/td>\n",
       "      <td>hatchback<\/td>\n",
       "      <td>rwd<\/td>\n",
       "      <td>front<\/td>\n",
       "      <td>94.5<\/td>\n",
       "      <td>...<\/td>\n",
       "      <td>152<\/td>\n",
       "      <td>mpfi<\/td>\n",
       "      <td>2.68<\/td>\n",
       "      <td>3.47<\/td>\n",
       "      <td>9.00<\/td>\n",
       "      <td>154<\/td>\n",
       "      <td>5000<\/td>\n",
       "      <td>19<\/td>\n",
       "      <td>26<\/td>\n",
       "      <td>16500<\/td>\n",
       "    <\/tr>\n",
       "    <tr>\n",
       "      <th>3<\/th>\n",
       "      <td>2<\/td>\n",
       "      <td>164<\/td>\n",
       "      <td>audi<\/td>\n",
       "      <td>gas<\/td>\n",
       "      <td>std<\/td>\n",
       "      <td>four<\/td>\n",
       "      <td>sedan<\/td>\n",
       "      <td>fwd<\/td>\n",
       "      <td>front<\/td>\n",
       "      <td>99.8<\/td>\n",
       "      <td>...<\/td>\n",
       "      <td>109<\/td>\n",
       "      <td>mpfi<\/td>\n",
       "      <td>3.19<\/td>\n",
       "      <td>3.40<\/td>\n",
       "      <td>10.00<\/td>\n",
       "      <td>102<\/td>\n",
       "      <td>5500<\/td>\n",
       "      <td>24<\/td>\n",
       "      <td>30<\/td>\n",
       "      <td>13950<\/td>\n",
       "    <\/tr>\n",
       "    <tr>\n",
       "      <th>4<\/th>\n",
       "      <td>2<\/td>\n",
       "      <td>164<\/td>\n",
       "      <td>audi<\/td>\n",
       "      <td>gas<\/td>\n",
       "      <td>std<\/td>\n",
       "      <td>four<\/td>\n",
       "      <td>sedan<\/td>\n",
       "      <td>4wd<\/td>\n",
       "      <td>front<\/td>\n",
       "      <td>99.4<\/td>\n",
       "      <td>...<\/td>\n",
       "      <td>136<\/td>\n",
       "      <td>mpfi<\/td>\n",
       "      <td>3.19<\/td>\n",
       "      <td>3.40<\/td>\n",
       "      <td>8.00<\/td>\n",
       "      <td>115<\/td>\n",
       "      <td>5500<\/td>\n",
       "      <td>18<\/td>\n",
       "      <td>22<\/td>\n",
       "      <td>17450<\/td>\n",
       "    <\/tr>\n",
       "    <tr>\n",
       "      <th>5<\/th>\n",
       "      <td>2<\/td>\n",
       "      <td>122.0<\/td>\n",
       "      <td>audi<\/td>\n",
       "      <td>gas<\/td>\n",
       "      <td>std<\/td>\n",
       "      <td>two<\/td>\n",
       "      <td>sedan<\/td>\n",
       "      <td>fwd<\/td>\n",
       "      <td>front<\/td>\n",
       "      <td>99.8<\/td>\n",
       "      <td>...<\/td>\n",
       "      <td>136<\/td>\n",
       "      <td>mpfi<\/td>\n",
       "      <td>3.19<\/td>\n",
       "      <td>3.40<\/td>\n",
       "      <td>8.50<\/td>\n",
       "      <td>110<\/td>\n",
       "      <td>5500<\/td>\n",
       "      <td>19<\/td>\n",
       "      <td>25<\/td>\n",
       "      <td>15250<\/td>\n",
       "    <\/tr>\n",
       "    <tr>\n",
       "      <th>6<\/th>\n",
       "      <td>1<\/td>\n",
       "      <td>158<\/td>\n",
       "      <td>audi<\/td>\n",
       "      <td>gas<\/td>\n",
       "      <td>std<\/td>\n",
       "      <td>four<\/td>\n",
       "      <td>sedan<\/td>\n",
       "      <td>fwd<\/td>\n",
       "      <td>front<\/td>\n",
       "      <td>105.8<\/td>\n",
       "      <td>...<\/td>\n",
       "      <td>136<\/td>\n",
       "      <td>mpfi<\/td>\n",
       "      <td>3.19<\/td>\n",
       "      <td>3.40<\/td>\n",
       "      <td>8.50<\/td>\n",
       "      <td>110<\/td>\n",
       "      <td>5500<\/td>\n",
       "      <td>19<\/td>\n",
       "      <td>25<\/td>\n",
       "      <td>17710<\/td>\n",
       "    <\/tr>\n",
       "    <tr>\n",
       "      <th>7<\/th>\n",
       "      <td>1<\/td>\n",
       "      <td>122.0<\/td>\n",
       "      <td>audi<\/td>\n",
       "      <td>gas<\/td>\n",
       "      <td>std<\/td>\n",
       "      <td>four<\/td>\n",
       "      <td>wagon<\/td>\n",
       "      <td>fwd<\/td>\n",
       "      <td>front<\/td>\n",
       "      <td>105.8<\/td>\n",
       "      <td>...<\/td>\n",
       "      <td>136<\/td>\n",
       "      <td>mpfi<\/td>\n",
       "      <td>3.19<\/td>\n",
       "      <td>3.40<\/td>\n",
       "      <td>8.50<\/td>\n",
       "      <td>110<\/td>\n",
       "      <td>5500<\/td>\n",
       "      <td>19<\/td>\n",
       "      <td>25<\/td>\n",
       "      <td>18920<\/td>\n",
       "    <\/tr>\n",
       "    <tr>\n",
       "      <th>8<\/th>\n",
       "      <td>1<\/td>\n",
       "      <td>158<\/td>\n",
       "      <td>audi<\/td>\n",
       "      <td>gas<\/td>\n",
       "      <td>turbo<\/td>\n",
       "      <td>four<\/td>\n",
       "      <td>sedan<\/td>\n",
       "      <td>fwd<\/td>\n",
       "      <td>front<\/td>\n",
       "      <td>105.8<\/td>\n",
       "      <td>...<\/td>\n",
       "      <td>131<\/td>\n",
       "      <td>mpfi<\/td>\n",
       "      <td>3.13<\/td>\n",
       "      <td>3.40<\/td>\n",
       "      <td>8.30<\/td>\n",
       "      <td>140<\/td>\n",
       "      <td>5500<\/td>\n",
       "      <td>17<\/td>\n",
       "      <td>20<\/td>\n",
       "      <td>23875<\/td>\n",
       "    <\/tr>\n",
       "    <tr>\n",
       "      <th>9<\/th>\n",
       "      <td>0<\/td>\n",
       "      <td>122.0<\/td>\n",
       "      <td>audi<\/td>\n",
       "      <td>gas<\/td>\n",
       "      <td>turbo<\/td>\n",
       "      <td>two<\/td>\n",
       "      <td>hatchback<\/td>\n",
       "      <td>4wd<\/td>\n",
       "      <td>front<\/td>\n",
       "      <td>99.5<\/td>\n",
       "      <td>...<\/td>\n",
       "      <td>131<\/td>\n",
       "      <td>mpfi<\/td>\n",
       "      <td>3.13<\/td>\n",
       "      <td>3.40<\/td>\n",
       "      <td>7.00<\/td>\n",
       "      <td>160<\/td>\n",
       "      <td>5500<\/td>\n",
       "      <td>16<\/td>\n",
       "      <td>22<\/td>\n",
       "      <td>13207.129353<\/td>\n",
       "    <\/tr>\n",
       "    <tr>\n",
       "      <th>10<\/th>\n",
       "      <td>2<\/td>\n",
       "      <td>192<\/td>\n",
       "      <td>bmw<\/td>\n",
       "      <td>gas<\/td>\n",
       "      <td>std<\/td>\n",
       "      <td>two<\/td>\n",
       "      <td>sedan<\/td>\n",
       "      <td>rwd<\/td>\n",
       "      <td>front<\/td>\n",
       "      <td>101.2<\/td>\n",
       "      <td>...<\/td>\n",
       "      <td>108<\/td>\n",
       "      <td>mpfi<\/td>\n",
       "      <td>3.50<\/td>\n",
       "      <td>2.80<\/td>\n",
       "      <td>8.80<\/td>\n",
       "      <td>101<\/td>\n",
       "      <td>5800<\/td>\n",
       "      <td>23<\/td>\n",
       "      <td>29<\/td>\n",
       "      <td>16430<\/td>\n",
       "    <\/tr>\n",
       "    <tr>\n",
       "      <th>11<\/th>\n",
       "      <td>0<\/td>\n",
       "      <td>192<\/td>\n",
       "      <td>bmw<\/td>\n",
       "      <td>gas<\/td>\n",
       "      <td>std<\/td>\n",
       "      <td>four<\/td>\n",
       "      <td>sedan<\/td>\n",
       "      <td>rwd<\/td>\n",
       "      <td>front<\/td>\n",
       "      <td>101.2<\/td>\n",
       "      <td>...<\/td>\n",
       "      <td>108<\/td>\n",
       "      <td>mpfi<\/td>\n",
       "      <td>3.50<\/td>\n",
       "      <td>2.80<\/td>\n",
       "      <td>8.80<\/td>\n",
       "      <td>101<\/td>\n",
       "      <td>5800<\/td>\n",
       "      <td>23<\/td>\n",
       "      <td>29<\/td>\n",
       "      <td>16925<\/td>\n",
       "    <\/tr>\n",
       "    <tr>\n",
       "      <th>12<\/th>\n",
       "      <td>0<\/td>\n",
       "      <td>188<\/td>\n",
       "      <td>bmw<\/td>\n",
       "      <td>gas<\/td>\n",
       "      <td>std<\/td>\n",
       "      <td>two<\/td>\n",
       "      <td>sedan<\/td>\n",
       "      <td>rwd<\/td>\n",
       "      <td>front<\/td>\n",
       "      <td>101.2<\/td>\n",
       "      <td>...<\/td>\n",
       "      <td>164<\/td>\n",
       "      <td>mpfi<\/td>\n",
       "      <td>3.31<\/td>\n",
       "      <td>3.19<\/td>\n",
       "      <td>9.00<\/td>\n",
       "      <td>121<\/td>\n",
       "      <td>4250<\/td>\n",
       "      <td>21<\/td>\n",
       "      <td>28<\/td>\n",
       "      <td>20970<\/td>\n",
       "    <\/tr>\n",
       "    <tr>\n",
       "      <th>13<\/th>\n",
       "      <td>0<\/td>\n",
       "      <td>188<\/td>\n",
       "      <td>bmw<\/td>\n",
       "      <td>gas<\/td>\n",
       "      <td>std<\/td>\n",
       "      <td>four<\/td>\n",
       "      <td>sedan<\/td>\n",
       "      <td>rwd<\/td>\n",
       "      <td>front<\/td>\n",
       "      <td>101.2<\/td>\n",
       "      <td>...<\/td>\n",
       "      <td>164<\/td>\n",
       "      <td>mpfi<\/td>\n",
       "      <td>3.31<\/td>\n",
       "      <td>3.19<\/td>\n",
       "      <td>9.00<\/td>\n",
       "      <td>121<\/td>\n",
       "      <td>4250<\/td>\n",
       "      <td>21<\/td>\n",
       "      <td>28<\/td>\n",
       "      <td>21105<\/td>\n",
       "    <\/tr>\n",
       "    <tr>\n",
       "      <th>14<\/th>\n",
       "      <td>1<\/td>\n",
       "      <td>122.0<\/td>\n",
       "      <td>bmw<\/td>\n",
       "      <td>gas<\/td>\n",
       "      <td>std<\/td>\n",
       "      <td>four<\/td>\n",
       "      <td>sedan<\/td>\n",
       "      <td>rwd<\/td>\n",
       "      <td>front<\/td>\n",
       "      <td>103.5<\/td>\n",
       "      <td>...<\/td>\n",
       "      <td>164<\/td>\n",
       "      <td>mpfi<\/td>\n",
       "      <td>3.31<\/td>\n",
       "      <td>3.19<\/td>\n",
       "      <td>9.00<\/td>\n",
       "      <td>121<\/td>\n",
       "      <td>4250<\/td>\n",
       "      <td>20<\/td>\n",
       "      <td>25<\/td>\n",
       "      <td>24565<\/td>\n",
       "    <\/tr>\n",
       "    <tr>\n",
       "      <th>15<\/th>\n",
       "      <td>0<\/td>\n",
       "      <td>122.0<\/td>\n",
       "      <td>bmw<\/td>\n",
       "      <td>gas<\/td>\n",
       "      <td>std<\/td>\n",
       "      <td>four<\/td>\n",
       "      <td>sedan<\/td>\n",
       "      <td>rwd<\/td>\n",
       "      <td>front<\/td>\n",
       "      <td>103.5<\/td>\n",
       "      <td>...<\/td>\n",
       "      <td>209<\/td>\n",
       "      <td>mpfi<\/td>\n",
       "      <td>3.62<\/td>\n",
       "      <td>3.39<\/td>\n",
       "      <td>8.00<\/td>\n",
       "      <td>182<\/td>\n",
       "      <td>5400<\/td>\n",
       "      <td>16<\/td>\n",
       "      <td>22<\/td>\n",
       "      <td>30760<\/td>\n",
       "    <\/tr>\n",
       "    <tr>\n",
       "      <th>16<\/th>\n",
       "      <td>0<\/td>\n",
       "      <td>122.0<\/td>\n",
       "      <td>bmw<\/td>\n",
       "      <td>gas<\/td>\n",
       "      <td>std<\/td>\n",
       "      <td>two<\/td>\n",
       "      <td>sedan<\/td>\n",
       "      <td>rwd<\/td>\n",
       "      <td>front<\/td>\n",
       "      <td>103.5<\/td>\n",
       "      <td>...<\/td>\n",
       "      <td>209<\/td>\n",
       "      <td>mpfi<\/td>\n",
       "      <td>3.62<\/td>\n",
       "      <td>3.39<\/td>\n",
       "      <td>8.00<\/td>\n",
       "      <td>182<\/td>\n",
       "      <td>5400<\/td>\n",
       "      <td>16<\/td>\n",
       "      <td>22<\/td>\n",
       "      <td>41315<\/td>\n",
       "    <\/tr>\n",
       "    <tr>\n",
       "      <th>17<\/th>\n",
       "      <td>0<\/td>\n",
       "      <td>122.0<\/td>\n",
       "      <td>bmw<\/td>\n",
       "      <td>gas<\/td>\n",
       "      <td>std<\/td>\n",
       "      <td>four<\/td>\n",
       "      <td>sedan<\/td>\n",
       "      <td>rwd<\/td>\n",
       "      <td>front<\/td>\n",
       "      <td>110.0<\/td>\n",
       "      <td>...<\/td>\n",
       "      <td>209<\/td>\n",
       "      <td>mpfi<\/td>\n",
       "      <td>3.62<\/td>\n",
       "      <td>3.39<\/td>\n",
       "      <td>8.00<\/td>\n",
       "      <td>182<\/td>\n",
       "      <td>5400<\/td>\n",
       "      <td>15<\/td>\n",
       "      <td>20<\/td>\n",
       "      <td>36880<\/td>\n",
       "    <\/tr>\n",
       "    <tr>\n",
       "      <th>18<\/th>\n",
       "      <td>2<\/td>\n",
       "      <td>121<\/td>\n",
       "      <td>chevrolet<\/td>\n",
       "      <td>gas<\/td>\n",
       "      <td>std<\/td>\n",
       "      <td>two<\/td>\n",
       "      <td>hatchback<\/td>\n",
       "      <td>fwd<\/td>\n",
       "      <td>front<\/td>\n",
       "      <td>88.4<\/td>\n",
       "      <td>...<\/td>\n",
       "      <td>61<\/td>\n",
       "      <td>2bbl<\/td>\n",
       "      <td>2.91<\/td>\n",
       "      <td>3.03<\/td>\n",
       "      <td>9.50<\/td>\n",
       "      <td>48<\/td>\n",
       "      <td>5100<\/td>\n",
       "      <td>47<\/td>\n",
       "      <td>53<\/td>\n",
       "      <td>5151<\/td>\n",
       "    <\/tr>\n",
       "    <tr>\n",
       "      <th>19<\/th>\n",
       "      <td>1<\/td>\n",
       "      <td>98<\/td>\n",
       "      <td>chevrolet<\/td>\n",
       "      <td>gas<\/td>\n",
       "      <td>std<\/td>\n",
       "      <td>two<\/td>\n",
       "      <td>hatchback<\/td>\n",
       "      <td>fwd<\/td>\n",
       "      <td>front<\/td>\n",
       "      <td>94.5<\/td>\n",
       "      <td>...<\/td>\n",
       "      <td>90<\/td>\n",
       "      <td>2bbl<\/td>\n",
       "      <td>3.03<\/td>\n",
       "      <td>3.11<\/td>\n",
       "      <td>9.60<\/td>\n",
       "      <td>70<\/td>\n",
       "      <td>5400<\/td>\n",
       "      <td>38<\/td>\n",
       "      <td>43<\/td>\n",
       "      <td>6295<\/td>\n",
       "    <\/tr>\n",
       "    <tr>\n",
       "      <th>20<\/th>\n",
       "      <td>0<\/td>\n",
       "      <td>81<\/td>\n",
       "      <td>chevrolet<\/td>\n",
       "      <td>gas<\/td>\n",
       "      <td>std<\/td>\n",
       "      <td>four<\/td>\n",
       "      <td>sedan<\/td>\n",
       "      <td>fwd<\/td>\n",
       "      <td>front<\/td>\n",
       "      <td>94.5<\/td>\n",
       "      <td>...<\/td>\n",
       "      <td>90<\/td>\n",
       "      <td>2bbl<\/td>\n",
       "      <td>3.03<\/td>\n",
       "      <td>3.11<\/td>\n",
       "      <td>9.60<\/td>\n",
       "      <td>70<\/td>\n",
       "      <td>5400<\/td>\n",
       "      <td>38<\/td>\n",
       "      <td>43<\/td>\n",
       "      <td>6575<\/td>\n",
       "    <\/tr>\n",
       "    <tr>\n",
       "      <th>21<\/th>\n",
       "      <td>1<\/td>\n",
       "      <td>118<\/td>\n",
       "      <td>dodge<\/td>\n",
       "      <td>gas<\/td>\n",
       "      <td>std<\/td>\n",
       "      <td>two<\/td>\n",
       "      <td>hatchback<\/td>\n",
       "      <td>fwd<\/td>\n",
       "      <td>front<\/td>\n",
       "      <td>93.7<\/td>\n",
       "      <td>...<\/td>\n",
       "      <td>90<\/td>\n",
       "      <td>2bbl<\/td>\n",
       "      <td>2.97<\/td>\n",
       "      <td>3.23<\/td>\n",
       "      <td>9.41<\/td>\n",
       "      <td>68<\/td>\n",
       "      <td>5500<\/td>\n",
       "      <td>37<\/td>\n",
       "      <td>41<\/td>\n",
       "      <td>5572<\/td>\n",
       "    <\/tr>\n",
       "    <tr>\n",
       "      <th>22<\/th>\n",
       "      <td>1<\/td>\n",
       "      <td>118<\/td>\n",
       "      <td>dodge<\/td>\n",
       "      <td>gas<\/td>\n",
       "      <td>std<\/td>\n",
       "      <td>two<\/td>\n",
       "      <td>hatchback<\/td>\n",
       "      <td>fwd<\/td>\n",
       "      <td>front<\/td>\n",
       "      <td>93.7<\/td>\n",
       "      <td>...<\/td>\n",
       "      <td>90<\/td>\n",
       "      <td>2bbl<\/td>\n",
       "      <td>2.97<\/td>\n",
       "      <td>3.23<\/td>\n",
       "      <td>9.40<\/td>\n",
       "      <td>68<\/td>\n",
       "      <td>5500<\/td>\n",
       "      <td>31<\/td>\n",
       "      <td>38<\/td>\n",
       "      <td>6377<\/td>\n",
       "    <\/tr>\n",
       "    <tr>\n",
       "      <th>23<\/th>\n",
       "      <td>1<\/td>\n",
       "      <td>118<\/td>\n",
       "      <td>dodge<\/td>\n",
       "      <td>gas<\/td>\n",
       "      <td>turbo<\/td>\n",
       "      <td>two<\/td>\n",
       "      <td>hatchback<\/td>\n",
       "      <td>fwd<\/td>\n",
       "      <td>front<\/td>\n",
       "      <td>93.7<\/td>\n",
       "      <td>...<\/td>\n",
       "      <td>98<\/td>\n",
       "      <td>mpfi<\/td>\n",
       "      <td>3.03<\/td>\n",
       "      <td>3.39<\/td>\n",
       "      <td>7.60<\/td>\n",
       "      <td>102<\/td>\n",
       "      <td>5500<\/td>\n",
       "      <td>24<\/td>\n",
       "      <td>30<\/td>\n",
       "      <td>7957<\/td>\n",
       "    <\/tr>\n",
       "    <tr>\n",
       "      <th>24<\/th>\n",
       "      <td>1<\/td>\n",
       "      <td>148<\/td>\n",
       "      <td>dodge<\/td>\n",
       "      <td>gas<\/td>\n",
       "      <td>std<\/td>\n",
       "      <td>four<\/td>\n",
       "      <td>hatchback<\/td>\n",
       "      <td>fwd<\/td>\n",
       "      <td>front<\/td>\n",
       "      <td>93.7<\/td>\n",
       "      <td>...<\/td>\n",
       "      <td>90<\/td>\n",
       "      <td>2bbl<\/td>\n",
       "      <td>2.97<\/td>\n",
       "      <td>3.23<\/td>\n",
       "      <td>9.40<\/td>\n",
       "      <td>68<\/td>\n",
       "      <td>5500<\/td>\n",
       "      <td>31<\/td>\n",
       "      <td>38<\/td>\n",
       "      <td>6229<\/td>\n",
       "    <\/tr>\n",
       "    <tr>\n",
       "      <th>25<\/th>\n",
       "      <td>1<\/td>\n",
       "      <td>148<\/td>\n",
       "      <td>dodge<\/td>\n",
       "      <td>gas<\/td>\n",
       "      <td>std<\/td>\n",
       "      <td>four<\/td>\n",
       "      <td>sedan<\/td>\n",
       "      <td>fwd<\/td>\n",
       "      <td>front<\/td>\n",
       "      <td>93.7<\/td>\n",
       "      <td>...<\/td>\n",
       "      <td>90<\/td>\n",
       "      <td>2bbl<\/td>\n",
       "      <td>2.97<\/td>\n",
       "      <td>3.23<\/td>\n",
       "      <td>9.40<\/td>\n",
       "      <td>68<\/td>\n",
       "      <td>5500<\/td>\n",
       "      <td>31<\/td>\n",
       "      <td>38<\/td>\n",
       "      <td>6692<\/td>\n",
       "    <\/tr>\n",
       "    <tr>\n",
       "      <th>26<\/th>\n",
       "      <td>1<\/td>\n",
       "      <td>148<\/td>\n",
       "      <td>dodge<\/td>\n",
       "      <td>gas<\/td>\n",
       "      <td>std<\/td>\n",
       "      <td>four<\/td>\n",
       "      <td>sedan<\/td>\n",
       "      <td>fwd<\/td>\n",
       "      <td>front<\/td>\n",
       "      <td>93.7<\/td>\n",
       "      <td>...<\/td>\n",
       "      <td>90<\/td>\n",
       "      <td>2bbl<\/td>\n",
       "      <td>2.97<\/td>\n",
       "      <td>3.23<\/td>\n",
       "      <td>9.40<\/td>\n",
       "      <td>68<\/td>\n",
       "      <td>5500<\/td>\n",
       "      <td>31<\/td>\n",
       "      <td>38<\/td>\n",
       "      <td>7609<\/td>\n",
       "    <\/tr>\n",
       "    <tr>\n",
       "      <th>27<\/th>\n",
       "      <td>1<\/td>\n",
       "      <td>148<\/td>\n",
       "      <td>dodge<\/td>\n",
       "      <td>gas<\/td>\n",
       "      <td>turbo<\/td>\n",
       "      <td>NaN<\/td>\n",
       "      <td>sedan<\/td>\n",
       "      <td>fwd<\/td>\n",
       "      <td>front<\/td>\n",
       "      <td>93.7<\/td>\n",
       "      <td>...<\/td>\n",
       "      <td>98<\/td>\n",
       "      <td>mpfi<\/td>\n",
       "      <td>3.03<\/td>\n",
       "      <td>3.39<\/td>\n",
       "      <td>7.60<\/td>\n",
       "      <td>102<\/td>\n",
       "      <td>5500<\/td>\n",
       "      <td>24<\/td>\n",
       "      <td>30<\/td>\n",
       "      <td>8558<\/td>\n",
       "    <\/tr>\n",
       "    <tr>\n",
       "      <th>28<\/th>\n",
       "      <td>-1<\/td>\n",
       "      <td>110<\/td>\n",
       "      <td>dodge<\/td>\n",
       "      <td>gas<\/td>\n",
       "      <td>std<\/td>\n",
       "      <td>four<\/td>\n",
       "      <td>wagon<\/td>\n",
       "      <td>fwd<\/td>\n",
       "      <td>front<\/td>\n",
       "      <td>103.3<\/td>\n",
       "      <td>...<\/td>\n",
       "      <td>122<\/td>\n",
       "      <td>2bbl<\/td>\n",
       "      <td>3.34<\/td>\n",
       "      <td>3.46<\/td>\n",
       "      <td>8.50<\/td>\n",
       "      <td>88<\/td>\n",
       "      <td>5000<\/td>\n",
       "      <td>24<\/td>\n",
       "      <td>30<\/td>\n",
       "      <td>8921<\/td>\n",
       "    <\/tr>\n",
       "    <tr>\n",
       "      <th>29<\/th>\n",
       "      <td>3<\/td>\n",
       "      <td>145<\/td>\n",
       "      <td>dodge<\/td>\n",
       "      <td>gas<\/td>\n",
       "      <td>turbo<\/td>\n",
       "      <td>two<\/td>\n",
       "      <td>hatchback<\/td>\n",
       "      <td>fwd<\/td>\n",
       "      <td>front<\/td>\n",
       "      <td>95.9<\/td>\n",
       "      <td>...<\/td>\n",
       "      <td>156<\/td>\n",
       "      <td>mfi<\/td>\n",
       "      <td>3.60<\/td>\n",
       "      <td>3.90<\/td>\n",
       "      <td>7.00<\/td>\n",
       "      <td>145<\/td>\n",
       "      <td>5000<\/td>\n",
       "      <td>19<\/td>\n",
       "      <td>24<\/td>\n",
       "      <td>12964<\/td>\n",
       "    <\/tr>\n",
       "    <tr>\n",
       "      <th>30<\/th>\n",
       "      <td>2<\/td>\n",
       "      <td>137<\/td>\n",
       "      <td>honda<\/td>\n",
       "      <td>gas<\/td>\n",
       "      <td>std<\/td>\n",
       "      <td>two<\/td>\n",
       "      <td>hatchback<\/td>\n",
       "      <td>fwd<\/td>\n",
       "      <td>front<\/td>\n",
       "      <td>86.6<\/td>\n",
       "      <td>...<\/td>\n",
       "      <td>92<\/td>\n",
       "      <td>1bbl<\/td>\n",
       "      <td>2.91<\/td>\n",
       "      <td>3.41<\/td>\n",
       "      <td>9.60<\/td>\n",
       "      <td>58<\/td>\n",
       "      <td>4800<\/td>\n",
       "      <td>49<\/td>\n",
       "      <td>54<\/td>\n",
       "      <td>6479<\/td>\n",
       "    <\/tr>\n",
       "    <tr>\n",
       "      <th>31<\/th>\n",
       "      <td>2<\/td>\n",
       "      <td>137<\/td>\n",
       "      <td>honda<\/td>\n",
       "      <td>gas<\/td>\n",
       "      <td>std<\/td>\n",
       "      <td>two<\/td>\n",
       "      <td>hatchback<\/td>\n",
       "      <td>fwd<\/td>\n",
       "      <td>front<\/td>\n",
       "      <td>86.6<\/td>\n",
       "      <td>...<\/td>\n",
       "      <td>92<\/td>\n",
       "      <td>1bbl<\/td>\n",
       "      <td>2.91<\/td>\n",
       "      <td>3.41<\/td>\n",
       "      <td>9.20<\/td>\n",
       "      <td>76<\/td>\n",
       "      <td>6000<\/td>\n",
       "      <td>31<\/td>\n",
       "      <td>38<\/td>\n",
       "      <td>6855<\/td>\n",
       "    <\/tr>\n",
       "    <tr>\n",
       "      <th>32<\/th>\n",
       "      <td>1<\/td>\n",
       "      <td>101<\/td>\n",
       "      <td>honda<\/td>\n",
       "      <td>gas<\/td>\n",
       "      <td>std<\/td>\n",
       "      <td>two<\/td>\n",
       "      <td>hatchback<\/td>\n",
       "      <td>fwd<\/td>\n",
       "      <td>front<\/td>\n",
       "      <td>93.7<\/td>\n",
       "      <td>...<\/td>\n",
       "      <td>79<\/td>\n",
       "      <td>1bbl<\/td>\n",
       "      <td>2.91<\/td>\n",
       "      <td>3.07<\/td>\n",
       "      <td>10.10<\/td>\n",
       "      <td>60<\/td>\n",
       "      <td>5500<\/td>\n",
       "      <td>38<\/td>\n",
       "      <td>42<\/td>\n",
       "      <td>5399<\/td>\n",
       "    <\/tr>\n",
       "    <tr>\n",
       "      <th>33<\/th>\n",
       "      <td>1<\/td>\n",
       "      <td>101<\/td>\n",
       "      <td>honda<\/td>\n",
       "      <td>gas<\/td>\n",
       "      <td>std<\/td>\n",
       "      <td>two<\/td>\n",
       "      <td>hatchback<\/td>\n",
       "      <td>fwd<\/td>\n",
       "      <td>front<\/td>\n",
       "      <td>93.7<\/td>\n",
       "      <td>...<\/td>\n",
       "      <td>92<\/td>\n",
       "      <td>1bbl<\/td>\n",
       "      <td>2.91<\/td>\n",
       "      <td>3.41<\/td>\n",
       "      <td>9.20<\/td>\n",
       "      <td>76<\/td>\n",
       "      <td>6000<\/td>\n",
       "      <td>30<\/td>\n",
       "      <td>34<\/td>\n",
       "      <td>6529<\/td>\n",
       "    <\/tr>\n",
       "    <tr>\n",
       "      <th>34<\/th>\n",
       "      <td>1<\/td>\n",
       "      <td>101<\/td>\n",
       "      <td>honda<\/td>\n",
       "      <td>gas<\/td>\n",
       "      <td>std<\/td>\n",
       "      <td>two<\/td>\n",
       "      <td>hatchback<\/td>\n",
       "      <td>fwd<\/td>\n",
       "      <td>front<\/td>\n",
       "      <td>93.7<\/td>\n",
       "      <td>...<\/td>\n",
       "      <td>92<\/td>\n",
       "      <td>1bbl<\/td>\n",
       "      <td>2.91<\/td>\n",
       "      <td>3.41<\/td>\n",
       "      <td>9.20<\/td>\n",
       "      <td>76<\/td>\n",
       "      <td>6000<\/td>\n",
       "      <td>30<\/td>\n",
       "      <td>34<\/td>\n",
       "      <td>7129<\/td>\n",
       "    <\/tr>\n",
       "    <tr>\n",
       "      <th>35<\/th>\n",
       "      <td>0<\/td>\n",
       "      <td>110<\/td>\n",
       "      <td>honda<\/td>\n",
       "      <td>gas<\/td>\n",
       "      <td>std<\/td>\n",
       "      <td>four<\/td>\n",
       "      <td>sedan<\/td>\n",
       "      <td>fwd<\/td>\n",
       "      <td>front<\/td>\n",
       "      <td>96.5<\/td>\n",
       "      <td>...<\/td>\n",
       "      <td>92<\/td>\n",
       "      <td>1bbl<\/td>\n",
       "      <td>2.91<\/td>\n",
       "      <td>3.41<\/td>\n",
       "      <td>9.20<\/td>\n",
       "      <td>76<\/td>\n",
       "      <td>6000<\/td>\n",
       "      <td>30<\/td>\n",
       "      <td>34<\/td>\n",
       "      <td>7295<\/td>\n",
       "    <\/tr>\n",
       "    <tr>\n",
       "      <th>36<\/th>\n",
       "      <td>0<\/td>\n",
       "      <td>78<\/td>\n",
       "      <td>honda<\/td>\n",
       "      <td>gas<\/td>\n",
       "      <td>std<\/td>\n",
       "      <td>four<\/td>\n",
       "      <td>wagon<\/td>\n",
       "      <td>fwd<\/td>\n",
       "      <td>front<\/td>\n",
       "      <td>96.5<\/td>\n",
       "      <td>...<\/td>\n",
       "      <td>92<\/td>\n",
       "      <td>1bbl<\/td>\n",
       "      <td>2.92<\/td>\n",
       "      <td>3.41<\/td>\n",
       "      <td>9.20<\/td>\n",
       "      <td>76<\/td>\n",
       "      <td>6000<\/td>\n",
       "      <td>30<\/td>\n",
       "      <td>34<\/td>\n",
       "      <td>7295<\/td>\n",
       "    <\/tr>\n",
       "    <tr>\n",
       "      <th>37<\/th>\n",
       "      <td>0<\/td>\n",
       "      <td>106<\/td>\n",
       "      <td>honda<\/td>\n",
       "      <td>gas<\/td>\n",
       "      <td>std<\/td>\n",
       "      <td>two<\/td>\n",
       "      <td>hatchback<\/td>\n",
       "      <td>fwd<\/td>\n",
       "      <td>front<\/td>\n",
       "      <td>96.5<\/td>\n",
       "      <td>...<\/td>\n",
       "      <td>110<\/td>\n",
       "      <td>1bbl<\/td>\n",
       "      <td>3.15<\/td>\n",
       "      <td>3.58<\/td>\n",
       "      <td>9.00<\/td>\n",
       "      <td>86<\/td>\n",
       "      <td>5800<\/td>\n",
       "      <td>27<\/td>\n",
       "      <td>33<\/td>\n",
       "      <td>7895<\/td>\n",
       "    <\/tr>\n",
       "    <tr>\n",
       "      <th>38<\/th>\n",
       "      <td>0<\/td>\n",
       "      <td>106<\/td>\n",
       "      <td>honda<\/td>\n",
       "      <td>gas<\/td>\n",
       "      <td>std<\/td>\n",
       "      <td>two<\/td>\n",
       "      <td>hatchback<\/td>\n",
       "      <td>fwd<\/td>\n",
       "      <td>front<\/td>\n",
       "      <td>96.5<\/td>\n",
       "      <td>...<\/td>\n",
       "      <td>110<\/td>\n",
       "      <td>1bbl<\/td>\n",
       "      <td>3.15<\/td>\n",
       "      <td>3.58<\/td>\n",
       "      <td>9.00<\/td>\n",
       "      <td>86<\/td>\n",
       "      <td>5800<\/td>\n",
       "      <td>27<\/td>\n",
       "      <td>33<\/td>\n",
       "      <td>9095<\/td>\n",
       "    <\/tr>\n",
       "    <tr>\n",
       "      <th>39<\/th>\n",
       "      <td>0<\/td>\n",
       "      <td>85<\/td>\n",
       "      <td>honda<\/td>\n",
       "      <td>gas<\/td>\n",
       "      <td>std<\/td>\n",
       "      <td>four<\/td>\n",
       "      <td>sedan<\/td>\n",
       "      <td>fwd<\/td>\n",
       "      <td>front<\/td>\n",
       "      <td>96.5<\/td>\n",
       "      <td>...<\/td>\n",
       "      <td>110<\/td>\n",
       "      <td>1bbl<\/td>\n",
       "      <td>3.15<\/td>\n",
       "      <td>3.58<\/td>\n",
       "      <td>9.00<\/td>\n",
       "      <td>86<\/td>\n",
       "      <td>5800<\/td>\n",
       "      <td>27<\/td>\n",
       "      <td>33<\/td>\n",
       "      <td>8845<\/td>\n",
       "    <\/tr>\n",
       "    <tr>\n",
       "      <th>40<\/th>\n",
       "      <td>0<\/td>\n",
       "      <td>85<\/td>\n",
       "      <td>honda<\/td>\n",
       "      <td>gas<\/td>\n",
       "      <td>std<\/td>\n",
       "      <td>four<\/td>\n",
       "      <td>sedan<\/td>\n",
       "      <td>fwd<\/td>\n",
       "      <td>front<\/td>\n",
       "      <td>96.5<\/td>\n",
       "      <td>...<\/td>\n",
       "      <td>110<\/td>\n",
       "      <td>1bbl<\/td>\n",
       "      <td>3.15<\/td>\n",
       "      <td>3.58<\/td>\n",
       "      <td>9.00<\/td>\n",
       "      <td>86<\/td>\n",
       "      <td>5800<\/td>\n",
       "      <td>27<\/td>\n",
       "      <td>33<\/td>\n",
       "      <td>10295<\/td>\n",
       "    <\/tr>\n",
       "    <tr>\n",
       "      <th>41<\/th>\n",
       "      <td>0<\/td>\n",
       "      <td>85<\/td>\n",
       "      <td>honda<\/td>\n",
       "      <td>gas<\/td>\n",
       "      <td>std<\/td>\n",
       "      <td>four<\/td>\n",
       "      <td>sedan<\/td>\n",
       "      <td>fwd<\/td>\n",
       "      <td>front<\/td>\n",
       "      <td>96.5<\/td>\n",
       "      <td>...<\/td>\n",
       "      <td>110<\/td>\n",
       "      <td>mpfi<\/td>\n",
       "      <td>3.15<\/td>\n",
       "      <td>3.58<\/td>\n",
       "      <td>9.00<\/td>\n",
       "      <td>101<\/td>\n",
       "      <td>5800<\/td>\n",
       "      <td>24<\/td>\n",
       "      <td>28<\/td>\n",
       "      <td>12945<\/td>\n",
       "    <\/tr>\n",
       "    <tr>\n",
       "      <th>42<\/th>\n",
       "      <td>1<\/td>\n",
       "      <td>107<\/td>\n",
       "      <td>honda<\/td>\n",
       "      <td>gas<\/td>\n",
       "      <td>std<\/td>\n",
       "      <td>two<\/td>\n",
       "      <td>sedan<\/td>\n",
       "      <td>fwd<\/td>\n",
       "      <td>front<\/td>\n",
       "      <td>96.5<\/td>\n",
       "      <td>...<\/td>\n",
       "      <td>110<\/td>\n",
       "      <td>2bbl<\/td>\n",
       "      <td>3.15<\/td>\n",
       "      <td>3.58<\/td>\n",
       "      <td>9.10<\/td>\n",
       "      <td>100<\/td>\n",
       "      <td>5500<\/td>\n",
       "      <td>25<\/td>\n",
       "      <td>31<\/td>\n",
       "      <td>10345<\/td>\n",
       "    <\/tr>\n",
       "    <tr>\n",
       "      <th>43<\/th>\n",
       "      <td>0<\/td>\n",
       "      <td>122.0<\/td>\n",
       "      <td>isuzu<\/td>\n",
       "      <td>gas<\/td>\n",
       "      <td>std<\/td>\n",
       "      <td>four<\/td>\n",
       "      <td>sedan<\/td>\n",
       "      <td>rwd<\/td>\n",
       "      <td>front<\/td>\n",
       "      <td>94.3<\/td>\n",
       "      <td>...<\/td>\n",
       "      <td>111<\/td>\n",
       "      <td>2bbl<\/td>\n",
       "      <td>3.31<\/td>\n",
       "      <td>3.23<\/td>\n",
       "      <td>8.50<\/td>\n",
       "      <td>78<\/td>\n",
       "      <td>4800<\/td>\n",
       "      <td>24<\/td>\n",
       "      <td>29<\/td>\n",
       "      <td>6785<\/td>\n",
       "    <\/tr>\n",
       "    <tr>\n",
       "      <th>44<\/th>\n",
       "      <td>1<\/td>\n",
       "      <td>122.0<\/td>\n",
       "      <td>isuzu<\/td>\n",
       "      <td>gas<\/td>\n",
       "      <td>std<\/td>\n",
       "      <td>two<\/td>\n",
       "      <td>sedan<\/td>\n",
       "      <td>fwd<\/td>\n",
       "      <td>front<\/td>\n",
       "      <td>94.5<\/td>\n",
       "      <td>...<\/td>\n",
       "      <td>90<\/td>\n",
       "      <td>2bbl<\/td>\n",
       "      <td>3.03<\/td>\n",
       "      <td>3.11<\/td>\n",
       "      <td>9.60<\/td>\n",
       "      <td>70<\/td>\n",
       "      <td>5400<\/td>\n",
       "      <td>38<\/td>\n",
       "      <td>43<\/td>\n",
       "      <td>13207.129353<\/td>\n",
       "    <\/tr>\n",
       "    <tr>\n",
       "      <th>45<\/th>\n",
       "      <td>0<\/td>\n",
       "      <td>122.0<\/td>\n",
       "      <td>isuzu<\/td>\n",
       "      <td>gas<\/td>\n",
       "      <td>std<\/td>\n",
       "      <td>four<\/td>\n",
       "      <td>sedan<\/td>\n",
       "      <td>fwd<\/td>\n",
       "      <td>front<\/td>\n",
       "      <td>94.5<\/td>\n",
       "      <td>...<\/td>\n",
       "      <td>90<\/td>\n",
       "      <td>2bbl<\/td>\n",
       "      <td>3.03<\/td>\n",
       "      <td>3.11<\/td>\n",
       "      <td>9.60<\/td>\n",
       "      <td>70<\/td>\n",
       "      <td>5400<\/td>\n",
       "      <td>38<\/td>\n",
       "      <td>43<\/td>\n",
       "      <td>13207.129353<\/td>\n",
       "    <\/tr>\n",
       "    <tr>\n",
       "      <th>46<\/th>\n",
       "      <td>2<\/td>\n",
       "      <td>122.0<\/td>\n",
       "      <td>isuzu<\/td>\n",
       "      <td>gas<\/td>\n",
       "      <td>std<\/td>\n",
       "      <td>two<\/td>\n",
       "      <td>hatchback<\/td>\n",
       "      <td>rwd<\/td>\n",
       "      <td>front<\/td>\n",
       "      <td>96.0<\/td>\n",
       "      <td>...<\/td>\n",
       "      <td>119<\/td>\n",
       "      <td>spfi<\/td>\n",
       "      <td>3.43<\/td>\n",
       "      <td>3.23<\/td>\n",
       "      <td>9.20<\/td>\n",
       "      <td>90<\/td>\n",
       "      <td>5000<\/td>\n",
       "      <td>24<\/td>\n",
       "      <td>29<\/td>\n",
       "      <td>11048<\/td>\n",
       "    <\/tr>\n",
       "    <tr>\n",
       "      <th>47<\/th>\n",
       "      <td>0<\/td>\n",
       "      <td>145<\/td>\n",
       "      <td>jaguar<\/td>\n",
       "      <td>gas<\/td>\n",
       "      <td>std<\/td>\n",
       "      <td>four<\/td>\n",
       "      <td>sedan<\/td>\n",
       "      <td>rwd<\/td>\n",
       "      <td>front<\/td>\n",
       "      <td>113.0<\/td>\n",
       "      <td>...<\/td>\n",
       "      <td>258<\/td>\n",
       "      <td>mpfi<\/td>\n",
       "      <td>3.63<\/td>\n",
       "      <td>4.17<\/td>\n",
       "      <td>8.10<\/td>\n",
       "      <td>176<\/td>\n",
       "      <td>4750<\/td>\n",
       "      <td>15<\/td>\n",
       "      <td>19<\/td>\n",
       "      <td>32250<\/td>\n",
       "    <\/tr>\n",
       "    <tr>\n",
       "      <th>48<\/th>\n",
       "      <td>0<\/td>\n",
       "      <td>122.0<\/td>\n",
       "      <td>jaguar<\/td>\n",
       "      <td>gas<\/td>\n",
       "      <td>std<\/td>\n",
       "      <td>four<\/td>\n",
       "      <td>sedan<\/td>\n",
       "      <td>rwd<\/td>\n",
       "      <td>front<\/td>\n",
       "      <td>113.0<\/td>\n",
       "      <td>...<\/td>\n",
       "      <td>258<\/td>\n",
       "      <td>mpfi<\/td>\n",
       "      <td>3.63<\/td>\n",
       "      <td>4.17<\/td>\n",
       "      <td>8.10<\/td>\n",
       "      <td>176<\/td>\n",
       "      <td>4750<\/td>\n",
       "      <td>15<\/td>\n",
       "      <td>19<\/td>\n",
       "      <td>35550<\/td>\n",
       "    <\/tr>\n",
       "    <tr>\n",
       "      <th>49<\/th>\n",
       "      <td>0<\/td>\n",
       "      <td>122.0<\/td>\n",
       "      <td>jaguar<\/td>\n",
       "      <td>gas<\/td>\n",
       "      <td>std<\/td>\n",
       "      <td>two<\/td>\n",
       "      <td>sedan<\/td>\n",
       "      <td>rwd<\/td>\n",
       "      <td>front<\/td>\n",
       "      <td>102.0<\/td>\n",
       "      <td>...<\/td>\n",
       "      <td>326<\/td>\n",
       "      <td>mpfi<\/td>\n",
       "      <td>3.54<\/td>\n",
       "      <td>2.76<\/td>\n",
       "      <td>11.50<\/td>\n",
       "      <td>262<\/td>\n",
       "      <td>5000<\/td>\n",
       "      <td>13<\/td>\n",
       "      <td>17<\/td>\n",
       "      <td>36000<\/td>\n",
       "    <\/tr>\n",
       "  <\/tbody>\n",
       "<\/table>\n",
       "<p>50 rows × 26 columns<\/p>\n",
       "<\/div>"
      ]
     },
     "metadata":{
      
     },
     "output_type":"display_data"
    }
   ],
   "metadata":{
    "datalore":{
     "node_id":"eslJ9WAmskcZaYXEzAtsrh",
     "type":"CODE",
     "hide_input_from_viewers":false,
     "hide_output_from_viewers":false
    }
   }
  },
  {
   "cell_type":"code",
   "source":[
    "# To see which values are present in a particular column, we can use the \".value_counts()\" methods\n",
    "#df['num-of-doors'].value_counts()\n",
    "\n",
    "# We can see that four doors are the most common type. we can also use the \"idmax() \" method to calculate the most common type automatically\n",
    "df['num-of-doors'].value_counts().idxmax()"
   ],
   "execution_count":1,
   "outputs":[
    {
     "ename":"NameError",
     "evalue":"NameError: name 'df' is not defined",
     "traceback":[
      "\u001b[0;31m---------------------------------------------------------------------------",
      "Traceback (most recent call last)",
      "    at line 5 in <module>",
      "NameError: name 'df' is not defined"
     ],
     "output_type":"error"
    }
   ],
   "metadata":{
    "datalore":{
     "node_id":"P1HoL1VzyyLtcIWHYvtegO",
     "type":"CODE",
     "hide_input_from_viewers":false,
     "hide_output_from_viewers":false
    }
   }
  },
  {
   "cell_type":"code",
   "source":[
    "# To see which values are present in a particular column, we can use the \".value_counts()\" methods\n",
    "df['num-of-doors'].value_counts() # Result : four:116, two:89\n",
    "\n",
    "# We can see that four doors are the most common type. we can also use the \"idmax() \" method to calculate the most common type automatically\n",
    "df['num-of-doors'].value_counts().idxmax()  # result : Four\n",
    "\n",
    "#replace the missing 'num-of-doors' values by the most frequent \n",
    "df[\"num-of-doors\"].replace(np.nan, \"four\", inplace=True)"
   ],
   "execution_count":228,
   "outputs":[
    
   ],
   "metadata":{
    "datalore":{
     "node_id":"s4tnMTIcQORtEUVluJq1XC",
     "type":"CODE",
     "hide_input_from_viewers":false,
     "hide_output_from_viewers":false
    }
   }
  },
  {
   "cell_type":"code",
   "source":[
    "# finally let's drop all rows that do not have price data\n",
    "# simply drop whole row with NaN in \"price\" column\n",
    "df.dropna(subset=[\"price\"], axis=0, inplace=True)\n",
    "\n",
    "# reset index, because we droped two rows\n",
    "df.reset_index(drop=True, inplace=True)\n",
    "df.head()"
   ],
   "execution_count":229,
   "outputs":[
    {
     "data":{
      "text\/html":[
       "<div>\n",
       "<style scoped>\n",
       "    .dataframe tbody tr th:only-of-type {\n",
       "        vertical-align: middle;\n",
       "    }\n",
       "\n",
       "    .dataframe tbody tr th {\n",
       "        vertical-align: top;\n",
       "    }\n",
       "\n",
       "    .dataframe thead th {\n",
       "        text-align: right;\n",
       "    }\n",
       "<\/style>\n",
       "<table border=\"1\" class=\"dataframe\">\n",
       "  <thead>\n",
       "    <tr style=\"text-align: right;\">\n",
       "      <th><\/th>\n",
       "      <th>symboling<\/th>\n",
       "      <th>normalized-losses<\/th>\n",
       "      <th>make<\/th>\n",
       "      <th>fuel-type<\/th>\n",
       "      <th>aspiration<\/th>\n",
       "      <th>num-of-doors<\/th>\n",
       "      <th>body-style<\/th>\n",
       "      <th>drive-wheels<\/th>\n",
       "      <th>engine-location<\/th>\n",
       "      <th>wheel-base<\/th>\n",
       "      <th>...<\/th>\n",
       "      <th>engine-size<\/th>\n",
       "      <th>fuel-system<\/th>\n",
       "      <th>bore<\/th>\n",
       "      <th>stroke<\/th>\n",
       "      <th>compression-ratio<\/th>\n",
       "      <th>horsepower<\/th>\n",
       "      <th>peak-rpm<\/th>\n",
       "      <th>city-mpg<\/th>\n",
       "      <th>highway-mpg<\/th>\n",
       "      <th>price<\/th>\n",
       "    <\/tr>\n",
       "  <\/thead>\n",
       "  <tbody>\n",
       "    <tr>\n",
       "      <th>0<\/th>\n",
       "      <td>3<\/td>\n",
       "      <td>122.0<\/td>\n",
       "      <td>alfa-romero<\/td>\n",
       "      <td>gas<\/td>\n",
       "      <td>std<\/td>\n",
       "      <td>two<\/td>\n",
       "      <td>convertible<\/td>\n",
       "      <td>rwd<\/td>\n",
       "      <td>front<\/td>\n",
       "      <td>88.6<\/td>\n",
       "      <td>...<\/td>\n",
       "      <td>130<\/td>\n",
       "      <td>mpfi<\/td>\n",
       "      <td>3.47<\/td>\n",
       "      <td>2.68<\/td>\n",
       "      <td>9.0<\/td>\n",
       "      <td>111<\/td>\n",
       "      <td>5000<\/td>\n",
       "      <td>21<\/td>\n",
       "      <td>27<\/td>\n",
       "      <td>13495<\/td>\n",
       "    <\/tr>\n",
       "    <tr>\n",
       "      <th>1<\/th>\n",
       "      <td>3<\/td>\n",
       "      <td>122.0<\/td>\n",
       "      <td>alfa-romero<\/td>\n",
       "      <td>gas<\/td>\n",
       "      <td>std<\/td>\n",
       "      <td>two<\/td>\n",
       "      <td>convertible<\/td>\n",
       "      <td>rwd<\/td>\n",
       "      <td>front<\/td>\n",
       "      <td>88.6<\/td>\n",
       "      <td>...<\/td>\n",
       "      <td>130<\/td>\n",
       "      <td>mpfi<\/td>\n",
       "      <td>3.47<\/td>\n",
       "      <td>2.68<\/td>\n",
       "      <td>9.0<\/td>\n",
       "      <td>111<\/td>\n",
       "      <td>5000<\/td>\n",
       "      <td>21<\/td>\n",
       "      <td>27<\/td>\n",
       "      <td>16500<\/td>\n",
       "    <\/tr>\n",
       "    <tr>\n",
       "      <th>2<\/th>\n",
       "      <td>1<\/td>\n",
       "      <td>122.0<\/td>\n",
       "      <td>alfa-romero<\/td>\n",
       "      <td>gas<\/td>\n",
       "      <td>std<\/td>\n",
       "      <td>two<\/td>\n",
       "      <td>hatchback<\/td>\n",
       "      <td>rwd<\/td>\n",
       "      <td>front<\/td>\n",
       "      <td>94.5<\/td>\n",
       "      <td>...<\/td>\n",
       "      <td>152<\/td>\n",
       "      <td>mpfi<\/td>\n",
       "      <td>2.68<\/td>\n",
       "      <td>3.47<\/td>\n",
       "      <td>9.0<\/td>\n",
       "      <td>154<\/td>\n",
       "      <td>5000<\/td>\n",
       "      <td>19<\/td>\n",
       "      <td>26<\/td>\n",
       "      <td>16500<\/td>\n",
       "    <\/tr>\n",
       "    <tr>\n",
       "      <th>3<\/th>\n",
       "      <td>2<\/td>\n",
       "      <td>164<\/td>\n",
       "      <td>audi<\/td>\n",
       "      <td>gas<\/td>\n",
       "      <td>std<\/td>\n",
       "      <td>four<\/td>\n",
       "      <td>sedan<\/td>\n",
       "      <td>fwd<\/td>\n",
       "      <td>front<\/td>\n",
       "      <td>99.8<\/td>\n",
       "      <td>...<\/td>\n",
       "      <td>109<\/td>\n",
       "      <td>mpfi<\/td>\n",
       "      <td>3.19<\/td>\n",
       "      <td>3.40<\/td>\n",
       "      <td>10.0<\/td>\n",
       "      <td>102<\/td>\n",
       "      <td>5500<\/td>\n",
       "      <td>24<\/td>\n",
       "      <td>30<\/td>\n",
       "      <td>13950<\/td>\n",
       "    <\/tr>\n",
       "    <tr>\n",
       "      <th>4<\/th>\n",
       "      <td>2<\/td>\n",
       "      <td>164<\/td>\n",
       "      <td>audi<\/td>\n",
       "      <td>gas<\/td>\n",
       "      <td>std<\/td>\n",
       "      <td>four<\/td>\n",
       "      <td>sedan<\/td>\n",
       "      <td>4wd<\/td>\n",
       "      <td>front<\/td>\n",
       "      <td>99.4<\/td>\n",
       "      <td>...<\/td>\n",
       "      <td>136<\/td>\n",
       "      <td>mpfi<\/td>\n",
       "      <td>3.19<\/td>\n",
       "      <td>3.40<\/td>\n",
       "      <td>8.0<\/td>\n",
       "      <td>115<\/td>\n",
       "      <td>5500<\/td>\n",
       "      <td>18<\/td>\n",
       "      <td>22<\/td>\n",
       "      <td>17450<\/td>\n",
       "    <\/tr>\n",
       "  <\/tbody>\n",
       "<\/table>\n",
       "<p>5 rows × 26 columns<\/p>\n",
       "<\/div>"
      ]
     },
     "metadata":{
      
     },
     "output_type":"display_data"
    }
   ],
   "metadata":{
    "datalore":{
     "node_id":"fCUkPNMyd0fyMbjt7TmrBA",
     "type":"CODE",
     "hide_input_from_viewers":false,
     "hide_output_from_viewers":false
    }
   }
  },
  {
   "cell_type":"code",
   "source":[
    "### Correct data format ###\n",
    "# .dtype() to check the data type and .astype() to change the data type\n",
    "# conver data type to the correct format\n",
    "\n",
    "df[[\"bore\", \"stroke\"]] = df[[\"bore\", \"stroke\"]].astype(\"float\")\n",
    "df[[\"normalized-losses\"]] = df[[\"normalized-losses\"]].astype(\"int\")\n",
    "df[[\"price\"]] = df[[\"price\"]].astype(\"float\")\n",
    "df[[\"peak-rpm\"]] = df[[\"peak-rpm\"]].astype(\"float\")\n",
    "df.dtypes"
   ],
   "execution_count":230,
   "outputs":[
    {
     "data":{
      "text\/html":[
       
      ]
     },
     "metadata":{
      
     },
     "output_type":"display_data"
    }
   ],
   "metadata":{
    "datalore":{
     "node_id":"BOxVdDoZ43MZtjSMWn9Jm4",
     "type":"CODE",
     "hide_input_from_viewers":false,
     "hide_output_from_viewers":false
    }
   }
  },
  {
   "cell_type":"code",
   "source":[
    "###   Data Standardization ####\n",
    "###  Data is usually collected from different agencies in different formats. ###\n",
    "### Standardization is the process of transforming data into a common format, allowing the researcher to make the meaningful comparison. \n",
    "# data transformation to transform mpg into L\/100km \n",
    "\n",
    "# # Convert mpg to L\/100km by mathematical operation (235 divided by mpg)\n",
    "df['city-L\/100km'] = 235\/df[\"highway-mpg\"]\n",
    "# check your transformed data \n",
    "## rename column name from \"highway-mpg\" to \"highway-L\/100km\"\n",
    "df.rename(columns={'highway-mpg':'highway-L\/100km'}, inplace=True)\n",
    "\n",
    "# check your transform data\n",
    "df.head()"
   ],
   "execution_count":231,
   "outputs":[
    {
     "data":{
      "text\/html":[
       "<div>\n",
       "<style scoped>\n",
       "    .dataframe tbody tr th:only-of-type {\n",
       "        vertical-align: middle;\n",
       "    }\n",
       "\n",
       "    .dataframe tbody tr th {\n",
       "        vertical-align: top;\n",
       "    }\n",
       "\n",
       "    .dataframe thead th {\n",
       "        text-align: right;\n",
       "    }\n",
       "<\/style>\n",
       "<table border=\"1\" class=\"dataframe\">\n",
       "  <thead>\n",
       "    <tr style=\"text-align: right;\">\n",
       "      <th><\/th>\n",
       "      <th>symboling<\/th>\n",
       "      <th>normalized-losses<\/th>\n",
       "      <th>make<\/th>\n",
       "      <th>fuel-type<\/th>\n",
       "      <th>aspiration<\/th>\n",
       "      <th>num-of-doors<\/th>\n",
       "      <th>body-style<\/th>\n",
       "      <th>drive-wheels<\/th>\n",
       "      <th>engine-location<\/th>\n",
       "      <th>wheel-base<\/th>\n",
       "      <th>...<\/th>\n",
       "      <th>fuel-system<\/th>\n",
       "      <th>bore<\/th>\n",
       "      <th>stroke<\/th>\n",
       "      <th>compression-ratio<\/th>\n",
       "      <th>horsepower<\/th>\n",
       "      <th>peak-rpm<\/th>\n",
       "      <th>city-mpg<\/th>\n",
       "      <th>highway-L\/100km<\/th>\n",
       "      <th>price<\/th>\n",
       "      <th>city-L\/100km<\/th>\n",
       "    <\/tr>\n",
       "  <\/thead>\n",
       "  <tbody>\n",
       "    <tr>\n",
       "      <th>0<\/th>\n",
       "      <td>3<\/td>\n",
       "      <td>122<\/td>\n",
       "      <td>alfa-romero<\/td>\n",
       "      <td>gas<\/td>\n",
       "      <td>std<\/td>\n",
       "      <td>two<\/td>\n",
       "      <td>convertible<\/td>\n",
       "      <td>rwd<\/td>\n",
       "      <td>front<\/td>\n",
       "      <td>88.6<\/td>\n",
       "      <td>...<\/td>\n",
       "      <td>mpfi<\/td>\n",
       "      <td>3.47<\/td>\n",
       "      <td>2.68<\/td>\n",
       "      <td>9.0<\/td>\n",
       "      <td>111<\/td>\n",
       "      <td>5000.0<\/td>\n",
       "      <td>21<\/td>\n",
       "      <td>27<\/td>\n",
       "      <td>13495.0<\/td>\n",
       "      <td>8.703704<\/td>\n",
       "    <\/tr>\n",
       "    <tr>\n",
       "      <th>1<\/th>\n",
       "      <td>3<\/td>\n",
       "      <td>122<\/td>\n",
       "      <td>alfa-romero<\/td>\n",
       "      <td>gas<\/td>\n",
       "      <td>std<\/td>\n",
       "      <td>two<\/td>\n",
       "      <td>convertible<\/td>\n",
       "      <td>rwd<\/td>\n",
       "      <td>front<\/td>\n",
       "      <td>88.6<\/td>\n",
       "      <td>...<\/td>\n",
       "      <td>mpfi<\/td>\n",
       "      <td>3.47<\/td>\n",
       "      <td>2.68<\/td>\n",
       "      <td>9.0<\/td>\n",
       "      <td>111<\/td>\n",
       "      <td>5000.0<\/td>\n",
       "      <td>21<\/td>\n",
       "      <td>27<\/td>\n",
       "      <td>16500.0<\/td>\n",
       "      <td>8.703704<\/td>\n",
       "    <\/tr>\n",
       "    <tr>\n",
       "      <th>2<\/th>\n",
       "      <td>1<\/td>\n",
       "      <td>122<\/td>\n",
       "      <td>alfa-romero<\/td>\n",
       "      <td>gas<\/td>\n",
       "      <td>std<\/td>\n",
       "      <td>two<\/td>\n",
       "      <td>hatchback<\/td>\n",
       "      <td>rwd<\/td>\n",
       "      <td>front<\/td>\n",
       "      <td>94.5<\/td>\n",
       "      <td>...<\/td>\n",
       "      <td>mpfi<\/td>\n",
       "      <td>2.68<\/td>\n",
       "      <td>3.47<\/td>\n",
       "      <td>9.0<\/td>\n",
       "      <td>154<\/td>\n",
       "      <td>5000.0<\/td>\n",
       "      <td>19<\/td>\n",
       "      <td>26<\/td>\n",
       "      <td>16500.0<\/td>\n",
       "      <td>9.038462<\/td>\n",
       "    <\/tr>\n",
       "    <tr>\n",
       "      <th>3<\/th>\n",
       "      <td>2<\/td>\n",
       "      <td>164<\/td>\n",
       "      <td>audi<\/td>\n",
       "      <td>gas<\/td>\n",
       "      <td>std<\/td>\n",
       "      <td>four<\/td>\n",
       "      <td>sedan<\/td>\n",
       "      <td>fwd<\/td>\n",
       "      <td>front<\/td>\n",
       "      <td>99.8<\/td>\n",
       "      <td>...<\/td>\n",
       "      <td>mpfi<\/td>\n",
       "      <td>3.19<\/td>\n",
       "      <td>3.40<\/td>\n",
       "      <td>10.0<\/td>\n",
       "      <td>102<\/td>\n",
       "      <td>5500.0<\/td>\n",
       "      <td>24<\/td>\n",
       "      <td>30<\/td>\n",
       "      <td>13950.0<\/td>\n",
       "      <td>7.833333<\/td>\n",
       "    <\/tr>\n",
       "    <tr>\n",
       "      <th>4<\/th>\n",
       "      <td>2<\/td>\n",
       "      <td>164<\/td>\n",
       "      <td>audi<\/td>\n",
       "      <td>gas<\/td>\n",
       "      <td>std<\/td>\n",
       "      <td>four<\/td>\n",
       "      <td>sedan<\/td>\n",
       "      <td>4wd<\/td>\n",
       "      <td>front<\/td>\n",
       "      <td>99.4<\/td>\n",
       "      <td>...<\/td>\n",
       "      <td>mpfi<\/td>\n",
       "      <td>3.19<\/td>\n",
       "      <td>3.40<\/td>\n",
       "      <td>8.0<\/td>\n",
       "      <td>115<\/td>\n",
       "      <td>5500.0<\/td>\n",
       "      <td>18<\/td>\n",
       "      <td>22<\/td>\n",
       "      <td>17450.0<\/td>\n",
       "      <td>10.681818<\/td>\n",
       "    <\/tr>\n",
       "  <\/tbody>\n",
       "<\/table>\n",
       "<p>5 rows × 27 columns<\/p>\n",
       "<\/div>"
      ]
     },
     "metadata":{
      
     },
     "output_type":"display_data"
    }
   ],
   "metadata":{
    "datalore":{
     "node_id":"bPgeg1kvWGq0hgQcTdDwkW",
     "type":"CODE",
     "hide_input_from_viewers":false,
     "hide_output_from_viewers":false
    }
   }
  },
  {
   "cell_type":"code",
   "source":[
    "df.dropna(subset=[\"city-L\/100km\"], axis=0, inplace=False)"
   ],
   "execution_count":232,
   "outputs":[
    {
     "data":{
      "text\/html":[
       "<div>\n",
       "<style scoped>\n",
       "    .dataframe tbody tr th:only-of-type {\n",
       "        vertical-align: middle;\n",
       "    }\n",
       "\n",
       "    .dataframe tbody tr th {\n",
       "        vertical-align: top;\n",
       "    }\n",
       "\n",
       "    .dataframe thead th {\n",
       "        text-align: right;\n",
       "    }\n",
       "<\/style>\n",
       "<table border=\"1\" class=\"dataframe\">\n",
       "  <thead>\n",
       "    <tr style=\"text-align: right;\">\n",
       "      <th><\/th>\n",
       "      <th>symboling<\/th>\n",
       "      <th>normalized-losses<\/th>\n",
       "      <th>make<\/th>\n",
       "      <th>fuel-type<\/th>\n",
       "      <th>aspiration<\/th>\n",
       "      <th>num-of-doors<\/th>\n",
       "      <th>body-style<\/th>\n",
       "      <th>drive-wheels<\/th>\n",
       "      <th>engine-location<\/th>\n",
       "      <th>wheel-base<\/th>\n",
       "      <th>...<\/th>\n",
       "      <th>fuel-system<\/th>\n",
       "      <th>bore<\/th>\n",
       "      <th>stroke<\/th>\n",
       "      <th>compression-ratio<\/th>\n",
       "      <th>horsepower<\/th>\n",
       "      <th>peak-rpm<\/th>\n",
       "      <th>city-mpg<\/th>\n",
       "      <th>highway-L\/100km<\/th>\n",
       "      <th>price<\/th>\n",
       "      <th>city-L\/100km<\/th>\n",
       "    <\/tr>\n",
       "  <\/thead>\n",
       "  <tbody>\n",
       "    <tr>\n",
       "      <th>0<\/th>\n",
       "      <td>3<\/td>\n",
       "      <td>122<\/td>\n",
       "      <td>alfa-romero<\/td>\n",
       "      <td>gas<\/td>\n",
       "      <td>std<\/td>\n",
       "      <td>two<\/td>\n",
       "      <td>convertible<\/td>\n",
       "      <td>rwd<\/td>\n",
       "      <td>front<\/td>\n",
       "      <td>88.6<\/td>\n",
       "      <td>...<\/td>\n",
       "      <td>mpfi<\/td>\n",
       "      <td>3.47<\/td>\n",
       "      <td>2.68<\/td>\n",
       "      <td>9.0<\/td>\n",
       "      <td>111<\/td>\n",
       "      <td>5000.0<\/td>\n",
       "      <td>21<\/td>\n",
       "      <td>27<\/td>\n",
       "      <td>13495.0<\/td>\n",
       "      <td>8.703704<\/td>\n",
       "    <\/tr>\n",
       "    <tr>\n",
       "      <th>1<\/th>\n",
       "      <td>3<\/td>\n",
       "      <td>122<\/td>\n",
       "      <td>alfa-romero<\/td>\n",
       "      <td>gas<\/td>\n",
       "      <td>std<\/td>\n",
       "      <td>two<\/td>\n",
       "      <td>convertible<\/td>\n",
       "      <td>rwd<\/td>\n",
       "      <td>front<\/td>\n",
       "      <td>88.6<\/td>\n",
       "      <td>...<\/td>\n",
       "      <td>mpfi<\/td>\n",
       "      <td>3.47<\/td>\n",
       "      <td>2.68<\/td>\n",
       "      <td>9.0<\/td>\n",
       "      <td>111<\/td>\n",
       "      <td>5000.0<\/td>\n",
       "      <td>21<\/td>\n",
       "      <td>27<\/td>\n",
       "      <td>16500.0<\/td>\n",
       "      <td>8.703704<\/td>\n",
       "    <\/tr>\n",
       "    <tr>\n",
       "      <th>2<\/th>\n",
       "      <td>1<\/td>\n",
       "      <td>122<\/td>\n",
       "      <td>alfa-romero<\/td>\n",
       "      <td>gas<\/td>\n",
       "      <td>std<\/td>\n",
       "      <td>two<\/td>\n",
       "      <td>hatchback<\/td>\n",
       "      <td>rwd<\/td>\n",
       "      <td>front<\/td>\n",
       "      <td>94.5<\/td>\n",
       "      <td>...<\/td>\n",
       "      <td>mpfi<\/td>\n",
       "      <td>2.68<\/td>\n",
       "      <td>3.47<\/td>\n",
       "      <td>9.0<\/td>\n",
       "      <td>154<\/td>\n",
       "      <td>5000.0<\/td>\n",
       "      <td>19<\/td>\n",
       "      <td>26<\/td>\n",
       "      <td>16500.0<\/td>\n",
       "      <td>9.038462<\/td>\n",
       "    <\/tr>\n",
       "    <tr>\n",
       "      <th>3<\/th>\n",
       "      <td>2<\/td>\n",
       "      <td>164<\/td>\n",
       "      <td>audi<\/td>\n",
       "      <td>gas<\/td>\n",
       "      <td>std<\/td>\n",
       "      <td>four<\/td>\n",
       "      <td>sedan<\/td>\n",
       "      <td>fwd<\/td>\n",
       "      <td>front<\/td>\n",
       "      <td>99.8<\/td>\n",
       "      <td>...<\/td>\n",
       "      <td>mpfi<\/td>\n",
       "      <td>3.19<\/td>\n",
       "      <td>3.40<\/td>\n",
       "      <td>10.0<\/td>\n",
       "      <td>102<\/td>\n",
       "      <td>5500.0<\/td>\n",
       "      <td>24<\/td>\n",
       "      <td>30<\/td>\n",
       "      <td>13950.0<\/td>\n",
       "      <td>7.833333<\/td>\n",
       "    <\/tr>\n",
       "    <tr>\n",
       "      <th>4<\/th>\n",
       "      <td>2<\/td>\n",
       "      <td>164<\/td>\n",
       "      <td>audi<\/td>\n",
       "      <td>gas<\/td>\n",
       "      <td>std<\/td>\n",
       "      <td>four<\/td>\n",
       "      <td>sedan<\/td>\n",
       "      <td>4wd<\/td>\n",
       "      <td>front<\/td>\n",
       "      <td>99.4<\/td>\n",
       "      <td>...<\/td>\n",
       "      <td>mpfi<\/td>\n",
       "      <td>3.19<\/td>\n",
       "      <td>3.40<\/td>\n",
       "      <td>8.0<\/td>\n",
       "      <td>115<\/td>\n",
       "      <td>5500.0<\/td>\n",
       "      <td>18<\/td>\n",
       "      <td>22<\/td>\n",
       "      <td>17450.0<\/td>\n",
       "      <td>10.681818<\/td>\n",
       "    <\/tr>\n",
       "    <tr>\n",
       "      <th>...<\/th>\n",
       "      <td>...<\/td>\n",
       "      <td>...<\/td>\n",
       "      <td>...<\/td>\n",
       "      <td>...<\/td>\n",
       "      <td>...<\/td>\n",
       "      <td>...<\/td>\n",
       "      <td>...<\/td>\n",
       "      <td>...<\/td>\n",
       "      <td>...<\/td>\n",
       "      <td>...<\/td>\n",
       "      <td>...<\/td>\n",
       "      <td>...<\/td>\n",
       "      <td>...<\/td>\n",
       "      <td>...<\/td>\n",
       "      <td>...<\/td>\n",
       "      <td>...<\/td>\n",
       "      <td>...<\/td>\n",
       "      <td>...<\/td>\n",
       "      <td>...<\/td>\n",
       "      <td>...<\/td>\n",
       "      <td>...<\/td>\n",
       "    <\/tr>\n",
       "    <tr>\n",
       "      <th>200<\/th>\n",
       "      <td>-1<\/td>\n",
       "      <td>95<\/td>\n",
       "      <td>volvo<\/td>\n",
       "      <td>gas<\/td>\n",
       "      <td>std<\/td>\n",
       "      <td>four<\/td>\n",
       "      <td>sedan<\/td>\n",
       "      <td>rwd<\/td>\n",
       "      <td>front<\/td>\n",
       "      <td>109.1<\/td>\n",
       "      <td>...<\/td>\n",
       "      <td>mpfi<\/td>\n",
       "      <td>3.78<\/td>\n",
       "      <td>3.15<\/td>\n",
       "      <td>9.5<\/td>\n",
       "      <td>114<\/td>\n",
       "      <td>5400.0<\/td>\n",
       "      <td>23<\/td>\n",
       "      <td>28<\/td>\n",
       "      <td>16845.0<\/td>\n",
       "      <td>8.392857<\/td>\n",
       "    <\/tr>\n",
       "    <tr>\n",
       "      <th>201<\/th>\n",
       "      <td>-1<\/td>\n",
       "      <td>95<\/td>\n",
       "      <td>volvo<\/td>\n",
       "      <td>gas<\/td>\n",
       "      <td>turbo<\/td>\n",
       "      <td>four<\/td>\n",
       "      <td>sedan<\/td>\n",
       "      <td>rwd<\/td>\n",
       "      <td>front<\/td>\n",
       "      <td>109.1<\/td>\n",
       "      <td>...<\/td>\n",
       "      <td>mpfi<\/td>\n",
       "      <td>3.78<\/td>\n",
       "      <td>3.15<\/td>\n",
       "      <td>8.7<\/td>\n",
       "      <td>160<\/td>\n",
       "      <td>5300.0<\/td>\n",
       "      <td>19<\/td>\n",
       "      <td>25<\/td>\n",
       "      <td>19045.0<\/td>\n",
       "      <td>9.400000<\/td>\n",
       "    <\/tr>\n",
       "    <tr>\n",
       "      <th>202<\/th>\n",
       "      <td>-1<\/td>\n",
       "      <td>95<\/td>\n",
       "      <td>volvo<\/td>\n",
       "      <td>gas<\/td>\n",
       "      <td>std<\/td>\n",
       "      <td>four<\/td>\n",
       "      <td>sedan<\/td>\n",
       "      <td>rwd<\/td>\n",
       "      <td>front<\/td>\n",
       "      <td>109.1<\/td>\n",
       "      <td>...<\/td>\n",
       "      <td>mpfi<\/td>\n",
       "      <td>3.58<\/td>\n",
       "      <td>2.87<\/td>\n",
       "      <td>8.8<\/td>\n",
       "      <td>134<\/td>\n",
       "      <td>5500.0<\/td>\n",
       "      <td>18<\/td>\n",
       "      <td>23<\/td>\n",
       "      <td>21485.0<\/td>\n",
       "      <td>10.217391<\/td>\n",
       "    <\/tr>\n",
       "    <tr>\n",
       "      <th>203<\/th>\n",
       "      <td>-1<\/td>\n",
       "      <td>95<\/td>\n",
       "      <td>volvo<\/td>\n",
       "      <td>diesel<\/td>\n",
       "      <td>turbo<\/td>\n",
       "      <td>four<\/td>\n",
       "      <td>sedan<\/td>\n",
       "      <td>rwd<\/td>\n",
       "      <td>front<\/td>\n",
       "      <td>109.1<\/td>\n",
       "      <td>...<\/td>\n",
       "      <td>idi<\/td>\n",
       "      <td>3.01<\/td>\n",
       "      <td>3.40<\/td>\n",
       "      <td>23.0<\/td>\n",
       "      <td>106<\/td>\n",
       "      <td>4800.0<\/td>\n",
       "      <td>26<\/td>\n",
       "      <td>27<\/td>\n",
       "      <td>22470.0<\/td>\n",
       "      <td>8.703704<\/td>\n",
       "    <\/tr>\n",
       "    <tr>\n",
       "      <th>204<\/th>\n",
       "      <td>-1<\/td>\n",
       "      <td>95<\/td>\n",
       "      <td>volvo<\/td>\n",
       "      <td>gas<\/td>\n",
       "      <td>turbo<\/td>\n",
       "      <td>four<\/td>\n",
       "      <td>sedan<\/td>\n",
       "      <td>rwd<\/td>\n",
       "      <td>front<\/td>\n",
       "      <td>109.1<\/td>\n",
       "      <td>...<\/td>\n",
       "      <td>mpfi<\/td>\n",
       "      <td>3.78<\/td>\n",
       "      <td>3.15<\/td>\n",
       "      <td>9.5<\/td>\n",
       "      <td>114<\/td>\n",
       "      <td>5400.0<\/td>\n",
       "      <td>19<\/td>\n",
       "      <td>25<\/td>\n",
       "      <td>22625.0<\/td>\n",
       "      <td>9.400000<\/td>\n",
       "    <\/tr>\n",
       "  <\/tbody>\n",
       "<\/table>\n",
       "<p>205 rows × 27 columns<\/p>\n",
       "<\/div>"
      ]
     },
     "metadata":{
      
     },
     "output_type":"display_data"
    }
   ],
   "metadata":{
    "datalore":{
     "node_id":"qLilsoqkPeogGxr1MHYwrH",
     "type":"CODE",
     "hide_input_from_viewers":false,
     "hide_output_from_viewers":false
    }
   }
  },
  {
   "cell_type":"code",
   "source":[
    "df.head()"
   ],
   "execution_count":233,
   "outputs":[
    {
     "data":{
      "text\/html":[
       "<div>\n",
       "<style scoped>\n",
       "    .dataframe tbody tr th:only-of-type {\n",
       "        vertical-align: middle;\n",
       "    }\n",
       "\n",
       "    .dataframe tbody tr th {\n",
       "        vertical-align: top;\n",
       "    }\n",
       "\n",
       "    .dataframe thead th {\n",
       "        text-align: right;\n",
       "    }\n",
       "<\/style>\n",
       "<table border=\"1\" class=\"dataframe\">\n",
       "  <thead>\n",
       "    <tr style=\"text-align: right;\">\n",
       "      <th><\/th>\n",
       "      <th>symboling<\/th>\n",
       "      <th>normalized-losses<\/th>\n",
       "      <th>make<\/th>\n",
       "      <th>fuel-type<\/th>\n",
       "      <th>aspiration<\/th>\n",
       "      <th>num-of-doors<\/th>\n",
       "      <th>body-style<\/th>\n",
       "      <th>drive-wheels<\/th>\n",
       "      <th>engine-location<\/th>\n",
       "      <th>wheel-base<\/th>\n",
       "      <th>...<\/th>\n",
       "      <th>fuel-system<\/th>\n",
       "      <th>bore<\/th>\n",
       "      <th>stroke<\/th>\n",
       "      <th>compression-ratio<\/th>\n",
       "      <th>horsepower<\/th>\n",
       "      <th>peak-rpm<\/th>\n",
       "      <th>city-mpg<\/th>\n",
       "      <th>highway-L\/100km<\/th>\n",
       "      <th>price<\/th>\n",
       "      <th>city-L\/100km<\/th>\n",
       "    <\/tr>\n",
       "  <\/thead>\n",
       "  <tbody>\n",
       "    <tr>\n",
       "      <th>0<\/th>\n",
       "      <td>3<\/td>\n",
       "      <td>122<\/td>\n",
       "      <td>alfa-romero<\/td>\n",
       "      <td>gas<\/td>\n",
       "      <td>std<\/td>\n",
       "      <td>two<\/td>\n",
       "      <td>convertible<\/td>\n",
       "      <td>rwd<\/td>\n",
       "      <td>front<\/td>\n",
       "      <td>88.6<\/td>\n",
       "      <td>...<\/td>\n",
       "      <td>mpfi<\/td>\n",
       "      <td>3.47<\/td>\n",
       "      <td>2.68<\/td>\n",
       "      <td>9.0<\/td>\n",
       "      <td>111<\/td>\n",
       "      <td>5000.0<\/td>\n",
       "      <td>21<\/td>\n",
       "      <td>27<\/td>\n",
       "      <td>13495.0<\/td>\n",
       "      <td>8.703704<\/td>\n",
       "    <\/tr>\n",
       "    <tr>\n",
       "      <th>1<\/th>\n",
       "      <td>3<\/td>\n",
       "      <td>122<\/td>\n",
       "      <td>alfa-romero<\/td>\n",
       "      <td>gas<\/td>\n",
       "      <td>std<\/td>\n",
       "      <td>two<\/td>\n",
       "      <td>convertible<\/td>\n",
       "      <td>rwd<\/td>\n",
       "      <td>front<\/td>\n",
       "      <td>88.6<\/td>\n",
       "      <td>...<\/td>\n",
       "      <td>mpfi<\/td>\n",
       "      <td>3.47<\/td>\n",
       "      <td>2.68<\/td>\n",
       "      <td>9.0<\/td>\n",
       "      <td>111<\/td>\n",
       "      <td>5000.0<\/td>\n",
       "      <td>21<\/td>\n",
       "      <td>27<\/td>\n",
       "      <td>16500.0<\/td>\n",
       "      <td>8.703704<\/td>\n",
       "    <\/tr>\n",
       "    <tr>\n",
       "      <th>2<\/th>\n",
       "      <td>1<\/td>\n",
       "      <td>122<\/td>\n",
       "      <td>alfa-romero<\/td>\n",
       "      <td>gas<\/td>\n",
       "      <td>std<\/td>\n",
       "      <td>two<\/td>\n",
       "      <td>hatchback<\/td>\n",
       "      <td>rwd<\/td>\n",
       "      <td>front<\/td>\n",
       "      <td>94.5<\/td>\n",
       "      <td>...<\/td>\n",
       "      <td>mpfi<\/td>\n",
       "      <td>2.68<\/td>\n",
       "      <td>3.47<\/td>\n",
       "      <td>9.0<\/td>\n",
       "      <td>154<\/td>\n",
       "      <td>5000.0<\/td>\n",
       "      <td>19<\/td>\n",
       "      <td>26<\/td>\n",
       "      <td>16500.0<\/td>\n",
       "      <td>9.038462<\/td>\n",
       "    <\/tr>\n",
       "    <tr>\n",
       "      <th>3<\/th>\n",
       "      <td>2<\/td>\n",
       "      <td>164<\/td>\n",
       "      <td>audi<\/td>\n",
       "      <td>gas<\/td>\n",
       "      <td>std<\/td>\n",
       "      <td>four<\/td>\n",
       "      <td>sedan<\/td>\n",
       "      <td>fwd<\/td>\n",
       "      <td>front<\/td>\n",
       "      <td>99.8<\/td>\n",
       "      <td>...<\/td>\n",
       "      <td>mpfi<\/td>\n",
       "      <td>3.19<\/td>\n",
       "      <td>3.40<\/td>\n",
       "      <td>10.0<\/td>\n",
       "      <td>102<\/td>\n",
       "      <td>5500.0<\/td>\n",
       "      <td>24<\/td>\n",
       "      <td>30<\/td>\n",
       "      <td>13950.0<\/td>\n",
       "      <td>7.833333<\/td>\n",
       "    <\/tr>\n",
       "    <tr>\n",
       "      <th>4<\/th>\n",
       "      <td>2<\/td>\n",
       "      <td>164<\/td>\n",
       "      <td>audi<\/td>\n",
       "      <td>gas<\/td>\n",
       "      <td>std<\/td>\n",
       "      <td>four<\/td>\n",
       "      <td>sedan<\/td>\n",
       "      <td>4wd<\/td>\n",
       "      <td>front<\/td>\n",
       "      <td>99.4<\/td>\n",
       "      <td>...<\/td>\n",
       "      <td>mpfi<\/td>\n",
       "      <td>3.19<\/td>\n",
       "      <td>3.40<\/td>\n",
       "      <td>8.0<\/td>\n",
       "      <td>115<\/td>\n",
       "      <td>5500.0<\/td>\n",
       "      <td>18<\/td>\n",
       "      <td>22<\/td>\n",
       "      <td>17450.0<\/td>\n",
       "      <td>10.681818<\/td>\n",
       "    <\/tr>\n",
       "  <\/tbody>\n",
       "<\/table>\n",
       "<p>5 rows × 27 columns<\/p>\n",
       "<\/div>"
      ]
     },
     "metadata":{
      
     },
     "output_type":"display_data"
    }
   ],
   "metadata":{
    "datalore":{
     "node_id":"jar6FMgWkMuovBTU6rGZ1x",
     "type":"CODE",
     "hide_input_from_viewers":false,
     "hide_output_from_viewers":false
    }
   }
  },
  {
   "cell_type":"code",
   "source":[
    "## Data Normalization ###\n",
    "## Why Normalization ##\n",
    "### Normalization is the process of transforming values of several variables into a similar range. Typical normalizations include scaling the variable so the variable average is 0, \n",
    "# scaling the variable so the variance is 1, or scaling the variable so the variable values range from 0 to 1."
   ],
   "execution_count":234,
   "outputs":[
    
   ],
   "metadata":{
    "datalore":{
     "node_id":"UlcHZWaFPNYZR0XXF3eHo3",
     "type":"CODE",
     "hide_input_from_viewers":false,
     "hide_output_from_viewers":false
    }
   }
  },
  {
   "cell_type":"code",
   "source":[
    "# Example\n",
    "\n",
    "#To demonstrate normalization, let's say we want to scale the columns \"length\", \"width\" and \"height\".\n",
    "\n",
    "#Target: would like to normalize those variables so their value ranges from 0 to 1\n",
    "\n",
    "#Approach: replace original value by (original value)\/(maximum value)\n",
    "\n",
    "# replace (original value) by (original value)\/(maximum value)\n",
    "df['length'] = df['length']\/df['length'].max()\n",
    "df['width'] = df['width']\/df['width'].max()\n",
    "df['height'] = df['height']\/df['height'].max()\n",
    "\n",
    "# show the scaled columns\n",
    "df[[\"length\",\"width\",\"height\"]].head()"
   ],
   "execution_count":235,
   "outputs":[
    {
     "data":{
      "text\/html":[
       "<div>\n",
       "<style scoped>\n",
       "    .dataframe tbody tr th:only-of-type {\n",
       "        vertical-align: middle;\n",
       "    }\n",
       "\n",
       "    .dataframe tbody tr th {\n",
       "        vertical-align: top;\n",
       "    }\n",
       "\n",
       "    .dataframe thead th {\n",
       "        text-align: right;\n",
       "    }\n",
       "<\/style>\n",
       "<table border=\"1\" class=\"dataframe\">\n",
       "  <thead>\n",
       "    <tr style=\"text-align: right;\">\n",
       "      <th><\/th>\n",
       "      <th>length<\/th>\n",
       "      <th>width<\/th>\n",
       "      <th>height<\/th>\n",
       "    <\/tr>\n",
       "  <\/thead>\n",
       "  <tbody>\n",
       "    <tr>\n",
       "      <th>0<\/th>\n",
       "      <td>0.811148<\/td>\n",
       "      <td>0.886584<\/td>\n",
       "      <td>0.816054<\/td>\n",
       "    <\/tr>\n",
       "    <tr>\n",
       "      <th>1<\/th>\n",
       "      <td>0.811148<\/td>\n",
       "      <td>0.886584<\/td>\n",
       "      <td>0.816054<\/td>\n",
       "    <\/tr>\n",
       "    <tr>\n",
       "      <th>2<\/th>\n",
       "      <td>0.822681<\/td>\n",
       "      <td>0.905947<\/td>\n",
       "      <td>0.876254<\/td>\n",
       "    <\/tr>\n",
       "    <tr>\n",
       "      <th>3<\/th>\n",
       "      <td>0.848630<\/td>\n",
       "      <td>0.915629<\/td>\n",
       "      <td>0.908027<\/td>\n",
       "    <\/tr>\n",
       "    <tr>\n",
       "      <th>4<\/th>\n",
       "      <td>0.848630<\/td>\n",
       "      <td>0.918396<\/td>\n",
       "      <td>0.908027<\/td>\n",
       "    <\/tr>\n",
       "  <\/tbody>\n",
       "<\/table>\n",
       "<\/div>"
      ]
     },
     "metadata":{
      
     },
     "output_type":"display_data"
    }
   ],
   "metadata":{
    "datalore":{
     "node_id":"bjVLnENMjEheKXTXp6AxpV",
     "type":"CODE",
     "hide_input_from_viewers":false,
     "hide_output_from_viewers":false
    }
   }
  },
  {
   "cell_type":"code",
   "source":[
    "### Bining ###########\n",
    "# Why bining -> Binning is a process of transforming continuous numerical variables into discrete categorical 'bins' for grouped analysis. \n",
    "# Example -> In our dataset, \"horsepower\" is a real valued variable ranging from 48 to 288 and it has 59 unique values. \n",
    "# What if we only care about the price difference between cars with high horsepower, medium horsepower, and little horsepower (3 types)? Can we rearrange them into three ‘bins' to simplify analysis?\n",
    "#we will use the pandas method 'cut' to segment the 'horsepower' column into 3 bins"
   ],
   "execution_count":236,
   "outputs":[
    
   ],
   "metadata":{
    "datalore":{
     "node_id":"kMosMwOM5tnCQqyn4JKytm",
     "type":"CODE",
     "hide_input_from_viewers":false,
     "hide_output_from_viewers":false
    }
   }
  },
  {
   "cell_type":"code",
   "source":[
    "df['horsepower'] = df['horsepower'].isnull()\n",
    "df['horsepower'] = df['horsepower'].astype(int, copy=True)"
   ],
   "execution_count":237,
   "outputs":[
    
   ],
   "metadata":{
    "datalore":{
     "node_id":"b536xsLTyesA8mxcLH8aZ3",
     "type":"CODE",
     "hide_input_from_viewers":false,
     "hide_output_from_viewers":false
    }
   }
  },
  {
   "cell_type":"code",
   "source":[
    "# Example \n",
    "# Convert data to correct format:\n",
    "#df[\"horsepower\"] = df[\"horsepower\"].astype(\"int\")\n",
    "df[\"horsepower\"]=df[\"horsepower\"].astype(int, copy=True)\n",
    "\n",
    "# Let's plot the histogram of horsepower to see what the distribution of horsepower looks like.\n",
    "%matplotlib inline\n",
    "import matplotlib as plt\n",
    "from matplotlib import pyplot\n",
    "plt.pyplot.hist(df[[\"horsepower\"]])\n",
    "\n",
    "# set x\/y labels and plot title\n",
    "plt.pyplot.xlabel(\"horsepower\")\n",
    "plt.pyplot.ylabel(\"count\")\n",
    "plt.pyplot.title(\"horsepower bins\")"
   ],
   "execution_count":238,
   "outputs":[
    {
     "data":{
      "text\/plain":[
       "Text(0.5, 1.0, 'horsepower bins')"
      ]
     },
     "metadata":{
      
     },
     "output_type":"display_data"
    },
    {
     "data":{
      "image\/png":"[encoded data removed]"
     },
     "metadata":{
      "image\/png":{
       
      }
     },
     "output_type":"display_data"
    }
   ],
   "metadata":{
    "datalore":{
     "node_id":"Zfu5RSlUQ3Iy2uwJmdhRqQ",
     "type":"CODE",
     "hide_input_from_viewers":false,
     "hide_output_from_viewers":false
    }
   }
  },
  {
   "cell_type":"code",
   "source":[
    "#We would like 3 bins of equal size bandwidth so we use numpy's linspace(start_value, end_value, numbers_generated function.\n",
    "#Since we want to include the minimum value of horsepower, we want to set start_value = min(df[\"horsepower\"]).\n",
    "#Since we want to include the maximum value of horsepower, we want to set end_value = max(df[\"horsepower\"]).\n",
    "#Since we are building 3 bins of equal length, there should be 4 dividers, so numbers_generated = 4.\n",
    "#We build a bin array with a minimum value to a maximum value by using the bandwidth calculated above.\n",
    "        #The values will determine when one bin ends and another begins.\n",
    "\n",
    "bins = np.linspace(min(df[\"horsepower\"]), max(df[\"horsepower\"]), 4)\n",
    "bins"
   ],
   "execution_count":239,
   "outputs":[
    {
     "data":{
      "text\/html":[
       
      ]
     },
     "metadata":{
      
     },
     "output_type":"display_data"
    }
   ],
   "metadata":{
    "datalore":{
     "node_id":"eFw1UENgiJWmL5JLjwJ3zj",
     "type":"CODE",
     "hide_input_from_viewers":false,
     "hide_output_from_viewers":false
    }
   }
  },
  {
   "cell_type":"code",
   "source":[
    "# set group names\n",
    "group_names = ['Low', 'Medium', 'High']"
   ],
   "execution_count":240,
   "outputs":[
    
   ],
   "metadata":{
    "datalore":{
     "node_id":"ELlN4F4VbF1yvFJscwm95N",
     "type":"CODE",
     "hide_input_from_viewers":false,
     "hide_output_from_viewers":false
    }
   }
  },
  {
   "cell_type":"code",
   "source":[
    "df['horsepower'] = df['horsepower-binned'].isnull()\n",
    "df[\"horsepower\"]=df['horsepower-binned'].astype(float, copy=True)"
   ],
   "execution_count":241,
   "outputs":[
    {
     "ename":"KeyError",
     "evalue":"KeyError: 'horsepower-binned'",
     "traceback":[
      "\u001b[0;31m---------------------------------------------------------------------------",
      "Traceback (most recent call last)",
      "    at line 1 in <module>",
      "    at line 3458 in __getitem__(self, key)",
      "    at line 3363 in get_loc(self, key, method, tolerance)",
      "KeyError: 'horsepower-binned'"
     ],
     "output_type":"error"
    }
   ],
   "metadata":{
    "datalore":{
     "node_id":"eFWANubKXAJ3XrzVqjxqkO",
     "type":"CODE",
     "hide_input_from_viewers":false,
     "hide_output_from_viewers":false
    }
   }
  },
  {
   "cell_type":"code",
   "source":[
    "# We apply the function \"cut\" to determine what each value of df['horsepower'] belongs to.\n",
    "df['horsepower-binned'] = pd.cut(df['horsepower'], bins, labels=group_names, include_lowest=True )\n",
    "df[['horsepower','horsepower-binned']].head(30)"
   ],
   "execution_count":161,
   "outputs":[
    {
     "ename":"ValueError",
     "evalue":"ValueError: Bin edges must be unique: array([0., 0., 0., 0.]).\nYou can drop duplicate edges by setting the 'duplicates' kwarg",
     "traceback":[
      "\u001b[0;31m---------------------------------------------------------------------------",
      "Traceback (most recent call last)",
      "    at line 2 in <module>",
      "    at line 287 in cut(x, bins, right, labels, retbins, precision, include_lowest, duplicates, ordered)",
      "    at line 413 in _bins_to_cuts(x, bins, right, labels, precision, include_lowest, dtype, duplicates, ordered)",
      "ValueError: Bin edges must be unique: array([0., 0., 0., 0.]).\nYou can drop duplicate edges by setting the 'duplicates' kwarg"
     ],
     "output_type":"error"
    }
   ],
   "metadata":{
    "datalore":{
     "node_id":"2ulFh58UdIy2D0I6DBZzpy",
     "type":"CODE",
     "hide_input_from_viewers":false,
     "hide_output_from_viewers":false
    }
   }
  },
  {
   "cell_type":"code",
   "source":[
    "#Let's see the number of vehicles in each bin:\n",
    "df[\"horsepower-binned\"].value_counts()"
   ],
   "execution_count":178,
   "outputs":[
    {
     "data":{
      "text\/html":[
       
      ]
     },
     "metadata":{
      
     },
     "output_type":"display_data"
    }
   ],
   "metadata":{
    "datalore":{
     "node_id":"c8SKAYJwFScmOqkuWZHJ6U",
     "type":"CODE",
     "hide_input_from_viewers":false,
     "hide_output_from_viewers":false
    }
   }
  },
  {
   "cell_type":"code",
   "source":[
    "#Let's plot the distribution of each bin:\n",
    "%matplotlib inline\n",
    "import matplotlib as plt\n",
    "from matplotlib import pyplot\n",
    "pyplot.bar(group_names, df[\"horsepower-binned\"].value_counts())\n",
    "\n",
    "# set x\/y labels and plot title\n",
    "plt.pyplot.xlabel(\"horsepower\")\n",
    "plt.pyplot.ylabel(\"count\")\n",
    "plt.pyplot.title(\"horsepower bins\")\n",
    "\n",
    "# Look at the dataframe above carefully. You will find that the last column provides the bins for \"horsepower\" based on 3 categories (\"Low\", \"Medium\" and \"High\").\n",
    "# We successfully narrowed down the intervals from 59 to 3!"
   ],
   "execution_count":62,
   "outputs":[
    {
     "data":{
      "text\/plain":[
       "Text(0.5, 1.0, 'horsepower bins')"
      ]
     },
     "metadata":{
      
     },
     "output_type":"display_data"
    },
    {
     "data":{
      "image\/png":"[encoded data removed]"
     },
     "metadata":{
      "image\/png":{
       
      }
     },
     "output_type":"display_data"
    }
   ],
   "metadata":{
    "datalore":{
     "node_id":"1ATdIow1JpLggZyZfju4wa",
     "type":"CODE",
     "hide_input_from_viewers":false,
     "hide_output_from_viewers":false
    }
   }
  },
  {
   "cell_type":"code",
   "source":[
    "# Bins Visualization\n",
    "# Normally, a histogram is used to visualize the distribution of bins we created above. \n",
    "\n",
    "%matplotlib inline\n",
    "import matplotlib as plt\n",
    "from matplotlib import pyplot\n",
    "\n",
    "\n",
    "# draw historgram of attribute \"horsepower\" with bins = 3\n",
    "pyplot.hist(df[\"horsepower\"], bins = 3)\n",
    "\n",
    "# set x\/y labels and plot title\n",
    "plt.pyplot.xlabel(\"horsepower\")\n",
    "plt.pyplot.ylabel(\"count\")\n",
    "plt.pyplot.title(\"horsepower bins\")"
   ],
   "execution_count":63,
   "outputs":[
    {
     "data":{
      "text\/plain":[
       "Text(0.5, 1.0, 'horsepower bins')"
      ]
     },
     "metadata":{
      
     },
     "output_type":"display_data"
    },
    {
     "data":{
      "image\/png":"[encoded data removed]"
     },
     "metadata":{
      "image\/png":{
       
      }
     },
     "output_type":"display_data"
    }
   ],
   "metadata":{
    "datalore":{
     "node_id":"eveIUnzuvEgwFjQWApSaBt",
     "type":"CODE",
     "hide_input_from_viewers":false,
     "hide_output_from_viewers":false
    }
   }
  },
  {
   "cell_type":"code",
   "source":[
    "## Indicator variable ######\n",
    "###################################\n",
    "\n",
    "# what is Indicator varaible?\n",
    " # An indicator variable (or dummy variable) is a numerical variable used to label categories. \n",
    "  # They are called 'dummies' because the numbers themselves don't have inherent meaning. \n",
    "# Why we use indicator variables?\n",
    "    #We use indicator variables so we can use categorical variables for regression analysis in the later modules. \n",
    "# Example, We see the column \"fuel-type\" has two unique values: \"gas\" or \"diesel\". Regression doesn't understand words, only numbers. To use this attribute in regression analysis, we convert \"fuel-type\" to indicator variables.\n",
    "# We will use pandas' method 'get_dummies' to assign numerical values to different categories of fuel type. \n",
    "\n",
    "\n",
    "df.columns\n",
    "\n",
    "# get indicator variables and assign it to data frame \"dummy_varaible_1\"\n",
    "\n",
    "dummy_variable_1 = pd.get_dummies(df[\"fuel-type\"])\n",
    "dummy_variable_1.head()"
   ],
   "execution_count":64,
   "outputs":[
    {
     "data":{
      "text\/html":[
       "<div>\n",
       "<style scoped>\n",
       "    .dataframe tbody tr th:only-of-type {\n",
       "        vertical-align: middle;\n",
       "    }\n",
       "\n",
       "    .dataframe tbody tr th {\n",
       "        vertical-align: top;\n",
       "    }\n",
       "\n",
       "    .dataframe thead th {\n",
       "        text-align: right;\n",
       "    }\n",
       "<\/style>\n",
       "<table border=\"1\" class=\"dataframe\">\n",
       "  <thead>\n",
       "    <tr style=\"text-align: right;\">\n",
       "      <th><\/th>\n",
       "      <th>diesel<\/th>\n",
       "      <th>gas<\/th>\n",
       "    <\/tr>\n",
       "  <\/thead>\n",
       "  <tbody>\n",
       "    <tr>\n",
       "      <th>0<\/th>\n",
       "      <td>0<\/td>\n",
       "      <td>1<\/td>\n",
       "    <\/tr>\n",
       "    <tr>\n",
       "      <th>1<\/th>\n",
       "      <td>0<\/td>\n",
       "      <td>1<\/td>\n",
       "    <\/tr>\n",
       "    <tr>\n",
       "      <th>2<\/th>\n",
       "      <td>0<\/td>\n",
       "      <td>1<\/td>\n",
       "    <\/tr>\n",
       "    <tr>\n",
       "      <th>3<\/th>\n",
       "      <td>0<\/td>\n",
       "      <td>1<\/td>\n",
       "    <\/tr>\n",
       "    <tr>\n",
       "      <th>4<\/th>\n",
       "      <td>0<\/td>\n",
       "      <td>1<\/td>\n",
       "    <\/tr>\n",
       "  <\/tbody>\n",
       "<\/table>\n",
       "<\/div>"
      ]
     },
     "metadata":{
      
     },
     "output_type":"display_data"
    }
   ],
   "metadata":{
    "datalore":{
     "node_id":"MeppYTY7tXSniq8BBUzlFr",
     "type":"CODE",
     "hide_input_from_viewers":false,
     "hide_output_from_viewers":false
    }
   }
  },
  {
   "cell_type":"code",
   "source":[
    "# Change the column names for clarity:\n",
    "dummy_variable_1.rename(columns={'gas':'fuel-type-gas', 'diesel': 'fuel-type-diesel'}, inplace=True)\n",
    "dummy_variable_1.head()"
   ],
   "execution_count":65,
   "outputs":[
    {
     "data":{
      "text\/html":[
       "<div>\n",
       "<style scoped>\n",
       "    .dataframe tbody tr th:only-of-type {\n",
       "        vertical-align: middle;\n",
       "    }\n",
       "\n",
       "    .dataframe tbody tr th {\n",
       "        vertical-align: top;\n",
       "    }\n",
       "\n",
       "    .dataframe thead th {\n",
       "        text-align: right;\n",
       "    }\n",
       "<\/style>\n",
       "<table border=\"1\" class=\"dataframe\">\n",
       "  <thead>\n",
       "    <tr style=\"text-align: right;\">\n",
       "      <th><\/th>\n",
       "      <th>fuel-type-diesel<\/th>\n",
       "      <th>fuel-type-gas<\/th>\n",
       "    <\/tr>\n",
       "  <\/thead>\n",
       "  <tbody>\n",
       "    <tr>\n",
       "      <th>0<\/th>\n",
       "      <td>0<\/td>\n",
       "      <td>1<\/td>\n",
       "    <\/tr>\n",
       "    <tr>\n",
       "      <th>1<\/th>\n",
       "      <td>0<\/td>\n",
       "      <td>1<\/td>\n",
       "    <\/tr>\n",
       "    <tr>\n",
       "      <th>2<\/th>\n",
       "      <td>0<\/td>\n",
       "      <td>1<\/td>\n",
       "    <\/tr>\n",
       "    <tr>\n",
       "      <th>3<\/th>\n",
       "      <td>0<\/td>\n",
       "      <td>1<\/td>\n",
       "    <\/tr>\n",
       "    <tr>\n",
       "      <th>4<\/th>\n",
       "      <td>0<\/td>\n",
       "      <td>1<\/td>\n",
       "    <\/tr>\n",
       "  <\/tbody>\n",
       "<\/table>\n",
       "<\/div>"
      ]
     },
     "metadata":{
      
     },
     "output_type":"display_data"
    }
   ],
   "metadata":{
    "datalore":{
     "node_id":"lQ4hA8hslpQNut7lmBvkvL",
     "type":"CODE",
     "hide_input_from_viewers":false,
     "hide_output_from_viewers":false
    }
   }
  },
  {
   "cell_type":"code",
   "source":[
    "# merge data frame \"df\" and \"dummy_variable_1\" \n",
    "df = pd.concat([df, dummy_variable_1], axis=1)\n",
    "\n",
    "# drop original column \"fuel-type\" from \"df\"\n",
    "df.drop(\"fuel-type\", axis = 1, inplace=True)"
   ],
   "execution_count":66,
   "outputs":[
    
   ],
   "metadata":{
    "datalore":{
     "node_id":"wNuHhJ1CRixtyeOkZ4vaLq",
     "type":"CODE",
     "hide_input_from_viewers":false,
     "hide_output_from_viewers":false
    }
   }
  },
  {
   "cell_type":"code",
   "source":[
    "\n",
    "df.head()"
   ],
   "execution_count":67,
   "outputs":[
    {
     "data":{
      "text\/html":[
       "<div>\n",
       "<style scoped>\n",
       "    .dataframe tbody tr th:only-of-type {\n",
       "        vertical-align: middle;\n",
       "    }\n",
       "\n",
       "    .dataframe tbody tr th {\n",
       "        vertical-align: top;\n",
       "    }\n",
       "\n",
       "    .dataframe thead th {\n",
       "        text-align: right;\n",
       "    }\n",
       "<\/style>\n",
       "<table border=\"1\" class=\"dataframe\">\n",
       "  <thead>\n",
       "    <tr style=\"text-align: right;\">\n",
       "      <th><\/th>\n",
       "      <th>symboling<\/th>\n",
       "      <th>normalized-losses<\/th>\n",
       "      <th>make<\/th>\n",
       "      <th>aspiration<\/th>\n",
       "      <th>num-of-doors<\/th>\n",
       "      <th>body-style<\/th>\n",
       "      <th>drive-wheels<\/th>\n",
       "      <th>engine-location<\/th>\n",
       "      <th>wheel-base<\/th>\n",
       "      <th>length<\/th>\n",
       "      <th>...<\/th>\n",
       "      <th>compression-ratio<\/th>\n",
       "      <th>horsepower<\/th>\n",
       "      <th>peak-rpm<\/th>\n",
       "      <th>city-mpg<\/th>\n",
       "      <th>highway-L\/100km<\/th>\n",
       "      <th>price<\/th>\n",
       "      <th>city-L\/100km<\/th>\n",
       "      <th>horsepower-binned<\/th>\n",
       "      <th>fuel-type-diesel<\/th>\n",
       "      <th>fuel-type-gas<\/th>\n",
       "    <\/tr>\n",
       "  <\/thead>\n",
       "  <tbody>\n",
       "    <tr>\n",
       "      <th>0<\/th>\n",
       "      <td>3<\/td>\n",
       "      <td>122<\/td>\n",
       "      <td>alfa-romero<\/td>\n",
       "      <td>std<\/td>\n",
       "      <td>two<\/td>\n",
       "      <td>convertible<\/td>\n",
       "      <td>rwd<\/td>\n",
       "      <td>front<\/td>\n",
       "      <td>88.6<\/td>\n",
       "      <td>0.811148<\/td>\n",
       "      <td>...<\/td>\n",
       "      <td>9.0<\/td>\n",
       "      <td>0<\/td>\n",
       "      <td>5000.0<\/td>\n",
       "      <td>21<\/td>\n",
       "      <td>27<\/td>\n",
       "      <td>13495.0<\/td>\n",
       "      <td>8.703704<\/td>\n",
       "      <td>Low<\/td>\n",
       "      <td>0<\/td>\n",
       "      <td>1<\/td>\n",
       "    <\/tr>\n",
       "    <tr>\n",
       "      <th>1<\/th>\n",
       "      <td>3<\/td>\n",
       "      <td>122<\/td>\n",
       "      <td>alfa-romero<\/td>\n",
       "      <td>std<\/td>\n",
       "      <td>two<\/td>\n",
       "      <td>convertible<\/td>\n",
       "      <td>rwd<\/td>\n",
       "      <td>front<\/td>\n",
       "      <td>88.6<\/td>\n",
       "      <td>0.811148<\/td>\n",
       "      <td>...<\/td>\n",
       "      <td>9.0<\/td>\n",
       "      <td>0<\/td>\n",
       "      <td>5000.0<\/td>\n",
       "      <td>21<\/td>\n",
       "      <td>27<\/td>\n",
       "      <td>16500.0<\/td>\n",
       "      <td>8.703704<\/td>\n",
       "      <td>Low<\/td>\n",
       "      <td>0<\/td>\n",
       "      <td>1<\/td>\n",
       "    <\/tr>\n",
       "    <tr>\n",
       "      <th>2<\/th>\n",
       "      <td>1<\/td>\n",
       "      <td>122<\/td>\n",
       "      <td>alfa-romero<\/td>\n",
       "      <td>std<\/td>\n",
       "      <td>two<\/td>\n",
       "      <td>hatchback<\/td>\n",
       "      <td>rwd<\/td>\n",
       "      <td>front<\/td>\n",
       "      <td>94.5<\/td>\n",
       "      <td>0.822681<\/td>\n",
       "      <td>...<\/td>\n",
       "      <td>9.0<\/td>\n",
       "      <td>0<\/td>\n",
       "      <td>5000.0<\/td>\n",
       "      <td>19<\/td>\n",
       "      <td>26<\/td>\n",
       "      <td>16500.0<\/td>\n",
       "      <td>9.038462<\/td>\n",
       "      <td>Low<\/td>\n",
       "      <td>0<\/td>\n",
       "      <td>1<\/td>\n",
       "    <\/tr>\n",
       "    <tr>\n",
       "      <th>3<\/th>\n",
       "      <td>2<\/td>\n",
       "      <td>164<\/td>\n",
       "      <td>audi<\/td>\n",
       "      <td>std<\/td>\n",
       "      <td>four<\/td>\n",
       "      <td>sedan<\/td>\n",
       "      <td>fwd<\/td>\n",
       "      <td>front<\/td>\n",
       "      <td>99.8<\/td>\n",
       "      <td>0.848630<\/td>\n",
       "      <td>...<\/td>\n",
       "      <td>10.0<\/td>\n",
       "      <td>0<\/td>\n",
       "      <td>5500.0<\/td>\n",
       "      <td>24<\/td>\n",
       "      <td>30<\/td>\n",
       "      <td>13950.0<\/td>\n",
       "      <td>7.833333<\/td>\n",
       "      <td>Low<\/td>\n",
       "      <td>0<\/td>\n",
       "      <td>1<\/td>\n",
       "    <\/tr>\n",
       "    <tr>\n",
       "      <th>4<\/th>\n",
       "      <td>2<\/td>\n",
       "      <td>164<\/td>\n",
       "      <td>audi<\/td>\n",
       "      <td>std<\/td>\n",
       "      <td>four<\/td>\n",
       "      <td>sedan<\/td>\n",
       "      <td>4wd<\/td>\n",
       "      <td>front<\/td>\n",
       "      <td>99.4<\/td>\n",
       "      <td>0.848630<\/td>\n",
       "      <td>...<\/td>\n",
       "      <td>8.0<\/td>\n",
       "      <td>0<\/td>\n",
       "      <td>5500.0<\/td>\n",
       "      <td>18<\/td>\n",
       "      <td>22<\/td>\n",
       "      <td>17450.0<\/td>\n",
       "      <td>10.681818<\/td>\n",
       "      <td>Low<\/td>\n",
       "      <td>0<\/td>\n",
       "      <td>1<\/td>\n",
       "    <\/tr>\n",
       "  <\/tbody>\n",
       "<\/table>\n",
       "<p>5 rows × 29 columns<\/p>\n",
       "<\/div>"
      ]
     },
     "metadata":{
      
     },
     "output_type":"display_data"
    }
   ],
   "metadata":{
    "datalore":{
     "node_id":"n6eJ21cjMa6naHSEQgXTe6",
     "type":"CODE",
     "hide_input_from_viewers":false,
     "hide_output_from_viewers":false
    }
   }
  },
  {
   "cell_type":"code",
   "source":[
    "#df.to_csv('clean_df.csv')\n",
    "df.to_csv('New_data.csv')"
   ],
   "execution_count":69,
   "outputs":[
    
   ],
   "metadata":{
    "datalore":{
     "node_id":"OkrgLYRY61u7OhsBlg2Ryt",
     "type":"CODE",
     "hide_input_from_viewers":false,
     "hide_output_from_viewers":false
    }
   }
  },
  {
   "cell_type":"code",
   "source":[
    
   ],
   "execution_count":null,
   "outputs":[
    
   ],
   "metadata":{
    "datalore":{
     "node_id":"ifyGDvx8ahWp5hb4LojUs9",
     "type":"CODE",
     "hide_input_from_viewers":false,
     "hide_output_from_viewers":false
    }
   }
  },
  {
   "cell_type":"code",
   "source":[
    "## Exploratary DataAnalyst ####\n",
    "### Analyzing Individual Feature Patterns Using Visualization ####\n",
    "#Import visualization packages \"Matplotlib\" and \"Seaborn\". Don't forget about \"%matplotlib inline\" to plot in a Jupyter notebook.\n",
    "\n",
    "# How to choose the right visualization method?¶\n",
    "   #Ans # When visualizing individual variables, it is important to first understand what type of variable you are dealing with. This will help us find the right visualization method for that variable\n",
    "\n",
    "#print(df.dtypes)\n",
    "\n",
    "# What is the data type of the column \"peak-rpm\"? \n",
    "df[\"peak-rpm\"] = df[\"peak-rpm\"].dtypes\n",
    "print(df[\"peak-rpm\"])"
   ],
   "execution_count":179,
   "outputs":[
    {
     "name":"stdout",
     "text":[
      "0      float64\n",
      "1      float64\n",
      "2      float64\n",
      "3      float64\n",
      "4      float64\n",
      "        ...   \n",
      "200    float64\n",
      "201    float64\n",
      "202    float64\n",
      "203    float64\n",
      "204    float64\n",
      "Name: peak-rpm, Length: 205, dtype: object\n"
     ],
     "output_type":"stream"
    }
   ],
   "metadata":{
    "datalore":{
     "node_id":"2Zmx2fIA9vWi3U04J8t3Ld",
     "type":"CODE",
     "hide_input_from_viewers":false,
     "hide_output_from_viewers":false
    }
   }
  },
  {
   "cell_type":"code",
   "source":[
    "###### Exploratory Data Analysis ###########\n",
    "# Analyzing individual Feature Patterns Using Visualization #\n",
    "\n",
    "#df['peak-rpm'].astype\n",
    "\n",
    "# Example, we can calculate the correlation between variables of type \"int64\" or \"float 64\" using the method \"corr\"\n",
    "df.corr()"
   ],
   "execution_count":180,
   "outputs":[
    {
     "data":{
      "text\/html":[
       "<div>\n",
       "<style scoped>\n",
       "    .dataframe tbody tr th:only-of-type {\n",
       "        vertical-align: middle;\n",
       "    }\n",
       "\n",
       "    .dataframe tbody tr th {\n",
       "        vertical-align: top;\n",
       "    }\n",
       "\n",
       "    .dataframe thead th {\n",
       "        text-align: right;\n",
       "    }\n",
       "<\/style>\n",
       "<table border=\"1\" class=\"dataframe\">\n",
       "  <thead>\n",
       "    <tr style=\"text-align: right;\">\n",
       "      <th><\/th>\n",
       "      <th>symboling<\/th>\n",
       "      <th>normalized-losses<\/th>\n",
       "      <th>wheel-base<\/th>\n",
       "      <th>length<\/th>\n",
       "      <th>width<\/th>\n",
       "      <th>height<\/th>\n",
       "      <th>curb-weight<\/th>\n",
       "      <th>engine-size<\/th>\n",
       "      <th>bore<\/th>\n",
       "      <th>stroke<\/th>\n",
       "      <th>compression-ratio<\/th>\n",
       "      <th>horsepower<\/th>\n",
       "      <th>city-mpg<\/th>\n",
       "      <th>highway-L\/100km<\/th>\n",
       "      <th>price<\/th>\n",
       "      <th>city-L\/100km<\/th>\n",
       "      <th>fuel-type-diesel<\/th>\n",
       "      <th>fuel-type-gas<\/th>\n",
       "    <\/tr>\n",
       "  <\/thead>\n",
       "  <tbody>\n",
       "    <tr>\n",
       "      <th>symboling<\/th>\n",
       "      <td>1.000000<\/td>\n",
       "      <td>0.465190<\/td>\n",
       "      <td>-0.531954<\/td>\n",
       "      <td>-0.357612<\/td>\n",
       "      <td>-0.232919<\/td>\n",
       "      <td>-0.541038<\/td>\n",
       "      <td>-0.227691<\/td>\n",
       "      <td>-0.105790<\/td>\n",
       "      <td>-0.130083<\/td>\n",
       "      <td>-0.008689<\/td>\n",
       "      <td>-0.178515<\/td>\n",
       "      <td>NaN<\/td>\n",
       "      <td>-0.035823<\/td>\n",
       "      <td>0.034606<\/td>\n",
       "      <td>NaN<\/td>\n",
       "      <td>-0.030190<\/td>\n",
       "      <td>-0.194311<\/td>\n",
       "      <td>0.194311<\/td>\n",
       "    <\/tr>\n",
       "    <tr>\n",
       "      <th>normalized-losses<\/th>\n",
       "      <td>0.465190<\/td>\n",
       "      <td>1.000000<\/td>\n",
       "      <td>-0.056518<\/td>\n",
       "      <td>0.019209<\/td>\n",
       "      <td>0.084195<\/td>\n",
       "      <td>-0.370706<\/td>\n",
       "      <td>0.097785<\/td>\n",
       "      <td>0.110997<\/td>\n",
       "      <td>-0.029266<\/td>\n",
       "      <td>0.054929<\/td>\n",
       "      <td>-0.114525<\/td>\n",
       "      <td>NaN<\/td>\n",
       "      <td>-0.218749<\/td>\n",
       "      <td>-0.178221<\/td>\n",
       "      <td>NaN<\/td>\n",
       "      <td>0.178527<\/td>\n",
       "      <td>-0.101437<\/td>\n",
       "      <td>0.101437<\/td>\n",
       "    <\/tr>\n",
       "    <tr>\n",
       "      <th>wheel-base<\/th>\n",
       "      <td>-0.531954<\/td>\n",
       "      <td>-0.056518<\/td>\n",
       "      <td>1.000000<\/td>\n",
       "      <td>0.874587<\/td>\n",
       "      <td>0.795144<\/td>\n",
       "      <td>0.589435<\/td>\n",
       "      <td>0.776386<\/td>\n",
       "      <td>0.569329<\/td>\n",
       "      <td>0.488760<\/td>\n",
       "      <td>0.160944<\/td>\n",
       "      <td>0.249786<\/td>\n",
       "      <td>NaN<\/td>\n",
       "      <td>-0.470414<\/td>\n",
       "      <td>-0.544082<\/td>\n",
       "      <td>NaN<\/td>\n",
       "      <td>0.578128<\/td>\n",
       "      <td>0.308346<\/td>\n",
       "      <td>-0.308346<\/td>\n",
       "    <\/tr>\n",
       "    <tr>\n",
       "      <th>length<\/th>\n",
       "      <td>-0.357612<\/td>\n",
       "      <td>0.019209<\/td>\n",
       "      <td>0.874587<\/td>\n",
       "      <td>1.000000<\/td>\n",
       "      <td>0.841118<\/td>\n",
       "      <td>0.491029<\/td>\n",
       "      <td>0.877728<\/td>\n",
       "      <td>0.683360<\/td>\n",
       "      <td>0.606462<\/td>\n",
       "      <td>0.129522<\/td>\n",
       "      <td>0.158414<\/td>\n",
       "      <td>NaN<\/td>\n",
       "      <td>-0.670909<\/td>\n",
       "      <td>-0.704662<\/td>\n",
       "      <td>NaN<\/td>\n",
       "      <td>0.711597<\/td>\n",
       "      <td>0.212679<\/td>\n",
       "      <td>-0.212679<\/td>\n",
       "    <\/tr>\n",
       "    <tr>\n",
       "      <th>width<\/th>\n",
       "      <td>-0.232919<\/td>\n",
       "      <td>0.084195<\/td>\n",
       "      <td>0.795144<\/td>\n",
       "      <td>0.841118<\/td>\n",
       "      <td>1.000000<\/td>\n",
       "      <td>0.279210<\/td>\n",
       "      <td>0.867032<\/td>\n",
       "      <td>0.735433<\/td>\n",
       "      <td>0.559152<\/td>\n",
       "      <td>0.182939<\/td>\n",
       "      <td>0.181129<\/td>\n",
       "      <td>NaN<\/td>\n",
       "      <td>-0.642704<\/td>\n",
       "      <td>-0.677218<\/td>\n",
       "      <td>NaN<\/td>\n",
       "      <td>0.728044<\/td>\n",
       "      <td>0.233880<\/td>\n",
       "      <td>-0.233880<\/td>\n",
       "    <\/tr>\n",
       "    <tr>\n",
       "      <th>height<\/th>\n",
       "      <td>-0.541038<\/td>\n",
       "      <td>-0.370706<\/td>\n",
       "      <td>0.589435<\/td>\n",
       "      <td>0.491029<\/td>\n",
       "      <td>0.279210<\/td>\n",
       "      <td>1.000000<\/td>\n",
       "      <td>0.295572<\/td>\n",
       "      <td>0.067149<\/td>\n",
       "      <td>0.171101<\/td>\n",
       "      <td>-0.055351<\/td>\n",
       "      <td>0.261214<\/td>\n",
       "      <td>NaN<\/td>\n",
       "      <td>-0.048640<\/td>\n",
       "      <td>-0.107358<\/td>\n",
       "      <td>NaN<\/td>\n",
       "      <td>0.085892<\/td>\n",
       "      <td>0.284631<\/td>\n",
       "      <td>-0.284631<\/td>\n",
       "    <\/tr>\n",
       "    <tr>\n",
       "      <th>curb-weight<\/th>\n",
       "      <td>-0.227691<\/td>\n",
       "      <td>0.097785<\/td>\n",
       "      <td>0.776386<\/td>\n",
       "      <td>0.877728<\/td>\n",
       "      <td>0.867032<\/td>\n",
       "      <td>0.295572<\/td>\n",
       "      <td>1.000000<\/td>\n",
       "      <td>0.850594<\/td>\n",
       "      <td>0.648485<\/td>\n",
       "      <td>0.168783<\/td>\n",
       "      <td>0.151362<\/td>\n",
       "      <td>NaN<\/td>\n",
       "      <td>-0.757414<\/td>\n",
       "      <td>-0.797465<\/td>\n",
       "      <td>NaN<\/td>\n",
       "      <td>0.836742<\/td>\n",
       "      <td>0.217275<\/td>\n",
       "      <td>-0.217275<\/td>\n",
       "    <\/tr>\n",
       "    <tr>\n",
       "      <th>engine-size<\/th>\n",
       "      <td>-0.105790<\/td>\n",
       "      <td>0.110997<\/td>\n",
       "      <td>0.569329<\/td>\n",
       "      <td>0.683360<\/td>\n",
       "      <td>0.735433<\/td>\n",
       "      <td>0.067149<\/td>\n",
       "      <td>0.850594<\/td>\n",
       "      <td>1.000000<\/td>\n",
       "      <td>0.583798<\/td>\n",
       "      <td>0.203094<\/td>\n",
       "      <td>0.028971<\/td>\n",
       "      <td>NaN<\/td>\n",
       "      <td>-0.653658<\/td>\n",
       "      <td>-0.677470<\/td>\n",
       "      <td>NaN<\/td>\n",
       "      <td>0.777077<\/td>\n",
       "      <td>0.069594<\/td>\n",
       "      <td>-0.069594<\/td>\n",
       "    <\/tr>\n",
       "    <tr>\n",
       "      <th>bore<\/th>\n",
       "      <td>-0.130083<\/td>\n",
       "      <td>-0.029266<\/td>\n",
       "      <td>0.488760<\/td>\n",
       "      <td>0.606462<\/td>\n",
       "      <td>0.559152<\/td>\n",
       "      <td>0.171101<\/td>\n",
       "      <td>0.648485<\/td>\n",
       "      <td>0.583798<\/td>\n",
       "      <td>1.000000<\/td>\n",
       "      <td>-0.055909<\/td>\n",
       "      <td>0.005201<\/td>\n",
       "      <td>NaN<\/td>\n",
       "      <td>-0.584508<\/td>\n",
       "      <td>-0.586992<\/td>\n",
       "      <td>NaN<\/td>\n",
       "      <td>0.551943<\/td>\n",
       "      <td>0.054457<\/td>\n",
       "      <td>-0.054457<\/td>\n",
       "    <\/tr>\n",
       "    <tr>\n",
       "      <th>stroke<\/th>\n",
       "      <td>-0.008689<\/td>\n",
       "      <td>0.054929<\/td>\n",
       "      <td>0.160944<\/td>\n",
       "      <td>0.129522<\/td>\n",
       "      <td>0.182939<\/td>\n",
       "      <td>-0.055351<\/td>\n",
       "      <td>0.168783<\/td>\n",
       "      <td>0.203094<\/td>\n",
       "      <td>-0.055909<\/td>\n",
       "      <td>1.000000<\/td>\n",
       "      <td>0.186105<\/td>\n",
       "      <td>NaN<\/td>\n",
       "      <td>-0.042179<\/td>\n",
       "      <td>-0.043961<\/td>\n",
       "      <td>NaN<\/td>\n",
       "      <td>0.055433<\/td>\n",
       "      <td>0.241820<\/td>\n",
       "      <td>-0.241820<\/td>\n",
       "    <\/tr>\n",
       "    <tr>\n",
       "      <th>compression-ratio<\/th>\n",
       "      <td>-0.178515<\/td>\n",
       "      <td>-0.114525<\/td>\n",
       "      <td>0.249786<\/td>\n",
       "      <td>0.158414<\/td>\n",
       "      <td>0.181129<\/td>\n",
       "      <td>0.261214<\/td>\n",
       "      <td>0.151362<\/td>\n",
       "      <td>0.028971<\/td>\n",
       "      <td>0.005201<\/td>\n",
       "      <td>0.186105<\/td>\n",
       "      <td>1.000000<\/td>\n",
       "      <td>NaN<\/td>\n",
       "      <td>0.324701<\/td>\n",
       "      <td>0.265201<\/td>\n",
       "      <td>NaN<\/td>\n",
       "      <td>-0.223411<\/td>\n",
       "      <td>0.984356<\/td>\n",
       "      <td>-0.984356<\/td>\n",
       "    <\/tr>\n",
       "    <tr>\n",
       "      <th>horsepower<\/th>\n",
       "      <td>NaN<\/td>\n",
       "      <td>NaN<\/td>\n",
       "      <td>NaN<\/td>\n",
       "      <td>NaN<\/td>\n",
       "      <td>NaN<\/td>\n",
       "      <td>NaN<\/td>\n",
       "      <td>NaN<\/td>\n",
       "      <td>NaN<\/td>\n",
       "      <td>NaN<\/td>\n",
       "      <td>NaN<\/td>\n",
       "      <td>NaN<\/td>\n",
       "      <td>NaN<\/td>\n",
       "      <td>NaN<\/td>\n",
       "      <td>NaN<\/td>\n",
       "      <td>NaN<\/td>\n",
       "      <td>NaN<\/td>\n",
       "      <td>NaN<\/td>\n",
       "      <td>NaN<\/td>\n",
       "    <\/tr>\n",
       "    <tr>\n",
       "      <th>city-mpg<\/th>\n",
       "      <td>-0.035823<\/td>\n",
       "      <td>-0.218749<\/td>\n",
       "      <td>-0.470414<\/td>\n",
       "      <td>-0.670909<\/td>\n",
       "      <td>-0.642704<\/td>\n",
       "      <td>-0.048640<\/td>\n",
       "      <td>-0.757414<\/td>\n",
       "      <td>-0.653658<\/td>\n",
       "      <td>-0.584508<\/td>\n",
       "      <td>-0.042179<\/td>\n",
       "      <td>0.324701<\/td>\n",
       "      <td>NaN<\/td>\n",
       "      <td>1.000000<\/td>\n",
       "      <td>0.971337<\/td>\n",
       "      <td>NaN<\/td>\n",
       "      <td>-0.908439<\/td>\n",
       "      <td>0.255963<\/td>\n",
       "      <td>-0.255963<\/td>\n",
       "    <\/tr>\n",
       "    <tr>\n",
       "      <th>highway-L\/100km<\/th>\n",
       "      <td>0.034606<\/td>\n",
       "      <td>-0.178221<\/td>\n",
       "      <td>-0.544082<\/td>\n",
       "      <td>-0.704662<\/td>\n",
       "      <td>-0.677218<\/td>\n",
       "      <td>-0.107358<\/td>\n",
       "      <td>-0.797465<\/td>\n",
       "      <td>-0.677470<\/td>\n",
       "      <td>-0.586992<\/td>\n",
       "      <td>-0.043961<\/td>\n",
       "      <td>0.265201<\/td>\n",
       "      <td>NaN<\/td>\n",
       "      <td>0.971337<\/td>\n",
       "      <td>1.000000<\/td>\n",
       "      <td>NaN<\/td>\n",
       "      <td>-0.951855<\/td>\n",
       "      <td>0.191392<\/td>\n",
       "      <td>-0.191392<\/td>\n",
       "    <\/tr>\n",
       "    <tr>\n",
       "      <th>price<\/th>\n",
       "      <td>NaN<\/td>\n",
       "      <td>NaN<\/td>\n",
       "      <td>NaN<\/td>\n",
       "      <td>NaN<\/td>\n",
       "      <td>NaN<\/td>\n",
       "      <td>NaN<\/td>\n",
       "      <td>NaN<\/td>\n",
       "      <td>NaN<\/td>\n",
       "      <td>NaN<\/td>\n",
       "      <td>NaN<\/td>\n",
       "      <td>NaN<\/td>\n",
       "      <td>NaN<\/td>\n",
       "      <td>NaN<\/td>\n",
       "      <td>NaN<\/td>\n",
       "      <td>NaN<\/td>\n",
       "      <td>NaN<\/td>\n",
       "      <td>NaN<\/td>\n",
       "      <td>NaN<\/td>\n",
       "    <\/tr>\n",
       "    <tr>\n",
       "      <th>city-L\/100km<\/th>\n",
       "      <td>-0.030190<\/td>\n",
       "      <td>0.178527<\/td>\n",
       "      <td>0.578128<\/td>\n",
       "      <td>0.711597<\/td>\n",
       "      <td>0.728044<\/td>\n",
       "      <td>0.085892<\/td>\n",
       "      <td>0.836742<\/td>\n",
       "      <td>0.777077<\/td>\n",
       "      <td>0.551943<\/td>\n",
       "      <td>0.055433<\/td>\n",
       "      <td>-0.223411<\/td>\n",
       "      <td>NaN<\/td>\n",
       "      <td>-0.908439<\/td>\n",
       "      <td>-0.951855<\/td>\n",
       "      <td>NaN<\/td>\n",
       "      <td>1.000000<\/td>\n",
       "      <td>-0.153710<\/td>\n",
       "      <td>0.153710<\/td>\n",
       "    <\/tr>\n",
       "    <tr>\n",
       "      <th>fuel-type-diesel<\/th>\n",
       "      <td>-0.194311<\/td>\n",
       "      <td>-0.101437<\/td>\n",
       "      <td>0.308346<\/td>\n",
       "      <td>0.212679<\/td>\n",
       "      <td>0.233880<\/td>\n",
       "      <td>0.284631<\/td>\n",
       "      <td>0.217275<\/td>\n",
       "      <td>0.069594<\/td>\n",
       "      <td>0.054457<\/td>\n",
       "      <td>0.241820<\/td>\n",
       "      <td>0.984356<\/td>\n",
       "      <td>NaN<\/td>\n",
       "      <td>0.255963<\/td>\n",
       "      <td>0.191392<\/td>\n",
       "      <td>NaN<\/td>\n",
       "      <td>-0.153710<\/td>\n",
       "      <td>1.000000<\/td>\n",
       "      <td>-1.000000<\/td>\n",
       "    <\/tr>\n",
       "    <tr>\n",
       "      <th>fuel-type-gas<\/th>\n",
       "      <td>0.194311<\/td>\n",
       "      <td>0.101437<\/td>\n",
       "      <td>-0.308346<\/td>\n",
       "      <td>-0.212679<\/td>\n",
       "      <td>-0.233880<\/td>\n",
       "      <td>-0.284631<\/td>\n",
       "      <td>-0.217275<\/td>\n",
       "      <td>-0.069594<\/td>\n",
       "      <td>-0.054457<\/td>\n",
       "      <td>-0.241820<\/td>\n",
       "      <td>-0.984356<\/td>\n",
       "      <td>NaN<\/td>\n",
       "      <td>-0.255963<\/td>\n",
       "      <td>-0.191392<\/td>\n",
       "      <td>NaN<\/td>\n",
       "      <td>0.153710<\/td>\n",
       "      <td>-1.000000<\/td>\n",
       "      <td>1.000000<\/td>\n",
       "    <\/tr>\n",
       "  <\/tbody>\n",
       "<\/table>\n",
       "<\/div>"
      ]
     },
     "metadata":{
      
     },
     "output_type":"display_data"
    }
   ],
   "metadata":{
    "datalore":{
     "node_id":"qcpDo3B9VSlsSAYZR0swB5",
     "type":"CODE",
     "hide_input_from_viewers":false,
     "hide_output_from_viewers":false
    }
   }
  },
  {
   "cell_type":"code",
   "source":[
    "df['horsepower'] = df['horsepower'].isnull()\n",
    "df[\"horsepower\"]=df[\"horsepower\"].astype(float, copy=True)"
   ],
   "execution_count":182,
   "outputs":[
    
   ],
   "metadata":{
    "datalore":{
     "node_id":"cdVsNUz286riClEZWcku9u",
     "type":"CODE",
     "hide_input_from_viewers":false,
     "hide_output_from_viewers":false
    }
   }
  },
  {
   "cell_type":"code",
   "source":[
    "# Q2 find the core relastion between the following columns: broke, stroke, compression-ration, and horsepower\n",
    "# Hint: if you would like to select those columns, use the following syntax: df[['bore','stroke','compression-ratio','horsepower']]\n",
    "\n",
    "df[['bore', 'stroke','compression-ratio', 'horsepower']].corr()\n"
   ],
   "execution_count":183,
   "outputs":[
    {
     "data":{
      "text\/html":[
       "<div>\n",
       "<style scoped>\n",
       "    .dataframe tbody tr th:only-of-type {\n",
       "        vertical-align: middle;\n",
       "    }\n",
       "\n",
       "    .dataframe tbody tr th {\n",
       "        vertical-align: top;\n",
       "    }\n",
       "\n",
       "    .dataframe thead th {\n",
       "        text-align: right;\n",
       "    }\n",
       "<\/style>\n",
       "<table border=\"1\" class=\"dataframe\">\n",
       "  <thead>\n",
       "    <tr style=\"text-align: right;\">\n",
       "      <th><\/th>\n",
       "      <th>bore<\/th>\n",
       "      <th>stroke<\/th>\n",
       "      <th>compression-ratio<\/th>\n",
       "      <th>horsepower<\/th>\n",
       "    <\/tr>\n",
       "  <\/thead>\n",
       "  <tbody>\n",
       "    <tr>\n",
       "      <th>bore<\/th>\n",
       "      <td>1.000000<\/td>\n",
       "      <td>-0.055909<\/td>\n",
       "      <td>0.005201<\/td>\n",
       "      <td>NaN<\/td>\n",
       "    <\/tr>\n",
       "    <tr>\n",
       "      <th>stroke<\/th>\n",
       "      <td>-0.055909<\/td>\n",
       "      <td>1.000000<\/td>\n",
       "      <td>0.186105<\/td>\n",
       "      <td>NaN<\/td>\n",
       "    <\/tr>\n",
       "    <tr>\n",
       "      <th>compression-ratio<\/th>\n",
       "      <td>0.005201<\/td>\n",
       "      <td>0.186105<\/td>\n",
       "      <td>1.000000<\/td>\n",
       "      <td>NaN<\/td>\n",
       "    <\/tr>\n",
       "    <tr>\n",
       "      <th>horsepower<\/th>\n",
       "      <td>NaN<\/td>\n",
       "      <td>NaN<\/td>\n",
       "      <td>NaN<\/td>\n",
       "      <td>NaN<\/td>\n",
       "    <\/tr>\n",
       "  <\/tbody>\n",
       "<\/table>\n",
       "<\/div>"
      ]
     },
     "metadata":{
      
     },
     "output_type":"display_data"
    }
   ],
   "metadata":{
    "datalore":{
     "node_id":"9KKIAU0MO4A96sxL2uNGuK",
     "type":"CODE",
     "hide_input_from_viewers":false,
     "hide_output_from_viewers":false
    }
   }
  },
  {
   "cell_type":"code",
   "source":[
    "#Continus numerical variablen\n",
    "# Postive linear relastionship\n",
    "# Let's find the scatterplot of \"engine-size\" and \"price\".\n",
    "#umerical_var = sns.load_dataset('df')\n",
    "sns.regplot(x=\"engine-size\", y=\"price\", data = df)"
   ],
   "execution_count":184,
   "outputs":[
    {
     "data":{
      "text\/plain":[
       "<AxesSubplot:xlabel='engine-size', ylabel='price'>"
      ]
     },
     "metadata":{
      
     },
     "output_type":"display_data"
    },
    {
     "data":{
      "image\/png":"[encoded data removed]"
     },
     "metadata":{
      "image\/png":{
       
      }
     },
     "output_type":"display_data"
    }
   ],
   "metadata":{
    "datalore":{
     "node_id":"gTEXNw3PvPa97mCvq54qzT",
     "type":"CODE",
     "hide_input_from_viewers":false,
     "hide_output_from_viewers":false
    }
   }
  },
  {
   "cell_type":"code",
   "source":[
    "# Find core relastion between x = \"stroke and y = \"price\"\n",
    "\n",
    "df[['engine-size', 'price']].corr()"
   ],
   "execution_count":185,
   "outputs":[
    {
     "data":{
      "text\/html":[
       "<div>\n",
       "<style scoped>\n",
       "    .dataframe tbody tr th:only-of-type {\n",
       "        vertical-align: middle;\n",
       "    }\n",
       "\n",
       "    .dataframe tbody tr th {\n",
       "        vertical-align: top;\n",
       "    }\n",
       "\n",
       "    .dataframe thead th {\n",
       "        text-align: right;\n",
       "    }\n",
       "<\/style>\n",
       "<table border=\"1\" class=\"dataframe\">\n",
       "  <thead>\n",
       "    <tr style=\"text-align: right;\">\n",
       "      <th><\/th>\n",
       "      <th>engine-size<\/th>\n",
       "      <th>price<\/th>\n",
       "    <\/tr>\n",
       "  <\/thead>\n",
       "  <tbody>\n",
       "    <tr>\n",
       "      <th>engine-size<\/th>\n",
       "      <td>1.0<\/td>\n",
       "      <td>NaN<\/td>\n",
       "    <\/tr>\n",
       "    <tr>\n",
       "      <th>price<\/th>\n",
       "      <td>NaN<\/td>\n",
       "      <td>NaN<\/td>\n",
       "    <\/tr>\n",
       "  <\/tbody>\n",
       "<\/table>\n",
       "<\/div>"
      ]
     },
     "metadata":{
      
     },
     "output_type":"display_data"
    }
   ],
   "metadata":{
    "datalore":{
     "node_id":"TJFuf75qsYeyNls1gH7vSt",
     "type":"CODE",
     "hide_input_from_viewers":false,
     "hide_output_from_viewers":false
    }
   }
  },
  {
   "cell_type":"code",
   "source":[
    "# Highway mpg is a potential predictor variable of price. Let's find the scatterplot of \"highway-mpg\" and \"price\".\n",
    "sns.regplot(x=\"highway-L\/100km\", y=\"price\", data=df)"
   ],
   "execution_count":186,
   "outputs":[
    {
     "data":{
      "text\/plain":[
       "<AxesSubplot:xlabel='highway-L\/100km', ylabel='price'>"
      ]
     },
     "metadata":{
      
     },
     "output_type":"display_data"
    },
    {
     "data":{
      "image\/png":"[encoded data removed]"
     },
     "metadata":{
      "image\/png":{
       
      }
     },
     "output_type":"display_data"
    }
   ],
   "metadata":{
    "datalore":{
     "node_id":"vwOGd90Dp0n26X1qTi3IEL",
     "type":"CODE",
     "hide_input_from_viewers":false,
     "hide_output_from_viewers":false
    }
   }
  },
  {
   "cell_type":"code",
   "source":[
    "\n",
    "df[\"peak-rpm\"] = df[\"peak-rpm\"].isnull()\n",
    "df[\"peak-rpm\"] = df[\"peak-rpm\"].astype(float, copy=True)"
   ],
   "execution_count":187,
   "outputs":[
    
   ],
   "metadata":{
    "datalore":{
     "node_id":"qk3cH5K7F6D3sJpkENym80",
     "type":"CODE",
     "hide_input_from_viewers":false,
     "hide_output_from_viewers":false
    }
   }
  },
  {
   "cell_type":"code",
   "source":[
    "## Waek linear relastionship #######\n",
    "## Let's see if \"peak-rpm\" is a predictor variable of \"price\".#\n",
    "\n",
    "sns.regplot(x=\"peak-rpm\", y=\"price\", data=df)"
   ],
   "execution_count":188,
   "outputs":[
    {
     "data":{
      "text\/plain":[
       "<AxesSubplot:xlabel='peak-rpm', ylabel='price'>"
      ]
     },
     "metadata":{
      
     },
     "output_type":"display_data"
    },
    {
     "data":{
      "image\/png":"[encoded data removed]"
     },
     "metadata":{
      "image\/png":{
       
      }
     },
     "output_type":"display_data"
    }
   ],
   "metadata":{
    "datalore":{
     "node_id":"xDOkOWM1J28ybUN838dXO2",
     "type":"CODE",
     "hide_input_from_viewers":false,
     "hide_output_from_viewers":false
    }
   }
  },
  {
   "cell_type":"code",
   "source":[
    "df[['peak-rpm','price']].corr()"
   ],
   "execution_count":189,
   "outputs":[
    {
     "data":{
      "text\/html":[
       "<div>\n",
       "<style scoped>\n",
       "    .dataframe tbody tr th:only-of-type {\n",
       "        vertical-align: middle;\n",
       "    }\n",
       "\n",
       "    .dataframe tbody tr th {\n",
       "        vertical-align: top;\n",
       "    }\n",
       "\n",
       "    .dataframe thead th {\n",
       "        text-align: right;\n",
       "    }\n",
       "<\/style>\n",
       "<table border=\"1\" class=\"dataframe\">\n",
       "  <thead>\n",
       "    <tr style=\"text-align: right;\">\n",
       "      <th><\/th>\n",
       "      <th>peak-rpm<\/th>\n",
       "      <th>price<\/th>\n",
       "    <\/tr>\n",
       "  <\/thead>\n",
       "  <tbody>\n",
       "    <tr>\n",
       "      <th>peak-rpm<\/th>\n",
       "      <td>NaN<\/td>\n",
       "      <td>NaN<\/td>\n",
       "    <\/tr>\n",
       "    <tr>\n",
       "      <th>price<\/th>\n",
       "      <td>NaN<\/td>\n",
       "      <td>NaN<\/td>\n",
       "    <\/tr>\n",
       "  <\/tbody>\n",
       "<\/table>\n",
       "<\/div>"
      ]
     },
     "metadata":{
      
     },
     "output_type":"display_data"
    }
   ],
   "metadata":{
    "datalore":{
     "node_id":"J5eB2ZYq76VdpDuxgMeFKi",
     "type":"CODE",
     "hide_input_from_viewers":false,
     "hide_output_from_viewers":false
    }
   }
  },
  {
   "cell_type":"code",
   "source":[
    "sns.regplot(x=\"stroke\", y=\"price\", data=df)"
   ],
   "execution_count":190,
   "outputs":[
    {
     "data":{
      "text\/plain":[
       "<AxesSubplot:xlabel='stroke', ylabel='price'>"
      ]
     },
     "metadata":{
      
     },
     "output_type":"display_data"
    },
    {
     "data":{
      "image\/png":"[encoded data removed]"
     },
     "metadata":{
      "image\/png":{
       
      }
     },
     "output_type":"display_data"
    }
   ],
   "metadata":{
    "datalore":{
     "node_id":"zwhbTqzxF9gtaqASwox8HC",
     "type":"CODE",
     "hide_input_from_viewers":false,
     "hide_output_from_viewers":false
    }
   }
  },
  {
   "cell_type":"code",
   "source":[
    "# Corr relastionship between sroke and price\n",
    "df[[\"stroke\", \"price\"]].corr()"
   ],
   "execution_count":191,
   "outputs":[
    {
     "data":{
      "text\/html":[
       "<div>\n",
       "<style scoped>\n",
       "    .dataframe tbody tr th:only-of-type {\n",
       "        vertical-align: middle;\n",
       "    }\n",
       "\n",
       "    .dataframe tbody tr th {\n",
       "        vertical-align: top;\n",
       "    }\n",
       "\n",
       "    .dataframe thead th {\n",
       "        text-align: right;\n",
       "    }\n",
       "<\/style>\n",
       "<table border=\"1\" class=\"dataframe\">\n",
       "  <thead>\n",
       "    <tr style=\"text-align: right;\">\n",
       "      <th><\/th>\n",
       "      <th>stroke<\/th>\n",
       "      <th>price<\/th>\n",
       "    <\/tr>\n",
       "  <\/thead>\n",
       "  <tbody>\n",
       "    <tr>\n",
       "      <th>stroke<\/th>\n",
       "      <td>1.0<\/td>\n",
       "      <td>NaN<\/td>\n",
       "    <\/tr>\n",
       "    <tr>\n",
       "      <th>price<\/th>\n",
       "      <td>NaN<\/td>\n",
       "      <td>NaN<\/td>\n",
       "    <\/tr>\n",
       "  <\/tbody>\n",
       "<\/table>\n",
       "<\/div>"
      ]
     },
     "metadata":{
      
     },
     "output_type":"display_data"
    }
   ],
   "metadata":{
    "datalore":{
     "node_id":"foAepb8KnCKqy6EzvxlYz0",
     "type":"CODE",
     "hide_input_from_viewers":false,
     "hide_output_from_viewers":false
    }
   }
  },
  {
   "cell_type":"code",
   "source":[
    "# Categorical variable ####\n",
    "## These are variables that describe a 'characteristic' of a data unit, and are selected from a small group of categories. The categorical variables can have the type \"object\" or \"int64\". \n",
    "# A good way to visualize categorical variables is by using boxplots.\n",
    "\n",
    "# Let's look at the relationship between \"body-style\" and \"price\".\n",
    "sns.boxplot(x=\"body-style\", y=\"price\", data=df)\n",
    "\n",
    "# We see that the distributions of price between the different body-style categories have a significant overlap, \n",
    "# so body-style would not be a good predictor of price. Let's examine engine \"engine-location\" and \"price\":"
   ],
   "execution_count":192,
   "outputs":[
    {
     "data":{
      "text\/plain":[
       "<AxesSubplot:xlabel='body-style', ylabel='price'>"
      ]
     },
     "metadata":{
      
     },
     "output_type":"display_data"
    },
    {
     "data":{
      "image\/png":"[encoded data removed]"
     },
     "metadata":{
      "image\/png":{
       
      }
     },
     "output_type":"display_data"
    }
   ],
   "metadata":{
    "datalore":{
     "node_id":"lVVX1rvRGTx6jfCqdgjYZF",
     "type":"CODE",
     "hide_input_from_viewers":false,
     "hide_output_from_viewers":false
    }
   }
  },
  {
   "cell_type":"code",
   "source":[
    "sns.boxplot(x=\"engine-location\", y=\"price\", data=df)\n",
    "\n",
    "#Here we see that the distribution of price between these two engine-location categories, front and rear, \n",
    "# are distinct enough to take engine-location as a potential good predictor of price."
   ],
   "execution_count":193,
   "outputs":[
    {
     "data":{
      "text\/plain":[
       "<AxesSubplot:xlabel='engine-location', ylabel='price'>"
      ]
     },
     "metadata":{
      
     },
     "output_type":"display_data"
    },
    {
     "data":{
      "image\/png":"[encoded data removed]"
     },
     "metadata":{
      "image\/png":{
       
      }
     },
     "output_type":"display_data"
    }
   ],
   "metadata":{
    "datalore":{
     "node_id":"uouljQU6DiT94BZueIXwN7",
     "type":"CODE",
     "hide_input_from_viewers":false,
     "hide_output_from_viewers":false
    }
   }
  },
  {
   "cell_type":"code",
   "source":[
    "## Descriptive static analyst ####\n",
    "##The describe function automatically computes basic statistics for all continuous variables. \n",
    "# Any NaN values are automatically skipped in these statistics.\n",
    "\n",
    "# df.describe()\n",
    "df.describe(include=['object'])"
   ],
   "execution_count":194,
   "outputs":[
    {
     "data":{
      "text\/html":[
       "<div>\n",
       "<style scoped>\n",
       "    .dataframe tbody tr th:only-of-type {\n",
       "        vertical-align: middle;\n",
       "    }\n",
       "\n",
       "    .dataframe tbody tr th {\n",
       "        vertical-align: top;\n",
       "    }\n",
       "\n",
       "    .dataframe thead th {\n",
       "        text-align: right;\n",
       "    }\n",
       "<\/style>\n",
       "<table border=\"1\" class=\"dataframe\">\n",
       "  <thead>\n",
       "    <tr style=\"text-align: right;\">\n",
       "      <th><\/th>\n",
       "      <th>make<\/th>\n",
       "      <th>aspiration<\/th>\n",
       "      <th>num-of-doors<\/th>\n",
       "      <th>body-style<\/th>\n",
       "      <th>drive-wheels<\/th>\n",
       "      <th>engine-location<\/th>\n",
       "      <th>engine-type<\/th>\n",
       "      <th>num-of-cylinders<\/th>\n",
       "      <th>fuel-system<\/th>\n",
       "    <\/tr>\n",
       "  <\/thead>\n",
       "  <tbody>\n",
       "    <tr>\n",
       "      <th>count<\/th>\n",
       "      <td>205<\/td>\n",
       "      <td>205<\/td>\n",
       "      <td>205<\/td>\n",
       "      <td>205<\/td>\n",
       "      <td>205<\/td>\n",
       "      <td>205<\/td>\n",
       "      <td>205<\/td>\n",
       "      <td>205<\/td>\n",
       "      <td>205<\/td>\n",
       "    <\/tr>\n",
       "    <tr>\n",
       "      <th>unique<\/th>\n",
       "      <td>22<\/td>\n",
       "      <td>2<\/td>\n",
       "      <td>2<\/td>\n",
       "      <td>5<\/td>\n",
       "      <td>3<\/td>\n",
       "      <td>2<\/td>\n",
       "      <td>7<\/td>\n",
       "      <td>7<\/td>\n",
       "      <td>8<\/td>\n",
       "    <\/tr>\n",
       "    <tr>\n",
       "      <th>top<\/th>\n",
       "      <td>toyota<\/td>\n",
       "      <td>std<\/td>\n",
       "      <td>four<\/td>\n",
       "      <td>sedan<\/td>\n",
       "      <td>fwd<\/td>\n",
       "      <td>front<\/td>\n",
       "      <td>ohc<\/td>\n",
       "      <td>four<\/td>\n",
       "      <td>mpfi<\/td>\n",
       "    <\/tr>\n",
       "    <tr>\n",
       "      <th>freq<\/th>\n",
       "      <td>32<\/td>\n",
       "      <td>168<\/td>\n",
       "      <td>116<\/td>\n",
       "      <td>96<\/td>\n",
       "      <td>120<\/td>\n",
       "      <td>202<\/td>\n",
       "      <td>148<\/td>\n",
       "      <td>159<\/td>\n",
       "      <td>94<\/td>\n",
       "    <\/tr>\n",
       "  <\/tbody>\n",
       "<\/table>\n",
       "<\/div>"
      ]
     },
     "metadata":{
      
     },
     "output_type":"display_data"
    }
   ],
   "metadata":{
    "datalore":{
     "node_id":"tTJNQKlNJrYh4NigHXAKUr",
     "type":"CODE",
     "hide_input_from_viewers":false,
     "hide_output_from_viewers":false
    }
   }
  },
  {
   "cell_type":"code",
   "source":[
    "## Value Counts #####\n",
    "# Value counts is a good way of understanding how many units of each characteristic\/variable we have\n",
    "# We can apply the \"value_counts\" method on the column \"drive-wheels\". \n",
    "# Don’t forget the method \"value_counts\" only works on pandas series, not pandas dataframes\n",
    "# As a result, we only include one bracket df['drive-wheels'], not two brackets df[['drive-wheels']].\n",
    "\n",
    "#df['drive-wheels'].value_counts()\n",
    "\n",
    "# We can convert the series to a dataframe as follows\n",
    "df['drive-wheels'].value_counts().to_frame()"
   ],
   "execution_count":195,
   "outputs":[
    {
     "data":{
      "text\/html":[
       "<div>\n",
       "<style scoped>\n",
       "    .dataframe tbody tr th:only-of-type {\n",
       "        vertical-align: middle;\n",
       "    }\n",
       "\n",
       "    .dataframe tbody tr th {\n",
       "        vertical-align: top;\n",
       "    }\n",
       "\n",
       "    .dataframe thead th {\n",
       "        text-align: right;\n",
       "    }\n",
       "<\/style>\n",
       "<table border=\"1\" class=\"dataframe\">\n",
       "  <thead>\n",
       "    <tr style=\"text-align: right;\">\n",
       "      <th><\/th>\n",
       "      <th>drive-wheels<\/th>\n",
       "    <\/tr>\n",
       "  <\/thead>\n",
       "  <tbody>\n",
       "    <tr>\n",
       "      <th>fwd<\/th>\n",
       "      <td>120<\/td>\n",
       "    <\/tr>\n",
       "    <tr>\n",
       "      <th>rwd<\/th>\n",
       "      <td>76<\/td>\n",
       "    <\/tr>\n",
       "    <tr>\n",
       "      <th>4wd<\/th>\n",
       "      <td>9<\/td>\n",
       "    <\/tr>\n",
       "  <\/tbody>\n",
       "<\/table>\n",
       "<\/div>"
      ]
     },
     "metadata":{
      
     },
     "output_type":"display_data"
    }
   ],
   "metadata":{
    "datalore":{
     "node_id":"cYVP1ot4K6SbsKYwKnORWJ",
     "type":"CODE",
     "hide_input_from_viewers":false,
     "hide_output_from_viewers":false
    }
   }
  },
  {
   "cell_type":"code",
   "source":[
    "# Let's repeat the above steps but save the results to the dataframe \"drive_wheels_counts\" and rename the column 'drive-wheels' to 'value_counts'\n",
    "drive_wheels_counts = df[\"drive-wheels\"].value_counts().to_frame()\n",
    "drive_wheels_counts.rename(columns={'drive-wheels': 'value_counts'}, inplace=True) # rename columns\n",
    "drive_wheels_counts"
   ],
   "execution_count":196,
   "outputs":[
    {
     "data":{
      "text\/html":[
       "<div>\n",
       "<style scoped>\n",
       "    .dataframe tbody tr th:only-of-type {\n",
       "        vertical-align: middle;\n",
       "    }\n",
       "\n",
       "    .dataframe tbody tr th {\n",
       "        vertical-align: top;\n",
       "    }\n",
       "\n",
       "    .dataframe thead th {\n",
       "        text-align: right;\n",
       "    }\n",
       "<\/style>\n",
       "<table border=\"1\" class=\"dataframe\">\n",
       "  <thead>\n",
       "    <tr style=\"text-align: right;\">\n",
       "      <th><\/th>\n",
       "      <th>value_counts<\/th>\n",
       "    <\/tr>\n",
       "  <\/thead>\n",
       "  <tbody>\n",
       "    <tr>\n",
       "      <th>fwd<\/th>\n",
       "      <td>120<\/td>\n",
       "    <\/tr>\n",
       "    <tr>\n",
       "      <th>rwd<\/th>\n",
       "      <td>76<\/td>\n",
       "    <\/tr>\n",
       "    <tr>\n",
       "      <th>4wd<\/th>\n",
       "      <td>9<\/td>\n",
       "    <\/tr>\n",
       "  <\/tbody>\n",
       "<\/table>\n",
       "<\/div>"
      ]
     },
     "metadata":{
      
     },
     "output_type":"display_data"
    }
   ],
   "metadata":{
    "datalore":{
     "node_id":"ucanlr87FuXvGVhc05oZWZ",
     "type":"CODE",
     "hide_input_from_viewers":false,
     "hide_output_from_viewers":false
    }
   }
  },
  {
   "cell_type":"code",
   "source":[
    "drive_wheels_counts.index.name = 'drive-wheels'\n",
    "drive_wheels_counts"
   ],
   "execution_count":197,
   "outputs":[
    {
     "data":{
      "text\/html":[
       "<div>\n",
       "<style scoped>\n",
       "    .dataframe tbody tr th:only-of-type {\n",
       "        vertical-align: middle;\n",
       "    }\n",
       "\n",
       "    .dataframe tbody tr th {\n",
       "        vertical-align: top;\n",
       "    }\n",
       "\n",
       "    .dataframe thead th {\n",
       "        text-align: right;\n",
       "    }\n",
       "<\/style>\n",
       "<table border=\"1\" class=\"dataframe\">\n",
       "  <thead>\n",
       "    <tr style=\"text-align: right;\">\n",
       "      <th><\/th>\n",
       "      <th>value_counts<\/th>\n",
       "    <\/tr>\n",
       "    <tr>\n",
       "      <th>drive-wheels<\/th>\n",
       "      <th><\/th>\n",
       "    <\/tr>\n",
       "  <\/thead>\n",
       "  <tbody>\n",
       "    <tr>\n",
       "      <th>fwd<\/th>\n",
       "      <td>120<\/td>\n",
       "    <\/tr>\n",
       "    <tr>\n",
       "      <th>rwd<\/th>\n",
       "      <td>76<\/td>\n",
       "    <\/tr>\n",
       "    <tr>\n",
       "      <th>4wd<\/th>\n",
       "      <td>9<\/td>\n",
       "    <\/tr>\n",
       "  <\/tbody>\n",
       "<\/table>\n",
       "<\/div>"
      ]
     },
     "metadata":{
      
     },
     "output_type":"display_data"
    }
   ],
   "metadata":{
    "datalore":{
     "node_id":"ialY2m3GsjIRmVDKkAhzG9",
     "type":"CODE",
     "hide_input_from_viewers":false,
     "hide_output_from_viewers":false
    }
   }
  },
  {
   "cell_type":"code",
   "source":[
    "# Example for enginee\n",
    "#df.info()\n",
    "engine_loc_counts = df[\"engine-location\"].value_counts().to_frame()\n",
    "engine_loc_counts.rename(columns={'engine-location': 'value_counts'}, inplace=True)\n",
    "engine_loc_counts.index.name = \"engine-location\"\n",
    "engine_loc_counts\n",
    "\n",
    "\n",
    "# After examining the value counts of the engine location, we see that engine location would not be a good predictor variable for the price. \n",
    "# This is because we only have three cars with a rear engine and 198 with an engine in the front, so this result is skewed. Thus, we are not able to draw any conclusions about the engine location."
   ],
   "execution_count":198,
   "outputs":[
    {
     "data":{
      "text\/html":[
       "<div>\n",
       "<style scoped>\n",
       "    .dataframe tbody tr th:only-of-type {\n",
       "        vertical-align: middle;\n",
       "    }\n",
       "\n",
       "    .dataframe tbody tr th {\n",
       "        vertical-align: top;\n",
       "    }\n",
       "\n",
       "    .dataframe thead th {\n",
       "        text-align: right;\n",
       "    }\n",
       "<\/style>\n",
       "<table border=\"1\" class=\"dataframe\">\n",
       "  <thead>\n",
       "    <tr style=\"text-align: right;\">\n",
       "      <th><\/th>\n",
       "      <th>value_counts<\/th>\n",
       "    <\/tr>\n",
       "    <tr>\n",
       "      <th>engine-location<\/th>\n",
       "      <th><\/th>\n",
       "    <\/tr>\n",
       "  <\/thead>\n",
       "  <tbody>\n",
       "    <tr>\n",
       "      <th>front<\/th>\n",
       "      <td>202<\/td>\n",
       "    <\/tr>\n",
       "    <tr>\n",
       "      <th>rear<\/th>\n",
       "      <td>3<\/td>\n",
       "    <\/tr>\n",
       "  <\/tbody>\n",
       "<\/table>\n",
       "<\/div>"
      ]
     },
     "metadata":{
      
     },
     "output_type":"display_data"
    }
   ],
   "metadata":{
    "datalore":{
     "node_id":"g6D7bGsSyPPnIF1O11zbjK",
     "type":"CODE",
     "hide_input_from_viewers":false,
     "hide_output_from_viewers":false
    }
   }
  },
  {
   "cell_type":"code",
   "source":[
    "## Basic of grouping ###\n",
    "# The \"groupby\" method groups data by different categories. \n",
    "# The data is grouped based on one or several variables, and analysis is performed on the individual groups.\n",
    "# For example, let's group by the variable \"drive-wheels\". We see that there are 3 different categories of drive wheels\n",
    "\n",
    "df['drive-wheels'].unique()"
   ],
   "execution_count":199,
   "outputs":[
    {
     "data":{
      "text\/html":[
       
      ]
     },
     "metadata":{
      
     },
     "output_type":"display_data"
    }
   ],
   "metadata":{
    "datalore":{
     "node_id":"GAb8eEzBrtMIa7mFXWEPMO",
     "type":"CODE",
     "hide_input_from_viewers":false,
     "hide_output_from_viewers":false
    }
   }
  },
  {
   "cell_type":"code",
   "source":[
    "# If we want to know, on average, which type of drive wheel is most valuable, we can group \"drive-wheels\" and then average them.\n",
    "# We can select the columns 'drive-wheels', 'body-style' and 'price', then assign it to the variable \"df_group_one\".\n",
    "df_group_one = df[['drive-wheels','body-style','price']]\n",
    "\n",
    "# We can then calculate the average price for each of the different categories of data.\n",
    "# grouping results\n",
    "group_one = df_group_one.groupby(['drive-wheels', 'body-style'],as_index=False).mean()\n",
    "group_one\n",
    "\n",
    "# This grouped data is much easier to visualize when it is made into a pivot table.\n",
    "# A pivot table is like an Excel spreadsheet, with one variable along the column and another along the row. \n",
    "# We can convert the dataframe to a pivot table using the method \"pivot\" to create a pivot table from the groups."
   ],
   "execution_count":200,
   "outputs":[
    {
     "data":{
      "text\/html":[
       "<div>\n",
       "<style scoped>\n",
       "    .dataframe tbody tr th:only-of-type {\n",
       "        vertical-align: middle;\n",
       "    }\n",
       "\n",
       "    .dataframe tbody tr th {\n",
       "        vertical-align: top;\n",
       "    }\n",
       "\n",
       "    .dataframe thead th {\n",
       "        text-align: right;\n",
       "    }\n",
       "<\/style>\n",
       "<table border=\"1\" class=\"dataframe\">\n",
       "  <thead>\n",
       "    <tr style=\"text-align: right;\">\n",
       "      <th><\/th>\n",
       "      <th>drive-wheels<\/th>\n",
       "      <th>body-style<\/th>\n",
       "      <th>price<\/th>\n",
       "    <\/tr>\n",
       "  <\/thead>\n",
       "  <tbody>\n",
       "    <tr>\n",
       "      <th>0<\/th>\n",
       "      <td>4wd<\/td>\n",
       "      <td>hatchback<\/td>\n",
       "      <td>0.0<\/td>\n",
       "    <\/tr>\n",
       "    <tr>\n",
       "      <th>1<\/th>\n",
       "      <td>4wd<\/td>\n",
       "      <td>sedan<\/td>\n",
       "      <td>0.0<\/td>\n",
       "    <\/tr>\n",
       "    <tr>\n",
       "      <th>2<\/th>\n",
       "      <td>4wd<\/td>\n",
       "      <td>wagon<\/td>\n",
       "      <td>0.0<\/td>\n",
       "    <\/tr>\n",
       "    <tr>\n",
       "      <th>3<\/th>\n",
       "      <td>fwd<\/td>\n",
       "      <td>convertible<\/td>\n",
       "      <td>0.0<\/td>\n",
       "    <\/tr>\n",
       "    <tr>\n",
       "      <th>4<\/th>\n",
       "      <td>fwd<\/td>\n",
       "      <td>hardtop<\/td>\n",
       "      <td>0.0<\/td>\n",
       "    <\/tr>\n",
       "    <tr>\n",
       "      <th>5<\/th>\n",
       "      <td>fwd<\/td>\n",
       "      <td>hatchback<\/td>\n",
       "      <td>0.0<\/td>\n",
       "    <\/tr>\n",
       "    <tr>\n",
       "      <th>6<\/th>\n",
       "      <td>fwd<\/td>\n",
       "      <td>sedan<\/td>\n",
       "      <td>0.0<\/td>\n",
       "    <\/tr>\n",
       "    <tr>\n",
       "      <th>7<\/th>\n",
       "      <td>fwd<\/td>\n",
       "      <td>wagon<\/td>\n",
       "      <td>0.0<\/td>\n",
       "    <\/tr>\n",
       "    <tr>\n",
       "      <th>8<\/th>\n",
       "      <td>rwd<\/td>\n",
       "      <td>convertible<\/td>\n",
       "      <td>0.0<\/td>\n",
       "    <\/tr>\n",
       "    <tr>\n",
       "      <th>9<\/th>\n",
       "      <td>rwd<\/td>\n",
       "      <td>hardtop<\/td>\n",
       "      <td>0.0<\/td>\n",
       "    <\/tr>\n",
       "    <tr>\n",
       "      <th>10<\/th>\n",
       "      <td>rwd<\/td>\n",
       "      <td>hatchback<\/td>\n",
       "      <td>0.0<\/td>\n",
       "    <\/tr>\n",
       "    <tr>\n",
       "      <th>11<\/th>\n",
       "      <td>rwd<\/td>\n",
       "      <td>sedan<\/td>\n",
       "      <td>0.0<\/td>\n",
       "    <\/tr>\n",
       "    <tr>\n",
       "      <th>12<\/th>\n",
       "      <td>rwd<\/td>\n",
       "      <td>wagon<\/td>\n",
       "      <td>0.0<\/td>\n",
       "    <\/tr>\n",
       "  <\/tbody>\n",
       "<\/table>\n",
       "<\/div>"
      ]
     },
     "metadata":{
      
     },
     "output_type":"display_data"
    }
   ],
   "metadata":{
    "datalore":{
     "node_id":"wrqOehzhlZP8AoZk7jjXEZ",
     "type":"CODE",
     "hide_input_from_viewers":false,
     "hide_output_from_viewers":false
    }
   }
  },
  {
   "cell_type":"code",
   "source":[
    "# we will leave the drive-wheels variable as the rows of the table, and pivot body-style to become the columns of the table:\n",
    "\n",
    "grouped_pivot = group_one.pivot(index= 'drive-wheels',columns='body-style')\n",
    "grouped_pivot"
   ],
   "execution_count":201,
   "outputs":[
    {
     "data":{
      "text\/html":[
       "<div>\n",
       "<style scoped>\n",
       "    .dataframe tbody tr th:only-of-type {\n",
       "        vertical-align: middle;\n",
       "    }\n",
       "\n",
       "    .dataframe tbody tr th {\n",
       "        vertical-align: top;\n",
       "    }\n",
       "\n",
       "    .dataframe thead tr th {\n",
       "        text-align: left;\n",
       "    }\n",
       "\n",
       "    .dataframe thead tr:last-of-type th {\n",
       "        text-align: right;\n",
       "    }\n",
       "<\/style>\n",
       "<table border=\"1\" class=\"dataframe\">\n",
       "  <thead>\n",
       "    <tr>\n",
       "      <th><\/th>\n",
       "      <th colspan=\"5\" halign=\"left\">price<\/th>\n",
       "    <\/tr>\n",
       "    <tr>\n",
       "      <th>body-style<\/th>\n",
       "      <th>convertible<\/th>\n",
       "      <th>hardtop<\/th>\n",
       "      <th>hatchback<\/th>\n",
       "      <th>sedan<\/th>\n",
       "      <th>wagon<\/th>\n",
       "    <\/tr>\n",
       "    <tr>\n",
       "      <th>drive-wheels<\/th>\n",
       "      <th><\/th>\n",
       "      <th><\/th>\n",
       "      <th><\/th>\n",
       "      <th><\/th>\n",
       "      <th><\/th>\n",
       "    <\/tr>\n",
       "  <\/thead>\n",
       "  <tbody>\n",
       "    <tr>\n",
       "      <th>4wd<\/th>\n",
       "      <td>NaN<\/td>\n",
       "      <td>NaN<\/td>\n",
       "      <td>0.0<\/td>\n",
       "      <td>0.0<\/td>\n",
       "      <td>0.0<\/td>\n",
       "    <\/tr>\n",
       "    <tr>\n",
       "      <th>fwd<\/th>\n",
       "      <td>0.0<\/td>\n",
       "      <td>0.0<\/td>\n",
       "      <td>0.0<\/td>\n",
       "      <td>0.0<\/td>\n",
       "      <td>0.0<\/td>\n",
       "    <\/tr>\n",
       "    <tr>\n",
       "      <th>rwd<\/th>\n",
       "      <td>0.0<\/td>\n",
       "      <td>0.0<\/td>\n",
       "      <td>0.0<\/td>\n",
       "      <td>0.0<\/td>\n",
       "      <td>0.0<\/td>\n",
       "    <\/tr>\n",
       "  <\/tbody>\n",
       "<\/table>\n",
       "<\/div>"
      ]
     },
     "metadata":{
      
     },
     "output_type":"display_data"
    }
   ],
   "metadata":{
    "datalore":{
     "node_id":"QNxGJ6UOQzfdJWFw43Gq6z",
     "type":"CODE",
     "hide_input_from_viewers":false,
     "hide_output_from_viewers":false
    }
   }
  },
  {
   "cell_type":"code",
   "source":[
    "# \n",
    "grouped_pivot = grouped_pivot.fillna(0) #fill missing values with 0\n",
    "grouped_pivot"
   ],
   "execution_count":202,
   "outputs":[
    {
     "data":{
      "text\/html":[
       "<div>\n",
       "<style scoped>\n",
       "    .dataframe tbody tr th:only-of-type {\n",
       "        vertical-align: middle;\n",
       "    }\n",
       "\n",
       "    .dataframe tbody tr th {\n",
       "        vertical-align: top;\n",
       "    }\n",
       "\n",
       "    .dataframe thead tr th {\n",
       "        text-align: left;\n",
       "    }\n",
       "\n",
       "    .dataframe thead tr:last-of-type th {\n",
       "        text-align: right;\n",
       "    }\n",
       "<\/style>\n",
       "<table border=\"1\" class=\"dataframe\">\n",
       "  <thead>\n",
       "    <tr>\n",
       "      <th><\/th>\n",
       "      <th colspan=\"5\" halign=\"left\">price<\/th>\n",
       "    <\/tr>\n",
       "    <tr>\n",
       "      <th>body-style<\/th>\n",
       "      <th>convertible<\/th>\n",
       "      <th>hardtop<\/th>\n",
       "      <th>hatchback<\/th>\n",
       "      <th>sedan<\/th>\n",
       "      <th>wagon<\/th>\n",
       "    <\/tr>\n",
       "    <tr>\n",
       "      <th>drive-wheels<\/th>\n",
       "      <th><\/th>\n",
       "      <th><\/th>\n",
       "      <th><\/th>\n",
       "      <th><\/th>\n",
       "      <th><\/th>\n",
       "    <\/tr>\n",
       "  <\/thead>\n",
       "  <tbody>\n",
       "    <tr>\n",
       "      <th>4wd<\/th>\n",
       "      <td>0.0<\/td>\n",
       "      <td>0.0<\/td>\n",
       "      <td>0.0<\/td>\n",
       "      <td>0.0<\/td>\n",
       "      <td>0.0<\/td>\n",
       "    <\/tr>\n",
       "    <tr>\n",
       "      <th>fwd<\/th>\n",
       "      <td>0.0<\/td>\n",
       "      <td>0.0<\/td>\n",
       "      <td>0.0<\/td>\n",
       "      <td>0.0<\/td>\n",
       "      <td>0.0<\/td>\n",
       "    <\/tr>\n",
       "    <tr>\n",
       "      <th>rwd<\/th>\n",
       "      <td>0.0<\/td>\n",
       "      <td>0.0<\/td>\n",
       "      <td>0.0<\/td>\n",
       "      <td>0.0<\/td>\n",
       "      <td>0.0<\/td>\n",
       "    <\/tr>\n",
       "  <\/tbody>\n",
       "<\/table>\n",
       "<\/div>"
      ]
     },
     "metadata":{
      
     },
     "output_type":"display_data"
    }
   ],
   "metadata":{
    "datalore":{
     "node_id":"5e0aJcFZb0s7rne0ntnAH4",
     "type":"CODE",
     "hide_input_from_viewers":false,
     "hide_output_from_viewers":false
    }
   }
  },
  {
   "cell_type":"code",
   "source":[
    "# use group by funcation to fian an average \"price\" of each car baed on body-style\n",
    "df_gtest2 = df[[\"body-style\", \"price\"]]\n",
    "group_test_bodystyle = df_gtest2.groupby(['body-style'], as_index= False).mean()\n",
    "group_test_bodystyle"
   ],
   "execution_count":203,
   "outputs":[
    {
     "data":{
      "text\/html":[
       "<div>\n",
       "<style scoped>\n",
       "    .dataframe tbody tr th:only-of-type {\n",
       "        vertical-align: middle;\n",
       "    }\n",
       "\n",
       "    .dataframe tbody tr th {\n",
       "        vertical-align: top;\n",
       "    }\n",
       "\n",
       "    .dataframe thead th {\n",
       "        text-align: right;\n",
       "    }\n",
       "<\/style>\n",
       "<table border=\"1\" class=\"dataframe\">\n",
       "  <thead>\n",
       "    <tr style=\"text-align: right;\">\n",
       "      <th><\/th>\n",
       "      <th>body-style<\/th>\n",
       "      <th>price<\/th>\n",
       "    <\/tr>\n",
       "  <\/thead>\n",
       "  <tbody>\n",
       "    <tr>\n",
       "      <th>0<\/th>\n",
       "      <td>convertible<\/td>\n",
       "      <td>0.0<\/td>\n",
       "    <\/tr>\n",
       "    <tr>\n",
       "      <th>1<\/th>\n",
       "      <td>hardtop<\/td>\n",
       "      <td>0.0<\/td>\n",
       "    <\/tr>\n",
       "    <tr>\n",
       "      <th>2<\/th>\n",
       "      <td>hatchback<\/td>\n",
       "      <td>0.0<\/td>\n",
       "    <\/tr>\n",
       "    <tr>\n",
       "      <th>3<\/th>\n",
       "      <td>sedan<\/td>\n",
       "      <td>0.0<\/td>\n",
       "    <\/tr>\n",
       "    <tr>\n",
       "      <th>4<\/th>\n",
       "      <td>wagon<\/td>\n",
       "      <td>0.0<\/td>\n",
       "    <\/tr>\n",
       "  <\/tbody>\n",
       "<\/table>\n",
       "<\/div>"
      ]
     },
     "metadata":{
      
     },
     "output_type":"display_data"
    }
   ],
   "metadata":{
    "datalore":{
     "node_id":"qt5CXN7oHGTyY8aRrbwrS3",
     "type":"CODE",
     "hide_input_from_viewers":false,
     "hide_output_from_viewers":false
    }
   }
  },
  {
   "cell_type":"code",
   "source":[
    "# Variables: Drive Wheels and Body Style vs. Price\n",
    "\n",
    "# Let's use a heat map to visualize the relationship between Body Style vs Price.\n",
    "\n",
    "%matplotlib inline\n",
    "import matplotlib.pyplot as plt\n",
    "\n",
    "#use the grouped results\n",
    "plt.pcolor(grouped_pivot, cmap='RdBu')\n",
    "plt.colorbar()\n",
    "plt.show()"
   ],
   "execution_count":204,
   "outputs":[
    {
     "data":{
      "image\/png":"[encoded data removed]"
     },
     "metadata":{
      "image\/png":{
       
      }
     },
     "output_type":"display_data"
    }
   ],
   "metadata":{
    "datalore":{
     "node_id":"oNngAb5yBjb3f7icDDbAau",
     "type":"CODE",
     "hide_input_from_viewers":false,
     "hide_output_from_viewers":false
    }
   }
  },
  {
   "cell_type":"code",
   "source":[
    "\n",
    "# The default labels convey no useful information to us. Let's change that:\n",
    "\n",
    "fig, ax = plt.subplots()\n",
    "im = ax.pcolor(grouped_pivot, cmap='RdBu')\n",
    "\n",
    "#label names\n",
    "row_labels = grouped_pivot.columns.levels[1]\n",
    "col_labels = grouped_pivot.index\n",
    "\n",
    "#move ticks and labels to the center\n",
    "ax.set_xticks(np.arange(grouped_pivot.shape[1]) + 0.5, minor=False)\n",
    "ax.set_yticks(np.arange(grouped_pivot.shape[0]) + 0.5, minor=False)\n",
    "\n",
    "#insert labels\n",
    "ax.set_xticklabels(row_labels, minor=False)\n",
    "ax.set_yticklabels(col_labels, minor=False)\n",
    "\n",
    "#rotate label if too long\n",
    "plt.xticks(rotation=90)\n",
    "\n",
    "fig.colorbar(im)\n",
    "plt.show()"
   ],
   "execution_count":205,
   "outputs":[
    {
     "data":{
      "image\/png":"[encoded data removed]"
     },
     "metadata":{
      "image\/png":{
       
      }
     },
     "output_type":"display_data"
    }
   ],
   "metadata":{
    "datalore":{
     "node_id":"U3eqn377Fax55wJ3JYl68p",
     "type":"CODE",
     "hide_input_from_viewers":false,
     "hide_output_from_viewers":false
    }
   }
  },
  {
   "cell_type":"code",
   "source":[
    "### Correlation and causstion \n",
    "\n",
    "# The main question we want to answer in this module is, \n",
    "# \"What are the main characteristics which have the most impact on the car price?\".\n",
    "\n",
    "# To get a better measure of the important characteristics, \n",
    "# we look at the correlation of these variables with the car price. In other words: how is the car price dependent on this variable?\n",
    "\n",
    "# Correlation: a measure of the extent of interdependence between variables.\n",
    "\n",
    "# Causation: the relationship between cause and effect between two variables.\n",
    "\n",
    "  # The Pearson Correlation measures the linear dependence between two variables X and Y.\n",
    "\n",
    "      # The resulting coefficient is a value between -1 and 1 inclusive, where:\n",
    "\n",
    "   # 1: Perfect positive linear correlation.\n",
    "   # 0: No linear correlation, the two variables most likely do not affect each other.\n",
    "   # -1: Perfect negative linear correlation.\n",
    "\n",
    "df.corr()"
   ],
   "execution_count":207,
   "outputs":[
    {
     "data":{
      "text\/html":[
       "<div>\n",
       "<style scoped>\n",
       "    .dataframe tbody tr th:only-of-type {\n",
       "        vertical-align: middle;\n",
       "    }\n",
       "\n",
       "    .dataframe tbody tr th {\n",
       "        vertical-align: top;\n",
       "    }\n",
       "\n",
       "    .dataframe thead th {\n",
       "        text-align: right;\n",
       "    }\n",
       "<\/style>\n",
       "<table border=\"1\" class=\"dataframe\">\n",
       "  <thead>\n",
       "    <tr style=\"text-align: right;\">\n",
       "      <th><\/th>\n",
       "      <th>symboling<\/th>\n",
       "      <th>normalized-losses<\/th>\n",
       "      <th>wheel-base<\/th>\n",
       "      <th>length<\/th>\n",
       "      <th>width<\/th>\n",
       "      <th>height<\/th>\n",
       "      <th>curb-weight<\/th>\n",
       "      <th>engine-size<\/th>\n",
       "      <th>bore<\/th>\n",
       "      <th>stroke<\/th>\n",
       "      <th>compression-ratio<\/th>\n",
       "      <th>horsepower<\/th>\n",
       "      <th>peak-rpm<\/th>\n",
       "      <th>city-mpg<\/th>\n",
       "      <th>highway-L\/100km<\/th>\n",
       "      <th>price<\/th>\n",
       "      <th>city-L\/100km<\/th>\n",
       "      <th>fuel-type-diesel<\/th>\n",
       "      <th>fuel-type-gas<\/th>\n",
       "    <\/tr>\n",
       "  <\/thead>\n",
       "  <tbody>\n",
       "    <tr>\n",
       "      <th>symboling<\/th>\n",
       "      <td>1.000000<\/td>\n",
       "      <td>0.465190<\/td>\n",
       "      <td>-0.531954<\/td>\n",
       "      <td>-0.357612<\/td>\n",
       "      <td>-0.232919<\/td>\n",
       "      <td>-0.541038<\/td>\n",
       "      <td>-0.227691<\/td>\n",
       "      <td>-0.105790<\/td>\n",
       "      <td>-0.130083<\/td>\n",
       "      <td>-0.008689<\/td>\n",
       "      <td>-0.178515<\/td>\n",
       "      <td>NaN<\/td>\n",
       "      <td>NaN<\/td>\n",
       "      <td>-0.035823<\/td>\n",
       "      <td>0.034606<\/td>\n",
       "      <td>NaN<\/td>\n",
       "      <td>-0.030190<\/td>\n",
       "      <td>-0.194311<\/td>\n",
       "      <td>0.194311<\/td>\n",
       "    <\/tr>\n",
       "    <tr>\n",
       "      <th>normalized-losses<\/th>\n",
       "      <td>0.465190<\/td>\n",
       "      <td>1.000000<\/td>\n",
       "      <td>-0.056518<\/td>\n",
       "      <td>0.019209<\/td>\n",
       "      <td>0.084195<\/td>\n",
       "      <td>-0.370706<\/td>\n",
       "      <td>0.097785<\/td>\n",
       "      <td>0.110997<\/td>\n",
       "      <td>-0.029266<\/td>\n",
       "      <td>0.054929<\/td>\n",
       "      <td>-0.114525<\/td>\n",
       "      <td>NaN<\/td>\n",
       "      <td>NaN<\/td>\n",
       "      <td>-0.218749<\/td>\n",
       "      <td>-0.178221<\/td>\n",
       "      <td>NaN<\/td>\n",
       "      <td>0.178527<\/td>\n",
       "      <td>-0.101437<\/td>\n",
       "      <td>0.101437<\/td>\n",
       "    <\/tr>\n",
       "    <tr>\n",
       "      <th>wheel-base<\/th>\n",
       "      <td>-0.531954<\/td>\n",
       "      <td>-0.056518<\/td>\n",
       "      <td>1.000000<\/td>\n",
       "      <td>0.874587<\/td>\n",
       "      <td>0.795144<\/td>\n",
       "      <td>0.589435<\/td>\n",
       "      <td>0.776386<\/td>\n",
       "      <td>0.569329<\/td>\n",
       "      <td>0.488760<\/td>\n",
       "      <td>0.160944<\/td>\n",
       "      <td>0.249786<\/td>\n",
       "      <td>NaN<\/td>\n",
       "      <td>NaN<\/td>\n",
       "      <td>-0.470414<\/td>\n",
       "      <td>-0.544082<\/td>\n",
       "      <td>NaN<\/td>\n",
       "      <td>0.578128<\/td>\n",
       "      <td>0.308346<\/td>\n",
       "      <td>-0.308346<\/td>\n",
       "    <\/tr>\n",
       "    <tr>\n",
       "      <th>length<\/th>\n",
       "      <td>-0.357612<\/td>\n",
       "      <td>0.019209<\/td>\n",
       "      <td>0.874587<\/td>\n",
       "      <td>1.000000<\/td>\n",
       "      <td>0.841118<\/td>\n",
       "      <td>0.491029<\/td>\n",
       "      <td>0.877728<\/td>\n",
       "      <td>0.683360<\/td>\n",
       "      <td>0.606462<\/td>\n",
       "      <td>0.129522<\/td>\n",
       "      <td>0.158414<\/td>\n",
       "      <td>NaN<\/td>\n",
       "      <td>NaN<\/td>\n",
       "      <td>-0.670909<\/td>\n",
       "      <td>-0.704662<\/td>\n",
       "      <td>NaN<\/td>\n",
       "      <td>0.711597<\/td>\n",
       "      <td>0.212679<\/td>\n",
       "      <td>-0.212679<\/td>\n",
       "    <\/tr>\n",
       "    <tr>\n",
       "      <th>width<\/th>\n",
       "      <td>-0.232919<\/td>\n",
       "      <td>0.084195<\/td>\n",
       "      <td>0.795144<\/td>\n",
       "      <td>0.841118<\/td>\n",
       "      <td>1.000000<\/td>\n",
       "      <td>0.279210<\/td>\n",
       "      <td>0.867032<\/td>\n",
       "      <td>0.735433<\/td>\n",
       "      <td>0.559152<\/td>\n",
       "      <td>0.182939<\/td>\n",
       "      <td>0.181129<\/td>\n",
       "      <td>NaN<\/td>\n",
       "      <td>NaN<\/td>\n",
       "      <td>-0.642704<\/td>\n",
       "      <td>-0.677218<\/td>\n",
       "      <td>NaN<\/td>\n",
       "      <td>0.728044<\/td>\n",
       "      <td>0.233880<\/td>\n",
       "      <td>-0.233880<\/td>\n",
       "    <\/tr>\n",
       "    <tr>\n",
       "      <th>height<\/th>\n",
       "      <td>-0.541038<\/td>\n",
       "      <td>-0.370706<\/td>\n",
       "      <td>0.589435<\/td>\n",
       "      <td>0.491029<\/td>\n",
       "      <td>0.279210<\/td>\n",
       "      <td>1.000000<\/td>\n",
       "      <td>0.295572<\/td>\n",
       "      <td>0.067149<\/td>\n",
       "      <td>0.171101<\/td>\n",
       "      <td>-0.055351<\/td>\n",
       "      <td>0.261214<\/td>\n",
       "      <td>NaN<\/td>\n",
       "      <td>NaN<\/td>\n",
       "      <td>-0.048640<\/td>\n",
       "      <td>-0.107358<\/td>\n",
       "      <td>NaN<\/td>\n",
       "      <td>0.085892<\/td>\n",
       "      <td>0.284631<\/td>\n",
       "      <td>-0.284631<\/td>\n",
       "    <\/tr>\n",
       "    <tr>\n",
       "      <th>curb-weight<\/th>\n",
       "      <td>-0.227691<\/td>\n",
       "      <td>0.097785<\/td>\n",
       "      <td>0.776386<\/td>\n",
       "      <td>0.877728<\/td>\n",
       "      <td>0.867032<\/td>\n",
       "      <td>0.295572<\/td>\n",
       "      <td>1.000000<\/td>\n",
       "      <td>0.850594<\/td>\n",
       "      <td>0.648485<\/td>\n",
       "      <td>0.168783<\/td>\n",
       "      <td>0.151362<\/td>\n",
       "      <td>NaN<\/td>\n",
       "      <td>NaN<\/td>\n",
       "      <td>-0.757414<\/td>\n",
       "      <td>-0.797465<\/td>\n",
       "      <td>NaN<\/td>\n",
       "      <td>0.836742<\/td>\n",
       "      <td>0.217275<\/td>\n",
       "      <td>-0.217275<\/td>\n",
       "    <\/tr>\n",
       "    <tr>\n",
       "      <th>engine-size<\/th>\n",
       "      <td>-0.105790<\/td>\n",
       "      <td>0.110997<\/td>\n",
       "      <td>0.569329<\/td>\n",
       "      <td>0.683360<\/td>\n",
       "      <td>0.735433<\/td>\n",
       "      <td>0.067149<\/td>\n",
       "      <td>0.850594<\/td>\n",
       "      <td>1.000000<\/td>\n",
       "      <td>0.583798<\/td>\n",
       "      <td>0.203094<\/td>\n",
       "      <td>0.028971<\/td>\n",
       "      <td>NaN<\/td>\n",
       "      <td>NaN<\/td>\n",
       "      <td>-0.653658<\/td>\n",
       "      <td>-0.677470<\/td>\n",
       "      <td>NaN<\/td>\n",
       "      <td>0.777077<\/td>\n",
       "      <td>0.069594<\/td>\n",
       "      <td>-0.069594<\/td>\n",
       "    <\/tr>\n",
       "    <tr>\n",
       "      <th>bore<\/th>\n",
       "      <td>-0.130083<\/td>\n",
       "      <td>-0.029266<\/td>\n",
       "      <td>0.488760<\/td>\n",
       "      <td>0.606462<\/td>\n",
       "      <td>0.559152<\/td>\n",
       "      <td>0.171101<\/td>\n",
       "      <td>0.648485<\/td>\n",
       "      <td>0.583798<\/td>\n",
       "      <td>1.000000<\/td>\n",
       "      <td>-0.055909<\/td>\n",
       "      <td>0.005201<\/td>\n",
       "      <td>NaN<\/td>\n",
       "      <td>NaN<\/td>\n",
       "      <td>-0.584508<\/td>\n",
       "      <td>-0.586992<\/td>\n",
       "      <td>NaN<\/td>\n",
       "      <td>0.551943<\/td>\n",
       "      <td>0.054457<\/td>\n",
       "      <td>-0.054457<\/td>\n",
       "    <\/tr>\n",
       "    <tr>\n",
       "      <th>stroke<\/th>\n",
       "      <td>-0.008689<\/td>\n",
       "      <td>0.054929<\/td>\n",
       "      <td>0.160944<\/td>\n",
       "      <td>0.129522<\/td>\n",
       "      <td>0.182939<\/td>\n",
       "      <td>-0.055351<\/td>\n",
       "      <td>0.168783<\/td>\n",
       "      <td>0.203094<\/td>\n",
       "      <td>-0.055909<\/td>\n",
       "      <td>1.000000<\/td>\n",
       "      <td>0.186105<\/td>\n",
       "      <td>NaN<\/td>\n",
       "      <td>NaN<\/td>\n",
       "      <td>-0.042179<\/td>\n",
       "      <td>-0.043961<\/td>\n",
       "      <td>NaN<\/td>\n",
       "      <td>0.055433<\/td>\n",
       "      <td>0.241820<\/td>\n",
       "      <td>-0.241820<\/td>\n",
       "    <\/tr>\n",
       "    <tr>\n",
       "      <th>compression-ratio<\/th>\n",
       "      <td>-0.178515<\/td>\n",
       "      <td>-0.114525<\/td>\n",
       "      <td>0.249786<\/td>\n",
       "      <td>0.158414<\/td>\n",
       "      <td>0.181129<\/td>\n",
       "      <td>0.261214<\/td>\n",
       "      <td>0.151362<\/td>\n",
       "      <td>0.028971<\/td>\n",
       "      <td>0.005201<\/td>\n",
       "      <td>0.186105<\/td>\n",
       "      <td>1.000000<\/td>\n",
       "      <td>NaN<\/td>\n",
       "      <td>NaN<\/td>\n",
       "      <td>0.324701<\/td>\n",
       "      <td>0.265201<\/td>\n",
       "      <td>NaN<\/td>\n",
       "      <td>-0.223411<\/td>\n",
       "      <td>0.984356<\/td>\n",
       "      <td>-0.984356<\/td>\n",
       "    <\/tr>\n",
       "    <tr>\n",
       "      <th>horsepower<\/th>\n",
       "      <td>NaN<\/td>\n",
       "      <td>NaN<\/td>\n",
       "      <td>NaN<\/td>\n",
       "      <td>NaN<\/td>\n",
       "      <td>NaN<\/td>\n",
       "      <td>NaN<\/td>\n",
       "      <td>NaN<\/td>\n",
       "      <td>NaN<\/td>\n",
       "      <td>NaN<\/td>\n",
       "      <td>NaN<\/td>\n",
       "      <td>NaN<\/td>\n",
       "      <td>NaN<\/td>\n",
       "      <td>NaN<\/td>\n",
       "      <td>NaN<\/td>\n",
       "      <td>NaN<\/td>\n",
       "      <td>NaN<\/td>\n",
       "      <td>NaN<\/td>\n",
       "      <td>NaN<\/td>\n",
       "      <td>NaN<\/td>\n",
       "    <\/tr>\n",
       "    <tr>\n",
       "      <th>peak-rpm<\/th>\n",
       "      <td>NaN<\/td>\n",
       "      <td>NaN<\/td>\n",
       "      <td>NaN<\/td>\n",
       "      <td>NaN<\/td>\n",
       "      <td>NaN<\/td>\n",
       "      <td>NaN<\/td>\n",
       "      <td>NaN<\/td>\n",
       "      <td>NaN<\/td>\n",
       "      <td>NaN<\/td>\n",
       "      <td>NaN<\/td>\n",
       "      <td>NaN<\/td>\n",
       "      <td>NaN<\/td>\n",
       "      <td>NaN<\/td>\n",
       "      <td>NaN<\/td>\n",
       "      <td>NaN<\/td>\n",
       "      <td>NaN<\/td>\n",
       "      <td>NaN<\/td>\n",
       "      <td>NaN<\/td>\n",
       "      <td>NaN<\/td>\n",
       "    <\/tr>\n",
       "    <tr>\n",
       "      <th>city-mpg<\/th>\n",
       "      <td>-0.035823<\/td>\n",
       "      <td>-0.218749<\/td>\n",
       "      <td>-0.470414<\/td>\n",
       "      <td>-0.670909<\/td>\n",
       "      <td>-0.642704<\/td>\n",
       "      <td>-0.048640<\/td>\n",
       "      <td>-0.757414<\/td>\n",
       "      <td>-0.653658<\/td>\n",
       "      <td>-0.584508<\/td>\n",
       "      <td>-0.042179<\/td>\n",
       "      <td>0.324701<\/td>\n",
       "      <td>NaN<\/td>\n",
       "      <td>NaN<\/td>\n",
       "      <td>1.000000<\/td>\n",
       "      <td>0.971337<\/td>\n",
       "      <td>NaN<\/td>\n",
       "      <td>-0.908439<\/td>\n",
       "      <td>0.255963<\/td>\n",
       "      <td>-0.255963<\/td>\n",
       "    <\/tr>\n",
       "    <tr>\n",
       "      <th>highway-L\/100km<\/th>\n",
       "      <td>0.034606<\/td>\n",
       "      <td>-0.178221<\/td>\n",
       "      <td>-0.544082<\/td>\n",
       "      <td>-0.704662<\/td>\n",
       "      <td>-0.677218<\/td>\n",
       "      <td>-0.107358<\/td>\n",
       "      <td>-0.797465<\/td>\n",
       "      <td>-0.677470<\/td>\n",
       "      <td>-0.586992<\/td>\n",
       "      <td>-0.043961<\/td>\n",
       "      <td>0.265201<\/td>\n",
       "      <td>NaN<\/td>\n",
       "      <td>NaN<\/td>\n",
       "      <td>0.971337<\/td>\n",
       "      <td>1.000000<\/td>\n",
       "      <td>NaN<\/td>\n",
       "      <td>-0.951855<\/td>\n",
       "      <td>0.191392<\/td>\n",
       "      <td>-0.191392<\/td>\n",
       "    <\/tr>\n",
       "    <tr>\n",
       "      <th>price<\/th>\n",
       "      <td>NaN<\/td>\n",
       "      <td>NaN<\/td>\n",
       "      <td>NaN<\/td>\n",
       "      <td>NaN<\/td>\n",
       "      <td>NaN<\/td>\n",
       "      <td>NaN<\/td>\n",
       "      <td>NaN<\/td>\n",
       "      <td>NaN<\/td>\n",
       "      <td>NaN<\/td>\n",
       "      <td>NaN<\/td>\n",
       "      <td>NaN<\/td>\n",
       "      <td>NaN<\/td>\n",
       "      <td>NaN<\/td>\n",
       "      <td>NaN<\/td>\n",
       "      <td>NaN<\/td>\n",
       "      <td>NaN<\/td>\n",
       "      <td>NaN<\/td>\n",
       "      <td>NaN<\/td>\n",
       "      <td>NaN<\/td>\n",
       "    <\/tr>\n",
       "    <tr>\n",
       "      <th>city-L\/100km<\/th>\n",
       "      <td>-0.030190<\/td>\n",
       "      <td>0.178527<\/td>\n",
       "      <td>0.578128<\/td>\n",
       "      <td>0.711597<\/td>\n",
       "      <td>0.728044<\/td>\n",
       "      <td>0.085892<\/td>\n",
       "      <td>0.836742<\/td>\n",
       "      <td>0.777077<\/td>\n",
       "      <td>0.551943<\/td>\n",
       "      <td>0.055433<\/td>\n",
       "      <td>-0.223411<\/td>\n",
       "      <td>NaN<\/td>\n",
       "      <td>NaN<\/td>\n",
       "      <td>-0.908439<\/td>\n",
       "      <td>-0.951855<\/td>\n",
       "      <td>NaN<\/td>\n",
       "      <td>1.000000<\/td>\n",
       "      <td>-0.153710<\/td>\n",
       "      <td>0.153710<\/td>\n",
       "    <\/tr>\n",
       "    <tr>\n",
       "      <th>fuel-type-diesel<\/th>\n",
       "      <td>-0.194311<\/td>\n",
       "      <td>-0.101437<\/td>\n",
       "      <td>0.308346<\/td>\n",
       "      <td>0.212679<\/td>\n",
       "      <td>0.233880<\/td>\n",
       "      <td>0.284631<\/td>\n",
       "      <td>0.217275<\/td>\n",
       "      <td>0.069594<\/td>\n",
       "      <td>0.054457<\/td>\n",
       "      <td>0.241820<\/td>\n",
       "      <td>0.984356<\/td>\n",
       "      <td>NaN<\/td>\n",
       "      <td>NaN<\/td>\n",
       "      <td>0.255963<\/td>\n",
       "      <td>0.191392<\/td>\n",
       "      <td>NaN<\/td>\n",
       "      <td>-0.153710<\/td>\n",
       "      <td>1.000000<\/td>\n",
       "      <td>-1.000000<\/td>\n",
       "    <\/tr>\n",
       "    <tr>\n",
       "      <th>fuel-type-gas<\/th>\n",
       "      <td>0.194311<\/td>\n",
       "      <td>0.101437<\/td>\n",
       "      <td>-0.308346<\/td>\n",
       "      <td>-0.212679<\/td>\n",
       "      <td>-0.233880<\/td>\n",
       "      <td>-0.284631<\/td>\n",
       "      <td>-0.217275<\/td>\n",
       "      <td>-0.069594<\/td>\n",
       "      <td>-0.054457<\/td>\n",
       "      <td>-0.241820<\/td>\n",
       "      <td>-0.984356<\/td>\n",
       "      <td>NaN<\/td>\n",
       "      <td>NaN<\/td>\n",
       "      <td>-0.255963<\/td>\n",
       "      <td>-0.191392<\/td>\n",
       "      <td>NaN<\/td>\n",
       "      <td>0.153710<\/td>\n",
       "      <td>-1.000000<\/td>\n",
       "      <td>1.000000<\/td>\n",
       "    <\/tr>\n",
       "  <\/tbody>\n",
       "<\/table>\n",
       "<\/div>"
      ]
     },
     "metadata":{
      
     },
     "output_type":"display_data"
    }
   ],
   "metadata":{
    "datalore":{
     "node_id":"3TTSq7hdpsVZYQW7CAmBk3",
     "type":"CODE",
     "hide_input_from_viewers":false,
     "hide_output_from_viewers":false
    }
   }
  },
  {
   "cell_type":"code",
   "source":[
    "###  P - value  ###\n",
    " # What is this P-value? The P-value is the probability value that the correlation between these two variables is statistically significant. Normally, we choose a significance level of 0.05, \n",
    "# which means that we are 95% confident that the correlation between the variables is significant\n",
    "\n",
    "# p-value is <\n",
    "  # 0.001: we say there is strong evidence that the correlation is significant.\n",
    "  # the p-value is <\n",
    "  # 0.05: there is moderate evidence that the correlation is significant.\n",
    "   #the p-value is <\n",
    "   #0.1: there is weak evidence that the correlation is significant.\n",
    " # the p-value is >\n",
    "# 0.1: there is no evidence that the correlation is significant.\n",
    "\n",
    "\n",
    "# We can obtain this information using \"stats\" module in the \"scipy\" library\n",
    " \n",
    "from scipy import stats\n",
    "\n",
    "# Let's calculate the Pearson Correlation Coefficient and P-value of 'wheel-base' and 'price'.\n",
    "\n",
    "pearson_coef, p_value = stats.pearsonr(df['wheel-base'], df['price'])\n",
    "print(\"The Pearson Correlation Coefficient is\", pearson_coef, \" with a P-value of P =\", p_value)  "
   ],
   "execution_count":208,
   "outputs":[
    {
     "name":"stdout",
     "text":[
      "The Pearson Correlation Coefficient is nan  with a P-value of P = nan\n"
     ],
     "output_type":"stream"
    },
    {
     "name":"stderr",
     "text":[
      "\/opt\/python\/envs\/default\/lib\/python3.8\/site-packages\/scipy\/stats\/stats.py:4023: PearsonRConstantInputWarning: An input array is constant; the correlation coefficient is not defined.\n",
      "  warnings.warn(PearsonRConstantInputWarning())\n"
     ],
     "output_type":"stream"
    }
   ],
   "metadata":{
    "datalore":{
     "node_id":"qFgKkZWceRGSs8QmFtIGv0",
     "type":"CODE",
     "hide_input_from_viewers":false,
     "hide_output_from_viewers":false
    }
   }
  },
  {
   "cell_type":"code",
   "source":[
    "## Anova: Analyst of variance  ### \n",
    "# The Analysis of Variance (ANOVA) is a statistical method used to test whether there are significant differences between the means of two or more groups. ANOVA returns two parameters:\n",
    "# F-test score: ANOVA assumes the means of all groups are the same, calculates how much the actual means deviate from the assumption, \n",
    " #and reports it as the F-test score. A larger score means there is a larger difference between the means.\n",
    "  # P-value: P-value tells how statistically significant our calculated score value is.\n",
    "\n",
    "# If our price variable is strongly correlated with the variable we are analyzing, \n",
    "  #we expect ANOVA to return a sizeable F-test score and a small p-value.\n",
    "\n",
    "#Since ANOVA analyzes the difference between different groups of the same variable, the groupby function will come in handy. \n",
    " # Because the ANOVA algorithm averages the data automatically, we do not need to take the average before hand."
   ],
   "execution_count":99,
   "outputs":[
    
   ],
   "metadata":{
    "datalore":{
     "node_id":"DGV0Paor4BMaKAOOLeVurl",
     "type":"CODE",
     "hide_input_from_viewers":false,
     "hide_output_from_viewers":false
    }
   }
  },
  {
   "cell_type":"code",
   "source":[
    "# To see if different types of 'drive-wheels' impact 'price', we group the data.\n",
    "\n",
    "grouped_test2= df_group_one[['drive-wheels', 'price']].groupby(['drive-wheels'])\n",
    "grouped_test2.head(2)"
   ],
   "execution_count":209,
   "outputs":[
    {
     "data":{
      "text\/html":[
       "<div>\n",
       "<style scoped>\n",
       "    .dataframe tbody tr th:only-of-type {\n",
       "        vertical-align: middle;\n",
       "    }\n",
       "\n",
       "    .dataframe tbody tr th {\n",
       "        vertical-align: top;\n",
       "    }\n",
       "\n",
       "    .dataframe thead th {\n",
       "        text-align: right;\n",
       "    }\n",
       "<\/style>\n",
       "<table border=\"1\" class=\"dataframe\">\n",
       "  <thead>\n",
       "    <tr style=\"text-align: right;\">\n",
       "      <th><\/th>\n",
       "      <th>drive-wheels<\/th>\n",
       "      <th>price<\/th>\n",
       "    <\/tr>\n",
       "  <\/thead>\n",
       "  <tbody>\n",
       "    <tr>\n",
       "      <th>0<\/th>\n",
       "      <td>rwd<\/td>\n",
       "      <td>0.0<\/td>\n",
       "    <\/tr>\n",
       "    <tr>\n",
       "      <th>1<\/th>\n",
       "      <td>rwd<\/td>\n",
       "      <td>0.0<\/td>\n",
       "    <\/tr>\n",
       "    <tr>\n",
       "      <th>3<\/th>\n",
       "      <td>fwd<\/td>\n",
       "      <td>0.0<\/td>\n",
       "    <\/tr>\n",
       "    <tr>\n",
       "      <th>4<\/th>\n",
       "      <td>4wd<\/td>\n",
       "      <td>0.0<\/td>\n",
       "    <\/tr>\n",
       "    <tr>\n",
       "      <th>5<\/th>\n",
       "      <td>fwd<\/td>\n",
       "      <td>0.0<\/td>\n",
       "    <\/tr>\n",
       "    <tr>\n",
       "      <th>9<\/th>\n",
       "      <td>4wd<\/td>\n",
       "      <td>0.0<\/td>\n",
       "    <\/tr>\n",
       "  <\/tbody>\n",
       "<\/table>\n",
       "<\/div>"
      ]
     },
     "metadata":{
      
     },
     "output_type":"display_data"
    }
   ],
   "metadata":{
    "datalore":{
     "node_id":"LJbNxkvMq4DNtwmroE4vMc",
     "type":"CODE",
     "hide_input_from_viewers":false,
     "hide_output_from_viewers":false
    }
   }
  },
  {
   "cell_type":"code",
   "source":[
    "df_group_one"
   ],
   "execution_count":210,
   "outputs":[
    {
     "data":{
      "text\/html":[
       "<div>\n",
       "<style scoped>\n",
       "    .dataframe tbody tr th:only-of-type {\n",
       "        vertical-align: middle;\n",
       "    }\n",
       "\n",
       "    .dataframe tbody tr th {\n",
       "        vertical-align: top;\n",
       "    }\n",
       "\n",
       "    .dataframe thead th {\n",
       "        text-align: right;\n",
       "    }\n",
       "<\/style>\n",
       "<table border=\"1\" class=\"dataframe\">\n",
       "  <thead>\n",
       "    <tr style=\"text-align: right;\">\n",
       "      <th><\/th>\n",
       "      <th>drive-wheels<\/th>\n",
       "      <th>body-style<\/th>\n",
       "      <th>price<\/th>\n",
       "    <\/tr>\n",
       "  <\/thead>\n",
       "  <tbody>\n",
       "    <tr>\n",
       "      <th>0<\/th>\n",
       "      <td>rwd<\/td>\n",
       "      <td>convertible<\/td>\n",
       "      <td>0.0<\/td>\n",
       "    <\/tr>\n",
       "    <tr>\n",
       "      <th>1<\/th>\n",
       "      <td>rwd<\/td>\n",
       "      <td>convertible<\/td>\n",
       "      <td>0.0<\/td>\n",
       "    <\/tr>\n",
       "    <tr>\n",
       "      <th>2<\/th>\n",
       "      <td>rwd<\/td>\n",
       "      <td>hatchback<\/td>\n",
       "      <td>0.0<\/td>\n",
       "    <\/tr>\n",
       "    <tr>\n",
       "      <th>3<\/th>\n",
       "      <td>fwd<\/td>\n",
       "      <td>sedan<\/td>\n",
       "      <td>0.0<\/td>\n",
       "    <\/tr>\n",
       "    <tr>\n",
       "      <th>4<\/th>\n",
       "      <td>4wd<\/td>\n",
       "      <td>sedan<\/td>\n",
       "      <td>0.0<\/td>\n",
       "    <\/tr>\n",
       "    <tr>\n",
       "      <th>...<\/th>\n",
       "      <td>...<\/td>\n",
       "      <td>...<\/td>\n",
       "      <td>...<\/td>\n",
       "    <\/tr>\n",
       "    <tr>\n",
       "      <th>200<\/th>\n",
       "      <td>rwd<\/td>\n",
       "      <td>sedan<\/td>\n",
       "      <td>0.0<\/td>\n",
       "    <\/tr>\n",
       "    <tr>\n",
       "      <th>201<\/th>\n",
       "      <td>rwd<\/td>\n",
       "      <td>sedan<\/td>\n",
       "      <td>0.0<\/td>\n",
       "    <\/tr>\n",
       "    <tr>\n",
       "      <th>202<\/th>\n",
       "      <td>rwd<\/td>\n",
       "      <td>sedan<\/td>\n",
       "      <td>0.0<\/td>\n",
       "    <\/tr>\n",
       "    <tr>\n",
       "      <th>203<\/th>\n",
       "      <td>rwd<\/td>\n",
       "      <td>sedan<\/td>\n",
       "      <td>0.0<\/td>\n",
       "    <\/tr>\n",
       "    <tr>\n",
       "      <th>204<\/th>\n",
       "      <td>rwd<\/td>\n",
       "      <td>sedan<\/td>\n",
       "      <td>0.0<\/td>\n",
       "    <\/tr>\n",
       "  <\/tbody>\n",
       "<\/table>\n",
       "<p>205 rows × 3 columns<\/p>\n",
       "<\/div>"
      ]
     },
     "metadata":{
      
     },
     "output_type":"display_data"
    }
   ],
   "metadata":{
    "datalore":{
     "node_id":"aCj2OwP4vl2QHmIJzpYXiq",
     "type":"CODE",
     "hide_input_from_viewers":false,
     "hide_output_from_viewers":false
    }
   }
  },
  {
   "cell_type":"code",
   "source":[
    "# We can obtain the values of the method group using the method \"get_group\".\n",
    "\n",
    "grouped_test2.get_group('4wd')['price']"
   ],
   "execution_count":211,
   "outputs":[
    {
     "data":{
      "text\/html":[
       
      ]
     },
     "metadata":{
      
     },
     "output_type":"display_data"
    }
   ],
   "metadata":{
    "datalore":{
     "node_id":"bm467m70e4WtjVqNXumgrg",
     "type":"CODE",
     "hide_input_from_viewers":false,
     "hide_output_from_viewers":false
    }
   }
  },
  {
   "cell_type":"code",
   "source":[
    "# We can use the function 'f_oneway' in the module 'stats' to obtain the F-test score and P-value.\n",
    "\n",
    "f_val, p_val = stats.f_oneway(grouped_test2.get_group('fwd')['price'], grouped_test2.get_group('rwd')['price'], grouped_test2.get_group('4wd')['price'])  \n",
    " \n",
    "print( \"ANOVA results: F=\", f_val, \", P =\", p_val)  \n",
    "\n",
    " # This is a great result with a large F-test score showing a strong correlation and a P-value of almost 0 implying almost certain statistical significance.\n",
    "  #But does this mean all three tested groups are all this highly correlated?"
   ],
   "execution_count":212,
   "outputs":[
    {
     "name":"stdout",
     "text":[
      "ANOVA results: F= nan , P = nan\n"
     ],
     "output_type":"stream"
    },
    {
     "name":"stderr",
     "text":[
      "\/opt\/python\/envs\/default\/lib\/python3.8\/site-packages\/scipy\/stats\/stats.py:3650: F_onewayConstantInputWarning: Each of the input arrays is constant;the F statistic is not defined or infinite\n",
      "  warnings.warn(F_onewayConstantInputWarning())\n"
     ],
     "output_type":"stream"
    }
   ],
   "metadata":{
    "datalore":{
     "node_id":"PFUQY76QQ7keH4NrKVUF4x",
     "type":"CODE",
     "hide_input_from_viewers":false,
     "hide_output_from_viewers":false
    }
   }
  },
  {
   "cell_type":"code",
   "source":[
    "\n",
    "# fwd and rwd\n",
    "f_val, p_val = stats.f_oneway(grouped_test2.get_group('fwd')['price'], grouped_test2.get_group('rwd')['price'])  \n",
    " \n",
    "print( \"ANOVA results: F=\", f_val, \", P =\", p_val )"
   ],
   "execution_count":104,
   "outputs":[
    {
     "name":"stdout",
     "text":[
      "ANOVA results: F= 129.41115759339715 , P = 2.6524240289951807e-23\n"
     ],
     "output_type":"stream"
    }
   ],
   "metadata":{
    "datalore":{
     "node_id":"Xap4oJkwOamHFaUjXpXocX",
     "type":"CODE",
     "hide_input_from_viewers":false,
     "hide_output_from_viewers":false
    }
   }
  },
  {
   "cell_type":"code",
   "source":[
    "# 4wd and rwd\n",
    "\n",
    "f_val, p_val = stats.f_oneway(grouped_test2.get_group('4wd')['price'], grouped_test2.get_group('rwd')['price'])  \n",
    "   \n",
    "print( \"ANOVA results: F=\", f_val, \", P =\", p_val)  "
   ],
   "execution_count":105,
   "outputs":[
    {
     "name":"stdout",
     "text":[
      "ANOVA results: F= 8.879065438652509 , P = 0.00378273257813761\n"
     ],
     "output_type":"stream"
    }
   ],
   "metadata":{
    "datalore":{
     "node_id":"mKDZanfVzfaTLLxT6yg2MC",
     "type":"CODE",
     "hide_input_from_viewers":false,
     "hide_output_from_viewers":false
    }
   }
  },
  {
   "cell_type":"code",
   "source":[
    "################################################"
   ],
   "execution_count":null,
   "outputs":[
    
   ],
   "metadata":{
    "datalore":{
     "node_id":"hTjnMn1fPc0sIq3nvDYAP2",
     "type":"CODE",
     "hide_input_from_viewers":false,
     "hide_output_from_viewers":false
    }
   }
  },
  {
   "cell_type":"code",
   "source":[
    "##        Lab-4 Model Development   #####\n",
    "# After complete this lab you will able to Develope predication model\n",
    "\n",
    "# In this section, we will develop several models that will predict the price of the car using the variables or features. \n",
    "# This is just an estimate but should give us an objective idea of how much the car should cost.\n",
    "\n",
    "# some question we want to ask in this model\n",
    " # Do i know if the delear offerin fair value for my trade-in?\n",
    "# Do i know if i put a fair value on my car?\n",
    "\n",
    "# In data analytics, we often use Model Development to help us predict future observations from the data we have"
   ],
   "execution_count":106,
   "outputs":[
    
   ],
   "metadata":{
    "datalore":{
     "node_id":"Wz3yVAWqMPCzp9OC1Ls41V",
     "type":"CODE",
     "hide_input_from_viewers":false,
     "hide_output_from_viewers":false
    }
   }
  },
  {
   "cell_type":"code",
   "source":[
    "##    Liner regrestion and Multiple Linear regrestion  ####\n",
    "#  Simple Linear Regrestion ###\n",
    " # Simple Linear Regression is a method to help us understand the relationship between two variables:\n",
    "    #  The predictor\/independent variable (X)\n",
    "    # The response\/dependent variable (that we want to predict)(Y)\n",
    "# The result of Linear Regression is a linear function that predicts the response (dependent) variable as a function of the predictor (independent) variable\n",
    "# Linear Funcation  :  Ythat = a + bx\n",
    "   #  a refers to the intercept of the regression line, in other words: the value of Y when X is 0\n",
    "   # b refers to the slope of the regression line, in other words: the value with which Y changes when X increases by 1 unit"
   ],
   "execution_count":107,
   "outputs":[
    
   ],
   "metadata":{
    "datalore":{
     "node_id":"VtcIBIeGhUL4LN5Ax5vckH",
     "type":"CODE",
     "hide_input_from_viewers":false,
     "hide_output_from_viewers":false
    }
   }
  },
  {
   "cell_type":"code",
   "source":[
    "# Load the models for liniar regrations\n",
    "\n",
    "from sklearn.linear_model import LinearRegression\n",
    "lm = LinearRegression()     # create Linear regression object lm\n",
    "lm"
   ],
   "execution_count":108,
   "outputs":[
    {
     "data":{
      "text\/plain":[
       "LinearRegression()"
      ]
     },
     "metadata":{
      
     },
     "output_type":"display_data"
    }
   ],
   "metadata":{
    "datalore":{
     "node_id":"1kj6i4x6NsbvyGH3LEmovo",
     "type":"CODE",
     "hide_input_from_viewers":false,
     "hide_output_from_viewers":false
    }
   }
  },
  {
   "cell_type":"code",
   "source":[
    "# if we want to look at how highway-mpg can help us predict car price.\n",
    "\n",
    "x = df[['highway-L\/100km']] # create a linear function with \"highway-mpg\" as the predictor variable \n",
    "y = df['price']         # \"price\" as the response variable\n",
    "\n",
    "# fit the linear model using the highway-mpg\n",
    "lm.fit(x,y)\n",
    "\n",
    "# output predication\n",
    "Yhat=lm.predict(x)\n",
    "Yhat[0:5] "
   ],
   "execution_count":109,
   "outputs":[
    {
     "data":{
      "text\/html":[
       
      ]
     },
     "metadata":{
      
     },
     "output_type":"display_data"
    }
   ],
   "metadata":{
    "datalore":{
     "node_id":"5e5ZHxwCLlOlpfWM9dZTR1",
     "type":"CODE",
     "hide_input_from_viewers":false,
     "hide_output_from_viewers":false
    }
   }
  },
  {
   "cell_type":"code",
   "source":[
    "lm.intercept_   # What is the value of the intercept (a)?"
   ],
   "execution_count":110,
   "outputs":[
    {
     "data":{
      "text\/plain":[
       "37470.66014138312"
      ]
     },
     "metadata":{
      
     },
     "output_type":"display_data"
    }
   ],
   "metadata":{
    "datalore":{
     "node_id":"9cq2I8MzJnreVJRobqDeXR",
     "type":"CODE",
     "hide_input_from_viewers":false,
     "hide_output_from_viewers":false
    }
   }
  },
  {
   "cell_type":"code",
   "source":[
    "lm.coef_        # What is the value of the slope (b)?"
   ],
   "execution_count":111,
   "outputs":[
    {
     "data":{
      "text\/html":[
       
      ]
     },
     "metadata":{
      
     },
     "output_type":"display_data"
    }
   ],
   "metadata":{
    "datalore":{
     "node_id":"tK8fToOHREr5beXEFWCbjz",
     "type":"CODE",
     "hide_input_from_viewers":false,
     "hide_output_from_viewers":false
    }
   }
  },
  {
   "cell_type":"code",
   "source":[
    "#  What is the equation of the predicted line? You can use x and yhat or \"engine-size\" or \"price\". #\n",
    "#yhat = 38423 + (-821.7333783219254)*x\n",
    "# price = 38423 + (-821.7333783219254)*highway-mpg"
   ],
   "execution_count":112,
   "outputs":[
    
   ],
   "metadata":{
    "datalore":{
     "node_id":"YXWCL7cu4Mci80pM5KChxw",
     "type":"CODE",
     "hide_input_from_viewers":false,
     "hide_output_from_viewers":false
    }
   }
  },
  {
   "cell_type":"code",
   "source":[
    "# Multiple Linear regrestion  ###\n",
    "  # What if we want to predict car price using more than one variable?\n",
    "  # If we want to use more variables in our model to predict car price, we can use Multiple Linear Regression\n",
    "  # Multiple Linear Regression is very similar to Simple Linear Regression, but this method is used to explain the relationship between one continuous response (dependent) variable and two or more predictor (independent) variable\n",
    "  # Most of the real-world regression models involve multiple predictors\n",
    "# Equtions: Yhat=a+b_1X_1+b_2X_2+b_3X_3+b_4X_4"
   ],
   "execution_count":91,
   "outputs":[
    
   ],
   "metadata":{
    "datalore":{
     "node_id":"SnAmCcB2y23hBM5RNorY6E",
     "type":"CODE",
     "hide_input_from_viewers":false,
     "hide_output_from_viewers":false
    }
   }
  },
  {
   "cell_type":"code",
   "source":[
    "from sklearn.linear_model import LinearRegression\n",
    "lm = LinearRegression()  # create linear regrestion model\n",
    "lm"
   ],
   "execution_count":113,
   "outputs":[
    {
     "data":{
      "text\/plain":[
       "LinearRegression()"
      ]
     },
     "metadata":{
      
     },
     "output_type":"display_data"
    }
   ],
   "metadata":{
    "datalore":{
     "node_id":"i9er53RrWIrelnlryd6aDx",
     "type":"CODE",
     "hide_input_from_viewers":false,
     "hide_output_from_viewers":false
    }
   }
  },
  {
   "cell_type":"code",
   "source":[
    "df['price'] = df['price'].isnull()\n",
    "df[\"price\"]=df[\"price\"].astype(float, copy=True)"
   ],
   "execution_count":114,
   "outputs":[
    
   ],
   "metadata":{
    "datalore":{
     "node_id":"8a6e0ftfjQreZDhqRmYRM9",
     "type":"CODE",
     "hide_input_from_viewers":false,
     "hide_output_from_viewers":false
    }
   }
  },
  {
   "cell_type":"code",
   "source":[
    "df.dtypes"
   ],
   "execution_count":115,
   "outputs":[
    {
     "data":{
      "text\/html":[
       
      ]
     },
     "metadata":{
      
     },
     "output_type":"display_data"
    }
   ],
   "metadata":{
    "datalore":{
     "node_id":"6f2Ga3zHt3ggYS1NHYJXCO",
     "type":"CODE",
     "hide_input_from_viewers":false,
     "hide_output_from_viewers":false
    }
   }
  },
  {
   "cell_type":"code",
   "source":[
    "# Let's develop a model using these variables as the predictor variables.\n",
    "Z = df[['horsepower','curb-weight', 'engine-size', 'highway-L\/100km']]\n",
    "# print(df)\n",
    "#X = df[['price']]\n",
    "lm.fit(Z,df['price'])      # Fit the linear model using the four above-mentioned variables. Response variable price\n",
    "lm.intercept_   # What is the value of the intercept(a)?"
   ],
   "execution_count":116,
   "outputs":[
    {
     "data":{
      "text\/plain":[
       "0.0"
      ]
     },
     "metadata":{
      
     },
     "output_type":"display_data"
    }
   ],
   "metadata":{
    "datalore":{
     "node_id":"gePNDGir3mnWsWi53t5W9c",
     "type":"CODE",
     "hide_input_from_viewers":false,
     "hide_output_from_viewers":false
    }
   }
  },
  {
   "cell_type":"code",
   "source":[
    "lm.coef_         # What are the values of the coefficients (b1, b2, b3, b4)?"
   ],
   "execution_count":117,
   "outputs":[
    {
     "data":{
      "text\/html":[
       
      ]
     },
     "metadata":{
      
     },
     "output_type":"display_data"
    }
   ],
   "metadata":{
    "datalore":{
     "node_id":"IAG2XslwyKIFQrzr5QzYf9",
     "type":"CODE",
     "hide_input_from_viewers":false,
     "hide_output_from_viewers":false
    }
   }
  },
  {
   "cell_type":"code",
   "source":[
    "# Create and train a Multiple Linear Regression model \"lm2\" where the response variable is \"price\", \n",
    "# and the predictor variable is \"normalized-losses\" and \"highway-mpg\n",
    "\n",
    "\n",
    "lm2 = LinearRegression()\n",
    "lm2.fit(df[['normalized-losses', 'highway-L\/100km']], df['price'])"
   ],
   "execution_count":118,
   "outputs":[
    {
     "data":{
      "text\/plain":[
       "LinearRegression()"
      ]
     },
     "metadata":{
      
     },
     "output_type":"display_data"
    }
   ],
   "metadata":{
    "datalore":{
     "node_id":"m0CWiM9qG2tfpoT5u0euYi",
     "type":"CODE",
     "hide_input_from_viewers":false,
     "hide_output_from_viewers":false
    }
   }
  },
  {
   "cell_type":"code",
   "source":[
    "lm2.coef_"
   ],
   "execution_count":119,
   "outputs":[
    {
     "data":{
      "text\/html":[
       
      ]
     },
     "metadata":{
      
     },
     "output_type":"display_data"
    }
   ],
   "metadata":{
    "datalore":{
     "node_id":"3ao5kX0Fg837JwEECqA1WO",
     "type":"CODE",
     "hide_input_from_viewers":false,
     "hide_output_from_viewers":false
    }
   }
  },
  {
   "cell_type":"code",
   "source":[
    "###############################\n",
    "\n",
    "# Model evaluation using visualiz\n",
    "\n",
    "   # how do we evaluate our own models and choose the best one ? \n",
    "   # one way to do this is by using a visualization, import the visualization package, seaborn\n",
    "\n",
    "#import seaborn as sns\n",
    "# %matplotlib inline\n",
    "  \n",
    "# Regrastion plot ###"
   ],
   "execution_count":120,
   "outputs":[
    
   ],
   "metadata":{
    "datalore":{
     "node_id":"6KEn5qgdYkGjrfAhQbVUd1",
     "type":"CODE",
     "hide_input_from_viewers":false,
     "hide_output_from_viewers":false
    }
   }
  },
  {
   "cell_type":"code",
   "source":[
    "# Let the visualize highway-mpg as  potential predicator variable of price\n",
    "\n",
    "import seaborn as sns\n",
    "%matplotlib inline\n",
    "\n",
    "width = 10\n",
    "height = 12\n",
    "plt.figure(figsize=(width,height))\n",
    "sns.regplot(x=\"highway-L\/100km\", y=\"price\", data=df)\n",
    "plt.ylim(0,)\n",
    "\n",
    "# What is this plot telling us?\n",
    "   # We can see from this residual plot that the residuals are not randomly spread around the x-axis, \n",
    "     #leading us to believe that maybe a non-linear model is more appropriate for this data"
   ],
   "execution_count":121,
   "outputs":[
    {
     "data":{
      "text\/plain":[
       "(0.0, 0.05500000000000001)"
      ]
     },
     "metadata":{
      
     },
     "output_type":"display_data"
    },
    {
     "data":{
      "image\/png":"[encoded data removed]"
     },
     "metadata":{
      "image\/png":{
       
      }
     },
     "output_type":"display_data"
    }
   ],
   "metadata":{
    "datalore":{
     "node_id":"i8gElvO6phDX1MAORcPz6U",
     "type":"CODE",
     "hide_input_from_viewers":false,
     "hide_output_from_viewers":false
    }
   }
  },
  {
   "cell_type":"code",
   "source":[
    "# Given the regression plots above, is \"peak-rpm\" or \"highway-mpg\" more strongly correlated with \"price\"? \n",
    "# Use the method \".corr()\" to verify your answer.\n",
    "df[['peak-rpm', 'highway-L\/100km', 'price']].corr()\n",
    "\n",
    "# The variable \"highway-mpg\" has a stronger correlation with \"price\", it is approximate -0.704692  compared to \"peak-rpm\" which is approximate -0.101616.\n",
    "#You can verify it using the following comma"
   ],
   "execution_count":122,
   "outputs":[
    {
     "data":{
      "text\/html":[
       "<div>\n",
       "<style scoped>\n",
       "    .dataframe tbody tr th:only-of-type {\n",
       "        vertical-align: middle;\n",
       "    }\n",
       "\n",
       "    .dataframe tbody tr th {\n",
       "        vertical-align: top;\n",
       "    }\n",
       "\n",
       "    .dataframe thead th {\n",
       "        text-align: right;\n",
       "    }\n",
       "<\/style>\n",
       "<table border=\"1\" class=\"dataframe\">\n",
       "  <thead>\n",
       "    <tr style=\"text-align: right;\">\n",
       "      <th><\/th>\n",
       "      <th>peak-rpm<\/th>\n",
       "      <th>highway-L\/100km<\/th>\n",
       "      <th>price<\/th>\n",
       "    <\/tr>\n",
       "  <\/thead>\n",
       "  <tbody>\n",
       "    <tr>\n",
       "      <th>peak-rpm<\/th>\n",
       "      <td>NaN<\/td>\n",
       "      <td>NaN<\/td>\n",
       "      <td>NaN<\/td>\n",
       "    <\/tr>\n",
       "    <tr>\n",
       "      <th>highway-L\/100km<\/th>\n",
       "      <td>NaN<\/td>\n",
       "      <td>1.0<\/td>\n",
       "      <td>NaN<\/td>\n",
       "    <\/tr>\n",
       "    <tr>\n",
       "      <th>price<\/th>\n",
       "      <td>NaN<\/td>\n",
       "      <td>NaN<\/td>\n",
       "      <td>NaN<\/td>\n",
       "    <\/tr>\n",
       "  <\/tbody>\n",
       "<\/table>\n",
       "<\/div>"
      ]
     },
     "metadata":{
      
     },
     "output_type":"display_data"
    }
   ],
   "metadata":{
    "datalore":{
     "node_id":"m3lujotVe6Qg8Sf6H58H68",
     "type":"CODE",
     "hide_input_from_viewers":false,
     "hide_output_from_viewers":false
    }
   }
  },
  {
   "cell_type":"code",
   "source":[
    "import seaborn as sns\n",
    "%matplotlib inline\n",
    "\n",
    "width = 12\n",
    "height = 10\n",
    "plt.figure(figsize=(width, height))\n",
    "sns.residplot(df['highway-L\/100km'], df['price'])\n",
    "plt.show()"
   ],
   "execution_count":123,
   "outputs":[
    {
     "name":"stderr",
     "text":[
      "\/opt\/python\/envs\/default\/lib\/python3.8\/site-packages\/seaborn\/_decorators.py:36: FutureWarning: Pass the following variables as keyword args: x, y. From version 0.12, the only valid positional argument will be `data`, and passing other arguments without an explicit keyword will result in an error or misinterpretation.\n",
      "  warnings.warn(\n"
     ],
     "output_type":"stream"
    },
    {
     "data":{
      "image\/png":"[encoded data removed]"
     },
     "metadata":{
      "image\/png":{
       
      }
     },
     "output_type":"display_data"
    }
   ],
   "metadata":{
    "datalore":{
     "node_id":"lgaZFlVuqvVyLGP6IvF87Q",
     "type":"CODE",
     "hide_input_from_viewers":false,
     "hide_output_from_viewers":false
    }
   }
  },
  {
   "cell_type":"code",
   "source":[
    "# Multiple Linear Regression ####\n",
    " # How do we visualize a model for Multiple Linear Regression? \n",
    "   #This gets a bit more complicated because you can't visualize it with regression or residual plot.\n",
    "   # one way to look at the fit of the model is by looking at the distribution plot.\n",
    "\n",
    "# first let make predication"
   ],
   "execution_count":null,
   "outputs":[
    
   ],
   "metadata":{
    "datalore":{
     "node_id":"VoUuraQIo6TbXNC2Nu70e8",
     "type":"CODE",
     "hide_input_from_viewers":false,
     "hide_output_from_viewers":false
    }
   }
  },
  {
   "cell_type":"code",
   "source":[
    "Y_hat = lm.predict(Z)"
   ],
   "execution_count":124,
   "outputs":[
    
   ],
   "metadata":{
    "datalore":{
     "node_id":"ruCetaEIXeWKkzeWiasuvH",
     "type":"CODE",
     "hide_input_from_viewers":false,
     "hide_output_from_viewers":false
    }
   }
  },
  {
   "cell_type":"code",
   "source":[
    "import seaborn as sns\n",
    "%matplotlib inline \n",
    "\n",
    "\n",
    "plt.figure(figsize=(width, height))\n",
    "\n",
    "ax1 = sns.distplot(df['price'], hist=False, color=\"r\", label=\"Actual Value\")\n",
    "sns.distplot(Y_hat, hist=False, color=\"b\", label=\"Fitted Values\", ax=ax1 )\n",
    "\n",
    "plt.title(\"Actual vs Fitted Values for price\")\n",
    "plt.xlabel('Price (in Dollars)')\n",
    "plt.ylabel('Proportion of cars ')\n",
    "\n",
    "plt.show()\n",
    "plt.close()\n",
    "\n",
    "\n",
    "# We can see that the fitted values are reasonably close to the actual values since the two distributions overlap a bit. \n",
    "# However, there is definitely some room for improvement."
   ],
   "execution_count":125,
   "outputs":[
    {
     "name":"stderr",
     "text":[
      "\/opt\/python\/envs\/default\/lib\/python3.8\/site-packages\/seaborn\/distributions.py:2619: FutureWarning: `distplot` is a deprecated function and will be removed in a future version. Please adapt your code to use either `displot` (a figure-level function with similar flexibility) or `kdeplot` (an axes-level function for kernel density plots).\n",
      "  warnings.warn(msg, FutureWarning)\n",
      "\/opt\/python\/envs\/default\/lib\/python3.8\/site-packages\/seaborn\/distributions.py:316: UserWarning: Dataset has 0 variance; skipping density estimate. Pass `warn_singular=False` to disable this warning.\n",
      "  warnings.warn(msg, UserWarning)\n",
      "\/opt\/python\/envs\/default\/lib\/python3.8\/site-packages\/seaborn\/distributions.py:2619: FutureWarning: `distplot` is a deprecated function and will be removed in a future version. Please adapt your code to use either `displot` (a figure-level function with similar flexibility) or `kdeplot` (an axes-level function for kernel density plots).\n",
      "  warnings.warn(msg, FutureWarning)\n",
      "\/opt\/python\/envs\/default\/lib\/python3.8\/site-packages\/seaborn\/distributions.py:316: UserWarning: Dataset has 0 variance; skipping density estimate. Pass `warn_singular=False` to disable this warning.\n",
      "  warnings.warn(msg, UserWarning)\n"
     ],
     "output_type":"stream"
    },
    {
     "data":{
      "image\/png":"[encoded data removed]"
     },
     "metadata":{
      "image\/png":{
       
      }
     },
     "output_type":"display_data"
    }
   ],
   "metadata":{
    "datalore":{
     "node_id":"oSz578eGrGDIn7XGqGLcRb",
     "type":"CODE",
     "hide_input_from_viewers":false,
     "hide_output_from_viewers":false
    }
   }
  },
  {
   "cell_type":"code",
   "source":[
    "# We saw earlier that a linear model did not provide the best fit while using \"highway-mpg\" as the predictor variable.\n",
    "        # Let's see if we can try fitting a polynomial model to the data instead\n",
    "# We will use the following function to plot the data:\n",
    "\n",
    "def plotpolly(model, independent_variable, dependent_variabble, Name):\n",
    "    x_new = np.linspace(15, 55, 100)\n",
    "    y_new = model(x_new)\n",
    "\n",
    "    plt.plot(independent_variable, dependent_variabble, '.', x_new, y_new, '-')\n",
    "    plt.title('Polynomial Fit with Matplotlib for Price ~ Length')\n",
    "    ax = plt.gca()\n",
    "    ax.set_facecolor((0.898, 0.898, 0.898))\n",
    "    fig = plt.gcf()\n",
    "    plt.xlabel(Name)\n",
    "    plt.ylabel('Price of Cars')\n",
    "\n",
    "    plt.show()\n",
    "    plt.close()"
   ],
   "execution_count":126,
   "outputs":[
    
   ],
   "metadata":{
    "datalore":{
     "node_id":"Ije3wYOaMne0v9MNRHTuwn",
     "type":"CODE",
     "hide_input_from_viewers":false,
     "hide_output_from_viewers":false
    }
   }
  },
  {
   "cell_type":"code",
   "source":[
    "# Let's get the varaible\n",
    "\n",
    "x = df['highway-L\/100km']\n",
    "y = df['price']\n",
    "\n",
    "# Let's fit the polynomial using the function polyfit, then use the function poly1d to display the polynomial function.\n",
    " # # Here we use a polynomial of the 3rd order (cubic) \n",
    "\n",
    "f = np.polyfit(x,y,11)  # Create 11 order polynomial model with the variables x and y from above\n",
    "p = np.poly1d(f)\n",
    "print(f)"
   ],
   "execution_count":127,
   "outputs":[
    {
     "name":"stdout",
     "text":[
      "[0. 0. 0. 0. 0. 0. 0. 0. 0. 0. 0. 0.]\n"
     ],
     "output_type":"stream"
    }
   ],
   "metadata":{
    "datalore":{
     "node_id":"8KxhTSmOkvemwCIJdaYRiF",
     "type":"CODE",
     "hide_input_from_viewers":false,
     "hide_output_from_viewers":false
    }
   }
  },
  {
   "cell_type":"code",
   "source":[
    "# Let the plot the funcation\n",
    "plotpolly(p,x,y,'highway-L\/100km')"
   ],
   "execution_count":128,
   "outputs":[
    {
     "data":{
      "image\/png":"[encoded data removed]"
     },
     "metadata":{
      "image\/png":{
       
      }
     },
     "output_type":"display_data"
    }
   ],
   "metadata":{
    "datalore":{
     "node_id":"U1z5lQLIvVUNPTn2ysK8Wz",
     "type":"CODE",
     "hide_input_from_viewers":false,
     "hide_output_from_viewers":false
    }
   }
  },
  {
   "cell_type":"code",
   "source":[
    "np.polyfit(x,y,11)\n",
    "\n",
    "# Conclusion ###\n",
    "  # We can already see from plotting that this polynomial model performs better than the linear model. \n",
    "  # This is because the generated polynomial function \"hits\" more of the data points."
   ],
   "execution_count":129,
   "outputs":[
    {
     "data":{
      "text\/html":[
       
      ]
     },
     "metadata":{
      
     },
     "output_type":"display_data"
    }
   ],
   "metadata":{
    "datalore":{
     "node_id":"MMlbZEQGKU8g3l1IaelISq",
     "type":"CODE",
     "hide_input_from_viewers":false,
     "hide_output_from_viewers":false
    }
   }
  },
  {
   "cell_type":"code",
   "source":[
    "# We can perform a polynomial transform on multiple features. First, we import the module:\n",
    "from sklearn.preprocessing import PolynomialFeatures\n",
    "\n",
    "# We create a PolynomialFeatures object of degree 2:\n",
    "\n",
    "pr=PolynomialFeatures(degree=2)\n",
    "pr\n"
   ],
   "execution_count":130,
   "outputs":[
    {
     "data":{
      "text\/plain":[
       "PolynomialFeatures()"
      ]
     },
     "metadata":{
      
     },
     "output_type":"display_data"
    }
   ],
   "metadata":{
    "datalore":{
     "node_id":"vbYP7XR6jmGvvbuEb9V83b",
     "type":"CODE",
     "hide_input_from_viewers":false,
     "hide_output_from_viewers":false
    }
   }
  },
  {
   "cell_type":"code",
   "source":[
    "Z_pr=pr.fit_transform(Z)\n",
    "\n",
    "# n the original data, there are 201 samples and 4 features\n",
    "Z.shape  # result :(205,4)\n",
    "\n",
    "# er the transformation, there are 205 samples and 15 features.\n",
    "Z_pr.shape "
   ],
   "execution_count":131,
   "outputs":[
    {
     "data":{
      "text\/plain":[
       "(205, 15)"
      ]
     },
     "metadata":{
      
     },
     "output_type":"display_data"
    }
   ],
   "metadata":{
    "datalore":{
     "node_id":"0mKDaSgBR96qM1twaDCpPk",
     "type":"CODE",
     "hide_input_from_viewers":false,
     "hide_output_from_viewers":false
    }
   }
  },
  {
   "cell_type":"code",
   "source":[
    "## Pipeline ##\n",
    "# Data Pipelines simplify the steps of processing the data. \n",
    "   #We use the module Pipeline to create a pipeline. We also use StandardScaler as a step in our pipeline.\n",
    "\n",
    "from sklearn.pipeline import Pipeline\n",
    "from sklearn.preprocessing import StandardScaler\n",
    "\n",
    "#  We create the pipeline by creating a list of tuples including the name of the model or estimator and its corresponding constructor.\n",
    "# Create a pipeline that standardizes the data, then produce a prediction using a linear regression model using the features Z and target y.\n",
    "Input=[('scale',StandardScaler()), ('polynomial', PolynomialFeatures(include_bias=False)), ('model',LinearRegression())]\n",
    "\n",
    "#  We input the list as an argument to the pipeline constructor\n",
    "pipe=Pipeline(Input)\n",
    "pipe"
   ],
   "execution_count":132,
   "outputs":[
    {
     "data":{
      "text\/plain":[
       "Pipeline(steps=[('scale', StandardScaler()),\n",
       "                ('polynomial', PolynomialFeatures(include_bias=False)),\n",
       "                ('model', LinearRegression())])"
      ]
     },
     "metadata":{
      
     },
     "output_type":"display_data"
    }
   ],
   "metadata":{
    "datalore":{
     "node_id":"J4T2M8CAr7TIwKSeU83uxp",
     "type":"CODE",
     "hide_input_from_viewers":false,
     "hide_output_from_viewers":false
    }
   }
  },
  {
   "cell_type":"code",
   "source":[
    "# First, we convert the data type Z to type float to avoid conversion warnings that may appear as a result of StandardScaler taking float inputs.\n",
    "\n",
    "# Then, we can normalize the data, perform a transform and fit the model simultaneously.\n",
    "\n",
    "Z = Z.astype(float)\n",
    "pipe.fit(Z,y)"
   ],
   "execution_count":133,
   "outputs":[
    {
     "data":{
      "text\/plain":[
       "Pipeline(steps=[('scale', StandardScaler()),\n",
       "                ('polynomial', PolynomialFeatures(include_bias=False)),\n",
       "                ('model', LinearRegression())])"
      ]
     },
     "metadata":{
      
     },
     "output_type":"display_data"
    }
   ],
   "metadata":{
    "datalore":{
     "node_id":"WEQ0ae1e0kuXNMN4G27Aew",
     "type":"CODE",
     "hide_input_from_viewers":false,
     "hide_output_from_viewers":false
    }
   }
  },
  {
   "cell_type":"code",
   "source":[
    "# Similarly, we can normalize the data, perform a transform and produce a prediction simultaneously.\n",
    "ypipe=pipe.predict(Z)\n",
    "ypipe[0:4]"
   ],
   "execution_count":134,
   "outputs":[
    {
     "data":{
      "text\/html":[
       
      ]
     },
     "metadata":{
      
     },
     "output_type":"display_data"
    }
   ],
   "metadata":{
    "datalore":{
     "node_id":"oRiMgQedOjKN4PR8fOy9hN",
     "type":"CODE",
     "hide_input_from_viewers":false,
     "hide_output_from_viewers":false
    }
   }
  },
  {
   "cell_type":"code",
   "source":[
    "## Mesure for in-sample Evaluation  ###\n",
    "\n",
    "# R-squared\n",
    "\n",
    "# R squared, also known as the coefficient of determination, is a measure to indicate how close the data is to the fitted regression line.\n",
    "\n",
    "# The value of the R-squared is the percentage of variation of the response variable (y) that is explained by a linear model.\n",
    "\n",
    "# Mean Squared Error (MSE)\n",
    "\n",
    "# The Mean Squared Error measures the average of the squares of errors. That is, the difference between actual value (y) and the estimated value (ŷ)."
   ],
   "execution_count":198,
   "outputs":[
    
   ],
   "metadata":{
    "datalore":{
     "node_id":"Yn0ZpOtRVEbsuT8KnYux9K",
     "type":"CODE",
     "hide_input_from_viewers":false,
     "hide_output_from_viewers":false
    }
   }
  },
  {
   "cell_type":"code",
   "source":[
    "x_train = x_train.reshape(-1, 1)\n",
    "x_test = x_test.reshape(-1,1)"
   ],
   "execution_count":145,
   "outputs":[
    {
     "ename":"AttributeError",
     "evalue":"AttributeError: 'DataFrame' object has no attribute 'reshape'",
     "traceback":[
      "\u001b[0;31m---------------------------------------------------------------------------",
      "Traceback (most recent call last)",
      "    at line 1 in <module>",
      "    at line 5487 in __getattr__(self, name)",
      "AttributeError: 'DataFrame' object has no attribute 'reshape'"
     ],
     "output_type":"error"
    }
   ],
   "metadata":{
    "datalore":{
     "node_id":"VxMMULFG5oqYMoIKgATzU9",
     "type":"CODE",
     "hide_input_from_viewers":false,
     "hide_output_from_viewers":false
    }
   }
  },
  {
   "cell_type":"code",
   "source":[
    "#highway_mpg_fit\n",
    "lm.fit(x,y)\n",
    "# Find the R^2\n",
    "print('The R-square is: ', lm.score(x, y))\n",
    "\n",
    "# We can say that ~49.659% of the variation of the price is explained by this simple linear model \"horsepower_fit\"."
   ],
   "execution_count":135,
   "outputs":[
    {
     "ename":"ValueError",
     "evalue":"ValueError: Expected 2D array, got 1D array instead:\narray=[27 27 26 30 22 25 25 25 20 22 29 29 28 28 25 22 22 20 53 43 43 41 38 30\n 38 38 38 30 30 24 54 38 42 34 34 34 34 33 33 33 33 28 31 29 43 43 29 19\n 19 17 31 38 38 38 38 23 23 23 23 32 32 32 32 42 32 27 39 25 25 25 25 18\n 18 16 16 24 41 38 38 30 30 32 24 24 24 32 32 30 30 37 50 37 37 37 37 37\n 37 37 37 34 34 22 22 25 25 23 25 24 33 24 25 24 33 24 25 24 33 24 41 30\n 38 38 38 30 24 27 25 25 25 28 31 31 28 28 28 28 26 26 36 31 31 37 33 32\n 25 29 32 31 29 23 39 38 38 37 32 32 37 37 36 47 47 34 34 34 34 29 29 30\n 30 30 30 30 30 34 33 32 32 32 24 24 24 24 46 34 46 34 34 42 32 29 29 24\n 38 31 28 28 28 28 22 22 28 25 23 27 25].\nReshape your data either using array.reshape(-1, 1) if your data has a single feature or array.reshape(1, -1) if it contains a single sample.",
     "traceback":[
      "\u001b[0;31m---------------------------------------------------------------------------",
      "Traceback (most recent call last)",
      "    at line 2 in <module>",
      "    at line 662 in fit(self, X, y, sample_weight)",
      "    at line 576 in _validate_data(self, X, y, reset, validate_separately, **check_params)",
      "    at line 956 in check_X_y(X, y, accept_sparse, accept_large_sparse, dtype, order, copy, force_all_finite, ensure_2d, allow_nd, multi_output, ensure_min_samples, ensure_min_features, y_numeric, estimator)",
      "    at line 761 in check_array(array, accept_sparse, accept_large_sparse, dtype, order, copy, force_all_finite, ensure_2d, allow_nd, ensure_min_samples, ensure_min_features, estimator)",
      "ValueError: Expected 2D array, got 1D array instead:\narray=[27 27 26 30 22 25 25 25 20 22 29 29 28 28 25 22 22 20 53 43 43 41 38 30\n 38 38 38 30 30 24 54 38 42 34 34 34 34 33 33 33 33 28 31 29 43 43 29 19\n 19 17 31 38 38 38 38 23 23 23 23 32 32 32 32 42 32 27 39 25 25 25 25 18\n 18 16 16 24 41 38 38 30 30 32 24 24 24 32 32 30 30 37 50 37 37 37 37 37\n 37 37 37 34 34 22 22 25 25 23 25 24 33 24 25 24 33 24 25 24 33 24 41 30\n 38 38 38 30 24 27 25 25 25 28 31 31 28 28 28 28 26 26 36 31 31 37 33 32\n 25 29 32 31 29 23 39 38 38 37 32 32 37 37 36 47 47 34 34 34 34 29 29 30\n 30 30 30 30 30 34 33 32 32 32 24 24 24 24 46 34 46 34 34 42 32 29 29 24\n 38 31 28 28 28 28 22 22 28 25 23 27 25].\nReshape your data either using array.reshape(-1, 1) if your data has a single feature or array.reshape(1, -1) if it contains a single sample."
     ],
     "output_type":"error"
    }
   ],
   "metadata":{
    "datalore":{
     "node_id":"87U4b6Pm5mTSGBZZuIUyHd",
     "type":"CODE",
     "hide_input_from_viewers":false,
     "hide_output_from_viewers":false
    }
   }
  },
  {
   "cell_type":"code",
   "source":[
    "# Let's calculate the MSE:\n",
    "\n",
    "# We can predict the output i.e., \"yhat\" using the predict method, where X is the input variable:\n",
    "\n",
    "Y_hat=lm.predict(x)\n",
    "print('The output of the first four predicted value is: ', Yhat[0:4])"
   ],
   "execution_count":136,
   "outputs":[
    {
     "ename":"ValueError",
     "evalue":"ValueError: Expected 2D array, got 1D array instead:\narray=[27 27 26 30 22 25 25 25 20 22 29 29 28 28 25 22 22 20 53 43 43 41 38 30\n 38 38 38 30 30 24 54 38 42 34 34 34 34 33 33 33 33 28 31 29 43 43 29 19\n 19 17 31 38 38 38 38 23 23 23 23 32 32 32 32 42 32 27 39 25 25 25 25 18\n 18 16 16 24 41 38 38 30 30 32 24 24 24 32 32 30 30 37 50 37 37 37 37 37\n 37 37 37 34 34 22 22 25 25 23 25 24 33 24 25 24 33 24 25 24 33 24 41 30\n 38 38 38 30 24 27 25 25 25 28 31 31 28 28 28 28 26 26 36 31 31 37 33 32\n 25 29 32 31 29 23 39 38 38 37 32 32 37 37 36 47 47 34 34 34 34 29 29 30\n 30 30 30 30 30 34 33 32 32 32 24 24 24 24 46 34 46 34 34 42 32 29 29 24\n 38 31 28 28 28 28 22 22 28 25 23 27 25].\nReshape your data either using array.reshape(-1, 1) if your data has a single feature or array.reshape(1, -1) if it contains a single sample.",
     "traceback":[
      "\u001b[0;31m---------------------------------------------------------------------------",
      "Traceback (most recent call last)",
      "    at line 5 in <module>",
      "    at line 362 in predict(self, X)",
      "    at line 345 in _decision_function(self, X)",
      "    at line 561 in _validate_data(self, X, y, reset, validate_separately, **check_params)",
      "    at line 761 in check_array(array, accept_sparse, accept_large_sparse, dtype, order, copy, force_all_finite, ensure_2d, allow_nd, ensure_min_samples, ensure_min_features, estimator)",
      "ValueError: Expected 2D array, got 1D array instead:\narray=[27 27 26 30 22 25 25 25 20 22 29 29 28 28 25 22 22 20 53 43 43 41 38 30\n 38 38 38 30 30 24 54 38 42 34 34 34 34 33 33 33 33 28 31 29 43 43 29 19\n 19 17 31 38 38 38 38 23 23 23 23 32 32 32 32 42 32 27 39 25 25 25 25 18\n 18 16 16 24 41 38 38 30 30 32 24 24 24 32 32 30 30 37 50 37 37 37 37 37\n 37 37 37 34 34 22 22 25 25 23 25 24 33 24 25 24 33 24 25 24 33 24 41 30\n 38 38 38 30 24 27 25 25 25 28 31 31 28 28 28 28 26 26 36 31 31 37 33 32\n 25 29 32 31 29 23 39 38 38 37 32 32 37 37 36 47 47 34 34 34 34 29 29 30\n 30 30 30 30 30 34 33 32 32 32 24 24 24 24 46 34 46 34 34 42 32 29 29 24\n 38 31 28 28 28 28 22 22 28 25 23 27 25].\nReshape your data either using array.reshape(-1, 1) if your data has a single feature or array.reshape(1, -1) if it contains a single sample."
     ],
     "output_type":"error"
    }
   ],
   "metadata":{
    "datalore":{
     "node_id":"tNPwFC8RzzQwoo7xNGotXc",
     "type":"CODE",
     "hide_input_from_viewers":false,
     "hide_output_from_viewers":false
    }
   }
  },
  {
   "cell_type":"code",
   "source":[
    "# Let's import the function mean_squared_error from the module metrics:\n",
    "from sklearn.metrics import mean_squared_error\n",
    "\n",
    "        # We can compare the predicted results with the actual results\n",
    "mse = mean_squared_error(df['price'], Y_hat)\n",
    "print('The mean square error of price and predicted value is: ', mse)\n",
    "        "
   ],
   "execution_count":137,
   "outputs":[
    {
     "name":"stdout",
     "text":[
      "The mean square error of price and predicted value is:  0.0\n"
     ],
     "output_type":"stream"
    }
   ],
   "metadata":{
    "datalore":{
     "node_id":"ruyGDi4yULMHj9MKaG996T",
     "type":"CODE",
     "hide_input_from_viewers":false,
     "hide_output_from_viewers":false
    }
   }
  },
  {
   "cell_type":"code",
   "source":[
    "# Module 2  Multiple Linear regresion 2\n",
    "# Let's calculate the R^2:\n",
    "\n",
    "# fit the model \n",
    "lm.fit(Z, df['price'])\n",
    "# Find the R^2\n",
    "print('The R-square is: ', lm.score(Z, df['price']))"
   ],
   "execution_count":138,
   "outputs":[
    {
     "name":"stdout",
     "text":[
      "The R-square is:  1.0\n"
     ],
     "output_type":"stream"
    }
   ],
   "metadata":{
    "datalore":{
     "node_id":"E4KeYVjq3tqWRzJNKdFFtY",
     "type":"CODE",
     "hide_input_from_viewers":false,
     "hide_output_from_viewers":false
    }
   }
  },
  {
   "cell_type":"code",
   "source":[
    "# Let's calculate the MSE.We produce a prediction\n",
    "Y_predict_multifit = lm.predict(Z)\n",
    "\n",
    "#  We compare the predicted results with the actual results:\n",
    "print('The mean square error of price and predicted value using multifit is: ', mean_squared_error(df['price'], Y_predict_multifit))"
   ],
   "execution_count":139,
   "outputs":[
    {
     "name":"stdout",
     "text":[
      "The mean square error of price and predicted value using multifit is:  0.0\n"
     ],
     "output_type":"stream"
    }
   ],
   "metadata":{
    "datalore":{
     "node_id":"J9zKencwYSyPRF8gIKZSqq",
     "type":"CODE",
     "hide_input_from_viewers":false,
     "hide_output_from_viewers":false
    }
   }
  },
  {
   "cell_type":"code",
   "source":[
    "# Modul 3  Polynomial Fit\n",
    "# Let's calculate the R^2\n",
    "# Let’s import the function r2_score from the module metrics as we are using a different function.\n",
    "\n",
    "from sklearn.metrics import r2_score\n",
    "# We apply the function to get the value of R^2:\n",
    "\n",
    "r_squared = r2_score(y, p(x))\n",
    "print('The R-square value is: ', r_squared)\n",
    "# We can say that ~67.419 % of the variation of price is explained by this polynomial fit.\n",
    "# Wrong result by used wrong data, but equation and method right "
   ],
   "execution_count":140,
   "outputs":[
    {
     "name":"stdout",
     "text":[
      "The R-square value is:  1.0\n"
     ],
     "output_type":"stream"
    }
   ],
   "metadata":{
    "datalore":{
     "node_id":"Rg0nRP6m4Azl5VwpFUREBj",
     "type":"CODE",
     "hide_input_from_viewers":false,
     "hide_output_from_viewers":false
    }
   }
  },
  {
   "cell_type":"code",
   "source":[
    "# MSE\n",
    "# We can also calculte the MSE:\n",
    "mean_squared_error(df['price'], p(x))"
   ],
   "execution_count":141,
   "outputs":[
    {
     "data":{
      "text\/plain":[
       "0.0"
      ]
     },
     "metadata":{
      
     },
     "output_type":"display_data"
    }
   ],
   "metadata":{
    "datalore":{
     "node_id":"uv7F7RaWqdXHZeTDP4vePi",
     "type":"CODE",
     "hide_input_from_viewers":false,
     "hide_output_from_viewers":false
    }
   }
  },
  {
   "cell_type":"code",
   "source":[
    "# Predication and Decision making\n",
    "  # In the previous section, we trained the model using the method fit. \n",
    "     # Now we will use the method predict to produce a prediction.\n",
    "        # Lets import pyplot for plotting; we will also be using some functions from numpy.\n",
    "import matplotlib.pyplot as plt\n",
    "import numpy as np\n",
    "\n",
    "%matplotlib inline \n",
    "\n",
    "# create new input \n",
    "new_input=np.arange(1, 100, 1).reshape(-1, 1)\n",
    "# Fit the method\n",
    "lm.fit(x,y)\n",
    "lm"
   ],
   "execution_count":143,
   "outputs":[
    {
     "ename":"ValueError",
     "evalue":"ValueError: Expected 2D array, got 1D array instead:\narray=[27 27 26 30 22 25 25 25 20 22 29 29 28 28 25 22 22 20 53 43 43 41 38 30\n 38 38 38 30 30 24 54 38 42 34 34 34 34 33 33 33 33 28 31 29 43 43 29 19\n 19 17 31 38 38 38 38 23 23 23 23 32 32 32 32 42 32 27 39 25 25 25 25 18\n 18 16 16 24 41 38 38 30 30 32 24 24 24 32 32 30 30 37 50 37 37 37 37 37\n 37 37 37 34 34 22 22 25 25 23 25 24 33 24 25 24 33 24 25 24 33 24 41 30\n 38 38 38 30 24 27 25 25 25 28 31 31 28 28 28 28 26 26 36 31 31 37 33 32\n 25 29 32 31 29 23 39 38 38 37 32 32 37 37 36 47 47 34 34 34 34 29 29 30\n 30 30 30 30 30 34 33 32 32 32 24 24 24 24 46 34 46 34 34 42 32 29 29 24\n 38 31 28 28 28 28 22 22 28 25 23 27 25].\nReshape your data either using array.reshape(-1, 1) if your data has a single feature or array.reshape(1, -1) if it contains a single sample.",
     "traceback":[
      "\u001b[0;31m---------------------------------------------------------------------------",
      "Traceback (most recent call last)",
      "    at line 13 in <module>",
      "    at line 662 in fit(self, X, y, sample_weight)",
      "    at line 576 in _validate_data(self, X, y, reset, validate_separately, **check_params)",
      "    at line 956 in check_X_y(X, y, accept_sparse, accept_large_sparse, dtype, order, copy, force_all_finite, ensure_2d, allow_nd, multi_output, ensure_min_samples, ensure_min_features, y_numeric, estimator)",
      "    at line 761 in check_array(array, accept_sparse, accept_large_sparse, dtype, order, copy, force_all_finite, ensure_2d, allow_nd, ensure_min_samples, ensure_min_features, estimator)",
      "ValueError: Expected 2D array, got 1D array instead:\narray=[27 27 26 30 22 25 25 25 20 22 29 29 28 28 25 22 22 20 53 43 43 41 38 30\n 38 38 38 30 30 24 54 38 42 34 34 34 34 33 33 33 33 28 31 29 43 43 29 19\n 19 17 31 38 38 38 38 23 23 23 23 32 32 32 32 42 32 27 39 25 25 25 25 18\n 18 16 16 24 41 38 38 30 30 32 24 24 24 32 32 30 30 37 50 37 37 37 37 37\n 37 37 37 34 34 22 22 25 25 23 25 24 33 24 25 24 33 24 25 24 33 24 41 30\n 38 38 38 30 24 27 25 25 25 28 31 31 28 28 28 28 26 26 36 31 31 37 33 32\n 25 29 32 31 29 23 39 38 38 37 32 32 37 37 36 47 47 34 34 34 34 29 29 30\n 30 30 30 30 30 34 33 32 32 32 24 24 24 24 46 34 46 34 34 42 32 29 29 24\n 38 31 28 28 28 28 22 22 28 25 23 27 25].\nReshape your data either using array.reshape(-1, 1) if your data has a single feature or array.reshape(1, -1) if it contains a single sample."
     ],
     "output_type":"error"
    }
   ],
   "metadata":{
    "datalore":{
     "node_id":"i9QR5mFDhUHbkg8EAmKz7i",
     "type":"CODE",
     "hide_input_from_viewers":false,
     "hide_output_from_viewers":false
    }
   }
  },
  {
   "cell_type":"code",
   "source":[
    "Y_hat=lm.predict(new_input)\n",
    "Y_hat[0:1]"
   ],
   "execution_count":141,
   "outputs":[
    {
     "ename":"ValueError",
     "evalue":"ValueError: X has 1 features, but LinearRegression is expecting 4 features as input.",
     "traceback":[
      "\u001b[0;31m---------------------------------------------------------------------------",
      "Traceback (most recent call last)",
      "    at line 1 in <module>",
      "    at line 362 in predict(self, X)",
      "    at line 345 in _decision_function(self, X)",
      "    at line 580 in _validate_data(self, X, y, reset, validate_separately, **check_params)",
      "    at line 395 in _check_n_features(self, X, reset)",
      "ValueError: X has 1 features, but LinearRegression is expecting 4 features as input."
     ],
     "output_type":"error"
    }
   ],
   "metadata":{
    "datalore":{
     "node_id":"nrC3nBWNEhVUWNrg5oOy6s",
     "type":"CODE",
     "hide_input_from_viewers":false,
     "hide_output_from_viewers":false
    }
   }
  },
  {
   "cell_type":"code",
   "source":[
    "\n",
    "plt.plot(new_input, Y_hat)\n",
    "plt.show()"
   ],
   "execution_count":142,
   "outputs":[
    {
     "ename":"ValueError",
     "evalue":"ValueError: x and y must have same first dimension, but have shapes (99, 1) and (205,)",
     "traceback":[
      "\u001b[0;31m---------------------------------------------------------------------------",
      "Traceback (most recent call last)",
      "    at line 1 in <module>",
      "    at line 2757 in plot(scalex, scaley, data, *args, **kwargs)",
      "    at line 1632 in plot(self, scalex, scaley, data, *args, **kwargs)",
      "    at line 312 in __call__(self, data, *args, **kwargs)",
      "    at line 498 in _plot_args(self, tup, kwargs, return_kwargs)",
      "ValueError: x and y must have same first dimension, but have shapes (99, 1) and (205,)"
     ],
     "output_type":"error"
    }
   ],
   "metadata":{
    "datalore":{
     "node_id":"bzU0pvQLU0z63T8fCic03T",
     "type":"CODE",
     "hide_input_from_viewers":false,
     "hide_output_from_viewers":false
    }
   }
  },
  {
   "cell_type":"code",
   "source":[
    
   ],
   "execution_count":null,
   "outputs":[
    
   ],
   "metadata":{
    "datalore":{
     "node_id":"snHTngYoZoLig7nGpWeX2b",
     "type":"CODE",
     "hide_input_from_viewers":false,
     "hide_output_from_viewers":false
    }
   }
  },
  {
   "cell_type":"code",
   "source":[
    "## Modle Evaluation ####"
   ],
   "execution_count":null,
   "outputs":[
    
   ],
   "metadata":{
    "datalore":{
     "node_id":"qHu40Q0OSzN0BfXGcuzd6w",
     "type":"CODE",
     "hide_input_from_viewers":false,
     "hide_output_from_viewers":false
    }
   }
  },
  {
   "cell_type":"code",
   "source":[
    "import pandas as pd\n",
    "import numpy as np\n",
    "import seaborn as sns\n",
    "%matplotlib inline\n",
    "#import matplotlib.pyplot as plt"
   ],
   "execution_count":1,
   "outputs":[
    
   ],
   "metadata":{
    "datalore":{
     "node_id":"2jy5kF7ylaZiNd0QAGl6sg",
     "type":"CODE",
     "hide_input_from_viewers":false,
     "hide_output_from_viewers":false
    }
   }
  },
  {
   "cell_type":"code",
   "source":[
    "# Read the online file by the URL provides above, and assign it to variable \"df\"\n",
    "df = pd.read_csv(\"New_data.csv\")\n",
    "#dset = sns.load_dataset(\"df\")\n",
    "df.head(100)\n",
    "df.tail(10)"
   ],
   "execution_count":2,
   "outputs":[
    {
     "data":{
      "text\/html":[
       "<div>\n",
       "<style scoped>\n",
       "    .dataframe tbody tr th:only-of-type {\n",
       "        vertical-align: middle;\n",
       "    }\n",
       "\n",
       "    .dataframe tbody tr th {\n",
       "        vertical-align: top;\n",
       "    }\n",
       "\n",
       "    .dataframe thead th {\n",
       "        text-align: right;\n",
       "    }\n",
       "<\/style>\n",
       "<table border=\"1\" class=\"dataframe\">\n",
       "  <thead>\n",
       "    <tr style=\"text-align: right;\">\n",
       "      <th><\/th>\n",
       "      <th>Unnamed: 0<\/th>\n",
       "      <th>symboling<\/th>\n",
       "      <th>normalized-losses<\/th>\n",
       "      <th>make<\/th>\n",
       "      <th>aspiration<\/th>\n",
       "      <th>num-of-doors<\/th>\n",
       "      <th>body-style<\/th>\n",
       "      <th>drive-wheels<\/th>\n",
       "      <th>engine-location<\/th>\n",
       "      <th>wheel-base<\/th>\n",
       "      <th>...<\/th>\n",
       "      <th>compression-ratio<\/th>\n",
       "      <th>horsepower<\/th>\n",
       "      <th>peak-rpm<\/th>\n",
       "      <th>city-mpg<\/th>\n",
       "      <th>highway-L\/100km<\/th>\n",
       "      <th>price<\/th>\n",
       "      <th>city-L\/100km<\/th>\n",
       "      <th>horsepower-binned<\/th>\n",
       "      <th>fuel-type-diesel<\/th>\n",
       "      <th>fuel-type-gas<\/th>\n",
       "    <\/tr>\n",
       "  <\/thead>\n",
       "  <tbody>\n",
       "    <tr>\n",
       "      <th>195<\/th>\n",
       "      <td>195<\/td>\n",
       "      <td>-1<\/td>\n",
       "      <td>74<\/td>\n",
       "      <td>volvo<\/td>\n",
       "      <td>std<\/td>\n",
       "      <td>four<\/td>\n",
       "      <td>wagon<\/td>\n",
       "      <td>rwd<\/td>\n",
       "      <td>front<\/td>\n",
       "      <td>104.3<\/td>\n",
       "      <td>...<\/td>\n",
       "      <td>9.5<\/td>\n",
       "      <td>0<\/td>\n",
       "      <td>5400.0<\/td>\n",
       "      <td>23<\/td>\n",
       "      <td>28<\/td>\n",
       "      <td>13415.0<\/td>\n",
       "      <td>8.392857<\/td>\n",
       "      <td>Low<\/td>\n",
       "      <td>0<\/td>\n",
       "      <td>1<\/td>\n",
       "    <\/tr>\n",
       "    <tr>\n",
       "      <th>196<\/th>\n",
       "      <td>196<\/td>\n",
       "      <td>-2<\/td>\n",
       "      <td>103<\/td>\n",
       "      <td>volvo<\/td>\n",
       "      <td>std<\/td>\n",
       "      <td>four<\/td>\n",
       "      <td>sedan<\/td>\n",
       "      <td>rwd<\/td>\n",
       "      <td>front<\/td>\n",
       "      <td>104.3<\/td>\n",
       "      <td>...<\/td>\n",
       "      <td>9.5<\/td>\n",
       "      <td>0<\/td>\n",
       "      <td>5400.0<\/td>\n",
       "      <td>24<\/td>\n",
       "      <td>28<\/td>\n",
       "      <td>15985.0<\/td>\n",
       "      <td>8.392857<\/td>\n",
       "      <td>Low<\/td>\n",
       "      <td>0<\/td>\n",
       "      <td>1<\/td>\n",
       "    <\/tr>\n",
       "    <tr>\n",
       "      <th>197<\/th>\n",
       "      <td>197<\/td>\n",
       "      <td>-1<\/td>\n",
       "      <td>74<\/td>\n",
       "      <td>volvo<\/td>\n",
       "      <td>std<\/td>\n",
       "      <td>four<\/td>\n",
       "      <td>wagon<\/td>\n",
       "      <td>rwd<\/td>\n",
       "      <td>front<\/td>\n",
       "      <td>104.3<\/td>\n",
       "      <td>...<\/td>\n",
       "      <td>9.5<\/td>\n",
       "      <td>0<\/td>\n",
       "      <td>5400.0<\/td>\n",
       "      <td>24<\/td>\n",
       "      <td>28<\/td>\n",
       "      <td>16515.0<\/td>\n",
       "      <td>8.392857<\/td>\n",
       "      <td>Low<\/td>\n",
       "      <td>0<\/td>\n",
       "      <td>1<\/td>\n",
       "    <\/tr>\n",
       "    <tr>\n",
       "      <th>198<\/th>\n",
       "      <td>198<\/td>\n",
       "      <td>-2<\/td>\n",
       "      <td>103<\/td>\n",
       "      <td>volvo<\/td>\n",
       "      <td>turbo<\/td>\n",
       "      <td>four<\/td>\n",
       "      <td>sedan<\/td>\n",
       "      <td>rwd<\/td>\n",
       "      <td>front<\/td>\n",
       "      <td>104.3<\/td>\n",
       "      <td>...<\/td>\n",
       "      <td>7.5<\/td>\n",
       "      <td>0<\/td>\n",
       "      <td>5100.0<\/td>\n",
       "      <td>17<\/td>\n",
       "      <td>22<\/td>\n",
       "      <td>18420.0<\/td>\n",
       "      <td>10.681818<\/td>\n",
       "      <td>Low<\/td>\n",
       "      <td>0<\/td>\n",
       "      <td>1<\/td>\n",
       "    <\/tr>\n",
       "    <tr>\n",
       "      <th>199<\/th>\n",
       "      <td>199<\/td>\n",
       "      <td>-1<\/td>\n",
       "      <td>74<\/td>\n",
       "      <td>volvo<\/td>\n",
       "      <td>turbo<\/td>\n",
       "      <td>four<\/td>\n",
       "      <td>wagon<\/td>\n",
       "      <td>rwd<\/td>\n",
       "      <td>front<\/td>\n",
       "      <td>104.3<\/td>\n",
       "      <td>...<\/td>\n",
       "      <td>7.5<\/td>\n",
       "      <td>0<\/td>\n",
       "      <td>5100.0<\/td>\n",
       "      <td>17<\/td>\n",
       "      <td>22<\/td>\n",
       "      <td>18950.0<\/td>\n",
       "      <td>10.681818<\/td>\n",
       "      <td>Low<\/td>\n",
       "      <td>0<\/td>\n",
       "      <td>1<\/td>\n",
       "    <\/tr>\n",
       "    <tr>\n",
       "      <th>200<\/th>\n",
       "      <td>200<\/td>\n",
       "      <td>-1<\/td>\n",
       "      <td>95<\/td>\n",
       "      <td>volvo<\/td>\n",
       "      <td>std<\/td>\n",
       "      <td>four<\/td>\n",
       "      <td>sedan<\/td>\n",
       "      <td>rwd<\/td>\n",
       "      <td>front<\/td>\n",
       "      <td>109.1<\/td>\n",
       "      <td>...<\/td>\n",
       "      <td>9.5<\/td>\n",
       "      <td>0<\/td>\n",
       "      <td>5400.0<\/td>\n",
       "      <td>23<\/td>\n",
       "      <td>28<\/td>\n",
       "      <td>16845.0<\/td>\n",
       "      <td>8.392857<\/td>\n",
       "      <td>Low<\/td>\n",
       "      <td>0<\/td>\n",
       "      <td>1<\/td>\n",
       "    <\/tr>\n",
       "    <tr>\n",
       "      <th>201<\/th>\n",
       "      <td>201<\/td>\n",
       "      <td>-1<\/td>\n",
       "      <td>95<\/td>\n",
       "      <td>volvo<\/td>\n",
       "      <td>turbo<\/td>\n",
       "      <td>four<\/td>\n",
       "      <td>sedan<\/td>\n",
       "      <td>rwd<\/td>\n",
       "      <td>front<\/td>\n",
       "      <td>109.1<\/td>\n",
       "      <td>...<\/td>\n",
       "      <td>8.7<\/td>\n",
       "      <td>0<\/td>\n",
       "      <td>5300.0<\/td>\n",
       "      <td>19<\/td>\n",
       "      <td>25<\/td>\n",
       "      <td>19045.0<\/td>\n",
       "      <td>9.400000<\/td>\n",
       "      <td>Low<\/td>\n",
       "      <td>0<\/td>\n",
       "      <td>1<\/td>\n",
       "    <\/tr>\n",
       "    <tr>\n",
       "      <th>202<\/th>\n",
       "      <td>202<\/td>\n",
       "      <td>-1<\/td>\n",
       "      <td>95<\/td>\n",
       "      <td>volvo<\/td>\n",
       "      <td>std<\/td>\n",
       "      <td>four<\/td>\n",
       "      <td>sedan<\/td>\n",
       "      <td>rwd<\/td>\n",
       "      <td>front<\/td>\n",
       "      <td>109.1<\/td>\n",
       "      <td>...<\/td>\n",
       "      <td>8.8<\/td>\n",
       "      <td>0<\/td>\n",
       "      <td>5500.0<\/td>\n",
       "      <td>18<\/td>\n",
       "      <td>23<\/td>\n",
       "      <td>21485.0<\/td>\n",
       "      <td>10.217391<\/td>\n",
       "      <td>Low<\/td>\n",
       "      <td>0<\/td>\n",
       "      <td>1<\/td>\n",
       "    <\/tr>\n",
       "    <tr>\n",
       "      <th>203<\/th>\n",
       "      <td>203<\/td>\n",
       "      <td>-1<\/td>\n",
       "      <td>95<\/td>\n",
       "      <td>volvo<\/td>\n",
       "      <td>turbo<\/td>\n",
       "      <td>four<\/td>\n",
       "      <td>sedan<\/td>\n",
       "      <td>rwd<\/td>\n",
       "      <td>front<\/td>\n",
       "      <td>109.1<\/td>\n",
       "      <td>...<\/td>\n",
       "      <td>23.0<\/td>\n",
       "      <td>0<\/td>\n",
       "      <td>4800.0<\/td>\n",
       "      <td>26<\/td>\n",
       "      <td>27<\/td>\n",
       "      <td>22470.0<\/td>\n",
       "      <td>8.703704<\/td>\n",
       "      <td>Low<\/td>\n",
       "      <td>1<\/td>\n",
       "      <td>0<\/td>\n",
       "    <\/tr>\n",
       "    <tr>\n",
       "      <th>204<\/th>\n",
       "      <td>204<\/td>\n",
       "      <td>-1<\/td>\n",
       "      <td>95<\/td>\n",
       "      <td>volvo<\/td>\n",
       "      <td>turbo<\/td>\n",
       "      <td>four<\/td>\n",
       "      <td>sedan<\/td>\n",
       "      <td>rwd<\/td>\n",
       "      <td>front<\/td>\n",
       "      <td>109.1<\/td>\n",
       "      <td>...<\/td>\n",
       "      <td>9.5<\/td>\n",
       "      <td>0<\/td>\n",
       "      <td>5400.0<\/td>\n",
       "      <td>19<\/td>\n",
       "      <td>25<\/td>\n",
       "      <td>22625.0<\/td>\n",
       "      <td>9.400000<\/td>\n",
       "      <td>Low<\/td>\n",
       "      <td>0<\/td>\n",
       "      <td>1<\/td>\n",
       "    <\/tr>\n",
       "  <\/tbody>\n",
       "<\/table>\n",
       "<p>10 rows × 30 columns<\/p>\n",
       "<\/div>"
      ]
     },
     "metadata":{
      
     },
     "output_type":"display_data"
    }
   ],
   "metadata":{
    "datalore":{
     "node_id":"cUOcpGJykVp9N9c16S3Ra8",
     "type":"CODE",
     "hide_input_from_viewers":false,
     "hide_output_from_viewers":false
    }
   }
  },
  {
   "cell_type":"code",
   "source":[
    "df=df._get_numeric_data()\n",
    "df.head()"
   ],
   "execution_count":3,
   "outputs":[
    {
     "data":{
      "text\/html":[
       "<div>\n",
       "<style scoped>\n",
       "    .dataframe tbody tr th:only-of-type {\n",
       "        vertical-align: middle;\n",
       "    }\n",
       "\n",
       "    .dataframe tbody tr th {\n",
       "        vertical-align: top;\n",
       "    }\n",
       "\n",
       "    .dataframe thead th {\n",
       "        text-align: right;\n",
       "    }\n",
       "<\/style>\n",
       "<table border=\"1\" class=\"dataframe\">\n",
       "  <thead>\n",
       "    <tr style=\"text-align: right;\">\n",
       "      <th><\/th>\n",
       "      <th>Unnamed: 0<\/th>\n",
       "      <th>symboling<\/th>\n",
       "      <th>normalized-losses<\/th>\n",
       "      <th>wheel-base<\/th>\n",
       "      <th>length<\/th>\n",
       "      <th>width<\/th>\n",
       "      <th>height<\/th>\n",
       "      <th>curb-weight<\/th>\n",
       "      <th>engine-size<\/th>\n",
       "      <th>bore<\/th>\n",
       "      <th>stroke<\/th>\n",
       "      <th>compression-ratio<\/th>\n",
       "      <th>horsepower<\/th>\n",
       "      <th>peak-rpm<\/th>\n",
       "      <th>city-mpg<\/th>\n",
       "      <th>highway-L\/100km<\/th>\n",
       "      <th>price<\/th>\n",
       "      <th>city-L\/100km<\/th>\n",
       "      <th>fuel-type-diesel<\/th>\n",
       "      <th>fuel-type-gas<\/th>\n",
       "    <\/tr>\n",
       "  <\/thead>\n",
       "  <tbody>\n",
       "    <tr>\n",
       "      <th>0<\/th>\n",
       "      <td>0<\/td>\n",
       "      <td>3<\/td>\n",
       "      <td>122<\/td>\n",
       "      <td>88.6<\/td>\n",
       "      <td>0.811148<\/td>\n",
       "      <td>0.886584<\/td>\n",
       "      <td>0.816054<\/td>\n",
       "      <td>2548<\/td>\n",
       "      <td>130<\/td>\n",
       "      <td>3.47<\/td>\n",
       "      <td>2.68<\/td>\n",
       "      <td>9.0<\/td>\n",
       "      <td>0<\/td>\n",
       "      <td>5000.0<\/td>\n",
       "      <td>21<\/td>\n",
       "      <td>27<\/td>\n",
       "      <td>13495.0<\/td>\n",
       "      <td>8.703704<\/td>\n",
       "      <td>0<\/td>\n",
       "      <td>1<\/td>\n",
       "    <\/tr>\n",
       "    <tr>\n",
       "      <th>1<\/th>\n",
       "      <td>1<\/td>\n",
       "      <td>3<\/td>\n",
       "      <td>122<\/td>\n",
       "      <td>88.6<\/td>\n",
       "      <td>0.811148<\/td>\n",
       "      <td>0.886584<\/td>\n",
       "      <td>0.816054<\/td>\n",
       "      <td>2548<\/td>\n",
       "      <td>130<\/td>\n",
       "      <td>3.47<\/td>\n",
       "      <td>2.68<\/td>\n",
       "      <td>9.0<\/td>\n",
       "      <td>0<\/td>\n",
       "      <td>5000.0<\/td>\n",
       "      <td>21<\/td>\n",
       "      <td>27<\/td>\n",
       "      <td>16500.0<\/td>\n",
       "      <td>8.703704<\/td>\n",
       "      <td>0<\/td>\n",
       "      <td>1<\/td>\n",
       "    <\/tr>\n",
       "    <tr>\n",
       "      <th>2<\/th>\n",
       "      <td>2<\/td>\n",
       "      <td>1<\/td>\n",
       "      <td>122<\/td>\n",
       "      <td>94.5<\/td>\n",
       "      <td>0.822681<\/td>\n",
       "      <td>0.905947<\/td>\n",
       "      <td>0.876254<\/td>\n",
       "      <td>2823<\/td>\n",
       "      <td>152<\/td>\n",
       "      <td>2.68<\/td>\n",
       "      <td>3.47<\/td>\n",
       "      <td>9.0<\/td>\n",
       "      <td>0<\/td>\n",
       "      <td>5000.0<\/td>\n",
       "      <td>19<\/td>\n",
       "      <td>26<\/td>\n",
       "      <td>16500.0<\/td>\n",
       "      <td>9.038462<\/td>\n",
       "      <td>0<\/td>\n",
       "      <td>1<\/td>\n",
       "    <\/tr>\n",
       "    <tr>\n",
       "      <th>3<\/th>\n",
       "      <td>3<\/td>\n",
       "      <td>2<\/td>\n",
       "      <td>164<\/td>\n",
       "      <td>99.8<\/td>\n",
       "      <td>0.848630<\/td>\n",
       "      <td>0.915629<\/td>\n",
       "      <td>0.908027<\/td>\n",
       "      <td>2337<\/td>\n",
       "      <td>109<\/td>\n",
       "      <td>3.19<\/td>\n",
       "      <td>3.40<\/td>\n",
       "      <td>10.0<\/td>\n",
       "      <td>0<\/td>\n",
       "      <td>5500.0<\/td>\n",
       "      <td>24<\/td>\n",
       "      <td>30<\/td>\n",
       "      <td>13950.0<\/td>\n",
       "      <td>7.833333<\/td>\n",
       "      <td>0<\/td>\n",
       "      <td>1<\/td>\n",
       "    <\/tr>\n",
       "    <tr>\n",
       "      <th>4<\/th>\n",
       "      <td>4<\/td>\n",
       "      <td>2<\/td>\n",
       "      <td>164<\/td>\n",
       "      <td>99.4<\/td>\n",
       "      <td>0.848630<\/td>\n",
       "      <td>0.918396<\/td>\n",
       "      <td>0.908027<\/td>\n",
       "      <td>2824<\/td>\n",
       "      <td>136<\/td>\n",
       "      <td>3.19<\/td>\n",
       "      <td>3.40<\/td>\n",
       "      <td>8.0<\/td>\n",
       "      <td>0<\/td>\n",
       "      <td>5500.0<\/td>\n",
       "      <td>18<\/td>\n",
       "      <td>22<\/td>\n",
       "      <td>17450.0<\/td>\n",
       "      <td>10.681818<\/td>\n",
       "      <td>0<\/td>\n",
       "      <td>1<\/td>\n",
       "    <\/tr>\n",
       "  <\/tbody>\n",
       "<\/table>\n",
       "<\/div>"
      ]
     },
     "metadata":{
      
     },
     "output_type":"display_data"
    }
   ],
   "metadata":{
    "datalore":{
     "node_id":"BmxZWdolVqFactQl86zBaE",
     "type":"CODE",
     "hide_input_from_viewers":false,
     "hide_output_from_viewers":false
    }
   }
  },
  {
   "cell_type":"code",
   "source":[
    "# Library for plotting\n",
    "from ipywidgets import interact, interactive, fixed, interact_manual\n",
    "\n",
    "# Funcation plotting \n",
    "def DistributionPlot(RedFunction, BlueFunction, RedName, BlueName, Title):\n",
    "    width = 12\n",
    "    height = 10\n",
    "    plt.figure(figsize=(width, height))\n",
    "\n",
    "    ax1 = sns.distplot(RedFunction, hist=False, color=\"r\", label=RedName)\n",
    "    ax2 = sns.distplot(BlueFunction, hist=False, color=\"b\", label=BlueName, ax=ax1)\n",
    "\n",
    "    plt.title(Title)\n",
    "    plt.xlabel('Price (in dollars)')\n",
    "    plt.ylabel('Proportion of Cars')\n",
    "\n",
    "    plt.show()\n",
    "    plt.close()\n",
    "\n",
    "    "
   ],
   "execution_count":4,
   "outputs":[
    
   ],
   "metadata":{
    "datalore":{
     "node_id":"yQY2n4MP1ca1hjY5HNIWs7",
     "type":"CODE",
     "hide_input_from_viewers":false,
     "hide_output_from_viewers":false
    }
   }
  },
  {
   "cell_type":"code",
   "source":[
    "    \n",
    "def PollyPlot(xtrain, xtest, y_train, y_test, lr,poly_transform):\n",
    "    width = 12\n",
    "    height = 10\n",
    "    plt.figure(figsize=(width, height))\n",
    "    \n",
    "    \n",
    "    #training data \n",
    "    #testing data \n",
    "    # lr:  linear regression object \n",
    "    #poly_transform:  polynomial transformation object \n",
    " \n",
    "    xmax=max([xtrain.values.max(), xtest.values.max()])\n",
    "\n",
    "    xmin=min([xtrain.values.min(), xtest.values.min()])\n",
    "\n",
    "    x=np.arange(xmin, xmax, 0.1)\n",
    "\n",
    "\n",
    "    plt.plot(xtrain, y_train, 'ro', label='Training Data')\n",
    "    plt.plot(xtest, y_test, 'go', label='Test Data')\n",
    "    plt.plot(x, lr.predict(poly_transform.fit_transform(x.reshape(-1, 1))), label='Predicted Function')\n",
    "    plt.ylim([-10000, 60000])\n",
    "    plt.ylabel('Price')\n",
    "    plt.legend()"
   ],
   "execution_count":5,
   "outputs":[
    
   ],
   "metadata":{
    "datalore":{
     "node_id":"1lnefR7U3bm15aLIXYGi76",
     "type":"CODE",
     "hide_input_from_viewers":false,
     "hide_output_from_viewers":false
    }
   }
  },
  {
   "cell_type":"code",
   "source":[
    "## Part 1. Traning and Testing \n",
    "    \n",
    "    #  An important step in testing your model is to split your data into training and testing data. \n",
    "    # We will place the target data price in a separate dataframe y_data\n",
    "\n",
    "y_data = df['price']\n",
    "\n",
    "# Drop price data in dataframe x_data:\n",
    "x_data=df.drop('price',axis=1)"
   ],
   "execution_count":6,
   "outputs":[
    
   ],
   "metadata":{
    "datalore":{
     "node_id":"G33l3NGInzTyvmX2ak5ppM",
     "type":"CODE",
     "hide_input_from_viewers":false,
     "hide_output_from_viewers":false
    }
   }
  },
  {
   "cell_type":"code",
   "source":[
    "# Now, we randomly split our data into training and testing data using the function train_test_split.\n",
    "\n",
    "from sklearn.model_selection import train_test_split\n",
    "\n",
    "x_train, x_test, y_train,y_test = train_test_split (x_data, y_data, test_size=0.20, random_state=0)\n",
    "\n",
    "print(\"number of test sample:\", y_test.shape[0])\n",
    "print(\"number of training sample:\", y_train.shape[0])\n",
    "\n",
    "# The test_size parameter sets the proportion of data that is split into the testing set. In the above, the testing set is 10% of the total dataset."
   ],
   "execution_count":7,
   "outputs":[
    {
     "name":"stdout",
     "text":[
      "number of test sample: 41\n",
      "number of training sample: 164\n"
     ],
     "output_type":"stream"
    }
   ],
   "metadata":{
    "datalore":{
     "node_id":"tEJ4teQ0rDHzw3fb8HOJYH",
     "type":"CODE",
     "hide_input_from_viewers":false,
     "hide_output_from_viewers":false
    }
   }
  },
  {
   "cell_type":"code",
   "source":[
    "# Exercise 1: \n",
    " # Use the function \"train_test_split\" to split up the dataset such that 40% of the data samples will be utilized for testing. Set the parameter \"random_state\" equal to zero. \n",
    "  # The output of the function should be the following: \"x_train1\" , \"x_test1\", \"y_train1\" and \"y_test1\".\n",
    "\n",
    "from sklearn.model_selection import train_test_split\n",
    "\n",
    "x_train1, x_test1, y_train1, y_test1 = train_test_split (x_data, y_data, test_size=0.40, random_state=0)\n",
    "\n",
    "print(\"number of test sample:\", y_test1.shape[0])\n",
    "print(\"number of training sample:\", y_train1.shape[0])"
   ],
   "execution_count":8,
   "outputs":[
    {
     "name":"stdout",
     "text":[
      "number of test sample: 82\n",
      "number of training sample: 123\n"
     ],
     "output_type":"stream"
    }
   ],
   "metadata":{
    "datalore":{
     "node_id":"aplL3jJzCqDkRAoZytAeMm",
     "type":"CODE",
     "hide_input_from_viewers":false,
     "hide_output_from_viewers":false
    }
   }
  },
  {
   "cell_type":"code",
   "source":[
    
   ],
   "execution_count":null,
   "outputs":[
    
   ],
   "metadata":{
    "datalore":{
     "node_id":"AFblZ2j9ch8ONETsNEycSf",
     "type":"CODE",
     "hide_input_from_viewers":false,
     "hide_output_from_viewers":false
    }
   }
  },
  {
   "cell_type":"code",
   "source":[
    "# Let import LinearRegrastion from the module linear_model\n",
    "\n",
    "# Find the R^2 on the test data using 40% of the dataset for testing. \n",
    "\n",
    "from sklearn.linear_model import LinearRegression\n",
    "\n",
    "# Let we create Linear regrastion object\n",
    "\n",
    "lre = LinearRegression()\n",
    "\n",
    "# We fit the model using the feture horsepower\n",
    "\n",
    "lre.fit(x_train[['horsepower']], y_train)\n",
    "\n",
    "# Let calculate the R^2 on the test data\n",
    "\n",
    "lre.score(x_test[['horsepower']], y_test)\n",
    "# result : -0.001755664252970135\n",
    "\n",
    "lre.score(x_train[['horsepower']], y_train)\n",
    "\n",
    "# As Result we can see R^2 is much smaller using the test data compared to the traing data"
   ],
   "execution_count":9,
   "outputs":[
    {
     "data":{
      "text\/plain":[
       "0.0"
      ]
     },
     "metadata":{
      
     },
     "output_type":"display_data"
    }
   ],
   "metadata":{
    "datalore":{
     "node_id":"SrReEvaN3D70ESch5ka3Uy",
     "type":"CODE",
     "hide_input_from_viewers":false,
     "hide_output_from_viewers":false
    }
   }
  },
  {
   "cell_type":"code",
   "source":[
    "## Cross validation score ###\n",
    "############################################\n",
    "\n",
    "from sklearn.model_selection import cross_val_score\n",
    "\n",
    "# We input the object, the feature (\"horsepower\"), and the target data (y_data)\n",
    "# The parameter 'cv' determines the number of folds. In this case, it is 4.\n",
    "Rcross = cross_val_score(lre, x_data[['horsepower']], y_data, cv=4)\n",
    "\n",
    "Rcross"
   ],
   "execution_count":10,
   "outputs":[
    {
     "data":{
      "text\/html":[
       
      ]
     },
     "metadata":{
      
     },
     "output_type":"display_data"
    }
   ],
   "metadata":{
    "datalore":{
     "node_id":"3rS5syMeM8rcEkpnGXDtKb",
     "type":"CODE",
     "hide_input_from_viewers":false,
     "hide_output_from_viewers":false
    }
   }
  },
  {
   "cell_type":"code",
   "source":[
    "# We can calculate the average and standard deviation of our estimate\n",
    "\n",
    "print(\"The mean of the folds are\", Rcross.mean(), \"and the standard deviation is\" , Rcross.std())"
   ],
   "execution_count":11,
   "outputs":[
    {
     "name":"stdout",
     "text":[
      "The mean of the folds are -0.04278412307512103 and the standard deviation is 0.06488541229134942\n"
     ],
     "output_type":"stream"
    }
   ],
   "metadata":{
    "datalore":{
     "node_id":"XKZPi3nxRXO2Xr5cjcIyRd",
     "type":"CODE",
     "hide_input_from_viewers":false,
     "hide_output_from_viewers":false
    }
   }
  },
  {
   "cell_type":"code",
   "source":[
    "# We can use negative squared error as a score by setting the parameter 'scoring' metric to 'neg_mean_squared_error'.\n",
    "\n",
    "-1 * cross_val_score(lre,x_data[['horsepower']], y_data,cv=4,scoring='neg_mean_squared_error')"
   ],
   "execution_count":12,
   "outputs":[
    {
     "data":{
      "text\/html":[
       
      ]
     },
     "metadata":{
      
     },
     "output_type":"display_data"
    }
   ],
   "metadata":{
    "datalore":{
     "node_id":"9iYOay1Ya0O7DyPDp0w0Qj",
     "type":"CODE",
     "hide_input_from_viewers":false,
     "hide_output_from_viewers":false
    }
   }
  },
  {
   "cell_type":"code",
   "source":[
    "# Cross-Validation predict ####\n",
    "# You can also use the function 'cross_val_predict' to predict the output.\n",
    "# The function splits up the data into the specified number of folds, \n",
    "# with one fold for testing and the other folds are used for training. First, import the function:\n",
    "\n",
    "from sklearn.model_selection import cross_val_predict\n",
    "\n",
    "yhat= cross_val_predict(lre, x_data[['horsepower']], y_data, cv=16)\n",
    "yhat[0:5]\n",
    "\n",
    "# We input the object, the feature \"horsepower\", and the target data y_data. The parameter 'cv' determines the number of folds. In this case, it is 4. We can produce an output\n"
   ],
   "execution_count":13,
   "outputs":[
    {
     "data":{
      "text\/html":[
       
      ]
     },
     "metadata":{
      
     },
     "output_type":"display_data"
    }
   ],
   "metadata":{
    "datalore":{
     "node_id":"LoJYDm53H5KjwlQrN54CwK",
     "type":"CODE",
     "hide_input_from_viewers":false,
     "hide_output_from_viewers":false
    }
   }
  },
  {
   "cell_type":"code",
   "source":[
    "#### part 2: Overfiting, Underfiting, and Model selection ###\n",
    "###################################################################\n",
    "\n",
    "# Let's create Multiple Linear Regression objects and train the model using 'horsepower', 'curb-weight', 'engine-size' and 'highway-mpg' as features.\n",
    "lr = LinearRegression()\n",
    "lr.fit(x_train[['horsepower', 'curb-weight','engine-size','highway-L\/100km']], y_train)\n",
    "\n",
    "# Prediction using training data\n",
    "yhat_train = lr.predict(x_train[['horsepower','curb-weight','engine-size','highway-L\/100km']])\n",
    "yhat_train[0:10]"
   ],
   "execution_count":14,
   "outputs":[
    {
     "data":{
      "text\/html":[
       
      ]
     },
     "metadata":{
      
     },
     "output_type":"display_data"
    }
   ],
   "metadata":{
    "datalore":{
     "node_id":"SHR4sNEHpU3pnB5tcspPrT",
     "type":"CODE",
     "hide_input_from_viewers":false,
     "hide_output_from_viewers":false
    }
   }
  },
  {
   "cell_type":"code",
   "source":[
    "# Predication using test data\n",
    "\n",
    "yhat_test = lr.predict(x_test[['horsepower', 'curb-weight', 'engine-size', 'highway-L\/100km']])\n",
    "yhat_test[0:5]"
   ],
   "execution_count":15,
   "outputs":[
    {
     "data":{
      "text\/html":[
       
      ]
     },
     "metadata":{
      
     },
     "output_type":"display_data"
    }
   ],
   "metadata":{
    "datalore":{
     "node_id":"oOcDUQ7pfah7Ti9RPbUOWQ",
     "type":"CODE",
     "hide_input_from_viewers":false,
     "hide_output_from_viewers":false
    }
   }
  },
  {
   "cell_type":"code",
   "source":[
    "# Let's perform some model evaluation using our training and testing data separately\n",
    "# First, we import the seaborn and matplotlib library for plotting.\n",
    "\n",
    "import matplotlib.pyplot as plt\n",
    "%matplotlib inline\n",
    "import seaborn as sns\n",
    "\n",
    "# Let eximine the distribute of the predicted value of trainig data\n",
    "\n",
    "Title = 'Distribution Plot of  Preicated value using  Training Data vs Training Data Distribution'\n",
    "DistributionPlot(y_train, yhat_train, \"Actual values(Train)\", \"Predicted Values(Train)\", Title)"
   ],
   "execution_count":16,
   "outputs":[
    {
     "name":"stderr",
     "text":[
      "\/opt\/python\/envs\/default\/lib\/python3.8\/site-packages\/seaborn\/distributions.py:2619: FutureWarning: `distplot` is a deprecated function and will be removed in a future version. Please adapt your code to use either `displot` (a figure-level function with similar flexibility) or `kdeplot` (an axes-level function for kernel density plots).\n",
      "  warnings.warn(msg, FutureWarning)\n",
      "\/opt\/python\/envs\/default\/lib\/python3.8\/site-packages\/seaborn\/distributions.py:2619: FutureWarning: `distplot` is a deprecated function and will be removed in a future version. Please adapt your code to use either `displot` (a figure-level function with similar flexibility) or `kdeplot` (an axes-level function for kernel density plots).\n",
      "  warnings.warn(msg, FutureWarning)\n"
     ],
     "output_type":"stream"
    },
    {
     "data":{
      "image\/png":"[encoded data removed]"
     },
     "metadata":{
      "image\/png":{
       
      }
     },
     "output_type":"display_data"
    }
   ],
   "metadata":{
    "datalore":{
     "node_id":"QNMOOHEdedZ1IG11i9Kdj0",
     "type":"CODE",
     "hide_input_from_viewers":false,
     "hide_output_from_viewers":false
    }
   }
  },
  {
   "cell_type":"code",
   "source":[
    "# Figure 2: Plot of predicted value using the test data compared to the actual values of the test data.\n",
    "Title='Distribution  Plot of  Predicted Value Using Test Data vs Data Distribution of Test Data'\n",
    "DistributionPlot(y_test,yhat_test,\"Actual Values (Test)\",\"Predicted Values (Test)\",Title)"
   ],
   "execution_count":17,
   "outputs":[
    {
     "name":"stderr",
     "text":[
      "\/opt\/python\/envs\/default\/lib\/python3.8\/site-packages\/seaborn\/distributions.py:2619: FutureWarning: `distplot` is a deprecated function and will be removed in a future version. Please adapt your code to use either `displot` (a figure-level function with similar flexibility) or `kdeplot` (an axes-level function for kernel density plots).\n",
      "  warnings.warn(msg, FutureWarning)\n",
      "\/opt\/python\/envs\/default\/lib\/python3.8\/site-packages\/seaborn\/distributions.py:2619: FutureWarning: `distplot` is a deprecated function and will be removed in a future version. Please adapt your code to use either `displot` (a figure-level function with similar flexibility) or `kdeplot` (an axes-level function for kernel density plots).\n",
      "  warnings.warn(msg, FutureWarning)\n"
     ],
     "output_type":"stream"
    },
    {
     "data":{
      "image\/png":"[encoded data removed]"
     },
     "metadata":{
      "image\/png":{
       
      }
     },
     "output_type":"display_data"
    }
   ],
   "metadata":{
    "datalore":{
     "node_id":"dGhTus0O5PYt6mgSJQxogr",
     "type":"CODE",
     "hide_input_from_viewers":false,
     "hide_output_from_viewers":false
    }
   }
  },
  {
   "cell_type":"code",
   "source":[
    "# Ovefitting\n",
    "\n",
    "from sklearn.preprocessing import PolynomialFeatures\n",
    "\n",
    "# Overfitting occurs when the model fits the noise, but not the underlying process. \n",
    "# Therefore, when testing your model using the test set, your model does not perform as well since it is modelling noise, not the underlying process that generated the relationship.\n",
    "        # Let's create a degree 5 polynomial model.\n",
    "\n",
    "x_train, x_test, y_train, y_test = train_test_split(x_data, y_data, test_size=0.45, random_state=0) # Let's use 55 percent of the data for training and the rest for testing\n",
    "\n",
    "# We will perform a degree 5 polynomial transformation on the feature 'horsepower'.\n",
    "# create a polynomialFeatures Object \"pr\" of degree 5\n",
    "pr = PolynomialFeatures(degree=5)\n",
    "\n",
    "# Tranform the training and testing samples for the features 'horsepower'\n",
    "x_train_pr = pr.fit_transform(x_train[['horsepower']])\n",
    "x_test_pr = pr.fit_transform(x_test[['horsepower']])\n",
    "pr\n",
    "\n",
    "# How many dimenstions does the new features have?\n",
    "x_train_pr # result (112,6)"
   ],
   "execution_count":18,
   "outputs":[
    {
     "data":{
      "text\/html":[
       
      ]
     },
     "metadata":{
      
     },
     "output_type":"display_data"
    }
   ],
   "metadata":{
    "datalore":{
     "node_id":"4e2GSJm2JzQVQyIOBqSTin",
     "type":"CODE",
     "hide_input_from_viewers":false,
     "hide_output_from_viewers":false
    }
   }
  },
  {
   "cell_type":"code",
   "source":[
    "# Now, let's create a Linear Regression model \"poly\" and train the object using the method \"fit\" using the polynomial features.\n",
    "\n",
    "poly = LinearRegression()\n",
    "poly.fit(x_train_pr, y_train)\n",
    "\n",
    "# We can see the output of our model using the method \"predict.\" We assign the values to \"yhat\".\n",
    "yhat= poly.predict(x_test_pr)\n",
    "yhat[0:5]"
   ],
   "execution_count":19,
   "outputs":[
    {
     "data":{
      "text\/html":[
       
      ]
     },
     "metadata":{
      
     },
     "output_type":"display_data"
    }
   ],
   "metadata":{
    "datalore":{
     "node_id":"l4YElhLaBNGcmQNwfYyLrv",
     "type":"CODE",
     "hide_input_from_viewers":false,
     "hide_output_from_viewers":false
    }
   }
  },
  {
   "cell_type":"code",
   "source":[
    "# Let's take the first five predicted values and compare it to the actual targets\n",
    "print(\"Predicted values:\", yhat[0:5])\n",
    "print(\"True values:\", y_test[0:5].values)"
   ],
   "execution_count":20,
   "outputs":[
    {
     "name":"stdout",
     "text":[
      "Predicted values: [13740.01008351 13740.01008351 13740.01008351 13740.01008351\n",
      " 13740.01008351]\n",
      "True values: [ 6795. 15750. 15250.  5151.  9995.]\n"
     ],
     "output_type":"stream"
    }
   ],
   "metadata":{
    "datalore":{
     "node_id":"Q4h71t7mYpM9bOwcCML7de",
     "type":"CODE",
     "hide_input_from_viewers":false,
     "hide_output_from_viewers":false
    }
   }
  },
  {
   "cell_type":"code",
   "source":[
    "# We will use the function \"PollyPlot\" that we defined at the beginning of the lab to display the training data, testing data, and the predicted function.\n",
    "\n",
    "PollyPlot(x_train[['horsepower']], x_test[['horsepower']], y_train, y_test, poly,pr)\n",
    "\n",
    "# Figure 3: A polynomial regression model where red dots represent training data, green dots represent test data, and the blue line represents the model prediction\n",
    "\n"
   ],
   "execution_count":21,
   "outputs":[
    {
     "data":{
      "image\/png":"[encoded data removed]"
     },
     "metadata":{
      "image\/png":{
       
      }
     },
     "output_type":"display_data"
    }
   ],
   "metadata":{
    "datalore":{
     "node_id":"w2HbllO5SgYC5WeXpbF6xT",
     "type":"CODE",
     "hide_input_from_viewers":false,
     "hide_output_from_viewers":false
    }
   }
  },
  {
   "cell_type":"code",
   "source":[
    "poly.score(x_train_pr, y_train)  # As result 0\n",
    "poly.score(x_test_pr, y_test)   # Result: -0.027067250301669565\n",
    "\n",
    "# The lower the R^2, the worse the model. A negative R^2 is a sign of overfitting."
   ],
   "execution_count":22,
   "outputs":[
    {
     "data":{
      "text\/plain":[
       "-0.027067250301669565"
      ]
     },
     "metadata":{
      
     },
     "output_type":"display_data"
    }
   ],
   "metadata":{
    "datalore":{
     "node_id":"LhhvKqTfJxeVjjFlAkahNW",
     "type":"CODE",
     "hide_input_from_viewers":false,
     "hide_output_from_viewers":false
    }
   }
  },
  {
   "cell_type":"code",
   "source":[
    "# Let's see how the R^2 changes on the test data for different order polynomials and then plot the results\n",
    "Rsqu_test =[]\n",
    "\n",
    "order = [1,2,3,4]\n",
    "for n in order:\n",
    "    pr = PolynomialFeatures(degree=1)\n",
    "    x_train_pr = pr.fit_transform(x_train[['horsepower']])\n",
    "    x_test_pr = pr.fit_transform(x_test[['horsepower']])\n",
    "    lr.fit(x_train_pr, y_train)\n",
    "\n",
    "    Rsqu_test.append(lr.score(x_test_pr, y_test))\n",
    "\n",
    "plt.plot(order, Rsqu_test)\n",
    "plt.xlabel('order')\n",
    "plt.ylabel('R^2')\n",
    "plt.title('R^2 using Test data')\n",
    "plt.text(3,0.75, 'Maximum R^2')\n",
    "\n",
    "# We see the R^2 gradually increases until an order three polynomial is used. Then, the R^2 dramatically decreases at an order four polynomial.\n",
    "\n"
   ],
   "execution_count":23,
   "outputs":[
    {
     "data":{
      "text\/plain":[
       "Text(3, 0.75, 'Maximum R^2')"
      ]
     },
     "metadata":{
      
     },
     "output_type":"display_data"
    },
    {
     "data":{
      "image\/png":"[encoded data removed]"
     },
     "metadata":{
      "image\/png":{
       
      }
     },
     "output_type":"display_data"
    }
   ],
   "metadata":{
    "datalore":{
     "node_id":"RJr9zjwbhlMiyieopk5GFH",
     "type":"CODE",
     "hide_input_from_viewers":false,
     "hide_output_from_viewers":false
    }
   }
  },
  {
   "cell_type":"code",
   "source":[
    "# The following interface allows you to experiment with different polynomial orders and different amounts of data.\n",
    "\n",
    "def f(order, test_data):\n",
    "    x_train, x_test, y_train, y_test = train_test_split(x_data, y_data, test_size=test_data, random_state=0)\n",
    "    pr = PolynomialFeatures(degree=order)\n",
    "    x_train_pr = pr.fit_transform(x_train[['horsepower']])\n",
    "    x_test_pr = pr.fit_transform(x_test[['horsepower']])\n",
    "    poly = LinearRegression()\n",
    "    poly.fit(x_train_pr,y_train)\n",
    "    PollyPlot(x_train[['horsepower']], x_test[['horsepower']], y_train,y_test, poly, pr)"
   ],
   "execution_count":24,
   "outputs":[
    
   ],
   "metadata":{
    "datalore":{
     "node_id":"EAFQELrgNvNM0fLLmtCEGm",
     "type":"CODE",
     "hide_input_from_viewers":false,
     "hide_output_from_viewers":false
    }
   }
  },
  {
   "cell_type":"code",
   "source":[
    "interact(f, order=(0, 6, 1), test_data=(0.05, 0.95, 0.05))"
   ],
   "execution_count":25,
   "outputs":[
    {
     "data":{
      "application\/vnd.jupyter.widget-view+json":{
       "version_major":2,
       "version_minor":0,
       "model_id":"0dd1096a19254010aa61d037622fd214"
      }
     },
     "metadata":{
      "application\/vnd.jupyter.widget-view+json":{
       "datalore":{
        "widget_id":"2ktARO6Yep64zX7LUl5K8V"
       }
      }
     },
     "output_type":"display_data"
    },
    {
     "data":{
      "text\/plain":[
       "<function __main__.f(order, test_data)>"
      ]
     },
     "metadata":{
      
     },
     "output_type":"display_data"
    },
    {
     "data":{
      "image\/png":"[encoded data removed]"
     },
     "metadata":{
      "image\/png":{
       
      }
     },
     "output_type":"display_data"
    }
   ],
   "metadata":{
    "datalore":{
     "node_id":"DsofDqWW49tEAKpAVbDU8c",
     "type":"CODE",
     "hide_input_from_viewers":false,
     "hide_output_from_viewers":false
    }
   }
  },
  {
   "cell_type":"code",
   "source":[
    "# Use the method \"predict\" to predict an output on the polynomial features, \n",
    "# then use the function \"DistributionPlot\" to display the distribution of the predicted test output vs. the actual test data.\n",
    "\n",
    "yhat_test = poly.predict(x_test_pr)\n",
    "\n",
    "Title = 'Distribution plot of predictd value using test data vs  data distributed of test data'\n",
    "DistributionPlot(y_test, yhat_test, \"Actual values (Test)\",\"Preddicated values(Test)\", Title)"
   ],
   "execution_count":26,
   "outputs":[
    {
     "ename":"ValueError",
     "evalue":"ValueError: X has 2 features, but LinearRegression is expecting 6 features as input.",
     "traceback":[
      "\u001b[0;31m---------------------------------------------------------------------------",
      "Traceback (most recent call last)",
      "    at line 4 in <module>",
      "    at line 362 in predict(self, X)",
      "    at line 345 in _decision_function(self, X)",
      "    at line 580 in _validate_data(self, X, y, reset, validate_separately, **check_params)",
      "    at line 395 in _check_n_features(self, X, reset)",
      "ValueError: X has 2 features, but LinearRegression is expecting 6 features as input."
     ],
     "output_type":"error"
    }
   ],
   "metadata":{
    "datalore":{
     "node_id":"51nhA44aPFejkTKeAdynel",
     "type":"CODE",
     "hide_input_from_viewers":false,
     "hide_output_from_viewers":false
    }
   }
  },
  {
   "cell_type":"code",
   "source":[
    "# 4F Using the distribution plot above, describe (in words) the two regions where the predicted prices are less accurate than the actual prices\n",
    "\n",
    "# The predicted value is higher than actual value for cars where the price $10,000 range, conversely the predicted price is lower than the price cost in the $30,000 to $40,000 range. As such the model is not as accurate in these ranges."
   ],
   "execution_count":26,
   "outputs":[
    
   ],
   "metadata":{
    "datalore":{
     "node_id":"tbbSMHKBGd6i3Im1MpHEYb",
     "type":"CODE",
     "hide_input_from_viewers":false,
     "hide_output_from_viewers":false
    }
   }
  },
  {
   "cell_type":"code",
   "source":[
    "### Part 3 : Ridge Rigrastion #####\n",
    "\n",
    "# we will review Ridge Regression and see how the parameter alpha changes the model. Just a note, here our test data will be used as validation data."
   ],
   "execution_count":33,
   "outputs":[
    
   ],
   "metadata":{
    "datalore":{
     "node_id":"X7FUvKBlZhdHuNyJNVqx3C",
     "type":"CODE",
     "hide_input_from_viewers":false,
     "hide_output_from_viewers":false
    }
   }
  },
  {
   "cell_type":"code",
   "source":[
    "# Let's perform a degree two polynomial transformation on our data\n",
    "\n",
    "pr = PolynomialFeatures(degree=2)\n",
    "x_train_pr=pr.fit_transform(x_train[['horsepower', 'curb-weight', 'engine-size', 'highway-L\/100km','normalized-losses','symboling']])\n",
    "x_test_pr=pr.fit_transform(x_test[['horsepower', 'curb-weight','engine-size', 'highway-L\/100km','normalized-losses','symboling']])"
   ],
   "execution_count":27,
   "outputs":[
    
   ],
   "metadata":{
    "datalore":{
     "node_id":"OXTqnuqQSSewI8C3TBMO6V",
     "type":"CODE",
     "hide_input_from_viewers":false,
     "hide_output_from_viewers":false
    }
   }
  },
  {
   "cell_type":"code",
   "source":[
    "# Let import ridge from the module the linear models\n",
    "\n",
    "from sklearn.linear_model import Ridge\n",
    "\n",
    "# Let create ridge regression object, setting the regularization parameter alpha to 0.1\n",
    "\n",
    "RigeModel=Ridge(alpha=1)\n",
    "\n",
    "# Like regular regression, you can fit the model using the fit method\n",
    "RigeModel.fit(x_train_pr,y_train)"
   ],
   "execution_count":28,
   "outputs":[
    {
     "data":{
      "text\/plain":[
       "Ridge(alpha=1)"
      ]
     },
     "metadata":{
      
     },
     "output_type":"display_data"
    }
   ],
   "metadata":{
    "datalore":{
     "node_id":"ZyNuarMmcSIttw9k4KNRw1",
     "type":"CODE",
     "hide_input_from_viewers":false,
     "hide_output_from_viewers":false
    }
   }
  },
  {
   "cell_type":"code",
   "source":[
    "# Similarly, you can obtain a prediction\n",
    "\n",
    "yhat = RigeModel.predict(x_test_pr)\n",
    "\n",
    "# Let's compare the first five predicted samples to our test set:\n",
    "print('predicted:', yhat[0:4])\n",
    "print('test set :', y_test[0:4].values)"
   ],
   "execution_count":29,
   "outputs":[
    {
     "name":"stdout",
     "text":[
      "predicted: [ 5854.60634601 19329.67660502 15386.61896507  3243.12328324]\n",
      "test set : [ 6795. 15750. 15250.  5151.]\n"
     ],
     "output_type":"stream"
    }
   ],
   "metadata":{
    "datalore":{
     "node_id":"7e9N3OIqlIFqTWKL65w3sv",
     "type":"CODE",
     "hide_input_from_viewers":false,
     "hide_output_from_viewers":false
    }
   }
  },
  {
   "cell_type":"code",
   "source":[
    "# We select the value of alpha that minimizes the test error. \n",
    "# To do so, we can use a for loop. We have also created a progress bar to see how many iterations we have completed so far\n",
    "\n",
    "from tqdm import tqdm\n",
    "\n",
    "Rsqu_test = []\n",
    "Rsqu_train =[]\n",
    "dummy1 = []\n",
    "Alpha = 10 * np.array(range(0,1000))\n",
    "pbar = tqdm(Alpha)\n",
    "\n",
    "for alpha in pbar:\n",
    "    RigeModel = Ridge(alpha = alpha)\n",
    "    RigeModel.fit(x_train_pr,y_train)\n",
    "    test_score, train_score = RigeModel.score(x_test_pr,y_test), RigeModel.score(x_train_pr, y_train)\n",
    "\n",
    "pbar.set_postfix({\"The score\": test_score, \"Train Score\": train_score})\n",
    "\n",
    "Rsqu_test.append(test_score)\n",
    "Rsqu_train.append(train_score)"
   ],
   "execution_count":30,
   "outputs":[
    {
     "name":"stderr",
     "text":[
      "\r  0%|          | 0\/1000 [00:00<?, ?it\/s]\r  6%|▌         | 60\/1000 [00:00<00:01, 599.40it\/s]\r 12%|█▏        | 121\/1000 [00:00<00:01, 603.06it\/s]\r 18%|█▊        | 183\/1000 [00:00<00:01, 606.54it\/s]\r 25%|██▍       | 246\/1000 [00:00<00:01, 614.21it\/s]\r 31%|███       | 309\/1000 [00:00<00:01, 619.53it\/s]\r 37%|███▋      | 371\/1000 [00:00<00:01, 588.31it\/s]\r 43%|████▎     | 431\/1000 [00:00<00:01, 566.71it\/s]\r 49%|████▉     | 488\/1000 [00:00<00:00, 553.85it\/s]\r 54%|█████▍    | 544\/1000 [00:00<00:00, 516.54it\/s]\r 60%|█████▉    | 597\/1000 [00:01<00:00, 504.01it\/s]\r 65%|██████▍   | 648\/1000 [00:01<00:00, 488.10it\/s]\r 70%|██████▉   | 698\/1000 [00:01<00:00, 474.90it\/s]\r 75%|███████▍  | 746\/1000 [00:01<00:00, 465.76it\/s]\r 79%|███████▉  | 793\/1000 [00:01<00:00, 457.50it\/s]\r 84%|████████▍ | 839\/1000 [00:01<00:00, 450.23it\/s]\r 88%|████████▊ | 885\/1000 [00:01<00:00, 445.61it\/s]\r 93%|█████████▎| 930\/1000 [00:01<00:00, 443.77it\/s]\r 98%|█████████▊| 975\/1000 [00:01<00:00, 437.55it\/s]\r100%|██████████| 1000\/1000 [00:02<00:00, 498.85it\/s]\n"
     ],
     "output_type":"stream"
    }
   ],
   "metadata":{
    "datalore":{
     "node_id":"4gOM2X88nopHyTTjbw46Pd",
     "type":"CODE",
     "hide_input_from_viewers":false,
     "hide_output_from_viewers":false
    }
   }
  },
  {
   "cell_type":"code",
   "source":[
    "# We can plot out the value of R^2 for different alphas:\n",
    "\n",
    "width = 12\n",
    "height = 10\n",
    "plt.figure(figsize=(width,height))\n",
    "\n",
    "plt.plot(Alpha, Rsqu_test, label='Validation Data')\n",
    "plt.plot(Alpha, Rsqu_train, label='training data')\n",
    "plt.xlabel('Alpha')\n",
    "plt.ylabel('R^2')\n",
    "plt.legend()"
   ],
   "execution_count":31,
   "outputs":[
    {
     "ename":"ValueError",
     "evalue":"ValueError: x and y must have same first dimension, but have shapes (1000,) and (1,)",
     "traceback":[
      "\u001b[0;31m---------------------------------------------------------------------------",
      "Traceback (most recent call last)",
      "    at line 7 in <module>",
      "    at line 2757 in plot(scalex, scaley, data, *args, **kwargs)",
      "    at line 1632 in plot(self, scalex, scaley, data, *args, **kwargs)",
      "    at line 312 in __call__(self, data, *args, **kwargs)",
      "    at line 498 in _plot_args(self, tup, kwargs, return_kwargs)",
      "ValueError: x and y must have same first dimension, but have shapes (1000,) and (1,)"
     ],
     "output_type":"error"
    },
    {
     "data":{
      "image\/png":"[encoded data removed]"
     },
     "metadata":{
      "image\/png":{
       
      }
     },
     "output_type":"display_data"
    }
   ],
   "metadata":{
    "datalore":{
     "node_id":"vq0srV4CxnXZGmsa3KV4aB",
     "type":"CODE",
     "hide_input_from_viewers":false,
     "hide_output_from_viewers":false
    }
   }
  },
  {
   "cell_type":"code",
   "source":[
    "## Part 4 Grid Search ####\n",
    "\n",
    "# The term alpha is a hyperparameter. \n",
    "# Sklearn has the class GridSearchCV to make the process of finding the best hyperparameter simpler."
   ],
   "execution_count":null,
   "outputs":[
    
   ],
   "metadata":{
    "datalore":{
     "node_id":"3KGaBdCAtSI2md5hYukWs7",
     "type":"CODE",
     "hide_input_from_viewers":false,
     "hide_output_from_viewers":false
    }
   }
  },
  {
   "cell_type":"code",
   "source":[
    "# Let's import GridSearchCV from the module model_selection\n",
    "from sklearn.model_selection import GridSearchCV\n",
    "\n",
    "# We create a dictionalry for parameter values\n",
    "parameters1 = [{'alpha': [0.001,0.1,1, 10, 100, 1000, 10000, 100000, 100000]}]\n",
    "parameters1"
   ],
   "execution_count":32,
   "outputs":[
    {
     "data":{
      "text\/plain":[
       "[{'alpha': [0.001, 0.1, 1, 10, 100, 1000, 10000, 100000, 100000]}]"
      ]
     },
     "metadata":{
      
     },
     "output_type":"display_data"
    }
   ],
   "metadata":{
    "datalore":{
     "node_id":"2hI3sfnoe0CzTZBm0awzGC",
     "type":"CODE",
     "hide_input_from_viewers":false,
     "hide_output_from_viewers":false
    }
   }
  },
  {
   "cell_type":"code",
   "source":[
    "# Create ridge regrestion object\n",
    "RR = Ridge()\n",
    "RR\n",
    "\n",
    "# Create a ridge grid search object:\n",
    "Grid1 = GridSearchCV(RR, parameters1, cv=4)\n",
    "\n",
    "# Fit the model\n",
    "Grid1.fit(x_data[['horsepower', 'curb-weight', 'engine-size', 'highway-L\/100km']], y_data)"
   ],
   "execution_count":33,
   "outputs":[
    {
     "data":{
      "text\/plain":[
       "GridSearchCV(cv=4, estimator=Ridge(),\n",
       "             param_grid=[{'alpha': [0.001, 0.1, 1, 10, 100, 1000, 10000, 100000,\n",
       "                                    100000]}])"
      ]
     },
     "metadata":{
      
     },
     "output_type":"display_data"
    }
   ],
   "metadata":{
    "datalore":{
     "node_id":"44vhGLT88ZhRYC8xsFCOjq",
     "type":"CODE",
     "hide_input_from_viewers":false,
     "hide_output_from_viewers":false
    }
   }
  },
  {
   "cell_type":"code",
   "source":[
    "# The object finds the best parameter values on the validation data. \n",
    "# We can obtain the estimator with the best parameters and assign it to the variable BestRR as follows\n",
    "\n",
    "BestRR = Grid1.best_estimator_\n",
    "BestRR"
   ],
   "execution_count":34,
   "outputs":[
    {
     "data":{
      "text\/plain":[
       "Ridge(alpha=1000)"
      ]
     },
     "metadata":{
      
     },
     "output_type":"display_data"
    }
   ],
   "metadata":{
    "datalore":{
     "node_id":"CN71zIUWtotkMnRc9zT8mK",
     "type":"CODE",
     "hide_input_from_viewers":false,
     "hide_output_from_viewers":false
    }
   }
  },
  {
   "cell_type":"code",
   "source":[
    "# We now test our model on the test data\n",
    "BestRR.score(x_test[['horsepower', 'curb-weight', 'engine-size', 'highway-L\/100km']], y_test)"
   ],
   "execution_count":35,
   "outputs":[
    {
     "data":{
      "text\/plain":[
       "0.7141122250975075"
      ]
     },
     "metadata":{
      
     },
     "output_type":"display_data"
    }
   ],
   "metadata":{
    "datalore":{
     "node_id":"uqgGUy6scrWSI4i8gUIjLr",
     "type":"CODE",
     "hide_input_from_viewers":false,
     "hide_output_from_viewers":false
    }
   }
  }
 ],
 "metadata":{
  "widgets":{
   "application\/vnd.jupyter.widget-state+json":{
    "version_major":2,
    "version_minor":0,
    "state":{
     "4bca18a8634545e9b9b653f44892f2f3":{
      "model_name":"LayoutModel",
      "model_module":"@jupyter-widgets\/base",
      "model_module_version":"1.2.0",
      "state":{
       "_model_module":"@jupyter-widgets\/base",
       "_model_module_version":"1.2.0",
       "_model_name":"LayoutModel",
       "_view_count":null,
       "_view_module":"@jupyter-widgets\/base",
       "_view_module_version":"1.2.0",
       "_view_name":"LayoutView",
       "align_content":null,
       "align_items":null,
       "align_self":null,
       "border":null,
       "bottom":null,
       "display":null,
       "flex":null,
       "flex_flow":null,
       "grid_area":null,
       "grid_auto_columns":null,
       "grid_auto_flow":null,
       "grid_auto_rows":null,
       "grid_column":null,
       "grid_gap":null,
       "grid_row":null,
       "grid_template_areas":null,
       "grid_template_columns":null,
       "grid_template_rows":null,
       "height":null,
       "justify_content":null,
       "justify_items":null,
       "left":null,
       "margin":null,
       "max_height":null,
       "max_width":null,
       "min_height":null,
       "min_width":null,
       "object_fit":null,
       "object_position":null,
       "order":null,
       "overflow":null,
       "overflow_x":null,
       "overflow_y":null,
       "padding":null,
       "right":null,
       "top":null,
       "visibility":null,
       "width":null
      }
     },
     "0dd1096a19254010aa61d037622fd214":{
      "model_name":"VBoxModel",
      "model_module":"@jupyter-widgets\/controls",
      "model_module_version":"1.5.0",
      "state":{
       "_dom_classes":[
        "widget-interact"
       ],
       "_model_module":"@jupyter-widgets\/controls",
       "_model_module_version":"1.5.0",
       "_model_name":"VBoxModel",
       "_view_count":null,
       "_view_module":"@jupyter-widgets\/controls",
       "_view_module_version":"1.5.0",
       "_view_name":"VBoxView",
       "box_style":"",
       "children":[
        "IPY_MODEL_f1bb89ca5b0244e9813cf608e9381df9",
        "IPY_MODEL_d4b3b5bd48324842a117a2d0805f5e58",
        "IPY_MODEL_e713f58847de42cb86347a990f94a689"
       ],
       "layout":"IPY_MODEL_4bca18a8634545e9b9b653f44892f2f3"
      }
     },
     "9cd2f3c20eb44f729265f2f184a87365":{
      "model_name":"LayoutModel",
      "model_module":"@jupyter-widgets\/base",
      "model_module_version":"1.2.0",
      "state":{
       "_model_module":"@jupyter-widgets\/base",
       "_model_module_version":"1.2.0",
       "_model_name":"LayoutModel",
       "_view_count":null,
       "_view_module":"@jupyter-widgets\/base",
       "_view_module_version":"1.2.0",
       "_view_name":"LayoutView",
       "align_content":null,
       "align_items":null,
       "align_self":null,
       "border":null,
       "bottom":null,
       "display":null,
       "flex":null,
       "flex_flow":null,
       "grid_area":null,
       "grid_auto_columns":null,
       "grid_auto_flow":null,
       "grid_auto_rows":null,
       "grid_column":null,
       "grid_gap":null,
       "grid_row":null,
       "grid_template_areas":null,
       "grid_template_columns":null,
       "grid_template_rows":null,
       "height":null,
       "justify_content":null,
       "justify_items":null,
       "left":null,
       "margin":null,
       "max_height":null,
       "max_width":null,
       "min_height":null,
       "min_width":null,
       "object_fit":null,
       "object_position":null,
       "order":null,
       "overflow":null,
       "overflow_x":null,
       "overflow_y":null,
       "padding":null,
       "right":null,
       "top":null,
       "visibility":null,
       "width":null
      }
     },
     "cf07c69583174f36bc3316d1709952b6":{
      "model_name":"SliderStyleModel",
      "model_module":"@jupyter-widgets\/controls",
      "model_module_version":"1.5.0",
      "state":{
       "_model_module":"@jupyter-widgets\/controls",
       "_model_module_version":"1.5.0",
       "_model_name":"SliderStyleModel",
       "_view_count":null,
       "_view_module":"@jupyter-widgets\/base",
       "_view_module_version":"1.2.0",
       "_view_name":"StyleView",
       "description_width":"",
       "handle_color":null
      }
     },
     "f1bb89ca5b0244e9813cf608e9381df9":{
      "model_name":"IntSliderModel",
      "model_module":"@jupyter-widgets\/controls",
      "model_module_version":"1.5.0",
      "state":{
       "_dom_classes":[
        
       ],
       "_model_module":"@jupyter-widgets\/controls",
       "_model_module_version":"1.5.0",
       "_model_name":"IntSliderModel",
       "_view_count":null,
       "_view_module":"@jupyter-widgets\/controls",
       "_view_module_version":"1.5.0",
       "_view_name":"IntSliderView",
       "continuous_update":true,
       "description":"order",
       "description_tooltip":null,
       "disabled":false,
       "layout":"IPY_MODEL_9cd2f3c20eb44f729265f2f184a87365",
       "max":6,
       "min":0,
       "orientation":"horizontal",
       "readout":true,
       "readout_format":"d",
       "step":1,
       "style":"IPY_MODEL_cf07c69583174f36bc3316d1709952b6",
       "value":3
      }
     },
     "fd1d0f32fd084bf99b033ba37e7cb0c2":{
      "model_name":"LayoutModel",
      "model_module":"@jupyter-widgets\/base",
      "model_module_version":"1.2.0",
      "state":{
       "_model_module":"@jupyter-widgets\/base",
       "_model_module_version":"1.2.0",
       "_model_name":"LayoutModel",
       "_view_count":null,
       "_view_module":"@jupyter-widgets\/base",
       "_view_module_version":"1.2.0",
       "_view_name":"LayoutView",
       "align_content":null,
       "align_items":null,
       "align_self":null,
       "border":null,
       "bottom":null,
       "display":null,
       "flex":null,
       "flex_flow":null,
       "grid_area":null,
       "grid_auto_columns":null,
       "grid_auto_flow":null,
       "grid_auto_rows":null,
       "grid_column":null,
       "grid_gap":null,
       "grid_row":null,
       "grid_template_areas":null,
       "grid_template_columns":null,
       "grid_template_rows":null,
       "height":null,
       "justify_content":null,
       "justify_items":null,
       "left":null,
       "margin":null,
       "max_height":null,
       "max_width":null,
       "min_height":null,
       "min_width":null,
       "object_fit":null,
       "object_position":null,
       "order":null,
       "overflow":null,
       "overflow_x":null,
       "overflow_y":null,
       "padding":null,
       "right":null,
       "top":null,
       "visibility":null,
       "width":null
      }
     },
     "a99533ba415d410f987378de72f8631c":{
      "model_name":"SliderStyleModel",
      "model_module":"@jupyter-widgets\/controls",
      "model_module_version":"1.5.0",
      "state":{
       "_model_module":"@jupyter-widgets\/controls",
       "_model_module_version":"1.5.0",
       "_model_name":"SliderStyleModel",
       "_view_count":null,
       "_view_module":"@jupyter-widgets\/base",
       "_view_module_version":"1.2.0",
       "_view_name":"StyleView",
       "description_width":"",
       "handle_color":null
      }
     },
     "d4b3b5bd48324842a117a2d0805f5e58":{
      "model_name":"FloatSliderModel",
      "model_module":"@jupyter-widgets\/controls",
      "model_module_version":"1.5.0",
      "state":{
       "_dom_classes":[
        
       ],
       "_model_module":"@jupyter-widgets\/controls",
       "_model_module_version":"1.5.0",
       "_model_name":"FloatSliderModel",
       "_view_count":null,
       "_view_module":"@jupyter-widgets\/controls",
       "_view_module_version":"1.5.0",
       "_view_name":"FloatSliderView",
       "continuous_update":true,
       "description":"test_data",
       "description_tooltip":null,
       "disabled":false,
       "layout":"IPY_MODEL_fd1d0f32fd084bf99b033ba37e7cb0c2",
       "max":0.95,
       "min":0.05,
       "orientation":"horizontal",
       "readout":true,
       "readout_format":".2f",
       "step":0.05,
       "style":"IPY_MODEL_a99533ba415d410f987378de72f8631c",
       "value":0.45,
       "_range":false,
       "slider_color":null
      }
     },
     "04fd6910443d425c8abc346d17b0e218":{
      "model_name":"LayoutModel",
      "model_module":"@jupyter-widgets\/base",
      "model_module_version":"1.2.0",
      "state":{
       "_model_module":"@jupyter-widgets\/base",
       "_model_module_version":"1.2.0",
       "_model_name":"LayoutModel",
       "_view_count":null,
       "_view_module":"@jupyter-widgets\/base",
       "_view_module_version":"1.2.0",
       "_view_name":"LayoutView",
       "align_content":null,
       "align_items":null,
       "align_self":null,
       "border":null,
       "bottom":null,
       "display":null,
       "flex":null,
       "flex_flow":null,
       "grid_area":null,
       "grid_auto_columns":null,
       "grid_auto_flow":null,
       "grid_auto_rows":null,
       "grid_column":null,
       "grid_gap":null,
       "grid_row":null,
       "grid_template_areas":null,
       "grid_template_columns":null,
       "grid_template_rows":null,
       "height":null,
       "justify_content":null,
       "justify_items":null,
       "left":null,
       "margin":null,
       "max_height":null,
       "max_width":null,
       "min_height":null,
       "min_width":null,
       "object_fit":null,
       "object_position":null,
       "order":null,
       "overflow":null,
       "overflow_x":null,
       "overflow_y":null,
       "padding":null,
       "right":null,
       "top":null,
       "visibility":null,
       "width":null
      }
     },
     "e713f58847de42cb86347a990f94a689":{
      "model_name":"OutputModel",
      "model_module":"@jupyter-widgets\/output",
      "model_module_version":"1.0.0",
      "state":{
       "_dom_classes":[
        
       ],
       "_model_module":"@jupyter-widgets\/output",
       "_model_module_version":"1.0.0",
       "_model_name":"OutputModel",
       "_view_count":null,
       "_view_module":"@jupyter-widgets\/output",
       "_view_module_version":"1.0.0",
       "_view_name":"OutputView",
       "layout":"IPY_MODEL_04fd6910443d425c8abc346d17b0e218",
       "msg_id":"",
       "outputs":[
        
       ]
      }
     }
    }
   }
  },
  "kernelspec":{
   "display_name":"Python",
   "language":"python",
   "name":"python"
  },
  "datalore":{
   "version":1,
   "computation_mode":"JUPYTER",
   "package_manager":"pip",
   "base_environment":"default",
   "packages":[
    
   ]
  }
 },
 "nbformat":4,
 "nbformat_minor":4
}